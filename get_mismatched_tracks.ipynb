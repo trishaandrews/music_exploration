{
 "cells": [
  {
   "cell_type": "markdown",
   "metadata": {},
   "source": [
    "###The song id is not always matched to the correct track id\n",
    "Fortunately, there is a text file of all the mismatches on the million song dataset (found [here](http://labrosa.ee.columbia.edu/millionsong/blog/12-2-12-fixing-matching-errors))  \n",
    "Convert these to a list of tracks to avoid comparing to user data"
   ]
  },
  {
   "cell_type": "code",
   "execution_count": 17,
   "metadata": {
    "collapsed": true
   },
   "outputs": [],
   "source": [
    "import re"
   ]
  },
  {
   "cell_type": "code",
   "execution_count": 13,
   "metadata": {
    "collapsed": false
   },
   "outputs": [],
   "source": [
    "with open(\"sid_mismatches.txt\", 'r') as mf:\n",
    "    read_data = mf.readlines()"
   ]
  },
  {
   "cell_type": "code",
   "execution_count": 14,
   "metadata": {
    "collapsed": false
   },
   "outputs": [
    {
     "name": "stdout",
     "output_type": "stream",
     "text": [
      "ERROR: <SOUMNSI12AB0182807 TRMMGKQ128F9325E10> Digital Underground  -  The Way We Swing  !=  Linkwood  -  Whats up with the Underground\n",
      "\n"
     ]
    }
   ],
   "source": [
    "print read_data[0]"
   ]
  },
  {
   "cell_type": "code",
   "execution_count": 34,
   "metadata": {
    "collapsed": false
   },
   "outputs": [
    {
     "name": "stdout",
     "output_type": "stream",
     "text": [
      "['TRAAAJO12903CAAC69', 'TRAAAPK128E0786D96', 'TRAAEJQ128F92C484E', 'TRAAGPJ128F428CD1B', 'TRAAHER128F92D0354', 'TRAAHMD12903D034F4', 'TRAAIBX128F4253C8D', 'TRAAJKJ128F92FB44F', 'TRAAKDJ12903D09573', 'TRAAKJU128F42667AC']\n"
     ]
    }
   ],
   "source": [
    "tracks = []\n",
    "for line in read_data:\n",
    "    m = re.search(r\"\\<([A-Z0-9 ]+)\\>\", line)\n",
    "    track = m.group(1).split()[1]\n",
    "    tracks.append(track)\n",
    "tracks = sorted(tracks)\n",
    "print tracks[:10]"
   ]
  },
  {
   "cell_type": "code",
   "execution_count": 35,
   "metadata": {
    "collapsed": false
   },
   "outputs": [],
   "source": [
    "with open(\"mismatch_tracks.txt\", 'w') as mt:\n",
    "    for t in tracks:\n",
    "        mt.write(t + \"\\n\")"
   ]
  },
  {
   "cell_type": "code",
   "execution_count": null,
   "metadata": {
    "collapsed": true
   },
   "outputs": [],
   "source": []
  }
 ],
 "metadata": {
  "kernelspec": {
   "display_name": "Python 2",
   "language": "python",
   "name": "python2"
  },
  "language_info": {
   "codemirror_mode": {
    "name": "ipython",
    "version": 2
   },
   "file_extension": ".py",
   "mimetype": "text/x-python",
   "name": "python",
   "nbconvert_exporter": "python",
   "pygments_lexer": "ipython2",
   "version": "2.7.6"
  }
 },
 "nbformat": 4,
 "nbformat_minor": 0
}

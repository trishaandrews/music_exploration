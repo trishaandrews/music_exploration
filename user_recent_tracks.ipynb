{
 "cells": [
  {
   "cell_type": "markdown",
   "metadata": {},
   "source": [
    "##Get recent tracks per user from Last.fm"
   ]
  },
  {
   "cell_type": "code",
   "execution_count": 1,
   "metadata": {
    "collapsed": false
   },
   "outputs": [],
   "source": [
    "import requests\n",
    "from pprint import pprint\n",
    "import pylast\n",
    "import time\n",
    "import sys"
   ]
  },
  {
   "cell_type": "code",
   "execution_count": 2,
   "metadata": {
    "collapsed": true
   },
   "outputs": [],
   "source": [
    "with open(\"lastfm_apikey.txt\", 'r') as laf:\n",
    "    api_key = laf.readline().strip()\n",
    "    username = laf.readline().strip()"
   ]
  },
  {
   "cell_type": "code",
   "execution_count": 3,
   "metadata": {
    "collapsed": true
   },
   "outputs": [],
   "source": [
    "params = {\n",
    "           'api_key': api_key,\n",
    "            'format': 'json',\n",
    "}"
   ]
  },
  {
   "cell_type": "code",
   "execution_count": 4,
   "metadata": {
    "collapsed": true
   },
   "outputs": [],
   "source": [
    "params[\"user\"] = username\n",
    "params[\"method\"] = \"user.getRecentTracks\"\n",
    "params[\"page\"] = '1'\n",
    "rf = requests.get('http://ws.audioscrobbler.com/2.0/', params=params)"
   ]
  },
  {
   "cell_type": "code",
   "execution_count": 5,
   "metadata": {
    "collapsed": false
   },
   "outputs": [],
   "source": [
    "rfj = rf.json()"
   ]
  },
  {
   "cell_type": "code",
   "execution_count": 6,
   "metadata": {
    "collapsed": false
   },
   "outputs": [
    {
     "name": "stdout",
     "output_type": "stream",
     "text": [
      "{u'album': {u'#text': u'Lioness: Hidden Treasures',\n",
      "            u'mbid': u'157f27fb-7f7f-4ea9-9674-fd84ed9db612'},\n",
      " u'artist': {u'#text': u'Amy Winehouse',\n",
      "             u'mbid': u'dfe9a7c4-8cf2-47f4-9dcb-d233c2b86ec3'},\n",
      " u'date': {u'#text': u'03 Sep 2015, 22:42', u'uts': u'1441320167'},\n",
      " u'image': [{u'#text': u'http://img2-ak.lst.fm/i/u/34s/fa0bd630cf0c49bbb753baacccbfc059.png',\n",
      "             u'size': u'small'},\n",
      "            {u'#text': u'http://img2-ak.lst.fm/i/u/64s/fa0bd630cf0c49bbb753baacccbfc059.png',\n",
      "             u'size': u'medium'},\n",
      "            {u'#text': u'http://img2-ak.lst.fm/i/u/174s/fa0bd630cf0c49bbb753baacccbfc059.png',\n",
      "             u'size': u'large'},\n",
      "            {u'#text': u'http://img2-ak.lst.fm/i/u/300x300/fa0bd630cf0c49bbb753baacccbfc059.png',\n",
      "             u'size': u'extralarge'}],\n",
      " u'mbid': u'',\n",
      " u'name': u'Like Smoke (feat. Nas)',\n",
      " u'streamable': u'0',\n",
      " u'url': u'http://www.last.fm/music/Amy+Winehouse/_/Like+Smoke+(feat.+Nas)'}\n"
     ]
    }
   ],
   "source": [
    "pprint(rfj[\"recenttracks\"][\"track\"][10])"
   ]
  },
  {
   "cell_type": "code",
   "execution_count": 7,
   "metadata": {
    "collapsed": true
   },
   "outputs": [],
   "source": [
    "usernameslist = []\n",
    "with open(\"username_urls.txt\", 'r') as uuf:\n",
    "    for line in uuf:\n",
    "        usernameslist.append(line.strip().split(\"/\")[-1])"
   ]
  },
  {
   "cell_type": "code",
   "execution_count": 8,
   "metadata": {
    "collapsed": false
   },
   "outputs": [
    {
     "name": "stdout",
     "output_type": "stream",
     "text": [
      "13536\n"
     ]
    }
   ],
   "source": [
    "print len(usernameslist)#, usernameslist[:5]"
   ]
  },
  {
   "cell_type": "code",
   "execution_count": 9,
   "metadata": {
    "collapsed": true
   },
   "outputs": [],
   "source": [
    "usernames = list(set(usernameslist))"
   ]
  },
  {
   "cell_type": "code",
   "execution_count": 10,
   "metadata": {
    "collapsed": false
   },
   "outputs": [
    {
     "name": "stdout",
     "output_type": "stream",
     "text": [
      "9335\n"
     ]
    }
   ],
   "source": [
    "print len(usernames)#, usernames[:5]"
   ]
  },
  {
   "cell_type": "code",
   "execution_count": 24,
   "metadata": {
    "collapsed": false
   },
   "outputs": [
    {
     "name": "stdout",
     "output_type": "stream",
     "text": [
      "\n"
     ]
    }
   ],
   "source": [
    "with open(\"usernames.txt\", 'w') as uf:\n",
    "    for user in usernames:\n",
    "        uf.write(user+\"\\n\")"
   ]
  },
  {
   "cell_type": "code",
   "execution_count": 4,
   "metadata": {
    "collapsed": true
   },
   "outputs": [],
   "source": [
    "with open(\"usernames.txt\", 'r') as uif:\n",
    "    usernames = uif.read().split()"
   ]
  },
  {
   "cell_type": "code",
   "execution_count": 29,
   "metadata": {
    "collapsed": false
   },
   "outputs": [
    {
     "name": "stdout",
     "output_type": "stream",
     "text": [
      "\n"
     ]
    }
   ],
   "source": [
    "mbids = []\n",
    "time_mbids = []\n",
    "limit = 200\n",
    "pages = 20\n",
    "params[\"method\"] = \"user.getRecentTracks\"\n",
    "params[\"limit\"] = str(limit)\n",
    "count = 0\n",
    "for user in usernames[9335:]:\n",
    "    user = user.strip()\n",
    "    user = user.replace(\"+\", \" \")\n",
    "    print count, user,\n",
    "    sys.stdout.flush()\n",
    "    params[\"user\"] = user\n",
    "    usermbids = []\n",
    "    usertimembids = []\n",
    "    time.sleep(0.5)\n",
    "    for p in range(1, pages+1):\n",
    "        moveon = False\n",
    "        while not moveon:\n",
    "            try:\n",
    "                params[\"page\"] = str(p)\n",
    "                urf = requests.get('http://ws.audioscrobbler.com/2.0/', params=params)\n",
    "                urfj = urf.json()\n",
    "                recenttracks = urfj[\"recenttracks\"][\"track\"]\n",
    "                if len(recenttracks) > 0:\n",
    "                    for track in recenttracks:\n",
    "                        mbid = track[\"mbid\"]\n",
    "                        if mbid != \"\":\n",
    "                            usermbids.append(mbid)\n",
    "                            if \"date\" in track:\n",
    "                                usertimembids.append((track[\"date\"][\"#text\"],track[\"date\"][\"uts\"], mbid))\n",
    "                time.sleep(0.1)\n",
    "                moveon = True\n",
    "            except requests.exceptions.ConnectionError as e:\n",
    "                print e,\n",
    "                time.sleep(3)\n",
    "    usermbids = list(set(usermbids))\n",
    "    with open(\"mbids.txt\", 'a') as mf:\n",
    "        for mb in usermbids:\n",
    "            mf.write(mb + \" \")\n",
    "        mf.write(\"\\n\")\n",
    "    with open(\"time_mbids.txt\", 'a') as tmf:\n",
    "        for tm in usertimembids:\n",
    "            #print tm\n",
    "            tmf.write(str(tm) + \" \")\n",
    "        tmf.write(\"\\n\")\n",
    "    count += 1"
   ]
  },
  {
   "cell_type": "code",
   "execution_count": 27,
   "metadata": {
    "collapsed": false
   },
   "outputs": [
    {
     "name": "stdout",
     "output_type": "stream",
     "text": [
      "9335\n"
     ]
    }
   ],
   "source": [
    "with open(\"mbids.txt\", 'r') as mfr:\n",
    "    linecount = 0\n",
    "    for line in mfr:\n",
    "        linecount += 1\n",
    "    print linecount"
   ]
  },
  {
   "cell_type": "code",
   "execution_count": 81,
   "metadata": {
    "collapsed": false
   },
   "outputs": [],
   "source": [
    "#print mbids[:2]"
   ]
  },
  {
   "cell_type": "code",
   "execution_count": 11,
   "metadata": {
    "collapsed": false
   },
   "outputs": [],
   "source": [
    "#print time_mbids[:2]"
   ]
  },
  {
   "cell_type": "code",
   "execution_count": null,
   "metadata": {
    "collapsed": true
   },
   "outputs": [],
   "source": []
  }
 ],
 "metadata": {
  "kernelspec": {
   "display_name": "Python 2",
   "language": "python",
   "name": "python2"
  },
  "language_info": {
   "codemirror_mode": {
    "name": "ipython",
    "version": 2
   },
   "file_extension": ".py",
   "mimetype": "text/x-python",
   "name": "python",
   "nbconvert_exporter": "python",
   "pygments_lexer": "ipython2",
   "version": "2.7.6"
  }
 },
 "nbformat": 4,
 "nbformat_minor": 0
}

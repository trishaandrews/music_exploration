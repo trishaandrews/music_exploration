{
 "cells": [
  {
   "cell_type": "code",
   "execution_count": 1,
   "metadata": {
    "collapsed": false
   },
   "outputs": [],
   "source": [
    "import requests\n",
    "from pprint import pprint\n",
    "import pylast\n",
    "import time\n",
    "import sys"
   ]
  },
  {
   "cell_type": "code",
   "execution_count": 2,
   "metadata": {
    "collapsed": true
   },
   "outputs": [],
   "source": [
    "with open(\"lastfm_apikey.txt\", 'r') as laf:\n",
    "    api_key = laf.readline().strip()\n",
    "    username = laf.readline().strip()"
   ]
  },
  {
   "cell_type": "code",
   "execution_count": 3,
   "metadata": {
    "collapsed": true
   },
   "outputs": [],
   "source": [
    "params = {\n",
    "#          \"method\": \"track.getSimilar\",\n",
    "#          \"track\": \"Believe\",\n",
    "#          \"artist\": \"Cher\",\n",
    "#           \"limit\": \"5\",\n",
    "           'api_key': api_key,\n",
    "            'format': 'json',\n",
    "}"
   ]
  },
  {
   "cell_type": "code",
   "execution_count": 4,
   "metadata": {
    "collapsed": true
   },
   "outputs": [],
   "source": [
    "params[\"user\"] = username\n",
    "params[\"method\"] = \"user.getRecentTracks\"\n",
    "params[\"page\"] = '1'\n",
    "rf = requests.get('http://ws.audioscrobbler.com/2.0/', params=params)"
   ]
  },
  {
   "cell_type": "code",
   "execution_count": 5,
   "metadata": {
    "collapsed": false
   },
   "outputs": [],
   "source": [
    "rfj = rf.json()\n",
    "#pprint(rfj)"
   ]
  },
  {
   "cell_type": "code",
   "execution_count": 6,
   "metadata": {
    "collapsed": false
   },
   "outputs": [
    {
     "name": "stdout",
     "output_type": "stream",
     "text": [
      "{u'album': {u'#text': u'Lioness: Hidden Treasures',\n",
      "            u'mbid': u'157f27fb-7f7f-4ea9-9674-fd84ed9db612'},\n",
      " u'artist': {u'#text': u'Amy Winehouse',\n",
      "             u'mbid': u'dfe9a7c4-8cf2-47f4-9dcb-d233c2b86ec3'},\n",
      " u'date': {u'#text': u'03 Sep 2015, 22:42', u'uts': u'1441320167'},\n",
      " u'image': [{u'#text': u'http://img2-ak.lst.fm/i/u/34s/fa0bd630cf0c49bbb753baacccbfc059.png',\n",
      "             u'size': u'small'},\n",
      "            {u'#text': u'http://img2-ak.lst.fm/i/u/64s/fa0bd630cf0c49bbb753baacccbfc059.png',\n",
      "             u'size': u'medium'},\n",
      "            {u'#text': u'http://img2-ak.lst.fm/i/u/174s/fa0bd630cf0c49bbb753baacccbfc059.png',\n",
      "             u'size': u'large'},\n",
      "            {u'#text': u'http://img2-ak.lst.fm/i/u/300x300/fa0bd630cf0c49bbb753baacccbfc059.png',\n",
      "             u'size': u'extralarge'}],\n",
      " u'mbid': u'',\n",
      " u'name': u'Like Smoke (feat. Nas)',\n",
      " u'streamable': u'0',\n",
      " u'url': u'http://www.last.fm/music/Amy+Winehouse/_/Like+Smoke+(feat.+Nas)'}\n"
     ]
    }
   ],
   "source": [
    "pprint(rfj[\"recenttracks\"][\"track\"][10])"
   ]
  },
  {
   "cell_type": "code",
   "execution_count": 7,
   "metadata": {
    "collapsed": true
   },
   "outputs": [],
   "source": [
    "usernameslist = []\n",
    "with open(\"username_urls.txt\", 'r') as uuf:\n",
    "    for line in uuf:\n",
    "        usernameslist.append(line.strip().split(\"/\")[-1])"
   ]
  },
  {
   "cell_type": "code",
   "execution_count": 8,
   "metadata": {
    "collapsed": false
   },
   "outputs": [
    {
     "name": "stdout",
     "output_type": "stream",
     "text": [
      "13536\n"
     ]
    }
   ],
   "source": [
    "print len(usernameslist)#, usernameslist[:5]"
   ]
  },
  {
   "cell_type": "code",
   "execution_count": 9,
   "metadata": {
    "collapsed": true
   },
   "outputs": [],
   "source": [
    "usernames = list(set(usernameslist))"
   ]
  },
  {
   "cell_type": "code",
   "execution_count": 10,
   "metadata": {
    "collapsed": false
   },
   "outputs": [
    {
     "name": "stdout",
     "output_type": "stream",
     "text": [
      "9335\n"
     ]
    }
   ],
   "source": [
    "print len(usernames)#, usernames[:5]"
   ]
  },
  {
   "cell_type": "code",
   "execution_count": 24,
   "metadata": {
    "collapsed": false
   },
   "outputs": [
    {
     "name": "stdout",
     "output_type": "stream",
     "text": [
      "\n"
     ]
    }
   ],
   "source": [
    "with open(\"usernames.txt\", 'w') as uf:\n",
    "    for user in usernames:\n",
    "        uf.write(user+\"\\n\")"
   ]
  },
  {
   "cell_type": "code",
   "execution_count": 4,
   "metadata": {
    "collapsed": true
   },
   "outputs": [],
   "source": [
    "with open(\"usernames.txt\", 'r') as uif:\n",
    "    usernames = uif.read().split()"
   ]
  },
  {
   "cell_type": "code",
   "execution_count": 26,
   "metadata": {
    "collapsed": false
   },
   "outputs": [
    {
     "name": "stdout",
     "output_type": "stream",
     "text": [
      "0 Yumee 1 Milky-Sheep 2 danielmarcastro 3 The_Star_Rover 4 TGSaviorSelf 5 Ondskapet 6 Ecnill 7 JasonRomio 8 deborahgomesss 9 eduardogy 10 Archangel621 11 brand929 12 The_SchizoidMan 13 J0SEK 14 inmemoryofthom 15 smcka 16 squatdog 17 PrincesaInca 18 luidjy72 19 hyun-seung 20 crooked_vulture 21 AntasTheGreat 22 jennica_med_c 23 Cosmosagan 24 przemzarz 25 AnthonymBeck 26 mothcub 27 JenniferFergie 28 snake289 29 RichieSi 30 Fikus11 31 SlepGWar 32 BriZaDu 33 bieljuca 34 CPOliver 35 algoostu 36 Alyonka_U-K 37 Links24 38 agentzerooo 39 Valhallas 40 zeropatterns 41 fifi4039 42 StupidCupcake 43 thebestat 44 alifreitxx 45 ApprentiRepenti 46 Isis_go 47 nandosiol 48 Rud-Johns 49 CreamCat 50 mbprojektgmbh 51 Edurox 52 Dircashede 53 mattdh12 54 LeMouv 55 beelegs 56 Thrillgam 57 Mateuziinho 58 olpetz 59 Rocketjake 60 breakersrules 61 WunderWaffelka 62 yohem 63 firefly2811 64 Brat7 65 thevictorfail 66 Seth-hoden 67 gamer5670 68 fatalportrait99 69 andeemay 70 Carolinepra 71 Pauzer 72 vinisc 73 Abe_Alves 74 taliorswaft 75 psycgirl14 76 guilhermewulf 77 trancemw13 78 r1xv 79 antiutka 80 insignificance1 81 stayc1970 82 Alex_Minil 83 Gumbertovich 84 DarkA95 85 EvieWeston8 86 creeper68 87 purplelightx 88 blee383 89 sadgirls2001 90 jessicarc14 91 culturedeluxe 92 drva1226 93 Nemurelw 94 bemick 95 joshmeekhof 96 YashimaruGecko 97 turtlekurtze 98 joydivisionlove 99 JackChuter 100 lizribeiro 101 Andi242GER 102 Szafira12 103 BitterColdCoffe 104 Knifymoloko 105 Nie-Mam-Pomyslu 106 douglasjg 107 Pure_Greenwood 108 outliveyouall 109 Dylstew2 110 Amethyst_chick 111 Tobiz0rZ 112 heavymetal202 113 StanislavKo 114 Hoome 115 Gaborgesa 116 beefcakez 117 Tetherowstaff 118 jorowling 119 Steambull 120 carismarsoft 121 inciner4te 122 IIMauroII 123 whhothe 124 tumblingdestiny 125 stephaniefifis 126 x_Philip 127 yazztalavera 128 anticlimactica 129 ChelbyChalupas 130 NORMALIKMAN 131 mdsnxleighxbaby 132 hellionhound 133 GoTeamwork 134 dizzydjc 135 m1ll1cent 136 VGX000 137 paulodapper 138 fortunenights 139 Raynaldi 140 Greenolls 141 realthankss 142 fbocjour 143 AlamanniC 144 musicboxie 145 TanManNobel 146 Alexander_boo 147 rossychaplin 148 kubeto1989 149 Sezamxd 150 radioacrata 151 megapotion 152 KaruraK 153 djstuart 154 Kuba2704 155 raymaxxp 156 ebonycbryant 157 kabarube 158 Heliosonic 159 EquinoxShadow 160 XVishal7X 161 wastedlife 162 dougieuchoa 163 paulacento_ 164 Fantasma_97 165 Susi_Bellamy 166 G-ERTI 167 omatheusmota 168 moontagner 169 webgarm 170 dvdcpd 171 othernathan 172 Nikitauu 173 wuddupliza 174 folfiepierce 175 heyraphaa 176 sara_moulton 177 Sub___Rosa 178 AtomBlast 179 pavskies 180 xeBuz 181 vagneraaraujo 182 GabrielGMoore 183 xrisrandall 184 brownashketchum 185 karish12 186 itsfriggle 187 rodrigotails 188 soadgirl89 189 erdan215 190 daddyfaux 191 bramhorstink 192 sunheadbowed 193 EmmanuelZorg 194 kwonyu 195 CamilloRota 196 heybarbs 197 dawcio930 198 justinboeber 199 JeffersonReiss 200 Chel3000 201 Roma_Ferox 202 spirof 203 farizbjorn 204 AmelieBoo 205 noblesoldiers 206 WookieTheGreat 207 michaeltran 208 Zayfod94 209 Dunnemin 210 FlyingBiscuit 211 tinseltown523 212 Jama_Cox 213 daniel_dgt 214 jk90 215 sandro__tavartk 216 chinaware 217 jerooo159 218 skr 219 JuniorLKS 220 Finn__Bell 221 xcitindesigns 222 DannybrownFan 223 vandinhoxd 224 stomp-chuko 225 olorinjoyce 226 EYEHATEMUSIC 227 araujobruno3 228 bullfroggreen 229 Mobius-1 230 yadokary2 231 juuniorbarbosa1 232 Thorgrimm6 233 odrix_ 234 josefinsand 235 serciu 236 terranjade24 237 Kelli1992 238 h_r_f_d 239 DavertMik 240 J-esper 241 overrated1990 242 stumpyhuck29 243 vepferreira1 244 degraff19er 245 HIPSTERSMASHER 246 KHkikas 247 Shrien 248 kwayne16 249 loudlikelou 250 JVNSISHTRVPLORD 251 jackarza 252 Nekrovoor 253 xtinangel 254 MrRissato 255 1449urb 256 vsevoldo 257 RuthiLikesMusic 258 TheChosenOne521 259 listen-to-me 260 TheGoobs21 261 ichigofl4vor 262 DomoLeslo 263 Doman26 264 fuckyeafanny 265 JuniorWaldorf 266 sweilandstp 267 exexpatmike 268 nat0w 269 TheFooLiSTeNeR 270 TheMathPires 271 HufflepuffBR 272 silverlunace 273 supremejelly 274 daniel1_ 275 imx4n 276 shaolin86 277 sammyrogers 278 angelcardenasx 279 MintyMANZANA 280 managatsuo 281 redpaintfactory 282 Skream_Of_Soul 283 shearlocked 284 Willensmacht 285 William1193 286 RealAppleNick 287 andresoty 288 death_manson 289 Sub_Zero 290 rppbodo 291 poueranger 292 Carrigallen 293 heartsex 294 rjl410 295 risK49 296 neeyick 297 ToBeADebaser 298 fillipi_x 299 TheloniousNueve 300 natures_lore 301 youthcomingup 302 DevoCry 303 Tymbolic 304 marcvntonho 305 NandoVilanova 306 LukarioXO 307 Lando_Land 308 Leigh_Henderson 309 LYLYAMP 310 marfillaster 311 alegiance 312 hellayea 313 southerns 314 EleniLoris 315 Qumso 316 Sharif_dindon 317 Gonfu 318 VinLew 319 xzuzakx 320 salbutan 321 itslipehot 322 vipulkakkad 323 soheil21 324 WEAK_HEARTBEAT 325 jleib 326 knight_88 327 hollyy___x 328 kyungris 329 camiloei 330 kadaja-chan 331 BullBlackBen 332 zaroOoO 333 robotpunk 334 capitalq 335 pinkmanz 336 rotaryjukebox 337 melocure 338 tijaniya 339 ekasukok 340 mickannibal 341 whosdi 342 tinkerbrutal 343 Minlefo 344 danielxdarko 345 mdtsandman 346 LLXIII 347 dollhaus 348 mcbretttetettet 349 MightyM 350 ghcalafiori 351 lieblin 352 BananaFibre 353 Eldim91 354 Rawrcasm 355 ehvah 356 joshuak89 357 tanya_90 358 psherriff 359 NinjaTravisLee 360 blvck_jesus 361 Freelisbeth 362 bagushatesunday 363 janhellmerichs 364 yurizinbitch 365 carsten_doig 366 GreyOysterCult 367 SeeyaChell 368 c0c0butter 369 mns335 370 Chill-Trip 371 j_A_c_K_o 372 edkawabata 373 TheSabstinator 374 nokyam1 375 DatGlitterBitch 376 FjordSweetFjord 377 oiGlush 378 Vitinzaker 379 ShiverNZ 380 Jenblittle 381 chunkier_drew 382 lossbo 383 iswiftny2000 384 Spazbagel 385 Iorczeski 386 peterholden1 387 ChrisisaSTUD 388 giurly 389 zrIcu 390 TrimbleCry 391 phantom4 392 c3rm7 393 Raphenram 394 lucasthales 395 nanitenay 396 dtrejod 397 isanka 398 grave_bird 399 TheArtistBox 400 Yuzefff 401 gutoruiz1 402 marionelo 403 G_VomScheidt 404 tinyloudmoron 405 Urraca3k 406 deeco_ 407 afuturepresiden 408 brennerfelipe 409 OrdealByFire 410 Boorkina 411 nenenfm 412 heksemester 413 jimmytheshooter 414 TanyaGrotter 415 nutts1 416 RadicalVikirate 417 VHUB-HartRide 418 dilx 419 blakeandcamp 420 DiegoKremer 421 HelderBT 422 robbits 423 srbin_1389 424 InvisibleDanger 425 Max_Hughes 426 perezhivem 427 ivanabarbona 428 mariana_maj 429 MsDiplodocusss 430 FEAR4ik 431 Rusov92 432 Oum_BoJae 433 Shomi023 434 lowprofileboy 435 sadandboring 436 Danielais 437 lorettidaniel 438 davidtennant__ 439 carolmacdo 440 Dee_Pedro 441 BlackAngel45223 442 onetworeadygo 443 nDroae 444 soshallwesleep 445 Thegalaxy1994 446 renalii 447 Kareful_Kora 448 ploveskicks 449 xxxronis 450 errorhorror 451 ercealagoz 452 luckysucker 453 Caaaaaaaarol 454 robtrini 455 luiizdf 456 wetah 457 depp_ramona 458 annasimonovna 459 Chrysa85 460 cleitton 461 QuinnK14 462 robinbabe 463 Jezuxx 464 tubesxx 465 stuhosking1 466 mistermateus 467 mxxriaz 468 Sunzy 469 outcastings 470 cynthiaxcx 471 ColtonHaynesks 472 tfxsound 473 jamiedelaneyy 474 Norlinx 475 wilson_cobain 476 lingy27 477 Boei 478 Nostradanus 479 overexposerr 480 Nadiya666 481 giannis4 482 JstKeepBreathng 483 heygrutzmacher 484 myflowerofevil 485 poserdisposer90 486 Bruxemi 487 pururin-rin 488 ShaneB85 489 jezikbjsmil 490 HeadShoteR 491 Sqr-Hd 492 insmnkSL 493 omgitsbees 494 Nicolas030 495 pirusr 496 GonchyII 497 applejuiceflood 498 Otra25443 499 Yuan-wangie 500 MariianaAlvez 501 Spirit_15 502 GeronimoDeLuna 503 Diverman2010 504 Strudlif 505 mayarahmanoel 506 pietro-scott 507 cmerge 508 bloodshy_ 509 PeterRJG 510 Wandam1 511 maetavee 512 wojtek-amigo 513 felipewth 514 szabogabor10 515 Vinderen 516 lentledyn 517 pbcc 518 jojlord420 519 Fabio001 520 simillarian 521 emuj0 522 KmzR 523 StratkatBlue 524 Domingo_UA 525 Zagemieke ('Connection aborted.', error(104, 'Connection reset by peer')) 526 adriancarreraz 527 vi_luzu 528 QueenOfZeeGeeks 529 izzi888 530 Tabaka_corpse 531 confu 532 MisterJunior 533 ArthurAC_ 534 Melodeh 535 confusednetwork 536 Owl999 537 Rymbu 538 ProundSoul 539 ult-radio 540 polymorphous71 541 bertol1000 542 DuskEva 543 liniker_guns 544 RockPFVR 545 caitlinforeman 546 ryanfahri 547 Pome_Hudson 548 pruty20 549 MadDennis 550 lordovelha 551 sorryangel 552 gEEEERa 553 ccami- 554 Endostar 555 atoranga 556 Meskh 557 MotorcycleBoy13 558 GoodGirl_Li 559 girl_trouble 560 Affirmation 561 quietman11 562 SadCuckoo 563 tyskater 564 renatabenia 565 Kalaptis 566 BrunoHocsman 567 Raymara_a 568 zebra_xadrez 569 turbatio 570 kylekusch 571 alfapp 572 Lovecolt 573 IsiifromOchrasy 574 Panda_Claws 575 MrSalazaR 576 calicosskies 577 whtvictor 578 maluka_lili 579 genoceros 580 bocksofsox 581 Riltan10 582 D_Young 583 elfodassombras 584 thaee 585 krisiQ 586 igorglino 587 leooleoo 588 YUNGRAPUNXOTA 589 probablysomeone 590 leatherface11 591 GuilhermeGui_ 592 MaryRWard 593 MicheL41 594 cbaksa 595 timcon 596 KEWtiful 597 bruuno_cs1 598 aNiTa_WaHiNe 599 Phret 600 Izhorian 601 fefogoulart 602 horeamuresan 603 diamardave 604 Dodanonielol 605 Scarlett25 606 ezy13 607 ceciltbrown 608 MrsSima 609 Salonni 610 xdreamx19 611 Ushnark 612 JeffreyLGuevara 613 pinkmasquerade_ 614 lightgrenades 615 alex-turner- 616 dzhimm 617 cherrybtw 618 kleendevil88 619 GabrielMilome 620 Derek521521 621 binaryfiend 622 MrBonjangles 623 kotyara33d 624 englishxarmy 625 esquith01 626 Altron2 627 wulmite 628 DiscoMK 629 jefffq 630 Garcia_el_loco 631 cmclick3r0 632 tarantarantala 633 KarlDG 634 Yazoohyro 635 Hani_Bluedead 636 Nanogon 637 OcellatedGod 638 Anzonzororth 639 AriaEvans 640 JBryanMusic 641 deonplayground 642 diamondsdogs 643 LucasAbraao 644 RachelCarrie 645 MatheusDorini_ 646 curtizzzzzzz 647 mdharris27 648 AzumiKiryuu 649 madmaxmel 650 halbstark 651 newplaylist- 652 pier007 653 plodcofer 654 Brooke_Harper 655 gonzo686 656 churchillhealth 657 heyjoao 658 danccartert 659 Adthey 660 GuilhermeWC 661 alinerockbullet 662 manucottu79 663 Monzaemonz 664 Darknessbg 665 post13scriptum 666 acclamationsun 667 eddiemc 668 HEIIAHK 669 Lanremon 670 incultojurgis 671 Andy2D 672 jaTaa 673 xxSiobhan 674 DAMU3737 675 LageB 676 gloomyharlow 677 efemeromeo 678 calvinharrisfan 679 cathyschoene 680 MichaelGreff 681 giganticrobot 682 inhocvince 683 XulkS 684 sortebill 685 Morozog 686 modernes 687 Hozukimaru17 688 maickelwg 689 LyreCZ 690 m2a1 691 kaldivictoria 692 minkamuminka 693 junioredighieri 694 THEK_x 695 Ludy_ludy 696 davi_reis 697 alighireis 698 r_m 699 lemirelle 700 Shinji_Langley 701 biolog520 702 GimArt 703 GreenDrazi 704 sbsgloria 705 pxele 706 AutumTree 707 Boogalah 708 ball1861 709 superpopular 710 MurilloCezar 711 aayahayman 712 snowfall__ 713 qkuikque 714 harry_watson 715 ricardrbrrj 716 tim1961 717 PSiAD 718 bjeffery1312 719 mdickinson35 720 Greenpink 721 NorseDave 722 Tomper_ 723 Thamior666 724 ryaninteractive 725 cocainepanda 726 StylinGreymon 727 darrylhunter 728 PenThales 729 razor_sharp7 730 Daiiany 731 brng_hmn 732 Puncu 733 in_the_zone 734 MiingY 735 DerpBrony 736 ashleylux 737 asweirdasyou 738 CompLexium700 739 kissmel 740 gabrielperreira 741 saltyknuckles 742 crackedrearview 743 Dekadencja_ 744 johndstrong 745 emilyblythe 746 Jester1013 747 adailtonba 748 rrrrrrrie 749 imharrystyles 750 Beellaisa 751 DenimNLace 752 Wellmir 753 michaelmcguire 754 Julyyn 755 elcheeserpuff 756 dnewhole 757 aaronnlee 758 jho_tavares 759 rekluz 760 Wellbrocks 761 angel_mandu 762 Jabyzou 763 alilchenko 764 Fugdevino 765 scarpelim 766 STR8 767 elladuderino 768 CSthereader 769 JJr_Couto 770 kickdrumrobot 771 Hatekicks 772 pfkranz 773 Y45Askel 774 zhelnerovich 775 mistatwinkies 776 ArcEnMousse 777 Vikare 778 Genius_nast 779 skywake 780 moonlixo 781 leoamaral08 782 lejdipogo 783 Ann_Kabatova 784 mermure 785 holes_inthesky 786 PDpidi 787 dupiruka 788 ryanrayens 789 rebeccacmr 790 love_music_1026 791 hitroe_radio 792 Gui92 793 abdielmebarak 794 Blue_Carpet 795 hellomahana 796 ffalk 797 mattcolin 798 thunder__ 799 Jurz 800 bullandgate 801 will-neill 802 damagiK 803 i_ale 804 aangusk 805 NormaCastillo 806 cmihran 807 Johanusus 808 AussieFella 809 madamevintage 810 gokunirvana 811 Gandalf_ 812 ben_mck 813 lifeforrock 814 Qtchalele 815 ankitsud 816 Chuchi_dj 817 JuniorDe 818 vomparanoid 819 SmilingJackXD 820 B1ackjack_ 821 Whereisvalera 822 Modeeestas 823 TehSpiral 824 Mssnjh 825 lysdestic 826 satchalicious 827 MatheusFellix 828 yanwen 829 Chrispeeeee 830 fswiftsinha 831 enorerm 832 forfrosne 833 Leandrovla 834 InsaneRC 835 TroyKeener 836 isadorablenda 837 Olafkonings 838 wjelo 839 PbookR 840 Pokohh 841 HomeMadeHitShow 842 lacolada 843 DarthSaracen 844 bodyelectric_ 845 putki666 846 _donnaignota 847 joselnvrro 848 santipalmer 849 Neurospider 850 beaver_rrr 851 tha_dfb 852 itsapandemic 853 mysl_o_vitz 854 WhatsADick4 855 toddman96 856 missbene 857 operattack 858 DJNikki 859 mhmtakff 860 Willysuzana2013 861 doshimitzu 862 Nimbie 863 padddler 864 ragilap 865 terveetles 866 gombost 867 labpenguin 868 CheseCake 869 Allwin26 870 Cohete92 871 KronicAssault 872 top20fanatico 873 ElectroHouse42 874 isagontierTDG 875 rpc2013 876 massagetroy 877 mrbastttard 878 gilmoreboyrj 879 bkbarros 880 ameole 881 larabelle75 882 GabrielS2Alone 883 jurubebas 884 HenryBadaroh 885 nesi13 886 melodymann 887 nwe44 888 OLdirtyBacon 889 RenanBirck 890 MissAtomicBombb 891 normanpeires 892 Arivia 893 IntoTheOrchard 894 ThePersinnamon 895 bridgey93 896 josecastanda 897 XtraNL 898 niinaz44e 899 Hordix 900 MattGavenda 901 sounddirector 902 NoOneShouldCare 903 Maatels 904 ravenlohan 905 isaacashe 906 Lizzzieryan 907 prof_gonzo 908 stillstellung 909 Zenerdi 910 zepp69 911 wilfrules4ever 912 web-knows 913 sishgupta 914 allghostwritten 915 queenswift 916 SeduceTheWeak 917 mayrabernardes 918 juanmaespinola 919 mickolaj 920 lamentaveldos 921 whiteravenmetal 922 rezasafir 923 Roge_ 924 Silvie_Music 925 nosoyuncangrejo 926 Vinicius_BR 927 marianasabian 928 phunkatog 929 shikarasound 930 Psychedelic_LS5 931 Sonicjeb 932 TommyJuxmellon 933 magical-music 934 Nuvenspoeticas 935 P0lystyreneMan 936 Jaliipe 937 ThahLvne 938 Celo_fire 939 Manabubu 940 kolmer7 941 Alma_Lv 942 oceanShy 943 DanseMacabre1 944 mrbun2729 945 lahcim7106 946 Benb116 947 olhardalma 948 emocakal 949 ddletada 950 masterofspoons 951 iris_jay 952 gabetmx 953 LeoReis92 954 k8stewart 955 MrZimmerFan 956 muziekmuseum 957 FefeVIP 958 wildlands 959 Cheremenin 960 TheCraziestFun 961 Derp1337face 962 theJASONagency 963 allaboutthemoon 964 tuhde 965 Puppies_On_Acid 966 Alone_Fox 967 funkyfuckinfuck 968 vertig0cured 969 michellekweder 970 CelesteSoybean 971 jasonusa 972 Lilkuke 973 daniloXvX 974 eongaro 975 BastiDrahtdurch 976 tomaswho 977 sergo1365 978 miftahohm 979 HARDCOREMO 980 reimsrocket 981 BornInSodom_ 982 givenchyego 983 conjeri 984 x03c6 985 ParadoxMusicDog 986 ericksantospp 987 zil_chica 988 vini-azevedo 989 wetterbedder 990 TuReXxX16 991 monodecarton 992 excentro 993 TheSuperCrasher 994 ejuniorls 995 poiboizo 996 ahunter488 997 bestexfriend 998 Cabrasevera 999 vocm10 1000 MsLiisii 1001 Bagelknot 1002 camilorocks 1003 erloX 1004 xParker 1005 peys032 1006 Weremerr 1007 m-saIami 1008 CuTeJuLy 1009 pukirocks 1010 Ca-mi 1011 Lama_Glama_lol 1012 lonelyheartt 1013 zanelamour 1014 abeautifulliexo 1015 CrowiHear 1016 Ylcnefe 1017 atozztoa 1018 inspectchenk 1019 mak3m3u9 1020 JesusDeVour 1021 DLeto 1022 breakfreelove\n"
     ]
    }
   ],
   "source": [
    "#fail on 121\n",
    "#stop on 684\n",
    "#fail on 23\n",
    "#fail on 536\n",
    "#fail on 5\n",
    "#fail on 45\n",
    "#fail on 52\n",
    "#fail on 15\n",
    "#fail on 350\n",
    "#fail on 49\n",
    "#fail on 44\n",
    "#fail on 243\n",
    "#stop on 624\n",
    "#stop on 978 \n",
    "#fail on 41 \n",
    "#fail on 22 \n",
    "#fail on 198 \n",
    "#fail on 2 \n",
    "#fail on 729 \n",
    "#stop on 205 \n",
    "#fail on 80 \n",
    "#stop on 410 \n",
    "#fail on 45 \n",
    "#fail on 534 \n",
    "#fail on 128\n",
    "#stop on 195 \n",
    "#fail on 27 \n",
    "#fail on 167 \n",
    "#fail on 77 \n",
    "#fail on 32\n",
    "#fail on 119\n",
    "#fail on 857 \n",
    "#stop on 336 \n",
    "#fail on 34 \n",
    "#fail on 1 \n",
    "#fail on 1 \n",
    "#fail on 46 \n",
    "#stop on 257 \n",
    "#done on 1022 breakfreelove\n",
    "#9334\n",
    "mbids = []\n",
    "time_mbids = []\n",
    "limit = 200\n",
    "pages = 20\n",
    "params[\"method\"] = \"user.getRecentTracks\"\n",
    "params[\"limit\"] = str(limit)\n",
    "count = 0\n",
    "for user in usernames[9334:]:\n",
    "    user = user.strip()\n",
    "    user = user.replace(\"+\", \" \")\n",
    "    print count, user,\n",
    "    sys.stdout.flush()\n",
    "    params[\"user\"] = user\n",
    "    usermbids = []\n",
    "    usertimembids = []\n",
    "    time.sleep(0.5)\n",
    "    for p in range(1, pages+1):\n",
    "        moveon = False\n",
    "        while not moveon:\n",
    "            try:\n",
    "                params[\"page\"] = str(p)\n",
    "                urf = requests.get('http://ws.audioscrobbler.com/2.0/', params=params)\n",
    "                urfj = urf.json()\n",
    "                recenttracks = urfj[\"recenttracks\"][\"track\"]\n",
    "                if len(recenttracks) > 0:\n",
    "                    for track in recenttracks:\n",
    "                        mbid = track[\"mbid\"]\n",
    "                        if mbid != \"\":\n",
    "                            usermbids.append(mbid)\n",
    "                            if \"date\" in track:\n",
    "                                usertimembids.append((track[\"date\"][\"#text\"],track[\"date\"][\"uts\"], mbid))\n",
    "                time.sleep(0.1)\n",
    "                moveon = True\n",
    "            except KeyboardInterrupt:\n",
    "                raise\n",
    "            except requests.exceptions.ConnectionError as e:\n",
    "                #e = sys.exc_info()[0]\n",
    "                print e,\n",
    "                time.sleep(3)\n",
    "    usermbids = list(set(usermbids))\n",
    "    #mbids.append(usermbids)\n",
    "    #time_mbids.append(usertimembids)\n",
    "    with open(\"mbids.txt\", 'a') as mf:\n",
    "        for mb in usermbids:\n",
    "            mf.write(mb + \" \")\n",
    "        mf.write(\"\\n\")\n",
    "    with open(\"time_mbids.txt\", 'a') as tmf:\n",
    "        for tm in usertimembids:\n",
    "            #print tm\n",
    "            tmf.write(str(tm) + \" \")\n",
    "        tmf.write(\"\\n\")\n",
    "    count += 1"
   ]
  },
  {
   "cell_type": "code",
   "execution_count": 27,
   "metadata": {
    "collapsed": false
   },
   "outputs": [
    {
     "name": "stdout",
     "output_type": "stream",
     "text": [
      "9335\n"
     ]
    }
   ],
   "source": [
    "with open(\"mbids.txt\", 'r') as mfr:\n",
    "    linecount = 0\n",
    "    for line in mfr:\n",
    "        linecount += 1\n",
    "    print linecount"
   ]
  },
  {
   "cell_type": "code",
   "execution_count": 81,
   "metadata": {
    "collapsed": false
   },
   "outputs": [],
   "source": [
    "#print mbids[:2]"
   ]
  },
  {
   "cell_type": "code",
   "execution_count": 11,
   "metadata": {
    "collapsed": false
   },
   "outputs": [],
   "source": [
    "#print time_mbids[:2]"
   ]
  },
  {
   "cell_type": "code",
   "execution_count": null,
   "metadata": {
    "collapsed": true
   },
   "outputs": [],
   "source": []
  }
 ],
 "metadata": {
  "kernelspec": {
   "display_name": "Python 2",
   "language": "python",
   "name": "python2"
  },
  "language_info": {
   "codemirror_mode": {
    "name": "ipython",
    "version": 2
   },
   "file_extension": ".py",
   "mimetype": "text/x-python",
   "name": "python",
   "nbconvert_exporter": "python",
   "pygments_lexer": "ipython2",
   "version": "2.7.6"
  }
 },
 "nbformat": 4,
 "nbformat_minor": 0
}

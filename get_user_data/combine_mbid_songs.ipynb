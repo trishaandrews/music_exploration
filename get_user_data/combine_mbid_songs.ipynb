{
 "cells": [
  {
   "cell_type": "code",
   "execution_count": 131,
   "metadata": {
    "collapsed": true
   },
   "outputs": [],
   "source": [
    "mbid_songs = {}"
   ]
  },
  {
   "cell_type": "code",
   "execution_count": 132,
   "metadata": {
    "collapsed": true
   },
   "outputs": [],
   "source": [
    "with open(\"mbid_songs.csv\", 'r') as msf:\n",
    "    for line in msf:\n",
    "        line = line.strip()\n",
    "        segs = line.split(\",\")\n",
    "        key = segs[0]\n",
    "        track = segs[1]\n",
    "        mbid_songs[key] = track"
   ]
  },
  {
   "cell_type": "code",
   "execution_count": 133,
   "metadata": {
    "collapsed": false
   },
   "outputs": [
    {
     "name": "stdout",
     "output_type": "stream",
     "text": [
      "1226050\n"
     ]
    }
   ],
   "source": [
    "print len(mbid_songs.keys())"
   ]
  },
  {
   "cell_type": "code",
   "execution_count": 134,
   "metadata": {
    "collapsed": true
   },
   "outputs": [],
   "source": [
    "mbid_songs1000 = {}"
   ]
  },
  {
   "cell_type": "code",
   "execution_count": 135,
   "metadata": {
    "collapsed": true
   },
   "outputs": [],
   "source": [
    "with open(\"mbid_songs_part1000.csv\", 'r') as mspf:\n",
    "    for line in mspf:\n",
    "        line = line.strip()\n",
    "        segs = line.split(\",\")\n",
    "        key = segs[0]\n",
    "        track = segs[1]\n",
    "        mbid_songs1000[key] = track"
   ]
  },
  {
   "cell_type": "code",
   "execution_count": 136,
   "metadata": {
    "collapsed": false
   },
   "outputs": [
    {
     "name": "stdout",
     "output_type": "stream",
     "text": [
      "1181150\n"
     ]
    }
   ],
   "source": [
    "print len(mbid_songs1000.keys())"
   ]
  },
  {
   "cell_type": "code",
   "execution_count": 137,
   "metadata": {
    "collapsed": true
   },
   "outputs": [],
   "source": [
    "for k, v in mbid_songs1000.iteritems():\n",
    "    if k not in mbid_songs:\n",
    "        mbid_songs[k] = v"
   ]
  },
  {
   "cell_type": "code",
   "execution_count": 138,
   "metadata": {
    "collapsed": false
   },
   "outputs": [
    {
     "name": "stdout",
     "output_type": "stream",
     "text": [
      "1226050\n"
     ]
    }
   ],
   "source": [
    "print len(mbid_songs.keys())"
   ]
  },
  {
   "cell_type": "code",
   "execution_count": 139,
   "metadata": {
    "collapsed": true
   },
   "outputs": [],
   "source": [
    "with open(\"mbid_songs.csv\", 'w') as msf:\n",
    "    for k, v in mbid_songs.iteritems():\n",
    "        msf.write(k+\",\"+v+\"\\n\")"
   ]
  },
  {
   "cell_type": "code",
   "execution_count": 140,
   "metadata": {
    "collapsed": true
   },
   "outputs": [],
   "source": [
    "with open(\"mbid_songs_part1000.csv\", 'w') as msf:\n",
    "    for k, v in mbid_songs.iteritems():\n",
    "        msf.write(k+\",\"+v+\"\\n\")"
   ]
  },
  {
   "cell_type": "code",
   "execution_count": null,
   "metadata": {
    "collapsed": true
   },
   "outputs": [],
   "source": []
  }
 ],
 "metadata": {
  "kernelspec": {
   "display_name": "Python 2",
   "language": "python",
   "name": "python2"
  },
  "language_info": {
   "codemirror_mode": {
    "name": "ipython",
    "version": 2
   },
   "file_extension": ".py",
   "mimetype": "text/x-python",
   "name": "python",
   "nbconvert_exporter": "python",
   "pygments_lexer": "ipython2",
   "version": "2.7.6"
  }
 },
 "nbformat": 4,
 "nbformat_minor": 0
}

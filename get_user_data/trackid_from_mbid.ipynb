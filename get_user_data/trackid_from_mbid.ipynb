{
 "cells": [
  {
   "cell_type": "markdown",
   "metadata": {},
   "source": [
    "##sample echo nest call\n",
    "rate limit: 2 calls/second\n",
    "```\n",
    "http://developer.echonest.com/api/v4/track/profile?api_key=API_KEY&id=musicbrainz:track:2d3e8469-919e-456c-aabc-3a2a4643ff68  \n",
    "\n",
    "{\"response\":  \n",
    "      {\"status\":  \n",
    "         {\"version\": \"4.2\", \"code\": 0, \"message\": \"Success\"}, \n",
    "       \"track\": \n",
    "         {\"status\": \"complete\", \n",
    "         \"song_id\": \"SOADNSM13E9061E356\", \n",
    "         \"artist\": \"Amy Winehouse\", \n",
    "         \"foreign_ids\": [\"musicbrainz:track:2d3e8469-919e-456c-aabc-3a2a4643ff68\"], \n",
    "         \"title\": \"Tears Dry on Their Own\", \n",
    "         \"foreign_release_ids\": [\"musicbrainz:release:323b12c3-a7ad-4e2b-b5c8-44b5ef63d5d2\"], \n",
    "         \"foreign_release_id\": \"musicbrainz:release:323b12c3-a7ad-4e2b-b5c8-44b5ef63d5d2\", \n",
    "         \"catalog\": \"musicbrainz\", \n",
    "         \"release\": \"Feel The Love\", \n",
    "         \"foreign_id\": \"musicbrainz:track:2d3e8469-919e-456c-aabc-3a2a4643ff68\", \n",
    "         \"id\": \"TRQTUYN13B7BB45482\"}}}\n",
    "         \n",
    "```"
   ]
  },
  {
   "cell_type": "code",
   "execution_count": 1,
   "metadata": {
    "collapsed": true
   },
   "outputs": [],
   "source": [
    "import requests\n",
    "import time\n",
    "import pickle\n",
    "from pprint import pprint"
   ]
  },
  {
   "cell_type": "code",
   "execution_count": 2,
   "metadata": {
    "collapsed": true
   },
   "outputs": [],
   "source": [
    "with open(\"echonestapi1.txt\", 'r') as ena:\n",
    "    api_key = ena.read().strip()"
   ]
  },
  {
   "cell_type": "code",
   "execution_count": 3,
   "metadata": {
    "collapsed": true
   },
   "outputs": [],
   "source": [
    "rate_time = 0.501 #3.1"
   ]
  },
  {
   "cell_type": "code",
   "execution_count": 4,
   "metadata": {
    "collapsed": false
   },
   "outputs": [],
   "source": [
    "r = requests.get('http://developer.echonest.com/api/v4/track/profile?api_key='+api_key+'&id=musicbrainz:track:4bfce89c-b1e6-407f-91ba-e13a81441a7d')"
   ]
  },
  {
   "cell_type": "code",
   "execution_count": 5,
   "metadata": {
    "collapsed": false
   },
   "outputs": [
    {
     "name": "stdout",
     "output_type": "stream",
     "text": [
      "{u'response': {u'status': {u'code': 0,\n",
      "                           u'message': u'Success',\n",
      "                           u'version': u'4.2'},\n",
      "               u'track': {u'artist': u'Hammock',\n",
      "                          u'catalog': u'musicbrainz',\n",
      "                          u'foreign_id': u'musicbrainz:track:4bfce89c-b1e6-407f-91ba-e13a81441a7d',\n",
      "                          u'foreign_ids': [u'musicbrainz:track:4bfce89c-b1e6-407f-91ba-e13a81441a7d'],\n",
      "                          u'foreign_release_id': u'musicbrainz:release:9f2cecb3-ca9a-4d29-8bcd-a692f32e2f11',\n",
      "                          u'foreign_release_ids': [u'musicbrainz:release:9f2cecb3-ca9a-4d29-8bcd-a692f32e2f11'],\n",
      "                          u'id': u'TRRYMSJ13B7BF722BF',\n",
      "                          u'release': u'More Dead Than Alive (Get Away From the Medicine)',\n",
      "                          u'song_id': u'SOCGKJR12A58A79D30',\n",
      "                          u'status': u'complete',\n",
      "                          u'title': u'I Can Almost See You'}}}\n"
     ]
    }
   ],
   "source": [
    "rdata = r.json()\n",
    "pprint(rdata)"
   ]
  },
  {
   "cell_type": "code",
   "execution_count": 6,
   "metadata": {
    "collapsed": false
   },
   "outputs": [
    {
     "name": "stdout",
     "output_type": "stream",
     "text": [
      "u'Success'\n"
     ]
    }
   ],
   "source": [
    "pprint(rdata[\"response\"][\"status\"][\"message\"])"
   ]
  },
  {
   "cell_type": "code",
   "execution_count": 7,
   "metadata": {
    "collapsed": true
   },
   "outputs": [],
   "source": [
    "#mbid_tracks = {}"
   ]
  },
  {
   "cell_type": "code",
   "execution_count": 8,
   "metadata": {
    "collapsed": false
   },
   "outputs": [
    {
     "name": "stdout",
     "output_type": "stream",
     "text": [
      "1108\n"
     ]
    },
    {
     "ename": "NameError",
     "evalue": "name 'mbid_tracks' is not defined",
     "output_type": "error",
     "traceback": [
      "\u001b[1;31m---------------------------------------------------------------------------\u001b[0m",
      "\u001b[1;31mNameError\u001b[0m                                 Traceback (most recent call last)",
      "\u001b[1;32m<ipython-input-8-d666ac9623a3>\u001b[0m in \u001b[0;36m<module>\u001b[1;34m()\u001b[0m\n\u001b[0;32m      8\u001b[0m         \u001b[0mcount\u001b[0m \u001b[1;33m=\u001b[0m \u001b[1;36m0\u001b[0m\u001b[1;33m\u001b[0m\u001b[0m\n\u001b[0;32m      9\u001b[0m         \u001b[1;32mfor\u001b[0m \u001b[0mmbid\u001b[0m \u001b[1;32min\u001b[0m \u001b[0mline\u001b[0m\u001b[1;33m.\u001b[0m\u001b[0msplit\u001b[0m\u001b[1;33m(\u001b[0m\u001b[1;33m)\u001b[0m\u001b[1;33m:\u001b[0m\u001b[1;33m\u001b[0m\u001b[0m\n\u001b[1;32m---> 10\u001b[1;33m             \u001b[1;32mif\u001b[0m \u001b[0mmbid\u001b[0m \u001b[1;32min\u001b[0m \u001b[0mmbid_tracks\u001b[0m\u001b[1;33m:\u001b[0m\u001b[1;33m\u001b[0m\u001b[0m\n\u001b[0m\u001b[0;32m     11\u001b[0m                 \u001b[1;31m#print \"continuing\"\u001b[0m\u001b[1;33m\u001b[0m\u001b[1;33m\u001b[0m\u001b[0m\n\u001b[0;32m     12\u001b[0m                 \u001b[0mcount\u001b[0m \u001b[1;33m+=\u001b[0m \u001b[1;36m1\u001b[0m\u001b[1;33m\u001b[0m\u001b[0m\n",
      "\u001b[1;31mNameError\u001b[0m: name 'mbid_tracks' is not defined"
     ]
    }
   ],
   "source": [
    "linecount = 0\n",
    "with open(\"mbids_1.txt\", 'r') as mf:\n",
    "    t0 = time.time()\n",
    "    for line in mf:\n",
    "        linecount += 1\n",
    "        print len(line.split())\n",
    "        t1 = time.time()\n",
    "        count = 0\n",
    "        for mbid in line.split():\n",
    "            if mbid in mbid_tracks:\n",
    "                #print \"continuing\"\n",
    "                count += 1\n",
    "                continue\n",
    "            print count,\n",
    "            count += 1\n",
    "            moveon = False\n",
    "            while not moveon:\n",
    "                #print \"requesting\"\n",
    "                time.sleep(rate_time)\n",
    "                enr = requests.get('http://developer.echonest.com/api/v4/track/profile?api_key='+api_key+\n",
    "                                   '&id=musicbrainz:track:'+mbid)\n",
    "                enrj = enr.json()\n",
    "                status = enrj[\"response\"][\"status\"][\"message\"]\n",
    "                if status == \"Success\":\n",
    "                    #print \"true\"\n",
    "                    if \"id\" in enrj[\"response\"][\"track\"]:\n",
    "                        #print \"success\" #\"ids\", mbid\n",
    "                        mbid_tracks[mbid] = enrj[\"response\"][\"track\"][\"id\"]\n",
    "                    moveon = True\n",
    "                elif status == \"The Identifier specified does not exist\":\n",
    "                    #echo nest does not have all mbids mapped to tracks\n",
    "                    #print status #mbid, status\n",
    "                    mbid_tracks[mbid] = \"\"\n",
    "                    moveon = True\n",
    "                else:\n",
    "                    print status\n",
    "                    time.sleep(3)\n",
    "        t2 = time.time()\n",
    "        if t2-t1 > 0.5:\n",
    "            print \"\\nline seconds:\", t2-t1,\n",
    "            print \"total seconds:\", t2-t0, \n",
    "            print \"total lines:\", linecount        \n",
    "            "
   ]
  },
  {
   "cell_type": "code",
   "execution_count": 9,
   "metadata": {
    "collapsed": false
   },
   "outputs": [],
   "source": [
    "#print mbid_tracks"
   ]
  },
  {
   "cell_type": "code",
   "execution_count": 210,
   "metadata": {
    "collapsed": false
   },
   "outputs": [
    {
     "name": "stdout",
     "output_type": "stream",
     "text": [
      " 94110\n"
     ]
    }
   ],
   "source": [
    "print len(mbid_tracks.keys())"
   ]
  },
  {
   "cell_type": "code",
   "execution_count": 197,
   "metadata": {
    "collapsed": true
   },
   "outputs": [],
   "source": [
    "def pickle_stuff(filename, data):\n",
    "    ''' save file '''\n",
    "    with open(filename, 'w') as picklefile:\n",
    "        pickle.dump(data, picklefile)\n",
    "\n",
    "def unpickle(filename):\n",
    "    ''' open file '''\n",
    "    with open(filename, 'r') as picklefile:\n",
    "        old_data = pickle.load(picklefile)\n",
    "    return old_data"
   ]
  },
  {
   "cell_type": "code",
   "execution_count": 211,
   "metadata": {
    "collapsed": false
   },
   "outputs": [],
   "source": [
    "pickle_stuff(\"mbid_track_dict.pkl\", mbid_tracks)"
   ]
  },
  {
   "cell_type": "code",
   "execution_count": 212,
   "metadata": {
    "collapsed": false
   },
   "outputs": [],
   "source": [
    "with open(\"mbid_tracks.csv\", 'w') as mtf:\n",
    "    for k, v in mbid_tracks.iteritems():\n",
    "        mtf.write(k+\",\"+v+\"\\n\")"
   ]
  },
  {
   "cell_type": "code",
   "execution_count": null,
   "metadata": {
    "collapsed": true
   },
   "outputs": [],
   "source": []
  }
 ],
 "metadata": {
  "kernelspec": {
   "display_name": "Python 2",
   "language": "python",
   "name": "python2"
  },
  "language_info": {
   "codemirror_mode": {
    "name": "ipython",
    "version": 2
   },
   "file_extension": ".py",
   "mimetype": "text/x-python",
   "name": "python",
   "nbconvert_exporter": "python",
   "pygments_lexer": "ipython2",
   "version": "2.7.6"
  }
 },
 "nbformat": 4,
 "nbformat_minor": 0
}

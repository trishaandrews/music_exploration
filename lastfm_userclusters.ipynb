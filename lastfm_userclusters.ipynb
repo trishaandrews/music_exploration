{
 "cells": [
  {
   "cell_type": "code",
   "execution_count": 1,
   "metadata": {
    "collapsed": true
   },
   "outputs": [],
   "source": [
    "import sys\n",
    "import time\n",
    "import pickle\n",
    "import pandas as pd\n",
    "from pprint import pprint\n",
    "from collections import Counter"
   ]
  },
  {
   "cell_type": "code",
   "execution_count": 2,
   "metadata": {
    "collapsed": true
   },
   "outputs": [],
   "source": [
    "def unpickle(filename):\n",
    "    ''' open file '''\n",
    "    with open(filename, 'r') as picklefile:\n",
    "        old_data = pickle.load(picklefile)\n",
    "    return old_data"
   ]
  },
  {
   "cell_type": "code",
   "execution_count": 3,
   "metadata": {
    "collapsed": true
   },
   "outputs": [],
   "source": [
    "basedir = \"./pkls/\""
   ]
  },
  {
   "cell_type": "code",
   "execution_count": 4,
   "metadata": {
    "collapsed": true
   },
   "outputs": [],
   "source": [
    "kmeans = unpickle(basedir + \"kmeans40.pkl\")"
   ]
  },
  {
   "cell_type": "code",
   "execution_count": 5,
   "metadata": {
    "collapsed": false
   },
   "outputs": [],
   "source": [
    "with open(basedir + \"zscore_df_csv.csv\", 'r') as tf:\n",
    "    tracks = pd.read_csv(tf, index_col=0)"
   ]
  },
  {
   "cell_type": "code",
   "execution_count": 6,
   "metadata": {
    "collapsed": false,
    "scrolled": true
   },
   "outputs": [],
   "source": [
    "with open(basedir + \"titles_csv3.csv\", 'r') as tf:\n",
    "    titles = pd.read_csv(tf, index_col=0)"
   ]
  },
  {
   "cell_type": "code",
   "execution_count": 7,
   "metadata": {
    "collapsed": false
   },
   "outputs": [
    {
     "data": {
      "text/html": [
       "<div>\n",
       "<table border=\"1\" class=\"dataframe\">\n",
       "  <thead>\n",
       "    <tr style=\"text-align: right;\">\n",
       "      <th></th>\n",
       "      <th>track_id</th>\n",
       "      <th>title</th>\n",
       "      <th>artist_id</th>\n",
       "      <th>artist</th>\n",
       "      <th>song_id</th>\n",
       "    </tr>\n",
       "    <tr>\n",
       "      <th>index</th>\n",
       "      <th></th>\n",
       "      <th></th>\n",
       "      <th></th>\n",
       "      <th></th>\n",
       "      <th></th>\n",
       "    </tr>\n",
       "  </thead>\n",
       "  <tbody>\n",
       "    <tr>\n",
       "      <th>0</th>\n",
       "      <td>TRBGPHG12903CE6CC3</td>\n",
       "      <td>The Law Gonna Step On You (1931)</td>\n",
       "      <td>ARFXRHR1187B98FF09</td>\n",
       "      <td>Bo Carter</td>\n",
       "      <td>SORUUEV12A58A7B9FA</td>\n",
       "    </tr>\n",
       "    <tr>\n",
       "      <th>1</th>\n",
       "      <td>TRBGPYK128F42796E1</td>\n",
       "      <td>Des Vôtres</td>\n",
       "      <td>ARQDTOS12086C11443</td>\n",
       "      <td>Fredericks_ Goldman_ Jones</td>\n",
       "      <td>SOEZDOH12A8AE4787A</td>\n",
       "    </tr>\n",
       "    <tr>\n",
       "      <th>2</th>\n",
       "      <td>TRBGPJP128E078ED20</td>\n",
       "      <td>Crazy</td>\n",
       "      <td>AR12F2S1187FB56EEF</td>\n",
       "      <td>Aerosmith</td>\n",
       "      <td>SOOOWIC12A6701C7E5</td>\n",
       "    </tr>\n",
       "    <tr>\n",
       "      <th>3</th>\n",
       "      <td>TRBGPXH128F428C912</td>\n",
       "      <td>Chiove</td>\n",
       "      <td>AR7LIU31187B98EF11</td>\n",
       "      <td>Rita Chiarelli</td>\n",
       "      <td>SOLSWBA12A8C141B9A</td>\n",
       "    </tr>\n",
       "    <tr>\n",
       "      <th>4</th>\n",
       "      <td>TRBGPSV12903CA9C25</td>\n",
       "      <td>Rude Bwoy Love (feat. Dj Fly_ Dj Traxx_ T.Will...</td>\n",
       "      <td>ARPGCHN1187B9A2831</td>\n",
       "      <td>Nicky B_ Naëlle</td>\n",
       "      <td>SOHNJQL12AB018CC5C</td>\n",
       "    </tr>\n",
       "  </tbody>\n",
       "</table>\n",
       "</div>"
      ],
      "text/plain": [
       "                 track_id                                              title  \\\n",
       "index                                                                          \n",
       "0      TRBGPHG12903CE6CC3                   The Law Gonna Step On You (1931)   \n",
       "1      TRBGPYK128F42796E1                                         Des Vôtres   \n",
       "2      TRBGPJP128E078ED20                                              Crazy   \n",
       "3      TRBGPXH128F428C912                                             Chiove   \n",
       "4      TRBGPSV12903CA9C25  Rude Bwoy Love (feat. Dj Fly_ Dj Traxx_ T.Will...   \n",
       "\n",
       "                artist_id                      artist             song_id  \n",
       "index                                                                      \n",
       "0      ARFXRHR1187B98FF09                   Bo Carter  SORUUEV12A58A7B9FA  \n",
       "1      ARQDTOS12086C11443  Fredericks_ Goldman_ Jones  SOEZDOH12A8AE4787A  \n",
       "2      AR12F2S1187FB56EEF                   Aerosmith  SOOOWIC12A6701C7E5  \n",
       "3      AR7LIU31187B98EF11              Rita Chiarelli  SOLSWBA12A8C141B9A  \n",
       "4      ARPGCHN1187B9A2831             Nicky B_ Naëlle  SOHNJQL12AB018CC5C  "
      ]
     },
     "execution_count": 7,
     "metadata": {},
     "output_type": "execute_result"
    }
   ],
   "source": [
    "titles.head()"
   ]
  },
  {
   "cell_type": "code",
   "execution_count": 8,
   "metadata": {
    "collapsed": false
   },
   "outputs": [
    {
     "name": "stdout",
     "output_type": "stream",
     "text": [
      "['TRAAAJO12903CAAC69', 'TRAAAPK128E0786D96', 'TRAAEJQ128F92C484E', 'TRAAGPJ128F428CD1B', 'TRAAHER128F92D0354']\n"
     ]
    }
   ],
   "source": [
    "with open(\"mismatch_tracks.txt\", 'r') as mtf:\n",
    "    bad_tracks = mtf.read().split()\n",
    "\n",
    "print bad_tracks[:5]\n",
    "\n",
    "btset = set(bad_tracks)"
   ]
  },
  {
   "cell_type": "markdown",
   "metadata": {},
   "source": [
    "###When matching on trackid"
   ]
  },
  {
   "cell_type": "code",
   "execution_count": 4,
   "metadata": {
    "collapsed": true
   },
   "outputs": [],
   "source": [
    "#mbid_tracks = {}\n",
    "#with open(\"mbid_tracks_1.csv\", 'r') as mtf:\n",
    "#    for line in mtf:\n",
    "#        line = line.strip()\n",
    "#        segs = line.split(\",\")\n",
    "#        key = segs[0]\n",
    "#        track = segs[1]\n",
    "#        mbid_tracks[key] = track"
   ]
  },
  {
   "cell_type": "code",
   "execution_count": 5,
   "metadata": {
    "collapsed": false
   },
   "outputs": [],
   "source": [
    "#print len(mbid_tracks.keys())"
   ]
  },
  {
   "cell_type": "code",
   "execution_count": 38,
   "metadata": {
    "collapsed": true
   },
   "outputs": [],
   "source": [
    "#usertracks = []\n",
    "#with open(\"lastfm_usertracks.txt\", 'r') as lutf:\n",
    "#    for line in lutf:\n",
    "#        line = line.strip()\n",
    "#        uts = []\n",
    "#        for l in line.split():\n",
    "#            uts.append(l)\n",
    "#        usertracks.append(uts)"
   ]
  },
  {
   "cell_type": "code",
   "execution_count": 89,
   "metadata": {
    "collapsed": false
   },
   "outputs": [
    {
     "name": "stdout",
     "output_type": "stream",
     "text": [
      "predict time: 32.6945610046\n"
     ]
    }
   ],
   "source": [
    "#userclusters = []\n",
    "#t1 = time.time()\n",
    "#for uts in usertracks:\n",
    "#    ucs = []\n",
    "#    for trackid in uts:\n",
    "#        if trackid in tracks.track_id.values:\n",
    "#            print trackid\n",
    "#            track = tracks[tracks[\"track_id\"] == trackid]\n",
    "#            track = track.iloc[:,1:] #leave out track_id\n",
    "#            cluster = kmeans.predict(track)\n",
    "#            ucs.append(cluster[0])#only one track used in predict\n",
    "#    userclusters.append(ucs) \n",
    "#print \"predict time:\", time.time()-t1"
   ]
  },
  {
   "cell_type": "markdown",
   "metadata": {},
   "source": [
    "###For matching on songid"
   ]
  },
  {
   "cell_type": "code",
   "execution_count": 59,
   "metadata": {
    "collapsed": true
   },
   "outputs": [],
   "source": [
    "mbid_songs = {}\n",
    "with open(\"mbid_songs.csv\", 'r') as msf:\n",
    "    for line in msf:\n",
    "        line = line.strip()\n",
    "        segs = line.split(\",\")\n",
    "        key = segs[0]\n",
    "        track = segs[1]\n",
    "        mbid_songs[key] = track"
   ]
  },
  {
   "cell_type": "code",
   "execution_count": 60,
   "metadata": {
    "collapsed": false
   },
   "outputs": [
    {
     "name": "stdout",
     "output_type": "stream",
     "text": [
      "1226050\n"
     ]
    }
   ],
   "source": [
    "print len(mbid_songs.keys())"
   ]
  },
  {
   "cell_type": "code",
   "execution_count": 61,
   "metadata": {
    "collapsed": false
   },
   "outputs": [],
   "source": [
    "usersongs = []\n",
    "linelimit = 10000\n",
    "currentline = 0\n",
    "with open(\"mbids.txt\", 'r') as mf:\n",
    "    for line in mf:\n",
    "        if currentline >= linelimit:\n",
    "            break\n",
    "        else:\n",
    "            uss = []\n",
    "            for mbid in line.split():\n",
    "                song = mbid_songs[mbid]\n",
    "                #print track\n",
    "                if song != \"\":\n",
    "                    #print track\n",
    "                    uss.append(song)\n",
    "            usersongs.append(uss)\n",
    "        currentline += 1"
   ]
  },
  {
   "cell_type": "code",
   "execution_count": 62,
   "metadata": {
    "collapsed": false
   },
   "outputs": [],
   "source": [
    "with open(\"lastfm_usersongs.txt\", 'w') as lusf:\n",
    "    for uss in usersongs:\n",
    "        #print \"hello\"\n",
    "        for song in uss:\n",
    "            lusf.write(song + \" \")\n",
    "        lusf.write(\"\\n\")"
   ]
  },
  {
   "cell_type": "code",
   "execution_count": 39,
   "metadata": {
    "collapsed": false
   },
   "outputs": [],
   "source": [
    "#print usertracks[0]\n",
    "#print usersongs[0]"
   ]
  },
  {
   "cell_type": "code",
   "execution_count": 24,
   "metadata": {
    "collapsed": true
   },
   "outputs": [],
   "source": [
    "#known song in dataset\n",
    "#usersongs.append(['SOOOWIC12A6701C7E5'])"
   ]
  },
  {
   "cell_type": "code",
   "execution_count": 63,
   "metadata": {
    "collapsed": false
   },
   "outputs": [
    {
     "name": "stdout",
     "output_type": "stream",
     "text": [
      "predict time: 46.1766278744\n"
     ]
    }
   ],
   "source": [
    "userclusters = []\n",
    "t1 = time.time()\n",
    "known_songs = set(titles.song_id.values)\n",
    "for uss in usersongs:\n",
    "    ucs = []\n",
    "    for song in uss:\n",
    "        if song in known_songs:\n",
    "            #print song\n",
    "            trackmatches = titles[titles[\"song_id\"] == song]\n",
    "            trackmatches = trackmatches[\"track_id\"].values #could be more than one\n",
    "            for tm in trackmatches:\n",
    "                if tm not in btset:\n",
    "                    track = tracks[tracks[\"track_id\"] == tm]\n",
    "                    track = track.iloc[:,1:] #leave out track_id\n",
    "                    cluster = kmeans.predict(track)\n",
    "                    ucs.append(cluster[0])#only one track used in predict\n",
    "    userclusters.append(ucs) \n",
    "print \"predict time:\", time.time()-t1"
   ]
  },
  {
   "cell_type": "code",
   "execution_count": 64,
   "metadata": {
    "collapsed": false
   },
   "outputs": [
    {
     "name": "stdout",
     "output_type": "stream",
     "text": [
      "9335\n"
     ]
    }
   ],
   "source": [
    "print len(userclusters)"
   ]
  },
  {
   "cell_type": "code",
   "execution_count": 65,
   "metadata": {
    "collapsed": false,
    "scrolled": false
   },
   "outputs": [
    {
     "name": "stdout",
     "output_type": "stream",
     "text": [
      "13 Counter({3: 3, 26: 3, 27: 2, 2: 1, 38: 1, 13: 1, 16: 1, 30: 1})\n",
      "[0, 0, 1, 3, 0, 0, 0, 0, 0, 0, 0, 0, 0, 1, 0, 0, 1, 0, 0, 0, 0, 0, 0, 0, 0, 0, 3, 2, 0, 0, 1, 0, 0, 0, 0, 0, 0, 0, 1, 0]\n",
      "[0, 0, 0.07692307692307693, 0.23076923076923078, 0, 0, 0, 0, 0, 0, 0, 0, 0, 0.07692307692307693, 0, 0, 0.07692307692307693, 0, 0, 0, 0, 0, 0, 0, 0, 0, 0.23076923076923078, 0.15384615384615385, 0, 0, 0.07692307692307693, 0, 0, 0, 0, 0, 0, 0, 0.07692307692307693, 0]\n",
      "14 Counter({3: 4, 2: 4, 26: 2, 34: 1, 4: 1, 5: 1, 14: 1})\n",
      "[0, 0, 4, 4, 1, 1, 0, 0, 0, 0, 0, 0, 0, 0, 1, 0, 0, 0, 0, 0, 0, 0, 0, 0, 0, 0, 2, 0, 0, 0, 0, 0, 0, 0, 1, 0, 0, 0, 0, 0]\n",
      "[0, 0, 0.2857142857142857, 0.2857142857142857, 0.07142857142857142, 0.07142857142857142, 0, 0, 0, 0, 0, 0, 0, 0, 0.07142857142857142, 0, 0, 0, 0, 0, 0, 0, 0, 0, 0, 0, 0.14285714285714285, 0, 0, 0, 0, 0, 0, 0, 0.07142857142857142, 0, 0, 0, 0, 0]\n",
      "16 Counter({2: 4, 26: 4, 8: 2, 37: 1, 34: 1, 14: 1, 16: 1, 21: 1, 5: 1})\n",
      "[0, 0, 4, 0, 0, 1, 0, 0, 2, 0, 0, 0, 0, 0, 1, 0, 1, 0, 0, 0, 0, 1, 0, 0, 0, 0, 4, 0, 0, 0, 0, 0, 0, 0, 1, 0, 0, 1, 0, 0]\n",
      "[0, 0, 0.25, 0, 0, 0.0625, 0, 0, 0.125, 0, 0, 0, 0, 0, 0.0625, 0, 0.0625, 0, 0, 0, 0, 0.0625, 0, 0, 0, 0, 0.25, 0, 0, 0, 0, 0, 0, 0, 0.0625, 0, 0, 0.0625, 0, 0]\n",
      "15 Counter({2: 4, 21: 2, 3: 1, 37: 1, 39: 1, 34: 1, 18: 1, 24: 1, 26: 1, 30: 1, 5: 1})\n",
      "[0, 0, 4, 1, 0, 1, 0, 0, 0, 0, 0, 0, 0, 0, 0, 0, 0, 0, 1, 0, 0, 2, 0, 0, 1, 0, 1, 0, 0, 0, 1, 0, 0, 0, 1, 0, 0, 1, 0, 1]\n",
      "[0, 0, 0.26666666666666666, 0.06666666666666667, 0, 0.06666666666666667, 0, 0, 0, 0, 0, 0, 0, 0, 0, 0, 0, 0, 0.06666666666666667, 0, 0, 0.13333333333333333, 0, 0, 0.06666666666666667, 0, 0.06666666666666667, 0, 0, 0, 0.06666666666666667, 0, 0, 0, 0.06666666666666667, 0, 0, 0.06666666666666667, 0, 0.06666666666666667]\n",
      "14 Counter({2: 4, 26: 3, 3: 2, 5: 1, 16: 1, 27: 1, 28: 1, 30: 1})\n",
      "[0, 0, 4, 2, 0, 1, 0, 0, 0, 0, 0, 0, 0, 0, 0, 0, 1, 0, 0, 0, 0, 0, 0, 0, 0, 0, 3, 1, 1, 0, 1, 0, 0, 0, 0, 0, 0, 0, 0, 0]\n",
      "[0, 0, 0.2857142857142857, 0.14285714285714285, 0, 0.07142857142857142, 0, 0, 0, 0, 0, 0, 0, 0, 0, 0, 0.07142857142857142, 0, 0, 0, 0, 0, 0, 0, 0, 0, 0.21428571428571427, 0.07142857142857142, 0.07142857142857142, 0, 0.07142857142857142, 0, 0, 0, 0, 0, 0, 0, 0, 0]\n",
      "13 Counter({2: 2, 14: 2, 26: 2, 27: 2, 1: 1, 35: 1, 37: 1, 34: 1, 21: 1})\n",
      "[0, 1, 2, 0, 0, 0, 0, 0, 0, 0, 0, 0, 0, 0, 2, 0, 0, 0, 0, 0, 0, 1, 0, 0, 0, 0, 2, 2, 0, 0, 0, 0, 0, 0, 1, 1, 0, 1, 0, 0]\n",
      "[0, 0.07692307692307693, 0.15384615384615385, 0, 0, 0, 0, 0, 0, 0, 0, 0, 0, 0, 0.15384615384615385, 0, 0, 0, 0, 0, 0, 0.07692307692307693, 0, 0, 0, 0, 0.15384615384615385, 0.15384615384615385, 0, 0, 0, 0, 0, 0, 0.07692307692307693, 0.07692307692307693, 0, 0.07692307692307693, 0, 0]\n",
      "14 Counter({2: 5, 3: 3, 5: 1, 14: 1, 21: 1, 27: 1, 28: 1, 30: 1})\n",
      "[0, 0, 5, 3, 0, 1, 0, 0, 0, 0, 0, 0, 0, 0, 1, 0, 0, 0, 0, 0, 0, 1, 0, 0, 0, 0, 0, 1, 1, 0, 1, 0, 0, 0, 0, 0, 0, 0, 0, 0]\n",
      "[0, 0, 0.35714285714285715, 0.21428571428571427, 0, 0.07142857142857142, 0, 0, 0, 0, 0, 0, 0, 0, 0.07142857142857142, 0, 0, 0, 0, 0, 0, 0.07142857142857142, 0, 0, 0, 0, 0, 0.07142857142857142, 0.07142857142857142, 0, 0.07142857142857142, 0, 0, 0, 0, 0, 0, 0, 0, 0]\n",
      "13 Counter({3: 4, 2: 3, 34: 1, 36: 1, 5: 1, 26: 1, 27: 1, 28: 1})\n",
      "[0, 0, 3, 4, 0, 1, 0, 0, 0, 0, 0, 0, 0, 0, 0, 0, 0, 0, 0, 0, 0, 0, 0, 0, 0, 0, 1, 1, 1, 0, 0, 0, 0, 0, 1, 0, 1, 0, 0, 0]\n",
      "[0, 0, 0.23076923076923078, 0.3076923076923077, 0, 0.07692307692307693, 0, 0, 0, 0, 0, 0, 0, 0, 0, 0, 0, 0, 0, 0, 0, 0, 0, 0, 0, 0, 0.07692307692307693, 0.07692307692307693, 0.07692307692307693, 0, 0, 0, 0, 0, 0.07692307692307693, 0, 0.07692307692307693, 0, 0, 0]\n",
      "15 Counter({2: 6, 3: 3, 5: 2, 34: 1, 14: 1, 26: 1, 27: 1})\n",
      "[0, 0, 6, 3, 0, 2, 0, 0, 0, 0, 0, 0, 0, 0, 1, 0, 0, 0, 0, 0, 0, 0, 0, 0, 0, 0, 1, 1, 0, 0, 0, 0, 0, 0, 1, 0, 0, 0, 0, 0]\n",
      "[0, 0, 0.4, 0.2, 0, 0.13333333333333333, 0, 0, 0, 0, 0, 0, 0, 0, 0.06666666666666667, 0, 0, 0, 0, 0, 0, 0, 0, 0, 0, 0, 0.06666666666666667, 0.06666666666666667, 0, 0, 0, 0, 0, 0, 0.06666666666666667, 0, 0, 0, 0, 0]\n",
      "14 Counter({26: 3, 3: 2, 34: 1, 36: 1, 5: 1, 8: 1, 2: 1, 14: 1, 21: 1, 24: 1, 28: 1})\n",
      "[0, 0, 1, 2, 0, 1, 0, 0, 1, 0, 0, 0, 0, 0, 1, 0, 0, 0, 0, 0, 0, 1, 0, 0, 1, 0, 3, 0, 1, 0, 0, 0, 0, 0, 1, 0, 1, 0, 0, 0]\n",
      "[0, 0, 0.07142857142857142, 0.14285714285714285, 0, 0.07142857142857142, 0, 0, 0.07142857142857142, 0, 0, 0, 0, 0, 0.07142857142857142, 0, 0, 0, 0, 0, 0, 0.07142857142857142, 0, 0, 0.07142857142857142, 0, 0.21428571428571427, 0, 0.07142857142857142, 0, 0, 0, 0, 0, 0.07142857142857142, 0, 0.07142857142857142, 0, 0, 0]\n",
      "13 Counter({2: 3, 27: 3, 3: 2, 5: 2, 26: 2, 28: 1})\n",
      "[0, 0, 3, 2, 0, 2, 0, 0, 0, 0, 0, 0, 0, 0, 0, 0, 0, 0, 0, 0, 0, 0, 0, 0, 0, 0, 2, 3, 1, 0, 0, 0, 0, 0, 0, 0, 0, 0, 0, 0]\n",
      "[0, 0, 0.23076923076923078, 0.15384615384615385, 0, 0.15384615384615385, 0, 0, 0, 0, 0, 0, 0, 0, 0, 0, 0, 0, 0, 0, 0, 0, 0, 0, 0, 0, 0.15384615384615385, 0.23076923076923078, 0.07692307692307693, 0, 0, 0, 0, 0, 0, 0, 0, 0, 0, 0]\n",
      "14 Counter({2: 4, 3: 3, 34: 2, 4: 1, 5: 1, 8: 1, 17: 1, 27: 1})\n",
      "[0, 0, 4, 3, 1, 1, 0, 0, 1, 0, 0, 0, 0, 0, 0, 0, 0, 1, 0, 0, 0, 0, 0, 0, 0, 0, 0, 1, 0, 0, 0, 0, 0, 0, 2, 0, 0, 0, 0, 0]\n",
      "[0, 0, 0.2857142857142857, 0.21428571428571427, 0.07142857142857142, 0.07142857142857142, 0, 0, 0.07142857142857142, 0, 0, 0, 0, 0, 0, 0, 0, 0.07142857142857142, 0, 0, 0, 0, 0, 0, 0, 0, 0, 0.07142857142857142, 0, 0, 0, 0, 0, 0, 0.14285714285714285, 0, 0, 0, 0, 0]\n",
      "13 Counter({21: 2, 24: 2, 33: 1, 2: 1, 14: 1, 15: 1, 16: 1, 20: 1, 26: 1, 27: 1, 28: 1})\n",
      "[0, 0, 1, 0, 0, 0, 0, 0, 0, 0, 0, 0, 0, 0, 1, 1, 1, 0, 0, 0, 1, 2, 0, 0, 2, 0, 1, 1, 1, 0, 0, 0, 0, 1, 0, 0, 0, 0, 0, 0]\n",
      "[0, 0, 0.07692307692307693, 0, 0, 0, 0, 0, 0, 0, 0, 0, 0, 0, 0.07692307692307693, 0.07692307692307693, 0.07692307692307693, 0, 0, 0, 0.07692307692307693, 0.15384615384615385, 0, 0, 0.15384615384615385, 0, 0.07692307692307693, 0.07692307692307693, 0.07692307692307693, 0, 0, 0, 0, 0.07692307692307693, 0, 0, 0, 0, 0, 0]\n"
     ]
    }
   ],
   "source": [
    "clustercounts = []\n",
    "clusterfreqs = []\n",
    "for ucs in userclusters:\n",
    "    num_clusters = kmeans.cluster_centers_.shape[0]\n",
    "    indcounts = [0 for cl in range(num_clusters)]\n",
    "    indfreqs = [0 for cl in range(num_clusters)]\n",
    "    counts = Counter(ucs)\n",
    "    countsum = float(sum(counts.values()))\n",
    "    for name, c in counts.iteritems():\n",
    "        indcounts[name] = c\n",
    "        indfreqs[name] = c/countsum\n",
    "    clustercounts.append(indcounts)\n",
    "    clusterfreqs.append(indfreqs)\n",
    "    if len(ucs) > 12:\n",
    "        print len(ucs), counts\n",
    "        print indcounts\n",
    "        print indfreqs"
   ]
  },
  {
   "cell_type": "code",
   "execution_count": 66,
   "metadata": {
    "collapsed": false
   },
   "outputs": [],
   "source": [
    "with open(basedir+\"lastfm_clustercounts.txt\", 'w') as cc:\n",
    "    for clist in clustercounts:\n",
    "        for c in clist:\n",
    "            cc.write(str(c) + \" \")\n",
    "        cc.write(\"\\n\")\n",
    "\n",
    "with open(basedir+\"lastfm_clusterfreqs.txt\", 'w') as cf:\n",
    "    for flist in clusterfreqs:\n",
    "        for f in flist:\n",
    "            cf.write(str(f) + \" \")\n",
    "        cf.write(\"\\n\")"
   ]
  },
  {
   "cell_type": "code",
   "execution_count": null,
   "metadata": {
    "collapsed": true
   },
   "outputs": [],
   "source": []
  },
  {
   "cell_type": "code",
   "execution_count": 79,
   "metadata": {
    "collapsed": true
   },
   "outputs": [],
   "source": []
  },
  {
   "cell_type": "code",
   "execution_count": 6,
   "metadata": {
    "collapsed": true
   },
   "outputs": [],
   "source": []
  }
 ],
 "metadata": {
  "kernelspec": {
   "display_name": "Python 2",
   "language": "python",
   "name": "python2"
  },
  "language_info": {
   "codemirror_mode": {
    "name": "ipython",
    "version": 2
   },
   "file_extension": ".py",
   "mimetype": "text/x-python",
   "name": "python",
   "nbconvert_exporter": "python",
   "pygments_lexer": "ipython2",
   "version": "2.7.6"
  }
 },
 "nbformat": 4,
 "nbformat_minor": 0
}

{
 "cells": [
  {
   "cell_type": "code",
   "execution_count": 40,
   "metadata": {
    "collapsed": true
   },
   "outputs": [],
   "source": [
    "import pickle\n",
    "\n",
    "import pandas as pd\n",
    "import numpy as np"
   ]
  },
  {
   "cell_type": "code",
   "execution_count": 41,
   "metadata": {
    "collapsed": true
   },
   "outputs": [],
   "source": [
    "basedir = \"./pkls/\""
   ]
  },
  {
   "cell_type": "markdown",
   "metadata": {},
   "source": [
    "##Get whether track should be used for recommendations or not"
   ]
  },
  {
   "cell_type": "code",
   "execution_count": 43,
   "metadata": {
    "collapsed": false
   },
   "outputs": [],
   "source": [
    "with open(basedir + \"metas_csv.csv\", 'r') as tf:\n",
    "    metas = pd.read_csv(tf, index_col=0)"
   ]
  },
  {
   "cell_type": "code",
   "execution_count": 44,
   "metadata": {
    "collapsed": false
   },
   "outputs": [
    {
     "data": {
      "text/html": [
       "<div>\n",
       "<table border=\"1\" class=\"dataframe\">\n",
       "  <thead>\n",
       "    <tr style=\"text-align: right;\">\n",
       "      <th></th>\n",
       "      <th>track_id</th>\n",
       "      <th>song_hottt</th>\n",
       "      <th>artist_hottt</th>\n",
       "      <th>artist_fam</th>\n",
       "    </tr>\n",
       "  </thead>\n",
       "  <tbody>\n",
       "    <tr>\n",
       "      <th>0</th>\n",
       "      <td>TRBGPHG12903CE6CC3</td>\n",
       "      <td>0.252446</td>\n",
       "      <td>0.357470</td>\n",
       "      <td>0.469672</td>\n",
       "    </tr>\n",
       "    <tr>\n",
       "      <th>1</th>\n",
       "      <td>TRBGPYK128F42796E1</td>\n",
       "      <td>NaN</td>\n",
       "      <td>0.305101</td>\n",
       "      <td>0.382720</td>\n",
       "    </tr>\n",
       "    <tr>\n",
       "      <th>2</th>\n",
       "      <td>TRBGPJP128E078ED20</td>\n",
       "      <td>NaN</td>\n",
       "      <td>0.610731</td>\n",
       "      <td>0.872537</td>\n",
       "    </tr>\n",
       "    <tr>\n",
       "      <th>3</th>\n",
       "      <td>TRBGPXH128F428C912</td>\n",
       "      <td>NaN</td>\n",
       "      <td>0.288050</td>\n",
       "      <td>0.404823</td>\n",
       "    </tr>\n",
       "    <tr>\n",
       "      <th>4</th>\n",
       "      <td>TRBGPSV12903CA9C25</td>\n",
       "      <td>NaN</td>\n",
       "      <td>0.412700</td>\n",
       "      <td>0.595409</td>\n",
       "    </tr>\n",
       "  </tbody>\n",
       "</table>\n",
       "</div>"
      ],
      "text/plain": [
       "             track_id  song_hottt  artist_hottt  artist_fam\n",
       "0  TRBGPHG12903CE6CC3    0.252446      0.357470    0.469672\n",
       "1  TRBGPYK128F42796E1         NaN      0.305101    0.382720\n",
       "2  TRBGPJP128E078ED20         NaN      0.610731    0.872537\n",
       "3  TRBGPXH128F428C912         NaN      0.288050    0.404823\n",
       "4  TRBGPSV12903CA9C25         NaN      0.412700    0.595409"
      ]
     },
     "execution_count": 44,
     "metadata": {},
     "output_type": "execute_result"
    }
   ],
   "source": [
    "metas.head()"
   ]
  },
  {
   "cell_type": "code",
   "execution_count": 66,
   "metadata": {
    "collapsed": true
   },
   "outputs": [],
   "source": [
    "#arbitrary bounds:\n",
    "upperb = 1.0 #don't recommend people who are too popular (Kanye West, Daft Punk, etc have > 1 artist_hottt)\n",
    "lowerb = 0.6 #don't recommend people who have no following\n",
    "def recommend(row):\n",
    "    if row[\"song_hottt\"] > upperb or row[\"artist_hottt\"] > upperb or row[\"artist_fam\"] > upperb:\n",
    "        return 0\n",
    "    elif row[\"song_hottt\"] >= lowerb or row[\"artist_hottt\"] >= lowerb or row[\"artist_fam\"] >= lowerb:\n",
    "        return 1\n",
    "    return 0"
   ]
  },
  {
   "cell_type": "code",
   "execution_count": 67,
   "metadata": {
    "collapsed": true
   },
   "outputs": [],
   "source": [
    "metas[\"recommend\"] = metas.apply(recommend, axis=1)"
   ]
  },
  {
   "cell_type": "code",
   "execution_count": 77,
   "metadata": {
    "collapsed": false
   },
   "outputs": [
    {
     "data": {
      "text/html": [
       "<div>\n",
       "<table border=\"1\" class=\"dataframe\">\n",
       "  <thead>\n",
       "    <tr style=\"text-align: right;\">\n",
       "      <th></th>\n",
       "      <th>track_id</th>\n",
       "      <th>song_hottt</th>\n",
       "      <th>artist_hottt</th>\n",
       "      <th>artist_fam</th>\n",
       "      <th>recommend</th>\n",
       "    </tr>\n",
       "  </thead>\n",
       "  <tbody>\n",
       "    <tr>\n",
       "      <th>0</th>\n",
       "      <td>TRBGPHG12903CE6CC3</td>\n",
       "      <td>0.252446</td>\n",
       "      <td>0.357470</td>\n",
       "      <td>0.469672</td>\n",
       "      <td>0</td>\n",
       "    </tr>\n",
       "    <tr>\n",
       "      <th>1</th>\n",
       "      <td>TRBGPYK128F42796E1</td>\n",
       "      <td>NaN</td>\n",
       "      <td>0.305101</td>\n",
       "      <td>0.382720</td>\n",
       "      <td>0</td>\n",
       "    </tr>\n",
       "    <tr>\n",
       "      <th>2</th>\n",
       "      <td>TRBGPJP128E078ED20</td>\n",
       "      <td>NaN</td>\n",
       "      <td>0.610731</td>\n",
       "      <td>0.872537</td>\n",
       "      <td>1</td>\n",
       "    </tr>\n",
       "    <tr>\n",
       "      <th>3</th>\n",
       "      <td>TRBGPXH128F428C912</td>\n",
       "      <td>NaN</td>\n",
       "      <td>0.288050</td>\n",
       "      <td>0.404823</td>\n",
       "      <td>0</td>\n",
       "    </tr>\n",
       "    <tr>\n",
       "      <th>4</th>\n",
       "      <td>TRBGPSV12903CA9C25</td>\n",
       "      <td>NaN</td>\n",
       "      <td>0.412700</td>\n",
       "      <td>0.595409</td>\n",
       "      <td>0</td>\n",
       "    </tr>\n",
       "    <tr>\n",
       "      <th>5</th>\n",
       "      <td>TRBGPAX12903CEC037</td>\n",
       "      <td>NaN</td>\n",
       "      <td>0.353036</td>\n",
       "      <td>0.519000</td>\n",
       "      <td>0</td>\n",
       "    </tr>\n",
       "    <tr>\n",
       "      <th>6</th>\n",
       "      <td>TRBGPZX128F4285105</td>\n",
       "      <td>0.530663</td>\n",
       "      <td>0.388753</td>\n",
       "      <td>0.626821</td>\n",
       "      <td>1</td>\n",
       "    </tr>\n",
       "  </tbody>\n",
       "</table>\n",
       "</div>"
      ],
      "text/plain": [
       "             track_id  song_hottt  artist_hottt  artist_fam  recommend\n",
       "0  TRBGPHG12903CE6CC3    0.252446      0.357470    0.469672          0\n",
       "1  TRBGPYK128F42796E1         NaN      0.305101    0.382720          0\n",
       "2  TRBGPJP128E078ED20         NaN      0.610731    0.872537          1\n",
       "3  TRBGPXH128F428C912         NaN      0.288050    0.404823          0\n",
       "4  TRBGPSV12903CA9C25         NaN      0.412700    0.595409          0\n",
       "5  TRBGPAX12903CEC037         NaN      0.353036    0.519000          0\n",
       "6  TRBGPZX128F4285105    0.530663      0.388753    0.626821          1"
      ]
     },
     "execution_count": 77,
     "metadata": {},
     "output_type": "execute_result"
    }
   ],
   "source": [
    "metas.head(7)"
   ]
  },
  {
   "cell_type": "code",
   "execution_count": 69,
   "metadata": {
    "collapsed": false
   },
   "outputs": [
    {
     "name": "stdout",
     "output_type": "stream",
     "text": [
      "5874\n"
     ]
    }
   ],
   "source": [
    "print len(metas[metas[\"recommend\"] ==0].index)"
   ]
  },
  {
   "cell_type": "code",
   "execution_count": 70,
   "metadata": {
    "collapsed": false
   },
   "outputs": [
    {
     "data": {
      "text/html": [
       "<div>\n",
       "<table border=\"1\" class=\"dataframe\">\n",
       "  <thead>\n",
       "    <tr style=\"text-align: right;\">\n",
       "      <th></th>\n",
       "      <th>track_id</th>\n",
       "      <th>song_hottt</th>\n",
       "      <th>artist_hottt</th>\n",
       "      <th>artist_fam</th>\n",
       "      <th>recommend</th>\n",
       "    </tr>\n",
       "  </thead>\n",
       "  <tbody>\n",
       "    <tr>\n",
       "      <th>9989</th>\n",
       "      <td>TRAQQUC128F9314732</td>\n",
       "      <td>0.591754</td>\n",
       "      <td>0.414011</td>\n",
       "      <td>0.565605</td>\n",
       "      <td>0</td>\n",
       "    </tr>\n",
       "    <tr>\n",
       "      <th>9991</th>\n",
       "      <td>TRAQQYH12903D0C595</td>\n",
       "      <td>0.537504</td>\n",
       "      <td>0.405354</td>\n",
       "      <td>0.414242</td>\n",
       "      <td>0</td>\n",
       "    </tr>\n",
       "    <tr>\n",
       "      <th>9994</th>\n",
       "      <td>TRAQQLM128F147CBFE</td>\n",
       "      <td>0.440187</td>\n",
       "      <td>0.331373</td>\n",
       "      <td>0.492670</td>\n",
       "      <td>0</td>\n",
       "    </tr>\n",
       "    <tr>\n",
       "      <th>9996</th>\n",
       "      <td>TRAQQUQ128F933671B</td>\n",
       "      <td>NaN</td>\n",
       "      <td>0.418736</td>\n",
       "      <td>0.515456</td>\n",
       "      <td>0</td>\n",
       "    </tr>\n",
       "    <tr>\n",
       "      <th>9997</th>\n",
       "      <td>TRAQQZN128F931FA31</td>\n",
       "      <td>0.450762</td>\n",
       "      <td>0.369870</td>\n",
       "      <td>0.537533</td>\n",
       "      <td>0</td>\n",
       "    </tr>\n",
       "    <tr>\n",
       "      <th>9998</th>\n",
       "      <td>TRAQQEE128EF342942</td>\n",
       "      <td>0.215080</td>\n",
       "      <td>0.432804</td>\n",
       "      <td>0.517481</td>\n",
       "      <td>0</td>\n",
       "    </tr>\n",
       "  </tbody>\n",
       "</table>\n",
       "</div>"
      ],
      "text/plain": [
       "                track_id  song_hottt  artist_hottt  artist_fam  recommend\n",
       "9989  TRAQQUC128F9314732    0.591754      0.414011    0.565605          0\n",
       "9991  TRAQQYH12903D0C595    0.537504      0.405354    0.414242          0\n",
       "9994  TRAQQLM128F147CBFE    0.440187      0.331373    0.492670          0\n",
       "9996  TRAQQUQ128F933671B         NaN      0.418736    0.515456          0\n",
       "9997  TRAQQZN128F931FA31    0.450762      0.369870    0.537533          0\n",
       "9998  TRAQQEE128EF342942    0.215080      0.432804    0.517481          0"
      ]
     },
     "execution_count": 70,
     "metadata": {},
     "output_type": "execute_result"
    }
   ],
   "source": [
    "metas[metas[\"recommend\"] ==0].tail(6)"
   ]
  },
  {
   "cell_type": "code",
   "execution_count": 71,
   "metadata": {
    "collapsed": false
   },
   "outputs": [
    {
     "name": "stdout",
     "output_type": "stream",
     "text": [
      "10000\n"
     ]
    }
   ],
   "source": [
    "recs = metas[[\"track_id\", \"recommend\"]]\n",
    "print len(recs.index)"
   ]
  },
  {
   "cell_type": "code",
   "execution_count": 74,
   "metadata": {
    "collapsed": false
   },
   "outputs": [
    {
     "data": {
      "text/html": [
       "<div>\n",
       "<table border=\"1\" class=\"dataframe\">\n",
       "  <thead>\n",
       "    <tr style=\"text-align: right;\">\n",
       "      <th></th>\n",
       "      <th>track_id</th>\n",
       "      <th>recommend</th>\n",
       "    </tr>\n",
       "  </thead>\n",
       "  <tbody>\n",
       "    <tr>\n",
       "      <th>0</th>\n",
       "      <td>TRBGPHG12903CE6CC3</td>\n",
       "      <td>0</td>\n",
       "    </tr>\n",
       "    <tr>\n",
       "      <th>1</th>\n",
       "      <td>TRBGPYK128F42796E1</td>\n",
       "      <td>0</td>\n",
       "    </tr>\n",
       "    <tr>\n",
       "      <th>2</th>\n",
       "      <td>TRBGPJP128E078ED20</td>\n",
       "      <td>1</td>\n",
       "    </tr>\n",
       "    <tr>\n",
       "      <th>3</th>\n",
       "      <td>TRBGPXH128F428C912</td>\n",
       "      <td>0</td>\n",
       "    </tr>\n",
       "    <tr>\n",
       "      <th>4</th>\n",
       "      <td>TRBGPSV12903CA9C25</td>\n",
       "      <td>0</td>\n",
       "    </tr>\n",
       "  </tbody>\n",
       "</table>\n",
       "</div>"
      ],
      "text/plain": [
       "             track_id  recommend\n",
       "0  TRBGPHG12903CE6CC3          0\n",
       "1  TRBGPYK128F42796E1          0\n",
       "2  TRBGPJP128E078ED20          1\n",
       "3  TRBGPXH128F428C912          0\n",
       "4  TRBGPSV12903CA9C25          0"
      ]
     },
     "execution_count": 74,
     "metadata": {},
     "output_type": "execute_result"
    }
   ],
   "source": [
    "recs.head()"
   ]
  },
  {
   "cell_type": "markdown",
   "metadata": {},
   "source": [
    "##Get cluster prediction per track"
   ]
  },
  {
   "cell_type": "code",
   "execution_count": 78,
   "metadata": {
    "collapsed": true
   },
   "outputs": [],
   "source": [
    "def unpickle(filename):\n",
    "    ''' open file '''\n",
    "    with open(filename, 'r') as picklefile:\n",
    "        old_data = pickle.load(picklefile)\n",
    "    return old_data"
   ]
  },
  {
   "cell_type": "code",
   "execution_count": 79,
   "metadata": {
    "collapsed": true
   },
   "outputs": [],
   "source": [
    "with open(basedir + \"zscore_df_csv.csv\", 'r') as tf:\n",
    "    tracks = pd.read_csv(tf, index_col=0)"
   ]
  },
  {
   "cell_type": "code",
   "execution_count": 80,
   "metadata": {
    "collapsed": false
   },
   "outputs": [
    {
     "data": {
      "text/html": [
       "<div>\n",
       "<table border=\"1\" class=\"dataframe\">\n",
       "  <thead>\n",
       "    <tr style=\"text-align: right;\">\n",
       "      <th></th>\n",
       "      <th>track_id</th>\n",
       "      <th>duration</th>\n",
       "      <th>fade_in</th>\n",
       "      <th>tempo</th>\n",
       "      <th>tatum_density</th>\n",
       "      <th>beat_density</th>\n",
       "      <th>segment_density</th>\n",
       "      <th>section_density</th>\n",
       "      <th>loudness</th>\n",
       "      <th>mode</th>\n",
       "      <th>...</th>\n",
       "      <th>timbre_mode3</th>\n",
       "      <th>timbre_mode4</th>\n",
       "      <th>timbre_mode5</th>\n",
       "      <th>timbre_mode6</th>\n",
       "      <th>timbre_mode7</th>\n",
       "      <th>timbre_mode8</th>\n",
       "      <th>timbre_mode9</th>\n",
       "      <th>timbre_mode10</th>\n",
       "      <th>timbre_mode11</th>\n",
       "      <th>timbre_mode12</th>\n",
       "    </tr>\n",
       "  </thead>\n",
       "  <tbody>\n",
       "    <tr>\n",
       "      <th>0</th>\n",
       "      <td>TRBGPHG12903CE6CC3</td>\n",
       "      <td>-0.668187</td>\n",
       "      <td>-0.319412</td>\n",
       "      <td>-0.194199</td>\n",
       "      <td>-0.341662</td>\n",
       "      <td>-0.464571</td>\n",
       "      <td>-0.32573</td>\n",
       "      <td>1.088936</td>\n",
       "      <td>-1.007373</td>\n",
       "      <td>1</td>\n",
       "      <td>...</td>\n",
       "      <td>1.259628</td>\n",
       "      <td>1.189218</td>\n",
       "      <td>0.437165</td>\n",
       "      <td>0.945188</td>\n",
       "      <td>-0.284978</td>\n",
       "      <td>0.281554</td>\n",
       "      <td>0.185953</td>\n",
       "      <td>-0.112983</td>\n",
       "      <td>-1.104735</td>\n",
       "      <td>0.363289</td>\n",
       "    </tr>\n",
       "    <tr>\n",
       "      <th>1</th>\n",
       "      <td>TRBGPYK128F42796E1</td>\n",
       "      <td>0.926188</td>\n",
       "      <td>4.084562</td>\n",
       "      <td>0.881785</td>\n",
       "      <td>-0.346080</td>\n",
       "      <td>0.578074</td>\n",
       "      <td>0.36889</td>\n",
       "      <td>-1.047679</td>\n",
       "      <td>0.092725</td>\n",
       "      <td>1</td>\n",
       "      <td>...</td>\n",
       "      <td>0.536204</td>\n",
       "      <td>0.386584</td>\n",
       "      <td>0.661103</td>\n",
       "      <td>-0.212270</td>\n",
       "      <td>-1.066440</td>\n",
       "      <td>0.317366</td>\n",
       "      <td>-0.484924</td>\n",
       "      <td>0.358257</td>\n",
       "      <td>0.436883</td>\n",
       "      <td>0.239837</td>\n",
       "    </tr>\n",
       "  </tbody>\n",
       "</table>\n",
       "<p>2 rows × 103 columns</p>\n",
       "</div>"
      ],
      "text/plain": [
       "             track_id  duration   fade_in     tempo  tatum_density  \\\n",
       "0  TRBGPHG12903CE6CC3 -0.668187 -0.319412 -0.194199      -0.341662   \n",
       "1  TRBGPYK128F42796E1  0.926188  4.084562  0.881785      -0.346080   \n",
       "\n",
       "   beat_density  segment_density  section_density  loudness  mode  \\\n",
       "0     -0.464571         -0.32573         1.088936 -1.007373     1   \n",
       "1      0.578074          0.36889        -1.047679  0.092725     1   \n",
       "\n",
       "       ...        timbre_mode3  timbre_mode4  timbre_mode5  timbre_mode6  \\\n",
       "0      ...            1.259628      1.189218      0.437165      0.945188   \n",
       "1      ...            0.536204      0.386584      0.661103     -0.212270   \n",
       "\n",
       "   timbre_mode7  timbre_mode8  timbre_mode9  timbre_mode10  timbre_mode11  \\\n",
       "0     -0.284978      0.281554      0.185953      -0.112983      -1.104735   \n",
       "1     -1.066440      0.317366     -0.484924       0.358257       0.436883   \n",
       "\n",
       "   timbre_mode12  \n",
       "0       0.363289  \n",
       "1       0.239837  \n",
       "\n",
       "[2 rows x 103 columns]"
      ]
     },
     "execution_count": 80,
     "metadata": {},
     "output_type": "execute_result"
    }
   ],
   "source": [
    "tracks.head(2)"
   ]
  },
  {
   "cell_type": "code",
   "execution_count": 81,
   "metadata": {
    "collapsed": false
   },
   "outputs": [],
   "source": [
    "kmeans = unpickle(basedir + \"kmeans40.pkl\")"
   ]
  },
  {
   "cell_type": "code",
   "execution_count": 82,
   "metadata": {
    "collapsed": true
   },
   "outputs": [],
   "source": [
    "kmeans_new = unpickle(basedir + \"kmeans40_None_2.pkl\")"
   ]
  },
  {
   "cell_type": "code",
   "execution_count": 85,
   "metadata": {
    "collapsed": true
   },
   "outputs": [],
   "source": [
    "def predict(row):\n",
    "    features = row.iloc[1:].tolist()\n",
    "    return kmeans.predict(features)[0]\n",
    "\n",
    "def predict_new(row):\n",
    "    features = row.iloc[1:].tolist()\n",
    "    return kmeans_new.predict(features)[0]"
   ]
  },
  {
   "cell_type": "code",
   "execution_count": 86,
   "metadata": {
    "collapsed": true
   },
   "outputs": [],
   "source": [
    "with open(basedir + \"trackinfo_old.csv\", 'r') as tof:\n",
    "    info = pd.read_csv(tof, index_col=0)"
   ]
  },
  {
   "cell_type": "code",
   "execution_count": 87,
   "metadata": {
    "collapsed": false
   },
   "outputs": [
    {
     "data": {
      "text/html": [
       "<div>\n",
       "<table border=\"1\" class=\"dataframe\">\n",
       "  <thead>\n",
       "    <tr style=\"text-align: right;\">\n",
       "      <th></th>\n",
       "      <th>track_id</th>\n",
       "      <th>title</th>\n",
       "      <th>artist</th>\n",
       "      <th>recommend</th>\n",
       "      <th>cluster</th>\n",
       "    </tr>\n",
       "  </thead>\n",
       "  <tbody>\n",
       "    <tr>\n",
       "      <th>0</th>\n",
       "      <td>TRBGPHG12903CE6CC3</td>\n",
       "      <td>The Law Gonna Step On You (1931)</td>\n",
       "      <td>Bo Carter</td>\n",
       "      <td>0</td>\n",
       "      <td>23</td>\n",
       "    </tr>\n",
       "    <tr>\n",
       "      <th>1</th>\n",
       "      <td>TRBGPYK128F42796E1</td>\n",
       "      <td>Des Vôtres</td>\n",
       "      <td>Fredericks_ Goldman_ Jones</td>\n",
       "      <td>0</td>\n",
       "      <td>37</td>\n",
       "    </tr>\n",
       "  </tbody>\n",
       "</table>\n",
       "</div>"
      ],
      "text/plain": [
       "             track_id                             title  \\\n",
       "0  TRBGPHG12903CE6CC3  The Law Gonna Step On You (1931)   \n",
       "1  TRBGPYK128F42796E1                        Des Vôtres   \n",
       "\n",
       "                       artist  recommend  cluster  \n",
       "0                   Bo Carter          0       23  \n",
       "1  Fredericks_ Goldman_ Jones          0       37  "
      ]
     },
     "execution_count": 87,
     "metadata": {},
     "output_type": "execute_result"
    }
   ],
   "source": [
    "info.head(2)"
   ]
  },
  {
   "cell_type": "code",
   "execution_count": 88,
   "metadata": {
    "collapsed": false
   },
   "outputs": [],
   "source": [
    "#tracks[\"cluster\"] = tracks.apply(predict, axis=1)\n",
    "info[\"cluster_new\"] = tracks.apply(predict_new, axis=1)"
   ]
  },
  {
   "cell_type": "code",
   "execution_count": 89,
   "metadata": {
    "collapsed": false
   },
   "outputs": [
    {
     "data": {
      "text/html": [
       "<div>\n",
       "<table border=\"1\" class=\"dataframe\">\n",
       "  <thead>\n",
       "    <tr style=\"text-align: right;\">\n",
       "      <th></th>\n",
       "      <th>track_id</th>\n",
       "      <th>title</th>\n",
       "      <th>artist</th>\n",
       "      <th>recommend</th>\n",
       "      <th>cluster</th>\n",
       "      <th>cluster_new</th>\n",
       "    </tr>\n",
       "  </thead>\n",
       "  <tbody>\n",
       "    <tr>\n",
       "      <th>0</th>\n",
       "      <td>TRBGPHG12903CE6CC3</td>\n",
       "      <td>The Law Gonna Step On You (1931)</td>\n",
       "      <td>Bo Carter</td>\n",
       "      <td>0</td>\n",
       "      <td>23</td>\n",
       "      <td>33</td>\n",
       "    </tr>\n",
       "    <tr>\n",
       "      <th>1</th>\n",
       "      <td>TRBGPYK128F42796E1</td>\n",
       "      <td>Des Vôtres</td>\n",
       "      <td>Fredericks_ Goldman_ Jones</td>\n",
       "      <td>0</td>\n",
       "      <td>37</td>\n",
       "      <td>14</td>\n",
       "    </tr>\n",
       "  </tbody>\n",
       "</table>\n",
       "</div>"
      ],
      "text/plain": [
       "             track_id                             title  \\\n",
       "0  TRBGPHG12903CE6CC3  The Law Gonna Step On You (1931)   \n",
       "1  TRBGPYK128F42796E1                        Des Vôtres   \n",
       "\n",
       "                       artist  recommend  cluster  cluster_new  \n",
       "0                   Bo Carter          0       23           33  \n",
       "1  Fredericks_ Goldman_ Jones          0       37           14  "
      ]
     },
     "execution_count": 89,
     "metadata": {},
     "output_type": "execute_result"
    }
   ],
   "source": [
    "info.head(2)"
   ]
  },
  {
   "cell_type": "code",
   "execution_count": 94,
   "metadata": {
    "collapsed": false
   },
   "outputs": [],
   "source": [
    "info[\"recommend\"] = recs[\"recommend\"][recs[\"track_id\"] == info[\"track_id\"] ]"
   ]
  },
  {
   "cell_type": "code",
   "execution_count": 99,
   "metadata": {
    "collapsed": false
   },
   "outputs": [
    {
     "data": {
      "text/html": [
       "<div>\n",
       "<table border=\"1\" class=\"dataframe\">\n",
       "  <thead>\n",
       "    <tr style=\"text-align: right;\">\n",
       "      <th></th>\n",
       "      <th>track_id</th>\n",
       "      <th>title</th>\n",
       "      <th>artist</th>\n",
       "      <th>recommend</th>\n",
       "      <th>cluster</th>\n",
       "      <th>cluster_new</th>\n",
       "    </tr>\n",
       "  </thead>\n",
       "  <tbody>\n",
       "    <tr>\n",
       "      <th>0</th>\n",
       "      <td>TRBGPHG12903CE6CC3</td>\n",
       "      <td>The Law Gonna Step On You (1931)</td>\n",
       "      <td>Bo Carter</td>\n",
       "      <td>0</td>\n",
       "      <td>23</td>\n",
       "      <td>33</td>\n",
       "    </tr>\n",
       "    <tr>\n",
       "      <th>1</th>\n",
       "      <td>TRBGPYK128F42796E1</td>\n",
       "      <td>Des Vôtres</td>\n",
       "      <td>Fredericks_ Goldman_ Jones</td>\n",
       "      <td>0</td>\n",
       "      <td>37</td>\n",
       "      <td>14</td>\n",
       "    </tr>\n",
       "    <tr>\n",
       "      <th>2</th>\n",
       "      <td>TRBGPJP128E078ED20</td>\n",
       "      <td>Crazy</td>\n",
       "      <td>Aerosmith</td>\n",
       "      <td>1</td>\n",
       "      <td>4</td>\n",
       "      <td>21</td>\n",
       "    </tr>\n",
       "    <tr>\n",
       "      <th>3</th>\n",
       "      <td>TRBGPXH128F428C912</td>\n",
       "      <td>Chiove</td>\n",
       "      <td>Rita Chiarelli</td>\n",
       "      <td>0</td>\n",
       "      <td>13</td>\n",
       "      <td>12</td>\n",
       "    </tr>\n",
       "    <tr>\n",
       "      <th>4</th>\n",
       "      <td>TRBGPSV12903CA9C25</td>\n",
       "      <td>Rude Bwoy Love (feat. Dj Fly_ Dj Traxx_ T.Will...</td>\n",
       "      <td>Nicky B_ Naëlle</td>\n",
       "      <td>0</td>\n",
       "      <td>38</td>\n",
       "      <td>21</td>\n",
       "    </tr>\n",
       "    <tr>\n",
       "      <th>5</th>\n",
       "      <td>TRBGPAX12903CEC037</td>\n",
       "      <td>Down South Blues</td>\n",
       "      <td>Sleepy John Estes</td>\n",
       "      <td>0</td>\n",
       "      <td>19</td>\n",
       "      <td>4</td>\n",
       "    </tr>\n",
       "    <tr>\n",
       "      <th>6</th>\n",
       "      <td>TRBGPZX128F4285105</td>\n",
       "      <td>Apagon</td>\n",
       "      <td>Estopa</td>\n",
       "      <td>1</td>\n",
       "      <td>32</td>\n",
       "      <td>13</td>\n",
       "    </tr>\n",
       "    <tr>\n",
       "      <th>7</th>\n",
       "      <td>TRBGPHO128F4254D34</td>\n",
       "      <td>It Came Upon A Midnight Clear</td>\n",
       "      <td>Cristy Lane</td>\n",
       "      <td>0</td>\n",
       "      <td>28</td>\n",
       "      <td>8</td>\n",
       "    </tr>\n",
       "    <tr>\n",
       "      <th>8</th>\n",
       "      <td>TRBGPGF128F4259319</td>\n",
       "      <td>Doin It</td>\n",
       "      <td>Professor Longhair</td>\n",
       "      <td>1</td>\n",
       "      <td>37</td>\n",
       "      <td>14</td>\n",
       "    </tr>\n",
       "    <tr>\n",
       "      <th>9</th>\n",
       "      <td>TRBGPCC128F428FF02</td>\n",
       "      <td>Looking In Your Eyes</td>\n",
       "      <td>Suicidal Tendencies</td>\n",
       "      <td>1</td>\n",
       "      <td>20</td>\n",
       "      <td>16</td>\n",
       "    </tr>\n",
       "    <tr>\n",
       "      <th>10</th>\n",
       "      <td>TRBGPQQ128F427ADDD</td>\n",
       "      <td>Bitches For Breakfast</td>\n",
       "      <td>Vodka Collins</td>\n",
       "      <td>0</td>\n",
       "      <td>4</td>\n",
       "      <td>10</td>\n",
       "    </tr>\n",
       "    <tr>\n",
       "      <th>11</th>\n",
       "      <td>TRBGPWE128F421CCB4</td>\n",
       "      <td>All For The Sake Of The Song</td>\n",
       "      <td>Roger Creager</td>\n",
       "      <td>1</td>\n",
       "      <td>28</td>\n",
       "      <td>17</td>\n",
       "    </tr>\n",
       "    <tr>\n",
       "      <th>12</th>\n",
       "      <td>TRBGPWO128F930B503</td>\n",
       "      <td>Red Barchetta (feat. James LaBrie_ James Murph...</td>\n",
       "      <td>Steve Morse</td>\n",
       "      <td>0</td>\n",
       "      <td>26</td>\n",
       "      <td>15</td>\n",
       "    </tr>\n",
       "    <tr>\n",
       "      <th>13</th>\n",
       "      <td>TRBGXHJ128F93302C7</td>\n",
       "      <td>Listen</td>\n",
       "      <td>FFH</td>\n",
       "      <td>1</td>\n",
       "      <td>12</td>\n",
       "      <td>18</td>\n",
       "    </tr>\n",
       "    <tr>\n",
       "      <th>14</th>\n",
       "      <td>TRBGXBT128EF34EB68</td>\n",
       "      <td>Momentum</td>\n",
       "      <td>Elvira</td>\n",
       "      <td>0</td>\n",
       "      <td>27</td>\n",
       "      <td>32</td>\n",
       "    </tr>\n",
       "    <tr>\n",
       "      <th>15</th>\n",
       "      <td>TRBGXTS128F9308E62</td>\n",
       "      <td>Merry-Go-Round</td>\n",
       "      <td>Helen Hobson</td>\n",
       "      <td>0</td>\n",
       "      <td>23</td>\n",
       "      <td>33</td>\n",
       "    </tr>\n",
       "    <tr>\n",
       "      <th>16</th>\n",
       "      <td>TRBGXQP128F4290B22</td>\n",
       "      <td>Lost</td>\n",
       "      <td>Roger Sanchez</td>\n",
       "      <td>1</td>\n",
       "      <td>16</td>\n",
       "      <td>5</td>\n",
       "    </tr>\n",
       "    <tr>\n",
       "      <th>17</th>\n",
       "      <td>TRBGXGG128F4278990</td>\n",
       "      <td>So Far So Bad So What?</td>\n",
       "      <td>Melt Banana</td>\n",
       "      <td>1</td>\n",
       "      <td>26</td>\n",
       "      <td>15</td>\n",
       "    </tr>\n",
       "    <tr>\n",
       "      <th>18</th>\n",
       "      <td>TRBGXZU128F4255D4F</td>\n",
       "      <td>Dos Mujeres</td>\n",
       "      <td>Alfredo Gutiérrez</td>\n",
       "      <td>0</td>\n",
       "      <td>3</td>\n",
       "      <td>21</td>\n",
       "    </tr>\n",
       "    <tr>\n",
       "      <th>19</th>\n",
       "      <td>TRBGXJO12903CE888B</td>\n",
       "      <td>Hydraulic Pimp</td>\n",
       "      <td>Non Stop DJs</td>\n",
       "      <td>0</td>\n",
       "      <td>34</td>\n",
       "      <td>5</td>\n",
       "    </tr>\n",
       "  </tbody>\n",
       "</table>\n",
       "</div>"
      ],
      "text/plain": [
       "              track_id                                              title  \\\n",
       "0   TRBGPHG12903CE6CC3                   The Law Gonna Step On You (1931)   \n",
       "1   TRBGPYK128F42796E1                                         Des Vôtres   \n",
       "2   TRBGPJP128E078ED20                                              Crazy   \n",
       "3   TRBGPXH128F428C912                                             Chiove   \n",
       "4   TRBGPSV12903CA9C25  Rude Bwoy Love (feat. Dj Fly_ Dj Traxx_ T.Will...   \n",
       "5   TRBGPAX12903CEC037                                   Down South Blues   \n",
       "6   TRBGPZX128F4285105                                             Apagon   \n",
       "7   TRBGPHO128F4254D34                      It Came Upon A Midnight Clear   \n",
       "8   TRBGPGF128F4259319                                            Doin It   \n",
       "9   TRBGPCC128F428FF02                               Looking In Your Eyes   \n",
       "10  TRBGPQQ128F427ADDD                              Bitches For Breakfast   \n",
       "11  TRBGPWE128F421CCB4                       All For The Sake Of The Song   \n",
       "12  TRBGPWO128F930B503  Red Barchetta (feat. James LaBrie_ James Murph...   \n",
       "13  TRBGXHJ128F93302C7                                             Listen   \n",
       "14  TRBGXBT128EF34EB68                                           Momentum   \n",
       "15  TRBGXTS128F9308E62                                     Merry-Go-Round   \n",
       "16  TRBGXQP128F4290B22                                               Lost   \n",
       "17  TRBGXGG128F4278990                             So Far So Bad So What?   \n",
       "18  TRBGXZU128F4255D4F                                        Dos Mujeres   \n",
       "19  TRBGXJO12903CE888B                                     Hydraulic Pimp   \n",
       "\n",
       "                        artist  recommend  cluster  cluster_new  \n",
       "0                    Bo Carter          0       23           33  \n",
       "1   Fredericks_ Goldman_ Jones          0       37           14  \n",
       "2                    Aerosmith          1        4           21  \n",
       "3               Rita Chiarelli          0       13           12  \n",
       "4              Nicky B_ Naëlle          0       38           21  \n",
       "5            Sleepy John Estes          0       19            4  \n",
       "6                       Estopa          1       32           13  \n",
       "7                  Cristy Lane          0       28            8  \n",
       "8           Professor Longhair          1       37           14  \n",
       "9          Suicidal Tendencies          1       20           16  \n",
       "10               Vodka Collins          0        4           10  \n",
       "11               Roger Creager          1       28           17  \n",
       "12                 Steve Morse          0       26           15  \n",
       "13                         FFH          1       12           18  \n",
       "14                      Elvira          0       27           32  \n",
       "15                Helen Hobson          0       23           33  \n",
       "16               Roger Sanchez          1       16            5  \n",
       "17                 Melt Banana          1       26           15  \n",
       "18           Alfredo Gutiérrez          0        3           21  \n",
       "19                Non Stop DJs          0       34            5  "
      ]
     },
     "execution_count": 99,
     "metadata": {},
     "output_type": "execute_result"
    }
   ],
   "source": [
    "info.head(20)"
   ]
  },
  {
   "cell_type": "code",
   "execution_count": 97,
   "metadata": {
    "collapsed": true
   },
   "outputs": [],
   "source": [
    "with open(basedir+\"trackinfo_new.csv\", 'w') as tnf:\n",
    "    tnf.write(info.to_csv())"
   ]
  },
  {
   "cell_type": "code",
   "execution_count": 19,
   "metadata": {
    "collapsed": false
   },
   "outputs": [
    {
     "name": "stdout",
     "output_type": "stream",
     "text": [
      "10000\n"
     ]
    }
   ],
   "source": [
    "preds = tracks[[\"track_id\", \"cluster\"]]\n",
    "print len(preds.index)"
   ]
  },
  {
   "cell_type": "code",
   "execution_count": 20,
   "metadata": {
    "collapsed": false
   },
   "outputs": [
    {
     "data": {
      "text/html": [
       "<div>\n",
       "<table border=\"1\" class=\"dataframe\">\n",
       "  <thead>\n",
       "    <tr style=\"text-align: right;\">\n",
       "      <th></th>\n",
       "      <th>track_id</th>\n",
       "      <th>cluster</th>\n",
       "    </tr>\n",
       "  </thead>\n",
       "  <tbody>\n",
       "    <tr>\n",
       "      <th>0</th>\n",
       "      <td>TRBGPHG12903CE6CC3</td>\n",
       "      <td>23</td>\n",
       "    </tr>\n",
       "    <tr>\n",
       "      <th>1</th>\n",
       "      <td>TRBGPYK128F42796E1</td>\n",
       "      <td>37</td>\n",
       "    </tr>\n",
       "    <tr>\n",
       "      <th>2</th>\n",
       "      <td>TRBGPJP128E078ED20</td>\n",
       "      <td>4</td>\n",
       "    </tr>\n",
       "    <tr>\n",
       "      <th>3</th>\n",
       "      <td>TRBGPXH128F428C912</td>\n",
       "      <td>13</td>\n",
       "    </tr>\n",
       "    <tr>\n",
       "      <th>4</th>\n",
       "      <td>TRBGPSV12903CA9C25</td>\n",
       "      <td>38</td>\n",
       "    </tr>\n",
       "  </tbody>\n",
       "</table>\n",
       "</div>"
      ],
      "text/plain": [
       "             track_id  cluster\n",
       "0  TRBGPHG12903CE6CC3       23\n",
       "1  TRBGPYK128F42796E1       37\n",
       "2  TRBGPJP128E078ED20        4\n",
       "3  TRBGPXH128F428C912       13\n",
       "4  TRBGPSV12903CA9C25       38"
      ]
     },
     "execution_count": 20,
     "metadata": {},
     "output_type": "execute_result"
    }
   ],
   "source": [
    "preds.head()"
   ]
  },
  {
   "cell_type": "markdown",
   "metadata": {},
   "source": [
    "##Combine dfs"
   ]
  },
  {
   "cell_type": "code",
   "execution_count": 21,
   "metadata": {
    "collapsed": true
   },
   "outputs": [],
   "source": [
    "trackclusterrecs = pd.merge(recs, preds, how='outer', on=\"track_id\")"
   ]
  },
  {
   "cell_type": "code",
   "execution_count": 22,
   "metadata": {
    "collapsed": false
   },
   "outputs": [
    {
     "data": {
      "text/html": [
       "<div>\n",
       "<table border=\"1\" class=\"dataframe\">\n",
       "  <thead>\n",
       "    <tr style=\"text-align: right;\">\n",
       "      <th></th>\n",
       "      <th>track_id</th>\n",
       "      <th>recommend</th>\n",
       "      <th>cluster</th>\n",
       "    </tr>\n",
       "  </thead>\n",
       "  <tbody>\n",
       "    <tr>\n",
       "      <th>0</th>\n",
       "      <td>TRBGPHG12903CE6CC3</td>\n",
       "      <td>0</td>\n",
       "      <td>23</td>\n",
       "    </tr>\n",
       "    <tr>\n",
       "      <th>1</th>\n",
       "      <td>TRBGPYK128F42796E1</td>\n",
       "      <td>0</td>\n",
       "      <td>37</td>\n",
       "    </tr>\n",
       "    <tr>\n",
       "      <th>2</th>\n",
       "      <td>TRBGPJP128E078ED20</td>\n",
       "      <td>1</td>\n",
       "      <td>4</td>\n",
       "    </tr>\n",
       "    <tr>\n",
       "      <th>3</th>\n",
       "      <td>TRBGPXH128F428C912</td>\n",
       "      <td>0</td>\n",
       "      <td>13</td>\n",
       "    </tr>\n",
       "    <tr>\n",
       "      <th>4</th>\n",
       "      <td>TRBGPSV12903CA9C25</td>\n",
       "      <td>1</td>\n",
       "      <td>38</td>\n",
       "    </tr>\n",
       "  </tbody>\n",
       "</table>\n",
       "</div>"
      ],
      "text/plain": [
       "             track_id  recommend  cluster\n",
       "0  TRBGPHG12903CE6CC3          0       23\n",
       "1  TRBGPYK128F42796E1          0       37\n",
       "2  TRBGPJP128E078ED20          1        4\n",
       "3  TRBGPXH128F428C912          0       13\n",
       "4  TRBGPSV12903CA9C25          1       38"
      ]
     },
     "execution_count": 22,
     "metadata": {},
     "output_type": "execute_result"
    }
   ],
   "source": [
    "trackclusterrecs.head()"
   ]
  },
  {
   "cell_type": "markdown",
   "metadata": {},
   "source": [
    "##Bring in track title and artist names"
   ]
  },
  {
   "cell_type": "code",
   "execution_count": 23,
   "metadata": {
    "collapsed": false
   },
   "outputs": [],
   "source": [
    "with open(basedir + \"titles_csv.csv\", 'r') as tf:\n",
    "    titles = pd.read_csv(tf, index_col=0)"
   ]
  },
  {
   "cell_type": "code",
   "execution_count": 24,
   "metadata": {
    "collapsed": false,
    "scrolled": true
   },
   "outputs": [
    {
     "data": {
      "text/html": [
       "<div>\n",
       "<table border=\"1\" class=\"dataframe\">\n",
       "  <thead>\n",
       "    <tr style=\"text-align: right;\">\n",
       "      <th></th>\n",
       "      <th>track_id</th>\n",
       "      <th>title</th>\n",
       "      <th>artist_id</th>\n",
       "      <th>artist</th>\n",
       "      <th>song_id</th>\n",
       "    </tr>\n",
       "  </thead>\n",
       "  <tbody>\n",
       "    <tr>\n",
       "      <th>0</th>\n",
       "      <td>TRBGPHG12903CE6CC3</td>\n",
       "      <td>The Law Gonna Step On You (1931)</td>\n",
       "      <td>ARFXRHR1187B98FF09</td>\n",
       "      <td>Bo Carter</td>\n",
       "      <td>SORUUEV12A58A7B9FA</td>\n",
       "    </tr>\n",
       "    <tr>\n",
       "      <th>1</th>\n",
       "      <td>TRBGPYK128F42796E1</td>\n",
       "      <td>Des Vôtres</td>\n",
       "      <td>ARQDTOS12086C11443</td>\n",
       "      <td>Fredericks_ Goldman_ Jones</td>\n",
       "      <td>SOEZDOH12A8AE4787A</td>\n",
       "    </tr>\n",
       "    <tr>\n",
       "      <th>2</th>\n",
       "      <td>TRBGPJP128E078ED20</td>\n",
       "      <td>Crazy</td>\n",
       "      <td>AR12F2S1187FB56EEF</td>\n",
       "      <td>Aerosmith</td>\n",
       "      <td>SOOOWIC12A6701C7E5</td>\n",
       "    </tr>\n",
       "    <tr>\n",
       "      <th>3</th>\n",
       "      <td>TRBGPXH128F428C912</td>\n",
       "      <td>Chiove</td>\n",
       "      <td>AR7LIU31187B98EF11</td>\n",
       "      <td>Rita Chiarelli</td>\n",
       "      <td>SOLSWBA12A8C141B9A</td>\n",
       "    </tr>\n",
       "    <tr>\n",
       "      <th>4</th>\n",
       "      <td>TRBGPSV12903CA9C25</td>\n",
       "      <td>Rude Bwoy Love (feat. Dj Fly_ Dj Traxx_ T.Will...</td>\n",
       "      <td>ARPGCHN1187B9A2831</td>\n",
       "      <td>Nicky B_ Naëlle</td>\n",
       "      <td>SOHNJQL12AB018CC5C</td>\n",
       "    </tr>\n",
       "  </tbody>\n",
       "</table>\n",
       "</div>"
      ],
      "text/plain": [
       "             track_id                                              title  \\\n",
       "0  TRBGPHG12903CE6CC3                   The Law Gonna Step On You (1931)   \n",
       "1  TRBGPYK128F42796E1                                         Des Vôtres   \n",
       "2  TRBGPJP128E078ED20                                              Crazy   \n",
       "3  TRBGPXH128F428C912                                             Chiove   \n",
       "4  TRBGPSV12903CA9C25  Rude Bwoy Love (feat. Dj Fly_ Dj Traxx_ T.Will...   \n",
       "\n",
       "            artist_id                      artist             song_id  \n",
       "0  ARFXRHR1187B98FF09                   Bo Carter  SORUUEV12A58A7B9FA  \n",
       "1  ARQDTOS12086C11443  Fredericks_ Goldman_ Jones  SOEZDOH12A8AE4787A  \n",
       "2  AR12F2S1187FB56EEF                   Aerosmith  SOOOWIC12A6701C7E5  \n",
       "3  AR7LIU31187B98EF11              Rita Chiarelli  SOLSWBA12A8C141B9A  \n",
       "4  ARPGCHN1187B9A2831             Nicky B_ Naëlle  SOHNJQL12AB018CC5C  "
      ]
     },
     "execution_count": 24,
     "metadata": {},
     "output_type": "execute_result"
    }
   ],
   "source": [
    "titles.head()"
   ]
  },
  {
   "cell_type": "code",
   "execution_count": 25,
   "metadata": {
    "collapsed": false
   },
   "outputs": [
    {
     "data": {
      "text/plain": [
       "0                     The Law Gonna Step On You (1931)\n",
       "1                                           Des Vôtres\n",
       "2                                                Crazy\n",
       "3                                               Chiove\n",
       "4    Rude Bwoy Love (feat. Dj Fly_ Dj Traxx_ T.Will...\n",
       "5                                     Down South Blues\n",
       "6                                               Apagon\n",
       "7                        It Came Upon A Midnight Clear\n",
       "8                                              Doin It\n",
       "9                                 Looking In Your Eyes\n",
       "Name: title, dtype: object"
      ]
     },
     "execution_count": 25,
     "metadata": {},
     "output_type": "execute_result"
    }
   ],
   "source": [
    "titles[\"title\"] = titles[\"title\"].str.replace(\",\",\"\")\n",
    "titles[\"title\"] = titles[\"title\"].str.replace(\"'\", \"\")\n",
    "titles[\"title\"].head(10)"
   ]
  },
  {
   "cell_type": "code",
   "execution_count": 26,
   "metadata": {
    "collapsed": false
   },
   "outputs": [
    {
     "data": {
      "text/plain": [
       "0                     Bo Carter\n",
       "1    Fredericks_ Goldman_ Jones\n",
       "2                     Aerosmith\n",
       "3                Rita Chiarelli\n",
       "4               Nicky B_ Naëlle\n",
       "Name: artist, dtype: object"
      ]
     },
     "execution_count": 26,
     "metadata": {},
     "output_type": "execute_result"
    }
   ],
   "source": [
    "titles[\"artist\"] = titles[\"artist\"].str.replace(\",\",\"\")\n",
    "titles[\"artist\"] = titles[\"artist\"].str.replace(\"'\", \"\")\n",
    "titles[\"artist\"].head()"
   ]
  },
  {
   "cell_type": "code",
   "execution_count": 27,
   "metadata": {
    "collapsed": true
   },
   "outputs": [],
   "source": [
    "names = titles[[\"track_id\", \"title\", \"artist\"]]"
   ]
  },
  {
   "cell_type": "code",
   "execution_count": 28,
   "metadata": {
    "collapsed": false
   },
   "outputs": [
    {
     "data": {
      "text/html": [
       "<div>\n",
       "<table border=\"1\" class=\"dataframe\">\n",
       "  <thead>\n",
       "    <tr style=\"text-align: right;\">\n",
       "      <th></th>\n",
       "      <th>track_id</th>\n",
       "      <th>title</th>\n",
       "      <th>artist</th>\n",
       "    </tr>\n",
       "  </thead>\n",
       "  <tbody>\n",
       "    <tr>\n",
       "      <th>0</th>\n",
       "      <td>TRBGPHG12903CE6CC3</td>\n",
       "      <td>The Law Gonna Step On You (1931)</td>\n",
       "      <td>Bo Carter</td>\n",
       "    </tr>\n",
       "    <tr>\n",
       "      <th>1</th>\n",
       "      <td>TRBGPYK128F42796E1</td>\n",
       "      <td>Des Vôtres</td>\n",
       "      <td>Fredericks_ Goldman_ Jones</td>\n",
       "    </tr>\n",
       "    <tr>\n",
       "      <th>2</th>\n",
       "      <td>TRBGPJP128E078ED20</td>\n",
       "      <td>Crazy</td>\n",
       "      <td>Aerosmith</td>\n",
       "    </tr>\n",
       "    <tr>\n",
       "      <th>3</th>\n",
       "      <td>TRBGPXH128F428C912</td>\n",
       "      <td>Chiove</td>\n",
       "      <td>Rita Chiarelli</td>\n",
       "    </tr>\n",
       "    <tr>\n",
       "      <th>4</th>\n",
       "      <td>TRBGPSV12903CA9C25</td>\n",
       "      <td>Rude Bwoy Love (feat. Dj Fly_ Dj Traxx_ T.Will...</td>\n",
       "      <td>Nicky B_ Naëlle</td>\n",
       "    </tr>\n",
       "  </tbody>\n",
       "</table>\n",
       "</div>"
      ],
      "text/plain": [
       "             track_id                                              title  \\\n",
       "0  TRBGPHG12903CE6CC3                   The Law Gonna Step On You (1931)   \n",
       "1  TRBGPYK128F42796E1                                         Des Vôtres   \n",
       "2  TRBGPJP128E078ED20                                              Crazy   \n",
       "3  TRBGPXH128F428C912                                             Chiove   \n",
       "4  TRBGPSV12903CA9C25  Rude Bwoy Love (feat. Dj Fly_ Dj Traxx_ T.Will...   \n",
       "\n",
       "                       artist  \n",
       "0                   Bo Carter  \n",
       "1  Fredericks_ Goldman_ Jones  \n",
       "2                   Aerosmith  \n",
       "3              Rita Chiarelli  \n",
       "4             Nicky B_ Naëlle  "
      ]
     },
     "execution_count": 28,
     "metadata": {},
     "output_type": "execute_result"
    }
   ],
   "source": [
    "names.head()"
   ]
  },
  {
   "cell_type": "markdown",
   "metadata": {},
   "source": [
    "##Make final df of track info for recommendations"
   ]
  },
  {
   "cell_type": "code",
   "execution_count": 29,
   "metadata": {
    "collapsed": true
   },
   "outputs": [],
   "source": [
    "trackinfo = pd.merge(names, trackclusterrecs, how='outer', on=\"track_id\")"
   ]
  },
  {
   "cell_type": "code",
   "execution_count": 30,
   "metadata": {
    "collapsed": false
   },
   "outputs": [
    {
     "data": {
      "text/html": [
       "<div>\n",
       "<table border=\"1\" class=\"dataframe\">\n",
       "  <thead>\n",
       "    <tr style=\"text-align: right;\">\n",
       "      <th></th>\n",
       "      <th>track_id</th>\n",
       "      <th>title</th>\n",
       "      <th>artist</th>\n",
       "      <th>recommend</th>\n",
       "      <th>cluster</th>\n",
       "    </tr>\n",
       "  </thead>\n",
       "  <tbody>\n",
       "    <tr>\n",
       "      <th>0</th>\n",
       "      <td>TRBGPHG12903CE6CC3</td>\n",
       "      <td>The Law Gonna Step On You (1931)</td>\n",
       "      <td>Bo Carter</td>\n",
       "      <td>0</td>\n",
       "      <td>23</td>\n",
       "    </tr>\n",
       "    <tr>\n",
       "      <th>1</th>\n",
       "      <td>TRBGPYK128F42796E1</td>\n",
       "      <td>Des Vôtres</td>\n",
       "      <td>Fredericks_ Goldman_ Jones</td>\n",
       "      <td>0</td>\n",
       "      <td>37</td>\n",
       "    </tr>\n",
       "    <tr>\n",
       "      <th>2</th>\n",
       "      <td>TRBGPJP128E078ED20</td>\n",
       "      <td>Crazy</td>\n",
       "      <td>Aerosmith</td>\n",
       "      <td>1</td>\n",
       "      <td>4</td>\n",
       "    </tr>\n",
       "    <tr>\n",
       "      <th>3</th>\n",
       "      <td>TRBGPXH128F428C912</td>\n",
       "      <td>Chiove</td>\n",
       "      <td>Rita Chiarelli</td>\n",
       "      <td>0</td>\n",
       "      <td>13</td>\n",
       "    </tr>\n",
       "    <tr>\n",
       "      <th>4</th>\n",
       "      <td>TRBGPSV12903CA9C25</td>\n",
       "      <td>Rude Bwoy Love (feat. Dj Fly_ Dj Traxx_ T.Will...</td>\n",
       "      <td>Nicky B_ Naëlle</td>\n",
       "      <td>1</td>\n",
       "      <td>38</td>\n",
       "    </tr>\n",
       "  </tbody>\n",
       "</table>\n",
       "</div>"
      ],
      "text/plain": [
       "             track_id                                              title  \\\n",
       "0  TRBGPHG12903CE6CC3                   The Law Gonna Step On You (1931)   \n",
       "1  TRBGPYK128F42796E1                                         Des Vôtres   \n",
       "2  TRBGPJP128E078ED20                                              Crazy   \n",
       "3  TRBGPXH128F428C912                                             Chiove   \n",
       "4  TRBGPSV12903CA9C25  Rude Bwoy Love (feat. Dj Fly_ Dj Traxx_ T.Will...   \n",
       "\n",
       "                       artist  recommend  cluster  \n",
       "0                   Bo Carter          0       23  \n",
       "1  Fredericks_ Goldman_ Jones          0       37  \n",
       "2                   Aerosmith          1        4  \n",
       "3              Rita Chiarelli          0       13  \n",
       "4             Nicky B_ Naëlle          1       38  "
      ]
     },
     "execution_count": 30,
     "metadata": {},
     "output_type": "execute_result"
    }
   ],
   "source": [
    "trackinfo.head()"
   ]
  },
  {
   "cell_type": "code",
   "execution_count": 31,
   "metadata": {
    "collapsed": true
   },
   "outputs": [],
   "source": [
    "with open(basedir+\"trackinfo.csv\", 'w') as twf:\n",
    "    twf.write(trackinfo.to_csv())"
   ]
  },
  {
   "cell_type": "code",
   "execution_count": null,
   "metadata": {
    "collapsed": true
   },
   "outputs": [],
   "source": []
  }
 ],
 "metadata": {
  "kernelspec": {
   "display_name": "Python 2",
   "language": "python",
   "name": "python2"
  },
  "language_info": {
   "codemirror_mode": {
    "name": "ipython",
    "version": 2
   },
   "file_extension": ".py",
   "mimetype": "text/x-python",
   "name": "python",
   "nbconvert_exporter": "python",
   "pygments_lexer": "ipython2",
   "version": "2.7.6"
  }
 },
 "nbformat": 4,
 "nbformat_minor": 0
}

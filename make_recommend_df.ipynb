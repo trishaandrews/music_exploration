{
 "cells": [
  {
   "cell_type": "code",
   "execution_count": 1,
   "metadata": {
    "collapsed": true
   },
   "outputs": [],
   "source": [
    "import pickle\n",
    "\n",
    "import pandas as pd\n",
    "import numpy as np"
   ]
  },
  {
   "cell_type": "code",
   "execution_count": 2,
   "metadata": {
    "collapsed": true
   },
   "outputs": [],
   "source": [
    "basedir = \"./pkls/\""
   ]
  },
  {
   "cell_type": "markdown",
   "metadata": {},
   "source": [
    "##Get whether track should be used for recommendations or not"
   ]
  },
  {
   "cell_type": "code",
   "execution_count": 3,
   "metadata": {
    "collapsed": false
   },
   "outputs": [],
   "source": [
    "with open(basedir + \"metas_csv.csv\", 'r') as tf:\n",
    "    metas = pd.read_csv(tf, index_col=0)"
   ]
  },
  {
   "cell_type": "code",
   "execution_count": 4,
   "metadata": {
    "collapsed": false
   },
   "outputs": [
    {
     "data": {
      "text/html": [
       "<div>\n",
       "<table border=\"1\" class=\"dataframe\">\n",
       "  <thead>\n",
       "    <tr style=\"text-align: right;\">\n",
       "      <th></th>\n",
       "      <th>track_id</th>\n",
       "      <th>song_hottt</th>\n",
       "      <th>artist_hottt</th>\n",
       "      <th>artist_fam</th>\n",
       "    </tr>\n",
       "  </thead>\n",
       "  <tbody>\n",
       "    <tr>\n",
       "      <th>0</th>\n",
       "      <td>TRBGPHG12903CE6CC3</td>\n",
       "      <td>0.252446</td>\n",
       "      <td>0.357470</td>\n",
       "      <td>0.469672</td>\n",
       "    </tr>\n",
       "    <tr>\n",
       "      <th>1</th>\n",
       "      <td>TRBGPYK128F42796E1</td>\n",
       "      <td>NaN</td>\n",
       "      <td>0.305101</td>\n",
       "      <td>0.382720</td>\n",
       "    </tr>\n",
       "    <tr>\n",
       "      <th>2</th>\n",
       "      <td>TRBGPJP128E078ED20</td>\n",
       "      <td>NaN</td>\n",
       "      <td>0.610731</td>\n",
       "      <td>0.872537</td>\n",
       "    </tr>\n",
       "    <tr>\n",
       "      <th>3</th>\n",
       "      <td>TRBGPXH128F428C912</td>\n",
       "      <td>NaN</td>\n",
       "      <td>0.288050</td>\n",
       "      <td>0.404823</td>\n",
       "    </tr>\n",
       "    <tr>\n",
       "      <th>4</th>\n",
       "      <td>TRBGPSV12903CA9C25</td>\n",
       "      <td>NaN</td>\n",
       "      <td>0.412700</td>\n",
       "      <td>0.595409</td>\n",
       "    </tr>\n",
       "  </tbody>\n",
       "</table>\n",
       "</div>"
      ],
      "text/plain": [
       "             track_id  song_hottt  artist_hottt  artist_fam\n",
       "0  TRBGPHG12903CE6CC3    0.252446      0.357470    0.469672\n",
       "1  TRBGPYK128F42796E1         NaN      0.305101    0.382720\n",
       "2  TRBGPJP128E078ED20         NaN      0.610731    0.872537\n",
       "3  TRBGPXH128F428C912         NaN      0.288050    0.404823\n",
       "4  TRBGPSV12903CA9C25         NaN      0.412700    0.595409"
      ]
     },
     "execution_count": 4,
     "metadata": {},
     "output_type": "execute_result"
    }
   ],
   "source": [
    "metas.head()"
   ]
  },
  {
   "cell_type": "code",
   "execution_count": 5,
   "metadata": {
    "collapsed": true
   },
   "outputs": [],
   "source": [
    "#arbitrary bounds:\n",
    "upperb = 1.0 #don't recommend people who are too popular (Kanye West, Daft Punk, etc have > 1 artist_hottt)\n",
    "lowerb = 0.5 #don't recommend people who have no following\n",
    "def recommend(row):\n",
    "    if row[\"song_hottt\"] > upperb or row[\"artist_hottt\"] > upperb or row[\"artist_fam\"] > upperb:\n",
    "        return 0\n",
    "    elif row[\"song_hottt\"] > lowerb or row[\"artist_hottt\"] > lowerb or row[\"artist_fam\"] > lowerb:\n",
    "        return 1\n",
    "    return 0"
   ]
  },
  {
   "cell_type": "code",
   "execution_count": 6,
   "metadata": {
    "collapsed": true
   },
   "outputs": [],
   "source": [
    "metas[\"recommend\"] = metas.apply(recommend, axis=1)"
   ]
  },
  {
   "cell_type": "code",
   "execution_count": 7,
   "metadata": {
    "collapsed": false
   },
   "outputs": [
    {
     "data": {
      "text/html": [
       "<div>\n",
       "<table border=\"1\" class=\"dataframe\">\n",
       "  <thead>\n",
       "    <tr style=\"text-align: right;\">\n",
       "      <th></th>\n",
       "      <th>track_id</th>\n",
       "      <th>song_hottt</th>\n",
       "      <th>artist_hottt</th>\n",
       "      <th>artist_fam</th>\n",
       "      <th>recommend</th>\n",
       "    </tr>\n",
       "  </thead>\n",
       "  <tbody>\n",
       "    <tr>\n",
       "      <th>0</th>\n",
       "      <td>TRBGPHG12903CE6CC3</td>\n",
       "      <td>0.252446</td>\n",
       "      <td>0.357470</td>\n",
       "      <td>0.469672</td>\n",
       "      <td>0</td>\n",
       "    </tr>\n",
       "    <tr>\n",
       "      <th>1</th>\n",
       "      <td>TRBGPYK128F42796E1</td>\n",
       "      <td>NaN</td>\n",
       "      <td>0.305101</td>\n",
       "      <td>0.382720</td>\n",
       "      <td>0</td>\n",
       "    </tr>\n",
       "    <tr>\n",
       "      <th>2</th>\n",
       "      <td>TRBGPJP128E078ED20</td>\n",
       "      <td>NaN</td>\n",
       "      <td>0.610731</td>\n",
       "      <td>0.872537</td>\n",
       "      <td>1</td>\n",
       "    </tr>\n",
       "    <tr>\n",
       "      <th>3</th>\n",
       "      <td>TRBGPXH128F428C912</td>\n",
       "      <td>NaN</td>\n",
       "      <td>0.288050</td>\n",
       "      <td>0.404823</td>\n",
       "      <td>0</td>\n",
       "    </tr>\n",
       "    <tr>\n",
       "      <th>4</th>\n",
       "      <td>TRBGPSV12903CA9C25</td>\n",
       "      <td>NaN</td>\n",
       "      <td>0.412700</td>\n",
       "      <td>0.595409</td>\n",
       "      <td>1</td>\n",
       "    </tr>\n",
       "  </tbody>\n",
       "</table>\n",
       "</div>"
      ],
      "text/plain": [
       "             track_id  song_hottt  artist_hottt  artist_fam  recommend\n",
       "0  TRBGPHG12903CE6CC3    0.252446      0.357470    0.469672          0\n",
       "1  TRBGPYK128F42796E1         NaN      0.305101    0.382720          0\n",
       "2  TRBGPJP128E078ED20         NaN      0.610731    0.872537          1\n",
       "3  TRBGPXH128F428C912         NaN      0.288050    0.404823          0\n",
       "4  TRBGPSV12903CA9C25         NaN      0.412700    0.595409          1"
      ]
     },
     "execution_count": 7,
     "metadata": {},
     "output_type": "execute_result"
    }
   ],
   "source": [
    "metas.head()"
   ]
  },
  {
   "cell_type": "code",
   "execution_count": 8,
   "metadata": {
    "collapsed": false
   },
   "outputs": [
    {
     "name": "stdout",
     "output_type": "stream",
     "text": [
      "3273\n"
     ]
    }
   ],
   "source": [
    "print len(metas[metas[\"recommend\"] ==0].index)"
   ]
  },
  {
   "cell_type": "code",
   "execution_count": 9,
   "metadata": {
    "collapsed": false
   },
   "outputs": [
    {
     "data": {
      "text/html": [
       "<div>\n",
       "<table border=\"1\" class=\"dataframe\">\n",
       "  <thead>\n",
       "    <tr style=\"text-align: right;\">\n",
       "      <th></th>\n",
       "      <th>track_id</th>\n",
       "      <th>song_hottt</th>\n",
       "      <th>artist_hottt</th>\n",
       "      <th>artist_fam</th>\n",
       "      <th>recommend</th>\n",
       "    </tr>\n",
       "  </thead>\n",
       "  <tbody>\n",
       "    <tr>\n",
       "      <th>9979</th>\n",
       "      <td>TRAQUIR128F429B067</td>\n",
       "      <td>NaN</td>\n",
       "      <td>0.313866</td>\n",
       "      <td>0.379735</td>\n",
       "      <td>0</td>\n",
       "    </tr>\n",
       "    <tr>\n",
       "      <th>9981</th>\n",
       "      <td>TRAQUVZ128F932B2B7</td>\n",
       "      <td>0.000000</td>\n",
       "      <td>0.298435</td>\n",
       "      <td>0.428062</td>\n",
       "      <td>0</td>\n",
       "    </tr>\n",
       "    <tr>\n",
       "      <th>9982</th>\n",
       "      <td>TRAQUBY128F42671D0</td>\n",
       "      <td>0.265861</td>\n",
       "      <td>0.349981</td>\n",
       "      <td>0.449689</td>\n",
       "      <td>0</td>\n",
       "    </tr>\n",
       "    <tr>\n",
       "      <th>9985</th>\n",
       "      <td>TRAQUZJ128F92F7059</td>\n",
       "      <td>0.000000</td>\n",
       "      <td>0.000000</td>\n",
       "      <td>0.359678</td>\n",
       "      <td>0</td>\n",
       "    </tr>\n",
       "    <tr>\n",
       "      <th>9986</th>\n",
       "      <td>TRAQUCX12903CD43F9</td>\n",
       "      <td>NaN</td>\n",
       "      <td>0.258505</td>\n",
       "      <td>0.360078</td>\n",
       "      <td>0</td>\n",
       "    </tr>\n",
       "    <tr>\n",
       "      <th>9994</th>\n",
       "      <td>TRAQQLM128F147CBFE</td>\n",
       "      <td>0.440187</td>\n",
       "      <td>0.331373</td>\n",
       "      <td>0.492670</td>\n",
       "      <td>0</td>\n",
       "    </tr>\n",
       "  </tbody>\n",
       "</table>\n",
       "</div>"
      ],
      "text/plain": [
       "                track_id  song_hottt  artist_hottt  artist_fam  recommend\n",
       "9979  TRAQUIR128F429B067         NaN      0.313866    0.379735          0\n",
       "9981  TRAQUVZ128F932B2B7    0.000000      0.298435    0.428062          0\n",
       "9982  TRAQUBY128F42671D0    0.265861      0.349981    0.449689          0\n",
       "9985  TRAQUZJ128F92F7059    0.000000      0.000000    0.359678          0\n",
       "9986  TRAQUCX12903CD43F9         NaN      0.258505    0.360078          0\n",
       "9994  TRAQQLM128F147CBFE    0.440187      0.331373    0.492670          0"
      ]
     },
     "execution_count": 9,
     "metadata": {},
     "output_type": "execute_result"
    }
   ],
   "source": [
    "metas[metas[\"recommend\"] ==0].tail(6)"
   ]
  },
  {
   "cell_type": "code",
   "execution_count": 10,
   "metadata": {
    "collapsed": false
   },
   "outputs": [
    {
     "name": "stdout",
     "output_type": "stream",
     "text": [
      "10000\n"
     ]
    }
   ],
   "source": [
    "recs = metas[[\"track_id\", \"recommend\"]]\n",
    "print len(recs.index)"
   ]
  },
  {
   "cell_type": "code",
   "execution_count": 11,
   "metadata": {
    "collapsed": false
   },
   "outputs": [
    {
     "data": {
      "text/html": [
       "<div>\n",
       "<table border=\"1\" class=\"dataframe\">\n",
       "  <thead>\n",
       "    <tr style=\"text-align: right;\">\n",
       "      <th></th>\n",
       "      <th>track_id</th>\n",
       "      <th>recommend</th>\n",
       "    </tr>\n",
       "  </thead>\n",
       "  <tbody>\n",
       "    <tr>\n",
       "      <th>0</th>\n",
       "      <td>TRBGPHG12903CE6CC3</td>\n",
       "      <td>0</td>\n",
       "    </tr>\n",
       "    <tr>\n",
       "      <th>1</th>\n",
       "      <td>TRBGPYK128F42796E1</td>\n",
       "      <td>0</td>\n",
       "    </tr>\n",
       "    <tr>\n",
       "      <th>2</th>\n",
       "      <td>TRBGPJP128E078ED20</td>\n",
       "      <td>1</td>\n",
       "    </tr>\n",
       "    <tr>\n",
       "      <th>3</th>\n",
       "      <td>TRBGPXH128F428C912</td>\n",
       "      <td>0</td>\n",
       "    </tr>\n",
       "    <tr>\n",
       "      <th>4</th>\n",
       "      <td>TRBGPSV12903CA9C25</td>\n",
       "      <td>1</td>\n",
       "    </tr>\n",
       "  </tbody>\n",
       "</table>\n",
       "</div>"
      ],
      "text/plain": [
       "             track_id  recommend\n",
       "0  TRBGPHG12903CE6CC3          0\n",
       "1  TRBGPYK128F42796E1          0\n",
       "2  TRBGPJP128E078ED20          1\n",
       "3  TRBGPXH128F428C912          0\n",
       "4  TRBGPSV12903CA9C25          1"
      ]
     },
     "execution_count": 11,
     "metadata": {},
     "output_type": "execute_result"
    }
   ],
   "source": [
    "recs.head()"
   ]
  },
  {
   "cell_type": "markdown",
   "metadata": {},
   "source": [
    "##Get cluster prediction per track"
   ]
  },
  {
   "cell_type": "code",
   "execution_count": 12,
   "metadata": {
    "collapsed": true
   },
   "outputs": [],
   "source": [
    "def unpickle(filename):\n",
    "    ''' open file '''\n",
    "    with open(filename, 'r') as picklefile:\n",
    "        old_data = pickle.load(picklefile)\n",
    "    return old_data"
   ]
  },
  {
   "cell_type": "code",
   "execution_count": 13,
   "metadata": {
    "collapsed": true
   },
   "outputs": [],
   "source": [
    "with open(basedir + \"zscore_df_csv.csv\", 'r') as tf:\n",
    "    tracks = pd.read_csv(tf, index_col=0)"
   ]
  },
  {
   "cell_type": "code",
   "execution_count": 14,
   "metadata": {
    "collapsed": false
   },
   "outputs": [
    {
     "data": {
      "text/html": [
       "<div>\n",
       "<table border=\"1\" class=\"dataframe\">\n",
       "  <thead>\n",
       "    <tr style=\"text-align: right;\">\n",
       "      <th></th>\n",
       "      <th>track_id</th>\n",
       "      <th>duration</th>\n",
       "      <th>fade_in</th>\n",
       "      <th>tempo</th>\n",
       "      <th>energy</th>\n",
       "      <th>danceability</th>\n",
       "      <th>loudness</th>\n",
       "      <th>mode</th>\n",
       "      <th>key_0</th>\n",
       "      <th>key_1</th>\n",
       "      <th>...</th>\n",
       "      <th>timbre_mode3</th>\n",
       "      <th>timbre_mode4</th>\n",
       "      <th>timbre_mode5</th>\n",
       "      <th>timbre_mode6</th>\n",
       "      <th>timbre_mode7</th>\n",
       "      <th>timbre_mode8</th>\n",
       "      <th>timbre_mode9</th>\n",
       "      <th>timbre_mode10</th>\n",
       "      <th>timbre_mode11</th>\n",
       "      <th>timbre_mode12</th>\n",
       "    </tr>\n",
       "  </thead>\n",
       "  <tbody>\n",
       "    <tr>\n",
       "      <th>0</th>\n",
       "      <td>TRBGPHG12903CE6CC3</td>\n",
       "      <td>-0.668187</td>\n",
       "      <td>-0.319412</td>\n",
       "      <td>-0.194199</td>\n",
       "      <td>0</td>\n",
       "      <td>0</td>\n",
       "      <td>-1.007373</td>\n",
       "      <td>1</td>\n",
       "      <td>0</td>\n",
       "      <td>0</td>\n",
       "      <td>...</td>\n",
       "      <td>1.259628</td>\n",
       "      <td>1.189218</td>\n",
       "      <td>0.437165</td>\n",
       "      <td>0.945188</td>\n",
       "      <td>-0.284978</td>\n",
       "      <td>0.281554</td>\n",
       "      <td>0.185953</td>\n",
       "      <td>-0.112983</td>\n",
       "      <td>-1.104735</td>\n",
       "      <td>0.363289</td>\n",
       "    </tr>\n",
       "    <tr>\n",
       "      <th>1</th>\n",
       "      <td>TRBGPYK128F42796E1</td>\n",
       "      <td>0.926188</td>\n",
       "      <td>4.084562</td>\n",
       "      <td>0.881785</td>\n",
       "      <td>0</td>\n",
       "      <td>0</td>\n",
       "      <td>0.092725</td>\n",
       "      <td>1</td>\n",
       "      <td>0</td>\n",
       "      <td>0</td>\n",
       "      <td>...</td>\n",
       "      <td>0.536204</td>\n",
       "      <td>0.386584</td>\n",
       "      <td>0.661103</td>\n",
       "      <td>-0.212270</td>\n",
       "      <td>-1.066440</td>\n",
       "      <td>0.317366</td>\n",
       "      <td>-0.484924</td>\n",
       "      <td>0.358257</td>\n",
       "      <td>0.436883</td>\n",
       "      <td>0.239837</td>\n",
       "    </tr>\n",
       "  </tbody>\n",
       "</table>\n",
       "<p>2 rows × 101 columns</p>\n",
       "</div>"
      ],
      "text/plain": [
       "             track_id  duration   fade_in     tempo  energy  danceability  \\\n",
       "0  TRBGPHG12903CE6CC3 -0.668187 -0.319412 -0.194199       0             0   \n",
       "1  TRBGPYK128F42796E1  0.926188  4.084562  0.881785       0             0   \n",
       "\n",
       "   loudness  mode  key_0  key_1      ...        timbre_mode3  timbre_mode4  \\\n",
       "0 -1.007373     1      0      0      ...            1.259628      1.189218   \n",
       "1  0.092725     1      0      0      ...            0.536204      0.386584   \n",
       "\n",
       "   timbre_mode5  timbre_mode6  timbre_mode7  timbre_mode8  timbre_mode9  \\\n",
       "0      0.437165      0.945188     -0.284978      0.281554      0.185953   \n",
       "1      0.661103     -0.212270     -1.066440      0.317366     -0.484924   \n",
       "\n",
       "   timbre_mode10  timbre_mode11  timbre_mode12  \n",
       "0      -0.112983      -1.104735       0.363289  \n",
       "1       0.358257       0.436883       0.239837  \n",
       "\n",
       "[2 rows x 101 columns]"
      ]
     },
     "execution_count": 14,
     "metadata": {},
     "output_type": "execute_result"
    }
   ],
   "source": [
    "tracks.head(2)"
   ]
  },
  {
   "cell_type": "code",
   "execution_count": 15,
   "metadata": {
    "collapsed": false
   },
   "outputs": [],
   "source": [
    "kmeans = unpickle(basedir + \"kmeans40.pkl\")"
   ]
  },
  {
   "cell_type": "code",
   "execution_count": 16,
   "metadata": {
    "collapsed": true
   },
   "outputs": [],
   "source": [
    "def predict(row):\n",
    "    features = row.iloc[1:].tolist()\n",
    "    return kmeans.predict(features)[0]"
   ]
  },
  {
   "cell_type": "code",
   "execution_count": 17,
   "metadata": {
    "collapsed": true
   },
   "outputs": [],
   "source": [
    "tracks[\"cluster\"] = tracks.apply(predict, axis=1)"
   ]
  },
  {
   "cell_type": "code",
   "execution_count": 18,
   "metadata": {
    "collapsed": false
   },
   "outputs": [
    {
     "data": {
      "text/html": [
       "<div>\n",
       "<table border=\"1\" class=\"dataframe\">\n",
       "  <thead>\n",
       "    <tr style=\"text-align: right;\">\n",
       "      <th></th>\n",
       "      <th>track_id</th>\n",
       "      <th>duration</th>\n",
       "      <th>fade_in</th>\n",
       "      <th>tempo</th>\n",
       "      <th>energy</th>\n",
       "      <th>danceability</th>\n",
       "      <th>loudness</th>\n",
       "      <th>mode</th>\n",
       "      <th>key_0</th>\n",
       "      <th>key_1</th>\n",
       "      <th>...</th>\n",
       "      <th>timbre_mode4</th>\n",
       "      <th>timbre_mode5</th>\n",
       "      <th>timbre_mode6</th>\n",
       "      <th>timbre_mode7</th>\n",
       "      <th>timbre_mode8</th>\n",
       "      <th>timbre_mode9</th>\n",
       "      <th>timbre_mode10</th>\n",
       "      <th>timbre_mode11</th>\n",
       "      <th>timbre_mode12</th>\n",
       "      <th>cluster</th>\n",
       "    </tr>\n",
       "  </thead>\n",
       "  <tbody>\n",
       "    <tr>\n",
       "      <th>0</th>\n",
       "      <td>TRBGPHG12903CE6CC3</td>\n",
       "      <td>-0.668187</td>\n",
       "      <td>-0.319412</td>\n",
       "      <td>-0.194199</td>\n",
       "      <td>0</td>\n",
       "      <td>0</td>\n",
       "      <td>-1.007373</td>\n",
       "      <td>1</td>\n",
       "      <td>0</td>\n",
       "      <td>0</td>\n",
       "      <td>...</td>\n",
       "      <td>1.189218</td>\n",
       "      <td>0.437165</td>\n",
       "      <td>0.945188</td>\n",
       "      <td>-0.284978</td>\n",
       "      <td>0.281554</td>\n",
       "      <td>0.185953</td>\n",
       "      <td>-0.112983</td>\n",
       "      <td>-1.104735</td>\n",
       "      <td>0.363289</td>\n",
       "      <td>23</td>\n",
       "    </tr>\n",
       "    <tr>\n",
       "      <th>1</th>\n",
       "      <td>TRBGPYK128F42796E1</td>\n",
       "      <td>0.926188</td>\n",
       "      <td>4.084562</td>\n",
       "      <td>0.881785</td>\n",
       "      <td>0</td>\n",
       "      <td>0</td>\n",
       "      <td>0.092725</td>\n",
       "      <td>1</td>\n",
       "      <td>0</td>\n",
       "      <td>0</td>\n",
       "      <td>...</td>\n",
       "      <td>0.386584</td>\n",
       "      <td>0.661103</td>\n",
       "      <td>-0.212270</td>\n",
       "      <td>-1.066440</td>\n",
       "      <td>0.317366</td>\n",
       "      <td>-0.484924</td>\n",
       "      <td>0.358257</td>\n",
       "      <td>0.436883</td>\n",
       "      <td>0.239837</td>\n",
       "      <td>37</td>\n",
       "    </tr>\n",
       "  </tbody>\n",
       "</table>\n",
       "<p>2 rows × 102 columns</p>\n",
       "</div>"
      ],
      "text/plain": [
       "             track_id  duration   fade_in     tempo  energy  danceability  \\\n",
       "0  TRBGPHG12903CE6CC3 -0.668187 -0.319412 -0.194199       0             0   \n",
       "1  TRBGPYK128F42796E1  0.926188  4.084562  0.881785       0             0   \n",
       "\n",
       "   loudness  mode  key_0  key_1   ...     timbre_mode4  timbre_mode5  \\\n",
       "0 -1.007373     1      0      0   ...         1.189218      0.437165   \n",
       "1  0.092725     1      0      0   ...         0.386584      0.661103   \n",
       "\n",
       "   timbre_mode6  timbre_mode7  timbre_mode8  timbre_mode9  timbre_mode10  \\\n",
       "0      0.945188     -0.284978      0.281554      0.185953      -0.112983   \n",
       "1     -0.212270     -1.066440      0.317366     -0.484924       0.358257   \n",
       "\n",
       "   timbre_mode11  timbre_mode12  cluster  \n",
       "0      -1.104735       0.363289       23  \n",
       "1       0.436883       0.239837       37  \n",
       "\n",
       "[2 rows x 102 columns]"
      ]
     },
     "execution_count": 18,
     "metadata": {},
     "output_type": "execute_result"
    }
   ],
   "source": [
    "tracks.head(2)"
   ]
  },
  {
   "cell_type": "code",
   "execution_count": 19,
   "metadata": {
    "collapsed": false
   },
   "outputs": [
    {
     "name": "stdout",
     "output_type": "stream",
     "text": [
      "10000\n"
     ]
    }
   ],
   "source": [
    "preds = tracks[[\"track_id\", \"cluster\"]]\n",
    "print len(preds.index)"
   ]
  },
  {
   "cell_type": "code",
   "execution_count": 20,
   "metadata": {
    "collapsed": false
   },
   "outputs": [
    {
     "data": {
      "text/html": [
       "<div>\n",
       "<table border=\"1\" class=\"dataframe\">\n",
       "  <thead>\n",
       "    <tr style=\"text-align: right;\">\n",
       "      <th></th>\n",
       "      <th>track_id</th>\n",
       "      <th>cluster</th>\n",
       "    </tr>\n",
       "  </thead>\n",
       "  <tbody>\n",
       "    <tr>\n",
       "      <th>0</th>\n",
       "      <td>TRBGPHG12903CE6CC3</td>\n",
       "      <td>23</td>\n",
       "    </tr>\n",
       "    <tr>\n",
       "      <th>1</th>\n",
       "      <td>TRBGPYK128F42796E1</td>\n",
       "      <td>37</td>\n",
       "    </tr>\n",
       "    <tr>\n",
       "      <th>2</th>\n",
       "      <td>TRBGPJP128E078ED20</td>\n",
       "      <td>4</td>\n",
       "    </tr>\n",
       "    <tr>\n",
       "      <th>3</th>\n",
       "      <td>TRBGPXH128F428C912</td>\n",
       "      <td>13</td>\n",
       "    </tr>\n",
       "    <tr>\n",
       "      <th>4</th>\n",
       "      <td>TRBGPSV12903CA9C25</td>\n",
       "      <td>38</td>\n",
       "    </tr>\n",
       "  </tbody>\n",
       "</table>\n",
       "</div>"
      ],
      "text/plain": [
       "             track_id  cluster\n",
       "0  TRBGPHG12903CE6CC3       23\n",
       "1  TRBGPYK128F42796E1       37\n",
       "2  TRBGPJP128E078ED20        4\n",
       "3  TRBGPXH128F428C912       13\n",
       "4  TRBGPSV12903CA9C25       38"
      ]
     },
     "execution_count": 20,
     "metadata": {},
     "output_type": "execute_result"
    }
   ],
   "source": [
    "preds.head()"
   ]
  },
  {
   "cell_type": "markdown",
   "metadata": {},
   "source": [
    "##Combine dfs"
   ]
  },
  {
   "cell_type": "code",
   "execution_count": 21,
   "metadata": {
    "collapsed": true
   },
   "outputs": [],
   "source": [
    "trackclusterrecs = pd.merge(recs, preds, how='outer', on=\"track_id\")"
   ]
  },
  {
   "cell_type": "code",
   "execution_count": 22,
   "metadata": {
    "collapsed": false
   },
   "outputs": [
    {
     "data": {
      "text/html": [
       "<div>\n",
       "<table border=\"1\" class=\"dataframe\">\n",
       "  <thead>\n",
       "    <tr style=\"text-align: right;\">\n",
       "      <th></th>\n",
       "      <th>track_id</th>\n",
       "      <th>recommend</th>\n",
       "      <th>cluster</th>\n",
       "    </tr>\n",
       "  </thead>\n",
       "  <tbody>\n",
       "    <tr>\n",
       "      <th>0</th>\n",
       "      <td>TRBGPHG12903CE6CC3</td>\n",
       "      <td>0</td>\n",
       "      <td>23</td>\n",
       "    </tr>\n",
       "    <tr>\n",
       "      <th>1</th>\n",
       "      <td>TRBGPYK128F42796E1</td>\n",
       "      <td>0</td>\n",
       "      <td>37</td>\n",
       "    </tr>\n",
       "    <tr>\n",
       "      <th>2</th>\n",
       "      <td>TRBGPJP128E078ED20</td>\n",
       "      <td>1</td>\n",
       "      <td>4</td>\n",
       "    </tr>\n",
       "    <tr>\n",
       "      <th>3</th>\n",
       "      <td>TRBGPXH128F428C912</td>\n",
       "      <td>0</td>\n",
       "      <td>13</td>\n",
       "    </tr>\n",
       "    <tr>\n",
       "      <th>4</th>\n",
       "      <td>TRBGPSV12903CA9C25</td>\n",
       "      <td>1</td>\n",
       "      <td>38</td>\n",
       "    </tr>\n",
       "  </tbody>\n",
       "</table>\n",
       "</div>"
      ],
      "text/plain": [
       "             track_id  recommend  cluster\n",
       "0  TRBGPHG12903CE6CC3          0       23\n",
       "1  TRBGPYK128F42796E1          0       37\n",
       "2  TRBGPJP128E078ED20          1        4\n",
       "3  TRBGPXH128F428C912          0       13\n",
       "4  TRBGPSV12903CA9C25          1       38"
      ]
     },
     "execution_count": 22,
     "metadata": {},
     "output_type": "execute_result"
    }
   ],
   "source": [
    "trackclusterrecs.head()"
   ]
  },
  {
   "cell_type": "markdown",
   "metadata": {},
   "source": [
    "##Bring in track title and artist names"
   ]
  },
  {
   "cell_type": "code",
   "execution_count": 23,
   "metadata": {
    "collapsed": false
   },
   "outputs": [],
   "source": [
    "with open(basedir + \"titles_csv.csv\", 'r') as tf:\n",
    "    titles = pd.read_csv(tf, index_col=0)"
   ]
  },
  {
   "cell_type": "code",
   "execution_count": 24,
   "metadata": {
    "collapsed": false,
    "scrolled": true
   },
   "outputs": [
    {
     "data": {
      "text/html": [
       "<div>\n",
       "<table border=\"1\" class=\"dataframe\">\n",
       "  <thead>\n",
       "    <tr style=\"text-align: right;\">\n",
       "      <th></th>\n",
       "      <th>track_id</th>\n",
       "      <th>title</th>\n",
       "      <th>artist_id</th>\n",
       "      <th>artist</th>\n",
       "      <th>song_id</th>\n",
       "    </tr>\n",
       "  </thead>\n",
       "  <tbody>\n",
       "    <tr>\n",
       "      <th>0</th>\n",
       "      <td>TRBGPHG12903CE6CC3</td>\n",
       "      <td>The Law Gonna Step On You (1931)</td>\n",
       "      <td>ARFXRHR1187B98FF09</td>\n",
       "      <td>Bo Carter</td>\n",
       "      <td>SORUUEV12A58A7B9FA</td>\n",
       "    </tr>\n",
       "    <tr>\n",
       "      <th>1</th>\n",
       "      <td>TRBGPYK128F42796E1</td>\n",
       "      <td>Des Vôtres</td>\n",
       "      <td>ARQDTOS12086C11443</td>\n",
       "      <td>Fredericks_ Goldman_ Jones</td>\n",
       "      <td>SOEZDOH12A8AE4787A</td>\n",
       "    </tr>\n",
       "    <tr>\n",
       "      <th>2</th>\n",
       "      <td>TRBGPJP128E078ED20</td>\n",
       "      <td>Crazy</td>\n",
       "      <td>AR12F2S1187FB56EEF</td>\n",
       "      <td>Aerosmith</td>\n",
       "      <td>SOOOWIC12A6701C7E5</td>\n",
       "    </tr>\n",
       "    <tr>\n",
       "      <th>3</th>\n",
       "      <td>TRBGPXH128F428C912</td>\n",
       "      <td>Chiove</td>\n",
       "      <td>AR7LIU31187B98EF11</td>\n",
       "      <td>Rita Chiarelli</td>\n",
       "      <td>SOLSWBA12A8C141B9A</td>\n",
       "    </tr>\n",
       "    <tr>\n",
       "      <th>4</th>\n",
       "      <td>TRBGPSV12903CA9C25</td>\n",
       "      <td>Rude Bwoy Love (feat. Dj Fly_ Dj Traxx_ T.Will...</td>\n",
       "      <td>ARPGCHN1187B9A2831</td>\n",
       "      <td>Nicky B_ Naëlle</td>\n",
       "      <td>SOHNJQL12AB018CC5C</td>\n",
       "    </tr>\n",
       "  </tbody>\n",
       "</table>\n",
       "</div>"
      ],
      "text/plain": [
       "             track_id                                              title  \\\n",
       "0  TRBGPHG12903CE6CC3                   The Law Gonna Step On You (1931)   \n",
       "1  TRBGPYK128F42796E1                                         Des Vôtres   \n",
       "2  TRBGPJP128E078ED20                                              Crazy   \n",
       "3  TRBGPXH128F428C912                                             Chiove   \n",
       "4  TRBGPSV12903CA9C25  Rude Bwoy Love (feat. Dj Fly_ Dj Traxx_ T.Will...   \n",
       "\n",
       "            artist_id                      artist             song_id  \n",
       "0  ARFXRHR1187B98FF09                   Bo Carter  SORUUEV12A58A7B9FA  \n",
       "1  ARQDTOS12086C11443  Fredericks_ Goldman_ Jones  SOEZDOH12A8AE4787A  \n",
       "2  AR12F2S1187FB56EEF                   Aerosmith  SOOOWIC12A6701C7E5  \n",
       "3  AR7LIU31187B98EF11              Rita Chiarelli  SOLSWBA12A8C141B9A  \n",
       "4  ARPGCHN1187B9A2831             Nicky B_ Naëlle  SOHNJQL12AB018CC5C  "
      ]
     },
     "execution_count": 24,
     "metadata": {},
     "output_type": "execute_result"
    }
   ],
   "source": [
    "titles.head()"
   ]
  },
  {
   "cell_type": "code",
   "execution_count": 25,
   "metadata": {
    "collapsed": false
   },
   "outputs": [
    {
     "data": {
      "text/plain": [
       "0                     The Law Gonna Step On You (1931)\n",
       "1                                           Des Vôtres\n",
       "2                                                Crazy\n",
       "3                                               Chiove\n",
       "4    Rude Bwoy Love (feat. Dj Fly_ Dj Traxx_ T.Will...\n",
       "5                                     Down South Blues\n",
       "6                                               Apagon\n",
       "7                        It Came Upon A Midnight Clear\n",
       "8                                              Doin It\n",
       "9                                 Looking In Your Eyes\n",
       "Name: title, dtype: object"
      ]
     },
     "execution_count": 25,
     "metadata": {},
     "output_type": "execute_result"
    }
   ],
   "source": [
    "titles[\"title\"] = titles[\"title\"].str.replace(\",\",\"\")\n",
    "titles[\"title\"] = titles[\"title\"].str.replace(\"'\", \"\")\n",
    "titles[\"title\"].head(10)"
   ]
  },
  {
   "cell_type": "code",
   "execution_count": 26,
   "metadata": {
    "collapsed": false
   },
   "outputs": [
    {
     "data": {
      "text/plain": [
       "0                     Bo Carter\n",
       "1    Fredericks_ Goldman_ Jones\n",
       "2                     Aerosmith\n",
       "3                Rita Chiarelli\n",
       "4               Nicky B_ Naëlle\n",
       "Name: artist, dtype: object"
      ]
     },
     "execution_count": 26,
     "metadata": {},
     "output_type": "execute_result"
    }
   ],
   "source": [
    "titles[\"artist\"] = titles[\"artist\"].str.replace(\",\",\"\")\n",
    "titles[\"artist\"] = titles[\"artist\"].str.replace(\"'\", \"\")\n",
    "titles[\"artist\"].head()"
   ]
  },
  {
   "cell_type": "code",
   "execution_count": 27,
   "metadata": {
    "collapsed": true
   },
   "outputs": [],
   "source": [
    "names = titles[[\"track_id\", \"title\", \"artist\"]]"
   ]
  },
  {
   "cell_type": "code",
   "execution_count": 28,
   "metadata": {
    "collapsed": false
   },
   "outputs": [
    {
     "data": {
      "text/html": [
       "<div>\n",
       "<table border=\"1\" class=\"dataframe\">\n",
       "  <thead>\n",
       "    <tr style=\"text-align: right;\">\n",
       "      <th></th>\n",
       "      <th>track_id</th>\n",
       "      <th>title</th>\n",
       "      <th>artist</th>\n",
       "    </tr>\n",
       "  </thead>\n",
       "  <tbody>\n",
       "    <tr>\n",
       "      <th>0</th>\n",
       "      <td>TRBGPHG12903CE6CC3</td>\n",
       "      <td>The Law Gonna Step On You (1931)</td>\n",
       "      <td>Bo Carter</td>\n",
       "    </tr>\n",
       "    <tr>\n",
       "      <th>1</th>\n",
       "      <td>TRBGPYK128F42796E1</td>\n",
       "      <td>Des Vôtres</td>\n",
       "      <td>Fredericks_ Goldman_ Jones</td>\n",
       "    </tr>\n",
       "    <tr>\n",
       "      <th>2</th>\n",
       "      <td>TRBGPJP128E078ED20</td>\n",
       "      <td>Crazy</td>\n",
       "      <td>Aerosmith</td>\n",
       "    </tr>\n",
       "    <tr>\n",
       "      <th>3</th>\n",
       "      <td>TRBGPXH128F428C912</td>\n",
       "      <td>Chiove</td>\n",
       "      <td>Rita Chiarelli</td>\n",
       "    </tr>\n",
       "    <tr>\n",
       "      <th>4</th>\n",
       "      <td>TRBGPSV12903CA9C25</td>\n",
       "      <td>Rude Bwoy Love (feat. Dj Fly_ Dj Traxx_ T.Will...</td>\n",
       "      <td>Nicky B_ Naëlle</td>\n",
       "    </tr>\n",
       "  </tbody>\n",
       "</table>\n",
       "</div>"
      ],
      "text/plain": [
       "             track_id                                              title  \\\n",
       "0  TRBGPHG12903CE6CC3                   The Law Gonna Step On You (1931)   \n",
       "1  TRBGPYK128F42796E1                                         Des Vôtres   \n",
       "2  TRBGPJP128E078ED20                                              Crazy   \n",
       "3  TRBGPXH128F428C912                                             Chiove   \n",
       "4  TRBGPSV12903CA9C25  Rude Bwoy Love (feat. Dj Fly_ Dj Traxx_ T.Will...   \n",
       "\n",
       "                       artist  \n",
       "0                   Bo Carter  \n",
       "1  Fredericks_ Goldman_ Jones  \n",
       "2                   Aerosmith  \n",
       "3              Rita Chiarelli  \n",
       "4             Nicky B_ Naëlle  "
      ]
     },
     "execution_count": 28,
     "metadata": {},
     "output_type": "execute_result"
    }
   ],
   "source": [
    "names.head()"
   ]
  },
  {
   "cell_type": "markdown",
   "metadata": {},
   "source": [
    "##Make final df of track info for recommendations"
   ]
  },
  {
   "cell_type": "code",
   "execution_count": 29,
   "metadata": {
    "collapsed": true
   },
   "outputs": [],
   "source": [
    "trackinfo = pd.merge(names, trackclusterrecs, how='outer', on=\"track_id\")"
   ]
  },
  {
   "cell_type": "code",
   "execution_count": 30,
   "metadata": {
    "collapsed": false
   },
   "outputs": [
    {
     "data": {
      "text/html": [
       "<div>\n",
       "<table border=\"1\" class=\"dataframe\">\n",
       "  <thead>\n",
       "    <tr style=\"text-align: right;\">\n",
       "      <th></th>\n",
       "      <th>track_id</th>\n",
       "      <th>title</th>\n",
       "      <th>artist</th>\n",
       "      <th>recommend</th>\n",
       "      <th>cluster</th>\n",
       "    </tr>\n",
       "  </thead>\n",
       "  <tbody>\n",
       "    <tr>\n",
       "      <th>0</th>\n",
       "      <td>TRBGPHG12903CE6CC3</td>\n",
       "      <td>The Law Gonna Step On You (1931)</td>\n",
       "      <td>Bo Carter</td>\n",
       "      <td>0</td>\n",
       "      <td>23</td>\n",
       "    </tr>\n",
       "    <tr>\n",
       "      <th>1</th>\n",
       "      <td>TRBGPYK128F42796E1</td>\n",
       "      <td>Des Vôtres</td>\n",
       "      <td>Fredericks_ Goldman_ Jones</td>\n",
       "      <td>0</td>\n",
       "      <td>37</td>\n",
       "    </tr>\n",
       "    <tr>\n",
       "      <th>2</th>\n",
       "      <td>TRBGPJP128E078ED20</td>\n",
       "      <td>Crazy</td>\n",
       "      <td>Aerosmith</td>\n",
       "      <td>1</td>\n",
       "      <td>4</td>\n",
       "    </tr>\n",
       "    <tr>\n",
       "      <th>3</th>\n",
       "      <td>TRBGPXH128F428C912</td>\n",
       "      <td>Chiove</td>\n",
       "      <td>Rita Chiarelli</td>\n",
       "      <td>0</td>\n",
       "      <td>13</td>\n",
       "    </tr>\n",
       "    <tr>\n",
       "      <th>4</th>\n",
       "      <td>TRBGPSV12903CA9C25</td>\n",
       "      <td>Rude Bwoy Love (feat. Dj Fly_ Dj Traxx_ T.Will...</td>\n",
       "      <td>Nicky B_ Naëlle</td>\n",
       "      <td>1</td>\n",
       "      <td>38</td>\n",
       "    </tr>\n",
       "  </tbody>\n",
       "</table>\n",
       "</div>"
      ],
      "text/plain": [
       "             track_id                                              title  \\\n",
       "0  TRBGPHG12903CE6CC3                   The Law Gonna Step On You (1931)   \n",
       "1  TRBGPYK128F42796E1                                         Des Vôtres   \n",
       "2  TRBGPJP128E078ED20                                              Crazy   \n",
       "3  TRBGPXH128F428C912                                             Chiove   \n",
       "4  TRBGPSV12903CA9C25  Rude Bwoy Love (feat. Dj Fly_ Dj Traxx_ T.Will...   \n",
       "\n",
       "                       artist  recommend  cluster  \n",
       "0                   Bo Carter          0       23  \n",
       "1  Fredericks_ Goldman_ Jones          0       37  \n",
       "2                   Aerosmith          1        4  \n",
       "3              Rita Chiarelli          0       13  \n",
       "4             Nicky B_ Naëlle          1       38  "
      ]
     },
     "execution_count": 30,
     "metadata": {},
     "output_type": "execute_result"
    }
   ],
   "source": [
    "trackinfo.head()"
   ]
  },
  {
   "cell_type": "code",
   "execution_count": 31,
   "metadata": {
    "collapsed": true
   },
   "outputs": [],
   "source": [
    "with open(basedir+\"trackinfo.csv\", 'w') as twf:\n",
    "    twf.write(trackinfo.to_csv())"
   ]
  },
  {
   "cell_type": "code",
   "execution_count": null,
   "metadata": {
    "collapsed": true
   },
   "outputs": [],
   "source": []
  }
 ],
 "metadata": {
  "kernelspec": {
   "display_name": "Python 2",
   "language": "python",
   "name": "python2"
  },
  "language_info": {
   "codemirror_mode": {
    "name": "ipython",
    "version": 2
   },
   "file_extension": ".py",
   "mimetype": "text/x-python",
   "name": "python",
   "nbconvert_exporter": "python",
   "pygments_lexer": "ipython2",
   "version": "2.7.6"
  }
 },
 "nbformat": 4,
 "nbformat_minor": 0
}

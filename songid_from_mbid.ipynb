{
 "cells": [
  {
   "cell_type": "code",
   "execution_count": 1,
   "metadata": {
    "collapsed": true
   },
   "outputs": [],
   "source": [
    "import requests\n",
    "import time\n",
    "import pickle\n",
    "from pprint import pprint"
   ]
  },
  {
   "cell_type": "markdown",
   "metadata": {},
   "source": [
    "##Check song  profile to make sure song ids match song ids in MSD\n",
    "'caue the track ids don't seem to carry over  \n",
    "(They do, yay! Well, except for the known mismatches, probably. Or at least I'm going to assume there are no other mismatches until I discover otherwise)  \n",
    "```\n",
    "http://developer.echonest.com/api/v4/song/profile?api_key=API_KEY&format=json&id=SOEBCBI12AF72A154F\n",
    "```"
   ]
  },
  {
   "cell_type": "code",
   "execution_count": 47,
   "metadata": {
    "collapsed": false
   },
   "outputs": [],
   "source": [
    "with open(\"echonestapi2.txt\", 'r') as ena:\n",
    "    api_key = ena.read().strip()"
   ]
  },
  {
   "cell_type": "code",
   "execution_count": 48,
   "metadata": {
    "collapsed": true
   },
   "outputs": [],
   "source": [
    "rate_time = 0.501 #3.1"
   ]
  },
  {
   "cell_type": "code",
   "execution_count": 3,
   "metadata": {
    "collapsed": true
   },
   "outputs": [],
   "source": [
    "r = requests.get('http://developer.echonest.com/api/v4/track/profile?api_key='+api_key+'&id=musicbrainz:track:4bfce89c-b1e6-407f-91ba-e13a81441a7d')"
   ]
  },
  {
   "cell_type": "code",
   "execution_count": 4,
   "metadata": {
    "collapsed": false
   },
   "outputs": [
    {
     "name": "stdout",
     "output_type": "stream",
     "text": [
      "{u'response': {u'status': {u'code': 0,\n",
      "                           u'message': u'Success',\n",
      "                           u'version': u'4.2'},\n",
      "               u'track': {u'artist': u'Hammock',\n",
      "                          u'catalog': u'musicbrainz',\n",
      "                          u'foreign_id': u'musicbrainz:track:4bfce89c-b1e6-407f-91ba-e13a81441a7d',\n",
      "                          u'foreign_ids': [u'musicbrainz:track:4bfce89c-b1e6-407f-91ba-e13a81441a7d'],\n",
      "                          u'foreign_release_id': u'musicbrainz:release:9f2cecb3-ca9a-4d29-8bcd-a692f32e2f11',\n",
      "                          u'foreign_release_ids': [u'musicbrainz:release:9f2cecb3-ca9a-4d29-8bcd-a692f32e2f11'],\n",
      "                          u'id': u'TRRYMSJ13B7BF722BF',\n",
      "                          u'release': u'More Dead Than Alive (Get Away From the Medicine)',\n",
      "                          u'song_id': u'SOCGKJR12A58A79D30',\n",
      "                          u'status': u'complete',\n",
      "                          u'title': u'I Can Almost See You'}}}\n"
     ]
    }
   ],
   "source": [
    "rdata = r.json()\n",
    "pprint(rdata)"
   ]
  },
  {
   "cell_type": "code",
   "execution_count": 5,
   "metadata": {
    "collapsed": false
   },
   "outputs": [
    {
     "name": "stdout",
     "output_type": "stream",
     "text": [
      "u'Success'\n"
     ]
    }
   ],
   "source": [
    "pprint(rdata[\"response\"][\"status\"][\"message\"])"
   ]
  },
  {
   "cell_type": "code",
   "execution_count": 8,
   "metadata": {
    "collapsed": false
   },
   "outputs": [
    {
     "name": "stdout",
     "output_type": "stream",
     "text": [
      "{u'artist': u'Hammock',\n",
      " u'catalog': u'musicbrainz',\n",
      " u'foreign_id': u'musicbrainz:track:4bfce89c-b1e6-407f-91ba-e13a81441a7d',\n",
      " u'foreign_ids': [u'musicbrainz:track:4bfce89c-b1e6-407f-91ba-e13a81441a7d'],\n",
      " u'foreign_release_id': u'musicbrainz:release:9f2cecb3-ca9a-4d29-8bcd-a692f32e2f11',\n",
      " u'foreign_release_ids': [u'musicbrainz:release:9f2cecb3-ca9a-4d29-8bcd-a692f32e2f11'],\n",
      " u'id': u'TRRYMSJ13B7BF722BF',\n",
      " u'release': u'More Dead Than Alive (Get Away From the Medicine)',\n",
      " u'song_id': u'SOCGKJR12A58A79D30',\n",
      " u'status': u'complete',\n",
      " u'title': u'I Can Almost See You'}\n",
      "u'SOCGKJR12A58A79D30'\n"
     ]
    }
   ],
   "source": [
    "pprint(rdata[\"response\"][\"track\"])\n",
    "pprint(rdata[\"response\"][\"track\"][\"song_id\"])"
   ]
  },
  {
   "cell_type": "code",
   "execution_count": 9,
   "metadata": {
    "collapsed": true
   },
   "outputs": [],
   "source": [
    "#mbid_songs = {}"
   ]
  },
  {
   "cell_type": "code",
   "execution_count": null,
   "metadata": {
    "collapsed": false
   },
   "outputs": [
    {
     "name": "stdout",
     "output_type": "stream",
     "text": [
      "1108\n",
      "1700\n",
      "410\n",
      "926\n",
      "1535\n",
      "964\n",
      "1454\n",
      "1741\n",
      "571\n",
      "1826\n",
      "858\n",
      "540\n",
      "1431\n",
      "746\n",
      "2166\n",
      "1515 1519 1521 1523 1524 1525 1526 1527 1528 1530 1533 1534 1535 1536 1537 1538 1539 1540 1541 1543 1544 1545 1547 1549 1550 1552 1553 1554 1555 1556 1558 1559 1560 1562 1563 1564 1565 1566 1567 1568 1569 1570 1571 1572 1573 1574 1575 1576 1578 1579 1581 1582 1583 1584 1586 1587 1588 1589 1590 1591 1592 1593 1594 1595 1596 1597 1598 1599 1600 1601 1602 1604 1605 1606 1607 1608 1609 1610 1611 1612 1613 1614 1615 1616 1617 1618 1619 1622 1623 1624 1625 1626 1628 1629 1630 1632 1633 1634 1635 1636 1638 1639 1640 1642 1643 1644 1645 1646 1647 1648 1649 1650 1651 1652 1653 1654 1655 1656 1657 1658 1661 1662 1663 1664 1666 1667 1668 1669 1670 1671 1672 1673 1674 1675 1676 1677 1680 1681 1683 1684 1685 1686 1687 1688 1689 1690 1692 1694 1695 1696 1697 1698 1699 1700 1701 1702 1703 1704 1705 1706 1707 1709 1710 1711 1712 1713 1715 1716 1717 1718 1719 1720 1722 1723 1724 1726 1727 1728 1729 1730 1731 1732 1733 1734 1736 1737 1738 1740 1741 1743 1744 1745 1746 1747 1748 1749 1750 1751 1752 1754 1755 1756 1759 1760 1761 1762 1763 1764 1765 1766 1767 1768 1769 1770 1771 1772 1773 1774 1776 1777 1778 1779 1780 1781 1784 1785 1786 1787 1788 1789 1790 1791 1792 1793 1794 1796 1797 1798 1800 1801 1803 1805 1806 1807 1808 1809 1810 1811 1812 1813 1814 1815 1816 1817 1818 1819 1820 1821 1822 1823 1824 1825 1826 1829 1830 1831 1832 1833 1835 1836 1837 1838 1839 1840 1841 1842 1843 1844 1845 1846 1848 1849 1850 1851 1852 1853 1854 1855 1856 1857 1859 1860 1861 1863 1864 1866 1867 "
     ]
    }
   ],
   "source": [
    "linecount = 0\n",
    "with open(\"mbids_1.txt\", 'r') as mf:\n",
    "    t0 = time.time()\n",
    "    for line in mf:\n",
    "        linecount += 1\n",
    "        print len(line.split())\n",
    "        t1 = time.time()\n",
    "        count = 0\n",
    "        for mbid in line.split():\n",
    "            if mbid in mbid_songs:\n",
    "                #print \"continuing\"\n",
    "                count += 1\n",
    "                continue\n",
    "            print count,\n",
    "            count += 1\n",
    "            moveon = False\n",
    "            while not moveon:\n",
    "                #print \"requesting\"\n",
    "                time.sleep(rate_time)\n",
    "                enr = requests.get('http://developer.echonest.com/api/v4/track/profile?api_key='+api_key+\n",
    "                                   '&id=musicbrainz:track:'+mbid)\n",
    "                enrj = enr.json()\n",
    "                status = enrj[\"response\"][\"status\"][\"message\"]\n",
    "                if status == \"Success\":\n",
    "                    #print \"true\"\n",
    "                    if \"song_id\" in enrj[\"response\"][\"track\"]:\n",
    "                        #print \"success\" #\"ids\", mbid\n",
    "                        mbid_songs[mbid] = enrj[\"response\"][\"track\"][\"song_id\"]\n",
    "                    moveon = True\n",
    "                elif status == \"The Identifier specified does not exist\":\n",
    "                    #echo nest does not have all mbids mapped to tracks\n",
    "                    #print status #mbid, status\n",
    "                    mbid_songs[mbid] = \"\"\n",
    "                    moveon = True\n",
    "                else:\n",
    "                    print status\n",
    "                    time.sleep(3)\n",
    "        t2 = time.time()\n",
    "        if t2-t1 > 0.5:\n",
    "            print \"\\nline seconds:\", t2-t1,\n",
    "            print \"total seconds:\", t2-t0, \n",
    "            print \"total lines:\", linecount     "
   ]
  },
  {
   "cell_type": "code",
   "execution_count": 33,
   "metadata": {
    "collapsed": false
   },
   "outputs": [],
   "source": [
    "#print mbid_songs"
   ]
  },
  {
   "cell_type": "code",
   "execution_count": 39,
   "metadata": {
    "collapsed": false
   },
   "outputs": [
    {
     "name": "stdout",
     "output_type": "stream",
     "text": [
      " 16078\n"
     ]
    }
   ],
   "source": [
    "print len(mbid_songs.keys())"
   ]
  },
  {
   "cell_type": "code",
   "execution_count": 21,
   "metadata": {
    "collapsed": true
   },
   "outputs": [],
   "source": [
    "def pickle_stuff(filename, data):\n",
    "    ''' save file '''\n",
    "    with open(filename, 'w') as picklefile:\n",
    "        pickle.dump(data, picklefile)\n",
    "\n",
    "def unpickle(filename):\n",
    "    ''' open file '''\n",
    "    with open(filename, 'r') as picklefile:\n",
    "        old_data = pickle.load(picklefile)\n",
    "    return old_data"
   ]
  },
  {
   "cell_type": "code",
   "execution_count": 40,
   "metadata": {
    "collapsed": true
   },
   "outputs": [],
   "source": [
    "pickle_stuff(\"mbid_song_dict.pkl\", mbid_songs)"
   ]
  },
  {
   "cell_type": "code",
   "execution_count": 41,
   "metadata": {
    "collapsed": false
   },
   "outputs": [],
   "source": [
    "with open(\"mbid_songs.csv\", 'w') as msf:\n",
    "    for k, v in mbid_songs.iteritems():\n",
    "        msf.write(k+\",\"+v+\"\\n\")"
   ]
  },
  {
   "cell_type": "code",
   "execution_count": null,
   "metadata": {
    "collapsed": true
   },
   "outputs": [],
   "source": []
  }
 ],
 "metadata": {
  "kernelspec": {
   "display_name": "Python 2",
   "language": "python",
   "name": "python2"
  },
  "language_info": {
   "codemirror_mode": {
    "name": "ipython",
    "version": 2
   },
   "file_extension": ".py",
   "mimetype": "text/x-python",
   "name": "python",
   "nbconvert_exporter": "python",
   "pygments_lexer": "ipython2",
   "version": "2.7.6"
  }
 },
 "nbformat": 4,
 "nbformat_minor": 0
}

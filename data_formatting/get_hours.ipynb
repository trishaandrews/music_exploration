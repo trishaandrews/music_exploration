{
 "cells": [
  {
   "cell_type": "code",
   "execution_count": 1,
   "metadata": {
    "collapsed": true
   },
   "outputs": [],
   "source": [
    "import re\n",
    "import time\n",
    "import pickle\n",
    "\n",
    "import pandas as pd\n",
    "\n",
    "from datetime import datetime"
   ]
  },
  {
   "cell_type": "code",
   "execution_count": 25,
   "metadata": {
    "collapsed": true
   },
   "outputs": [],
   "source": [
    "time_listens = []"
   ]
  },
  {
   "cell_type": "code",
   "execution_count": 26,
   "metadata": {
    "collapsed": false
   },
   "outputs": [],
   "source": [
    "with open(\"time_mbids.txt\", 'r') as tmf:\n",
    "    for line in tmf:\n",
    "        user_listens = []\n",
    "        line = line.strip()\n",
    "        pass0 = re.sub(r'[\\'u]','',line) \n",
    "        pass1 = re.sub(r'[^A-Za-z0-9,:\\-\\s)]','',pass0) \n",
    "        pass2 = re.sub(r'Ag', 'Aug', pass1)\n",
    "        pass2 = re.sub(r'Jl', 'Jul', pass2)\n",
    "        pass2 = re.sub(r'Jn', 'Jun', pass2)\n",
    "        tuple_segs = pass2.split(\", \")\n",
    "        segs = []\n",
    "        for tus in tuple_segs:\n",
    "            ts = tus.split(\")\")\n",
    "            for t in ts:  \n",
    "                if t != \"\":\n",
    "                    segs.append(t.strip())\n",
    "        #print segs[:10]\n",
    "        #print len(segs)\n",
    "        for i in xrange(0,len(segs)-4, 4):\n",
    "            listen = (segs[i], segs[i+1], segs[i+2], segs[i+3])\n",
    "            user_listens.append(listen)\n",
    "        time_listens.append(user_listens)\n",
    "        #print user_listens[:2]\n",
    "        #print user_listens[-2:]\n",
    "        #break"
   ]
  },
  {
   "cell_type": "code",
   "execution_count": 27,
   "metadata": {
    "collapsed": false
   },
   "outputs": [
    {
     "name": "stdout",
     "output_type": "stream",
     "text": [
      "9335\n"
     ]
    }
   ],
   "source": [
    "print len(time_listens)"
   ]
  },
  {
   "cell_type": "code",
   "execution_count": 28,
   "metadata": {
    "collapsed": true
   },
   "outputs": [],
   "source": [
    "mbid_songs = {}\n",
    "with open(\"mbid_songs.csv\", 'r') as msf:\n",
    "    for line in msf:\n",
    "        line = line.strip()\n",
    "        segs = line.split(\",\")\n",
    "        key = segs[0]\n",
    "        track = segs[1]\n",
    "        mbid_songs[key] = track"
   ]
  },
  {
   "cell_type": "code",
   "execution_count": 29,
   "metadata": {
    "collapsed": false
   },
   "outputs": [],
   "source": [
    "#listen = (segs[i], segs[i+1], segs[i+2], segs[i+3])\n",
    "#listen = (date, time, unixtime, mbid)\n",
    "time_data = []\n",
    "count = 0\n",
    "for user in time_listens[:6424]:\n",
    "    user_data = []\n",
    "    for listen in user:\n",
    "        hour = int(listen[1].split(\":\")[0])\n",
    "        date = datetime.strptime(listen[0], '%d %b %Y')\n",
    "        unix_date = datetime.fromtimestamp(int(listen[2]))#.strftime('%Y-%m-%d %H:%M:%S')\n",
    "        song = mbid_songs[listen[3]]\n",
    "        if song != \"\":\n",
    "            user_data.append((date.weekday(), hour, unix_date.weekday(), unix_date.hour, song))\n",
    "    time_data.append(user_data)"
   ]
  },
  {
   "cell_type": "code",
   "execution_count": 30,
   "metadata": {
    "collapsed": false
   },
   "outputs": [
    {
     "name": "stdout",
     "output_type": "stream",
     "text": [
      "[(3, 12, 3, 8, 'SODZHBJ1311AFE77FE'), (3, 12, 3, 8, 'SOOYCSZ132C0809D8F')] \n",
      "[(3, 0, 2, 19, 'SOKOGAV144B8052AF9'), (3, 0, 2, 19, 'SOFTXXS12AB0179F6A')]\n",
      "1579\n",
      "1496\n"
     ]
    }
   ],
   "source": [
    "print time_data[0][-2:], \"\\n\", time_data[9][-2:]\n",
    "print len(time_data[0])\n",
    "print len(time_data[1])"
   ]
  },
  {
   "cell_type": "code",
   "execution_count": 31,
   "metadata": {
    "collapsed": false
   },
   "outputs": [],
   "source": [
    "with open(\"timedata_songs.txt\", 'w') as tsf:\n",
    "    for user in time_data:\n",
    "        for listen in user:\n",
    "            outstr = \",\".join(str(l) for l in listen)\n",
    "            outstr += \" \" #space separate listen instances\n",
    "            tsf.write(outstr)\n",
    "        tsf.write(\"\\n\") #one line per user as usual"
   ]
  },
  {
   "cell_type": "code",
   "execution_count": 9,
   "metadata": {
    "collapsed": true
   },
   "outputs": [],
   "source": [
    "def unpickle(filename):\n",
    "    ''' open file '''\n",
    "    with open(filename, 'r') as picklefile:\n",
    "        old_data = pickle.load(picklefile)\n",
    "    return old_data"
   ]
  },
  {
   "cell_type": "code",
   "execution_count": 10,
   "metadata": {
    "collapsed": true
   },
   "outputs": [],
   "source": [
    "basedir = \"./pkls/\""
   ]
  },
  {
   "cell_type": "code",
   "execution_count": 11,
   "metadata": {
    "collapsed": false
   },
   "outputs": [],
   "source": [
    "kmeans = unpickle(basedir + \"kmeans40.pkl\")"
   ]
  },
  {
   "cell_type": "code",
   "execution_count": 12,
   "metadata": {
    "collapsed": false
   },
   "outputs": [],
   "source": [
    "with open(basedir + \"zscore_df_csv.csv\", 'r') as tf:\n",
    "    tracks = pd.read_csv(tf, index_col=0)"
   ]
  },
  {
   "cell_type": "code",
   "execution_count": 13,
   "metadata": {
    "collapsed": true
   },
   "outputs": [],
   "source": [
    "with open(basedir + \"titles_csv3.csv\", 'r') as tf:\n",
    "    titles = pd.read_csv(tf, index_col=0)"
   ]
  },
  {
   "cell_type": "code",
   "execution_count": 14,
   "metadata": {
    "collapsed": true
   },
   "outputs": [],
   "source": [
    "with open(\"mismatch_tracks.txt\", 'r') as mtf:\n",
    "    bad_tracks = mtf.read().split()\n",
    "btset = set(bad_tracks)"
   ]
  },
  {
   "cell_type": "code",
   "execution_count": 32,
   "metadata": {
    "collapsed": false
   },
   "outputs": [
    {
     "name": "stdout",
     "output_type": "stream",
     "text": [
      "predict time: 82.2838449478\n"
     ]
    }
   ],
   "source": [
    "#listen = (date.weekday(), hour, unix_date.weekday(), unix_date.hour, song)\n",
    "#listen = (day, hour, unix_day, unix_hour, song)\n",
    "timedata_clusters = []\n",
    "t1 = time.time()\n",
    "known_songs = set(titles.song_id.values)\n",
    "for user in time_data:\n",
    "    new_listens = []\n",
    "    for listen in user:\n",
    "        song = listen[4]\n",
    "        if song in known_songs:\n",
    "            trackmatches = titles[titles[\"song_id\"] == song]\n",
    "            trackmatches = trackmatches[\"track_id\"].values #could be more than one\n",
    "            for tm in trackmatches:\n",
    "                if tm not in btset:\n",
    "                    track = tracks[tracks[\"track_id\"] == tm]\n",
    "                    track = track.iloc[:,1:] #leave out track_id\n",
    "                    cluster = kmeans.predict(track)\n",
    "                    listen_cluster = (listen[0],listen[1],listen[2],listen[3],cluster[0])\n",
    "                    new_listens.append(listen_cluster)\n",
    "    timedata_clusters.append(new_listens)\n",
    "print \"predict time:\", time.time()-t1"
   ]
  },
  {
   "cell_type": "code",
   "execution_count": 33,
   "metadata": {
    "collapsed": false
   },
   "outputs": [
    {
     "name": "stdout",
     "output_type": "stream",
     "text": [
      "6424\n",
      "11\n"
     ]
    }
   ],
   "source": [
    "print len(timedata_clusters)\n",
    "print len(timedata_clusters[8])"
   ]
  },
  {
   "cell_type": "code",
   "execution_count": 58,
   "metadata": {
    "collapsed": false
   },
   "outputs": [
    {
     "name": "stdout",
     "output_type": "stream",
     "text": [
      "220\n"
     ]
    }
   ],
   "source": [
    "limit = 20\n",
    "listencount = 0\n",
    "for i in range(len(timedata_clusters)):\n",
    "    if len(timedata_clusters[i]) >= limit:\n",
    "        listencount += 1\n",
    "print listencount"
   ]
  },
  {
   "cell_type": "code",
   "execution_count": 36,
   "metadata": {
    "collapsed": false
   },
   "outputs": [],
   "source": [
    "with open(\"timedata_clusters.txt\", 'w') as tsf:\n",
    "    for user in timedata_clusters:\n",
    "        for listen in user:\n",
    "            outstr = \",\".join(str(l) for l in listen)\n",
    "            outstr += \" \" #space separate listen instances\n",
    "            tsf.write(outstr)\n",
    "        tsf.write(\"\\n\") #one line per user as usual"
   ]
  },
  {
   "cell_type": "code",
   "execution_count": 59,
   "metadata": {
    "collapsed": false
   },
   "outputs": [],
   "source": [
    "#listen = (day, hour, unix_day, unix_hour, cluster)\n",
    "limit = 20\n",
    "user_hourlistens = []\n",
    "num_hours = 24\n",
    "for user in timedata_clusters:\n",
    "    if len(user) >= limit:#user has at least 20 listens\n",
    "        hourlistens = {}#[[] for h in range(num_hours)]\n",
    "        for listen in user:\n",
    "            if listen[1] in hourlistens:\n",
    "                hourlistens[listen[1]].append(listen[4])\n",
    "            else:\n",
    "                hourlistens[listen[1]] = [listen[4]]\n",
    "        if hourlistens:\n",
    "            user_hourlistens.append(hourlistens)\n",
    "    "
   ]
  },
  {
   "cell_type": "code",
   "execution_count": 61,
   "metadata": {
    "collapsed": false
   },
   "outputs": [
    {
     "name": "stdout",
     "output_type": "stream",
     "text": [
      "220\n"
     ]
    }
   ],
   "source": [
    "print len(user_hourlistens)"
   ]
  },
  {
   "cell_type": "code",
   "execution_count": 60,
   "metadata": {
    "collapsed": false
   },
   "outputs": [
    {
     "name": "stdout",
     "output_type": "stream",
     "text": [
      "[{1: [36], 2: [36, 36, 34], 3: [36], 4: [36], 6: [36], 9: [36, 36, 3], 11: [26], 12: [3], 13: [36], 14: [36, 36, 32], 18: [36, 37, 27], 19: [36]}, {0: [8], 3: [27], 14: [5, 2], 15: [2, 34], 16: [34], 18: [34, 34, 34, 34, 34, 34, 34, 34, 34, 34, 34, 34, 34], 19: [34, 34]}, {6: [5], 7: [25, 5, 5, 5, 5], 8: [5, 25, 5, 5], 10: [5], 14: [5], 15: [5], 16: [5, 5], 17: [5, 5], 18: [5, 5, 5, 5, 5], 19: [5]}, {0: [5, 2], 1: [2], 2: [26], 3: [2, 2], 9: [5, 2], 11: [26], 12: [2], 13: [3, 5], 16: [34], 17: [27, 2, 5, 2, 26], 20: [5, 5], 22: [5], 23: [5, 34, 34]}, {1: [26], 2: [15], 3: [15], 4: [27], 5: [15, 27, 15], 7: [15, 15], 8: [15, 15, 15, 15, 2], 9: [15], 10: [15, 15], 15: [15], 19: [14], 23: [15]}, {7: [26], 8: [17], 9: [26, 26, 26, 17, 2], 10: [17, 5, 26], 11: [26, 17, 26, 17, 26], 12: [26], 13: [26], 14: [26], 15: [26], 16: [26, 26], 17: [26, 26], 18: [26, 17], 19: [17, 2], 21: [26, 26]}, {1: [34, 34, 34, 34], 2: [34, 34, 34, 34, 34], 3: [34], 5: [34, 34, 34, 34], 16: [34, 34], 17: [34, 34], 18: [34, 34], 19: [34, 34], 20: [34, 34], 21: [34], 23: [34, 34, 34, 34]}, {2: [26, 26], 3: [26, 26], 4: [26, 27, 27, 27, 27], 9: [3], 10: [26, 16], 12: [26], 13: [26, 16, 16], 14: [16, 16], 17: [26], 18: [16], 19: [26, 16, 16, 16, 26, 26, 26], 22: [26, 27]}, {8: [2, 2, 27, 27], 9: [2, 2, 2, 2, 33, 33], 10: [33, 2, 2], 11: [33], 12: [27], 13: [27], 15: [15], 19: [2, 2, 14, 14], 20: [2, 2]}, {0: [2, 2, 26], 2: [2, 3, 3], 3: [2, 2, 2], 4: [27], 16: [3], 18: [2, 2, 27, 3], 19: [5, 3], 20: [26, 26], 22: [26, 26], 23: [2, 2, 26]}, {6: [20, 2], 8: [4, 28], 10: [4], 11: [20], 13: [20], 14: [2], 18: [4, 4, 4, 4], 19: [20, 20, 20, 20, 30, 20], 20: [20, 20, 20, 20, 2, 20, 20, 20, 20, 20, 20, 20, 20, 20, 20, 20, 20, 20, 20]}, {0: [3, 3], 5: [26, 4, 4, 26, 26, 26, 26, 26, 26, 4, 3], 6: [3], 8: [2, 4, 4], 11: [34], 13: [3, 2, 14, 5, 2], 14: [2], 15: [2, 4, 4, 4, 4, 4, 4, 4], 16: [3, 14], 17: [4], 19: [4, 4, 14], 20: [4], 23: [2]}, {0: [36, 36, 36, 36, 36, 36], 1: [36, 36, 36, 36, 36, 36, 36, 36], 2: [36, 36, 36], 3: [36, 36], 4: [36, 36], 5: [36, 36, 36], 6: [36, 36], 7: [36, 36], 8: [36], 9: [36], 10: [36, 36], 11: [36, 36], 13: [36, 36], 14: [36, 36], 15: [36, 36, 36], 16: [36, 36], 17: [36, 36], 18: [36, 36, 36], 19: [36, 36, 36, 36, 36, 36], 20: [36, 36, 36], 21: [36, 36, 36, 36], 22: [36, 36, 36, 36], 23: [36, 36, 36, 36, 36]}, {0: [21], 1: [21, 21, 21, 21, 21, 21], 2: [21, 21, 21, 21, 21], 12: [21, 21, 21], 15: [21, 21, 21, 21, 21, 21, 21, 21], 16: [21], 20: [21, 21], 22: [21]}, {7: [2], 8: [2, 2, 2], 9: [2, 2, 2], 10: [2, 2], 11: [2], 16: [2, 2, 2], 17: [2, 2, 2, 2, 2, 2, 2, 2, 2], 18: [2], 19: [2, 2, 2], 20: [2, 2], 21: [2]}, {0: [26], 2: [26, 26], 6: [26], 12: [13, 13, 13, 26], 13: [26, 26, 14], 14: [26], 15: [27], 16: [26], 17: [3], 19: [14], 20: [14], 22: [26, 26], 23: [26, 26, 26]}, {0: [39, 2, 2, 2], 1: [2, 26, 26, 26], 19: [2, 30, 30], 20: [30, 30, 30, 37, 39], 23: [27, 30, 26, 26]}, {0: [2, 34], 1: [2, 2], 2: [2], 11: [34, 26], 13: [30], 14: [2, 2, 2], 15: [8], 16: [3, 34], 18: [2, 2, 2, 27], 19: [34], 21: [2], 22: [34]}, {0: [20], 3: [32, 29, 32, 32], 4: [32], 6: [29], 7: [29], 9: [32], 10: [2], 17: [21, 29, 36, 29], 18: [29, 32], 19: [3, 29, 32], 20: [32], 21: [2], 23: [29]}, {0: [2, 3], 2: [2, 5], 3: [3, 5, 2, 2, 5, 2, 3, 3, 2], 4: [3, 2, 21], 5: [3], 17: [5], 19: [5], 20: [2, 5, 2], 23: [5]}, {0: [34], 1: [2, 34], 4: [2, 2], 5: [2], 8: [20], 9: [2, 36, 2, 2], 12: [2, 20], 13: [34], 14: [34], 15: [2], 16: [34], 17: [2], 18: [34], 20: [2], 21: [34]}, {0: [26, 26, 26, 26, 26, 26, 26, 26, 26, 26, 26, 26, 26, 26], 1: [20, 26, 26, 26, 26], 3: [26, 26, 26]}, {1: [26, 26], 2: [5], 3: [5], 10: [16, 26], 13: [26, 2], 14: [5], 15: [3, 2, 26], 16: [2, 26, 26, 26], 17: [5, 2, 2], 18: [2], 19: [26], 20: [3, 2, 26, 26, 3], 21: [3, 26], 22: [26]}, {0: [21, 21, 21, 21], 1: [21, 21], 2: [21, 21], 3: [21, 21], 5: [21, 21], 6: [21, 21], 7: [21, 21], 8: [21], 10: [21], 14: [21], 15: [21, 21, 21, 21], 16: [21], 17: [21], 19: [25], 20: [21]}, {0: [3, 5, 2, 3], 5: [3], 10: [3], 11: [2, 3, 3, 2, 2, 2], 12: [3, 27, 2, 3, 5], 15: [2], 16: [2], 21: [3, 3], 23: [3, 3, 3]}, {0: [21, 5, 21], 2: [26, 5], 4: [28], 7: [26], 9: [2, 28], 11: [26], 14: [21], 15: [21, 5], 16: [14], 19: [21, 5, 5], 20: [21], 22: [5], 23: [26]}, {0: [21, 26], 1: [26, 27, 21, 26, 26, 27], 2: [27, 27, 27], 3: [27, 21, 27, 21], 6: [27], 11: [27, 21], 13: [27], 15: [27, 21], 16: [27], 19: [27, 26, 27, 27], 20: [27, 26, 26], 21: [27, 26, 27], 22: [21, 26, 27], 23: [26, 27, 26, 26, 27, 3]}, {1: [2, 26], 2: [26, 15], 3: [5], 4: [5, 15], 5: [2], 14: [26], 15: [15], 16: [26, 5, 5, 5, 2], 17: [15, 2], 18: [2], 19: [2, 26, 5], 21: [15], 22: [15, 15], 23: [2]}, {7: [12], 9: [12, 12], 10: [12, 12, 12], 11: [12, 12], 13: [12], 14: [12, 12, 12, 12, 12, 12, 12, 12, 12, 12, 12, 12, 12, 12, 12, 12, 12, 12, 12, 12], 15: [12], 17: [12]}, {5: [21, 21, 21, 21, 21, 21, 21, 21], 6: [21, 21, 21, 21, 21, 21, 21, 21, 21, 21], 7: [21, 21, 21, 21, 21, 21, 21, 21, 21, 21, 21], 8: [21, 21, 21, 21, 21, 21, 21, 21, 21, 21], 9: [21, 21, 21, 21, 21, 21, 21, 21, 21, 21], 10: [21, 21, 21, 21, 21, 21, 21], 11: [21], 12: [21, 21]}, {0: [5, 5], 1: [24], 2: [37], 14: [8, 8], 16: [24, 24, 24], 17: [24], 18: [5, 24], 19: [24, 24, 24, 24, 24, 37, 24, 24, 24, 24], 23: [24, 24]}, {0: [3, 3, 3, 3], 1: [3, 3], 2: [3, 3], 3: [5, 2, 5, 2], 4: [2], 8: [3], 17: [2, 5, 2, 3], 18: [5, 5, 2], 19: [5, 3, 3, 2, 2, 2], 20: [34, 37, 5, 5], 21: [2, 5, 2]}, {2: [2, 2], 13: [2], 14: [2, 2, 2, 28], 15: [2, 2, 2], 16: [2, 2, 2], 17: [2, 2, 2, 2, 2], 19: [2], 20: [2, 26], 22: [2], 23: [2]}, {0: [5], 6: [14], 7: [34], 9: [8], 11: [2], 12: [14, 5, 26, 5, 26], 15: [34, 2], 16: [34], 20: [8], 21: [16], 22: [2, 34, 2, 26, 26, 21], 23: [37, 2, 5]}, {0: [2], 1: [2, 2, 2], 2: [2], 3: [2], 4: [5, 2, 2], 5: [2, 5], 9: [5], 12: [2], 14: [2], 16: [2, 2, 2, 5], 17: [2], 18: [2, 2, 2], 19: [2, 5, 2, 5, 2, 5, 2], 20: [5], 21: [2, 2], 23: [2, 2]}, {1: [17, 17], 2: [29], 3: [29, 27, 17], 4: [17], 7: [36], 8: [36, 32], 10: [29, 17], 11: [17], 12: [17, 17, 17, 17], 16: [17], 17: [3, 3], 19: [32, 32], 20: [32, 16], 22: [32], 23: [17]}, {1: [27, 27], 2: [2], 3: [2], 4: [2, 2], 5: [27, 2], 6: [27], 7: [27], 8: [27, 27], 11: [2], 12: [2, 2, 2, 2], 13: [2, 2, 2, 2, 2], 14: [27], 16: [2, 33, 27], 17: [27], 18: [2, 2, 2], 20: [27, 2, 27], 23: [2, 2]}, {7: [37], 8: [30], 11: [34], 12: [5, 5], 13: [5], 14: [3, 5], 15: [5, 2], 16: [2, 34, 5], 17: [2], 18: [34], 19: [2, 2, 5, 34], 20: [2], 21: [30, 37], 23: [5]}, {0: [26], 1: [26, 2], 2: [26, 26], 7: [2], 8: [26, 26, 2, 2, 26, 2, 2], 10: [26, 26], 12: [26, 26, 2, 2], 14: [2, 2, 2, 2, 2, 2], 15: [2, 2], 21: [26, 26], 23: [26]}, {0: [36, 2, 2], 3: [21, 34], 4: [21, 3], 5: [21, 30], 7: [30, 21], 14: [37, 21], 16: [2, 21], 18: [2, 23], 19: [21, 21], 20: [2, 2, 21, 21], 21: [21, 21, 21, 21], 23: [2]}, {3: [26], 7: [26], 10: [2], 14: [26], 15: [26, 2], 16: [26], 17: [26, 2, 2, 2, 2], 18: [26, 26, 26, 26, 2, 2, 2, 2, 2, 2, 2, 2]}, {0: [28], 2: [28, 28], 3: [28], 5: [28, 28], 6: [28, 28], 7: [28, 28], 8: [28], 9: [28, 28, 28, 28], 10: [28, 28, 28, 28], 11: [28, 28, 28, 28, 28, 28], 12: [28, 28, 28], 13: [28, 28, 28, 28], 14: [28, 28], 15: [28], 16: [28, 28, 28], 17: [28]}, {0: [27, 27], 1: [27], 2: [27], 5: [27], 8: [27, 27], 9: [27, 27], 10: [27], 12: [27, 27, 27, 27], 13: [27], 14: [27], 15: [27, 27], 16: [27, 27], 18: [27], 19: [27], 20: [27, 27, 27, 27], 21: [27, 27], 22: [27], 23: [27]}, {5: [26], 7: [26, 26], 9: [26, 26], 10: [26, 26, 26], 11: [26, 26], 12: [26, 26], 13: [26, 2], 14: [26], 16: [26], 17: [26], 18: [26], 20: [26, 26], 21: [26], 22: [26]}, {1: [3, 3], 2: [35, 35, 35], 3: [35, 35], 5: [3, 35, 35], 6: [35, 3], 7: [35, 35, 35], 9: [35, 35], 11: [35, 35], 13: [35, 35], 14: [35, 35], 15: [35], 16: [35, 35], 17: [35, 35, 35, 35], 18: [35], 21: [3], 22: [3, 3, 3], 23: [35, 35]}, {0: [37, 2], 1: [18, 2, 5, 2], 2: [2, 5, 2], 4: [2], 16: [37, 2, 5, 2, 5, 2, 2], 17: [5, 2], 18: [26], 19: [3, 2, 2, 30], 20: [2], 22: [37, 30, 5, 2]}, {7: [26], 8: [26, 26], 9: [21], 10: [3, 26, 3], 11: [26], 12: [3, 3, 26, 3], 14: [26, 26, 3, 3, 3, 2, 3, 3, 26], 15: [3, 3, 26, 26, 3], 16: [3], 17: [3]}, {0: [2, 2], 2: [2], 3: [2], 4: [2], 5: [2], 7: [2], 8: [2, 2], 9: [2], 12: [2], 13: [2, 2, 2, 2, 2, 2, 2, 2], 14: [2, 2], 15: [2, 2, 2, 2], 16: [2, 2, 2, 2, 2, 2], 17: [2], 19: [2], 23: [2, 2, 2, 2]}, {0: [15, 15], 1: [15, 15], 2: [15], 4: [15], 7: [15], 10: [15, 15, 15, 15], 11: [15, 15], 12: [15, 15, 15], 13: [15, 15, 15], 23: [15]}, {9: [2], 10: [5, 5, 5], 11: [2, 5], 13: [2], 14: [5, 2, 2, 5, 2], 16: [2], 17: [5], 18: [5, 2], 19: [2, 2], 20: [2, 5, 2, 5, 5, 5], 21: [5, 26, 28, 2], 22: [2, 5]}]\n"
     ]
    }
   ],
   "source": [
    "print user_hourlistens[:50]"
   ]
  },
  {
   "cell_type": "code",
   "execution_count": null,
   "metadata": {
    "collapsed": true
   },
   "outputs": [],
   "source": []
  }
 ],
 "metadata": {
  "kernelspec": {
   "display_name": "Python 2",
   "language": "python",
   "name": "python2"
  },
  "language_info": {
   "codemirror_mode": {
    "name": "ipython",
    "version": 2
   },
   "file_extension": ".py",
   "mimetype": "text/x-python",
   "name": "python",
   "nbconvert_exporter": "python",
   "pygments_lexer": "ipython2",
   "version": "2.7.6"
  }
 },
 "nbformat": 4,
 "nbformat_minor": 0
}

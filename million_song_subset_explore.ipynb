{
 "cells": [
  {
   "cell_type": "markdown",
   "metadata": {},
   "source": [
    "##Exploration of Million Song Subset and generation of useful data frames"
   ]
  },
  {
   "cell_type": "code",
   "execution_count": 1,
   "metadata": {
    "collapsed": true
   },
   "outputs": [],
   "source": [
    "import os\n",
    "import glob\n",
    "import hdf5_getters\n",
    "import time\n",
    "import pickle\n",
    "\n",
    "import pandas as pd\n",
    "import numpy as np\n",
    "from scipy import stats"
   ]
  },
  {
   "cell_type": "code",
   "execution_count": 2,
   "metadata": {
    "collapsed": true
   },
   "outputs": [],
   "source": [
    "def pickle_stuff(filename, data):\n",
    "    ''' save file '''\n",
    "    with open(filename, 'w') as picklefile:\n",
    "        pickle.dump(data, picklefile)\n",
    "\n",
    "def unpickle(filename):\n",
    "    ''' open file '''\n",
    "    with open(filename, 'r') as picklefile:\n",
    "        old_data = pickle.load(picklefile)\n",
    "    return old_data"
   ]
  },
  {
   "cell_type": "markdown",
   "metadata": {},
   "source": [
    "###Check layout of summary hdf5 file"
   ]
  },
  {
   "cell_type": "code",
   "execution_count": 3,
   "metadata": {
    "collapsed": false,
    "scrolled": true
   },
   "outputs": [],
   "source": [
    "h5 = hdf5_getters.open_h5_file_read('./MillionSongSubset/AdditionalFiles/subset_msd_summary_file.h5')"
   ]
  },
  {
   "cell_type": "code",
   "execution_count": 8,
   "metadata": {
    "collapsed": false
   },
   "outputs": [
    {
     "data": {
      "text/plain": [
       "/ (RootGroup) 'H5 Song File'\n",
       "  children := ['musicbrainz' (Group), 'analysis' (Group), 'metadata' (Group)]"
      ]
     },
     "execution_count": 8,
     "metadata": {},
     "output_type": "execute_result"
    }
   ],
   "source": [
    "h5.root"
   ]
  },
  {
   "cell_type": "code",
   "execution_count": 9,
   "metadata": {
    "collapsed": false
   },
   "outputs": [
    {
     "data": {
      "text/plain": [
       "/musicbrainz (Group) 'data about the song coming from MusicBrainz'\n",
       "  children := ['songs' (Table)]"
      ]
     },
     "execution_count": 9,
     "metadata": {},
     "output_type": "execute_result"
    }
   ],
   "source": [
    "h5.root.musicbrainz"
   ]
  },
  {
   "cell_type": "code",
   "execution_count": 10,
   "metadata": {
    "collapsed": false
   },
   "outputs": [
    {
     "data": {
      "text/plain": [
       "/musicbrainz/songs (Table(10000,), shuffle, zlib(1)) 'table of data coming from MusicBrainz'\n",
       "  description := {\n",
       "  \"idx_artist_mbtags\": Int32Col(shape=(), dflt=0, pos=0),\n",
       "  \"year\": Int32Col(shape=(), dflt=0, pos=1)}\n",
       "  byteorder := 'little'\n",
       "  chunkshape := (1024,)"
      ]
     },
     "execution_count": 10,
     "metadata": {},
     "output_type": "execute_result"
    }
   ],
   "source": [
    "h5.root.musicbrainz.songs"
   ]
  },
  {
   "cell_type": "code",
   "execution_count": 11,
   "metadata": {
    "collapsed": false
   },
   "outputs": [
    {
     "data": {
      "text/plain": [
       "/metadata (Group) 'metadata about the song'\n",
       "  children := ['songs' (Table)]"
      ]
     },
     "execution_count": 11,
     "metadata": {},
     "output_type": "execute_result"
    }
   ],
   "source": [
    "h5.root.metadata"
   ]
  },
  {
   "cell_type": "code",
   "execution_count": 12,
   "metadata": {
    "collapsed": false
   },
   "outputs": [
    {
     "data": {
      "text/plain": [
       "/metadata/songs (Table(10000,), shuffle, zlib(1)) 'table of metadata for one song'\n",
       "  description := {\n",
       "  \"analyzer_version\": StringCol(itemsize=32, shape=(), dflt='', pos=0),\n",
       "  \"artist_7digitalid\": Int32Col(shape=(), dflt=0, pos=1),\n",
       "  \"artist_familiarity\": Float64Col(shape=(), dflt=0.0, pos=2),\n",
       "  \"artist_hotttnesss\": Float64Col(shape=(), dflt=0.0, pos=3),\n",
       "  \"artist_id\": StringCol(itemsize=32, shape=(), dflt='', pos=4),\n",
       "  \"artist_latitude\": Float64Col(shape=(), dflt=0.0, pos=5),\n",
       "  \"artist_location\": StringCol(itemsize=1024, shape=(), dflt='', pos=6),\n",
       "  \"artist_longitude\": Float64Col(shape=(), dflt=0.0, pos=7),\n",
       "  \"artist_mbid\": StringCol(itemsize=40, shape=(), dflt='', pos=8),\n",
       "  \"artist_name\": StringCol(itemsize=1024, shape=(), dflt='', pos=9),\n",
       "  \"artist_playmeid\": Int32Col(shape=(), dflt=0, pos=10),\n",
       "  \"genre\": StringCol(itemsize=1024, shape=(), dflt='', pos=11),\n",
       "  \"idx_artist_terms\": Int32Col(shape=(), dflt=0, pos=12),\n",
       "  \"idx_similar_artists\": Int32Col(shape=(), dflt=0, pos=13),\n",
       "  \"release\": StringCol(itemsize=1024, shape=(), dflt='', pos=14),\n",
       "  \"release_7digitalid\": Int32Col(shape=(), dflt=0, pos=15),\n",
       "  \"song_hotttnesss\": Float64Col(shape=(), dflt=0.0, pos=16),\n",
       "  \"song_id\": StringCol(itemsize=32, shape=(), dflt='', pos=17),\n",
       "  \"title\": StringCol(itemsize=1024, shape=(), dflt='', pos=18),\n",
       "  \"track_7digitalid\": Int32Col(shape=(), dflt=0, pos=19)}\n",
       "  byteorder := 'little'\n",
       "  chunkshape := (3,)"
      ]
     },
     "execution_count": 12,
     "metadata": {},
     "output_type": "execute_result"
    }
   ],
   "source": [
    "h5.root.metadata.songs"
   ]
  },
  {
   "cell_type": "code",
   "execution_count": 13,
   "metadata": {
    "collapsed": false
   },
   "outputs": [
    {
     "data": {
      "text/plain": [
       "/analysis (Group) 'Echo Nest analysis of the song'\n",
       "  children := ['songs' (Table)]"
      ]
     },
     "execution_count": 13,
     "metadata": {},
     "output_type": "execute_result"
    }
   ],
   "source": [
    "h5.root.analysis"
   ]
  },
  {
   "cell_type": "code",
   "execution_count": 14,
   "metadata": {
    "collapsed": false
   },
   "outputs": [
    {
     "data": {
      "text/plain": [
       "/analysis/songs (Table(10000,), shuffle, zlib(1)) 'table of Echo Nest analysis for one song'\n",
       "  description := {\n",
       "  \"analysis_sample_rate\": Int32Col(shape=(), dflt=0, pos=0),\n",
       "  \"audio_md5\": StringCol(itemsize=32, shape=(), dflt='', pos=1),\n",
       "  \"danceability\": Float64Col(shape=(), dflt=0.0, pos=2),\n",
       "  \"duration\": Float64Col(shape=(), dflt=0.0, pos=3),\n",
       "  \"end_of_fade_in\": Float64Col(shape=(), dflt=0.0, pos=4),\n",
       "  \"energy\": Float64Col(shape=(), dflt=0.0, pos=5),\n",
       "  \"idx_bars_confidence\": Int32Col(shape=(), dflt=0, pos=6),\n",
       "  \"idx_bars_start\": Int32Col(shape=(), dflt=0, pos=7),\n",
       "  \"idx_beats_confidence\": Int32Col(shape=(), dflt=0, pos=8),\n",
       "  \"idx_beats_start\": Int32Col(shape=(), dflt=0, pos=9),\n",
       "  \"idx_sections_confidence\": Int32Col(shape=(), dflt=0, pos=10),\n",
       "  \"idx_sections_start\": Int32Col(shape=(), dflt=0, pos=11),\n",
       "  \"idx_segments_confidence\": Int32Col(shape=(), dflt=0, pos=12),\n",
       "  \"idx_segments_loudness_max\": Int32Col(shape=(), dflt=0, pos=13),\n",
       "  \"idx_segments_loudness_max_time\": Int32Col(shape=(), dflt=0, pos=14),\n",
       "  \"idx_segments_loudness_start\": Int32Col(shape=(), dflt=0, pos=15),\n",
       "  \"idx_segments_pitches\": Int32Col(shape=(), dflt=0, pos=16),\n",
       "  \"idx_segments_start\": Int32Col(shape=(), dflt=0, pos=17),\n",
       "  \"idx_segments_timbre\": Int32Col(shape=(), dflt=0, pos=18),\n",
       "  \"idx_tatums_confidence\": Int32Col(shape=(), dflt=0, pos=19),\n",
       "  \"idx_tatums_start\": Int32Col(shape=(), dflt=0, pos=20),\n",
       "  \"key\": Int32Col(shape=(), dflt=0, pos=21),\n",
       "  \"key_confidence\": Float64Col(shape=(), dflt=0.0, pos=22),\n",
       "  \"loudness\": Float64Col(shape=(), dflt=0.0, pos=23),\n",
       "  \"mode\": Int32Col(shape=(), dflt=0, pos=24),\n",
       "  \"mode_confidence\": Float64Col(shape=(), dflt=0.0, pos=25),\n",
       "  \"start_of_fade_out\": Float64Col(shape=(), dflt=0.0, pos=26),\n",
       "  \"tempo\": Float64Col(shape=(), dflt=0.0, pos=27),\n",
       "  \"time_signature\": Int32Col(shape=(), dflt=0, pos=28),\n",
       "  \"time_signature_confidence\": Float64Col(shape=(), dflt=0.0, pos=29),\n",
       "  \"track_id\": StringCol(itemsize=32, shape=(), dflt='', pos=30)}\n",
       "  byteorder := 'little'\n",
       "  chunkshape := (37,)"
      ]
     },
     "execution_count": 14,
     "metadata": {},
     "output_type": "execute_result"
    }
   ],
   "source": [
    "h5.root.analysis.songs"
   ]
  },
  {
   "cell_type": "code",
   "execution_count": 15,
   "metadata": {
    "collapsed": false
   },
   "outputs": [],
   "source": [
    "#seg_loud_max = [(row['track_id'], row['idx_sections_start']) for row in h5.root.analysis.songs.where('(tempo>238) & (tempo<240)')]\n",
    "#print seg_loud_max"
   ]
  },
  {
   "cell_type": "code",
   "execution_count": 7,
   "metadata": {
    "collapsed": false
   },
   "outputs": [
    {
     "data": {
      "text/plain": [
       "[('TRAIHYT128F9350C8D', 240.263, -6.566),\n",
       " ('TRAHHSV128F42374E3', 244.366, -12.785),\n",
       " ('TRAHGSZ128F930C9A6', 243.195, -23.366),\n",
       " ('TRAXASE128F9325369', 240.064, -8.298),\n",
       " ('TRAXKGF128F92D68E9', 241.52, -15.734),\n",
       " ('TRARFWJ128F9339D70', 243.981, -13.538),\n",
       " ('TRAAUIH128F4254C9D', 241.877, -4.779),\n",
       " ('TRAFJKG128F9332800', 246.5, -11.906),\n",
       " ('TRAFYGI12903CE9B9A', 242.393, -9.606),\n",
       " ('TRADDCV128F423BAB0', 240.761, -5.575),\n",
       " ('TRADZCV128F4294DFD', 240.314, -15.655),\n",
       " ('TRAPZAW128F930FEEF', 240.983, -13.915),\n",
       " ('TRAWINR128F93378C6', 241.242, -20.243),\n",
       " ('TRAZFZS128F4272A31', 246.593, -22.28),\n",
       " ('TRAGYJM128EF3466D2', 253.357, -3.868),\n",
       " ('TRAKISP128F4284A37', 243.994, -11.315),\n",
       " ('TRAKSPS128F933B3D9', 241.892, -8.328),\n",
       " ('TRBCHFG128F9353D72', 240.5, -12.369),\n",
       " ('TRBHZRN128F92EFF91', 258.677, -14.165),\n",
       " ('TRBBQFV128F4252EFF', 241.818, -15.967),\n",
       " ('TRBFXLH12903CBAFAD', 248.079, -16.386),\n",
       " ('TRBFATS128F9319AEB', 242.7, -7.117),\n",
       " ('TRBEFQY128F932EE3F', 244.268, -23.465),\n",
       " ('TRBGYHC12903D0626A', 262.828, -11.534)]"
      ]
     },
     "execution_count": 7,
     "metadata": {},
     "output_type": "execute_result"
    }
   ],
   "source": [
    "tids = [(row['track_id'], row['tempo'], row['loudness']) for row in h5.root.analysis.songs.where('tempo>240')]\n",
    "#'(tempo>245) & (tempo<250)')]\n",
    "tids"
   ]
  },
  {
   "cell_type": "markdown",
   "metadata": {},
   "source": [
    "###Get title and other metadata (hotttness, etc) features"
   ]
  },
  {
   "cell_type": "code",
   "execution_count": 17,
   "metadata": {
    "collapsed": false
   },
   "outputs": [],
   "source": [
    "tids_titles = []\n",
    "\n",
    "def get_items(t_id, titles, metas, sh5):\n",
    "    title = hdf5_getters.get_title(sh5)\n",
    "    artist = hdf5_getters.get_artist_name(sh5)\n",
    "    artist_id = hdf5_getters.get_artist_id(sh5)\n",
    "    song_id = hdf5_getters.get_song_id(sh5)\n",
    "    titles.append((t_id, title, artist_id, artist, song_id))\n",
    "    song_hottt = hdf5_getters.get_song_hotttnesss(sh5)\n",
    "    artist_hottt = hdf5_getters.get_artist_hotttnesss(sh5)\n",
    "    artist_fam = hdf5_getters.get_artist_familiarity(sh5)\n",
    "    \n",
    "    metavals = [t_id, song_hottt, artist_hottt, artist_fam]\n",
    "    for m in metavals[1:]:\n",
    "        if type(m) != float:\n",
    "            m = 0.0\n",
    "    metas.append(metavals)\n",
    "                    \n",
    "def get_matching_titles(track_ids=None, basedir='./MillionSongSubset/data/',ext='.h5', verbose=0):\n",
    "    t1 = time.time()\n",
    "    titles = []\n",
    "    metas = []\n",
    "    count = 0\n",
    "    for root, dirs, files in os.walk(basedir):\n",
    "        files = glob.glob(os.path.join(root,'*'+ext))\n",
    "        for f in files:\n",
    "            if track_ids and len(titles) == len(track_ids):\n",
    "                break\n",
    "            sh5 = hdf5_getters.open_h5_file_read(f)\n",
    "            if track_ids:\n",
    "                for t_id in track_ids:\n",
    "                    if hdf5_getters.get_track_id(sh5) == t_id:\n",
    "                        get_items(t_id, titles, metas, sh5)\n",
    "            else:\n",
    "                t_id = hdf5_getters.get_track_id(sh5)\n",
    "                get_items(t_id, titles, metas, sh5)\n",
    "            if verbose > 1:\n",
    "                if count >= 1000:\n",
    "                    print \"1000!\"\n",
    "                    print \"elapsed time: \", time.time()-t1\n",
    "                    print titles[-1]\n",
    "                    count = 0\n",
    "                else:\n",
    "                    count += 1\n",
    "            sh5.close()\n",
    "    t2 = time.time()\n",
    "    if verbose > 0:\n",
    "        print \"total time: \", (t2-t1)\n",
    "    return titles, metas"
   ]
  },
  {
   "cell_type": "code",
   "execution_count": 18,
   "metadata": {
    "collapsed": false
   },
   "outputs": [
    {
     "name": "stdout",
     "output_type": "stream",
     "text": [
      "total time:  69.8689739704\n",
      "[('TRBGYHC12903D0626A', 'Endless Light', 'AR0JEOI1187B98B918', 'Erik Berglund', 'SODWYEY12AC468C30F'), ('TRBHZRN128F92EFF91', 'Kapitel 4', 'ARIEIJW1187B98F6DD', 'Oliver Kalkofe', 'SOQFMJN12AB0181D3D'), ('TRBFXLH12903CBAFAD', \"Two of a Kind_ Workin' on a Full House\", 'ARBMHBC11F4C8403A2', 'Hushabye Baby', 'SOOMCCM12AB01896EA'), ('TRAZFZS128F4272A31', 'Severe Severing', 'ARSL3N21187B98DFC5', 'Klaus Badelt', 'SOABYBF12A8C138A09'), ('TRAGYJM128EF3466D2', 'Been There All The Time', 'AR9YWMS1187FB43A34', 'Dinosaur Jr.', 'SOZRIFJ12A67ADA4BE'), ('TRAFJKG128F9332800', 'Ego is the drug/3am', 'ARCRSUM1187FB52AB0', 'The Frequency', 'SONNXDI12AB0186816')]\n",
      "[['TRBGYHC12903D0626A', 0.0, 0.33619115568493391, 0.37703408512839853], ['TRBHZRN128F92EFF91', 0.21508031850922793, 0.40619874783410698, 0.45248343829809812], ['TRBFXLH12903CBAFAD', nan, 0.36551400326265299, 0.35342955022197026], ['TRAZFZS128F4272A31', 0.32773668317784083, 0.46934037425924607, 0.68800334883697312], ['TRAGYJM128EF3466D2', 0.62921271006453749, 0.55155245515635054, 0.74979695940058488], ['TRAFJKG128F9332800', 0.0, 0.33504177703727017, 0.56842734729834965]]\n"
     ]
    }
   ],
   "source": [
    "tids_only = [t[0] for t in tids]\n",
    "test_titles, test_metas = get_matching_titles(track_ids=tids_only, verbose=1)\n",
    "print test_titles\n",
    "print test_metas"
   ]
  },
  {
   "cell_type": "code",
   "execution_count": 19,
   "metadata": {
    "collapsed": false
   },
   "outputs": [
    {
     "name": "stdout",
     "output_type": "stream",
     "text": [
      "1000!\n",
      "elapsed time:  14.493544817\n",
      "('TRBBLTV12903CC3C00', 'Marcel', 'ARW45YR1187FB3DE95', 'Pierre Perret', 'SOJKSPB12A67AD93AE')\n",
      "1000!\n",
      "elapsed time:  28.5904939175\n",
      "('TRBDFWV128F93027EE', 'Red is the Rose', 'AR5J8N51187FB54ED9', 'Joe Heaney', 'SOSLPVV12A8C1351F1')\n",
      "1000!\n",
      "elapsed time:  43.0146207809\n",
      "('TRAZGIF128F934522F', '3 Deuces', 'ARGEKDX1187FB3A5BF', 'Marcus Miller', 'SOTOZVC12AB01870D1')\n",
      "1000!\n",
      "elapsed time:  57.4039077759\n",
      "('TRAWLVX128F934E63C', 'sample processing failed (part one: \"why don\\'t you fuckin\\' remember anything ?\")', 'ARA8X3M1187B9A13CA', 'Aphasia', 'SOTOVKU12AB018AC33')\n",
      "1000!\n",
      "elapsed time:  71.7407538891\n",
      "('TRATEMP128E0788535', 'Abscondence', 'ARMPIH61187FB44227', 'Sun Yan-Zi', 'SOKPWFH12A6702056E')\n",
      "1000!\n",
      "elapsed time:  86.4123408794\n",
      "('TRABGWT128F9334E43', 'Ven Morena', 'ARRVUWA1187B9A0FE2', 'Orquesta Arag\\xc3\\xb3n', 'SOACHGQ12AB018590E')\n",
      "1000!\n",
      "elapsed time:  101.224594831\n",
      "('TRARRWA128F42A0195', 'Martha Served', 'ARJGW911187FB586CA', 'I Hate Sally', 'SODJYEC12A8C13D757')\n",
      "1000!\n",
      "elapsed time:  116.15719986\n",
      "('TRASZCV128F42569C7', 'Little Silver Bells', 'AR8IS591187B9981AE', 'Elton Britt', 'SOJSKZX12A58A7DE0E')\n",
      "1000!\n",
      "elapsed time:  131.018217802\n",
      "('TRAAENC128F1451DE9', 'Too Much Saturn', 'AR2J2WF1187FB46271', 'Francis Dunnery', 'SOYQOFI12A6D4F76E1')\n",
      "total time:  145.84164691\n"
     ]
    }
   ],
   "source": [
    "titles, metas = get_matching_titles(verbose=2)\n",
    "#print titles[0]\n",
    "#print metas"
   ]
  },
  {
   "cell_type": "markdown",
   "metadata": {},
   "source": [
    "###Generate useful data frames\n",
    "for title and metadata features"
   ]
  },
  {
   "cell_type": "code",
   "execution_count": 20,
   "metadata": {
    "collapsed": false
   },
   "outputs": [
    {
     "data": {
      "text/html": [
       "<div>\n",
       "<table border=\"1\" class=\"dataframe\">\n",
       "  <thead>\n",
       "    <tr style=\"text-align: right;\">\n",
       "      <th></th>\n",
       "      <th>track_id</th>\n",
       "      <th>title</th>\n",
       "      <th>artist_id</th>\n",
       "      <th>artist</th>\n",
       "      <th>song_id</th>\n",
       "    </tr>\n",
       "  </thead>\n",
       "  <tbody>\n",
       "    <tr>\n",
       "      <th>0</th>\n",
       "      <td>TRBGPHG12903CE6CC3</td>\n",
       "      <td>The Law Gonna Step On You (1931)</td>\n",
       "      <td>ARFXRHR1187B98FF09</td>\n",
       "      <td>Bo Carter</td>\n",
       "      <td>SORUUEV12A58A7B9FA</td>\n",
       "    </tr>\n",
       "    <tr>\n",
       "      <th>1</th>\n",
       "      <td>TRBGPYK128F42796E1</td>\n",
       "      <td>Des Vôtres</td>\n",
       "      <td>ARQDTOS12086C11443</td>\n",
       "      <td>Fredericks_ Goldman_ Jones</td>\n",
       "      <td>SOEZDOH12A8AE4787A</td>\n",
       "    </tr>\n",
       "    <tr>\n",
       "      <th>2</th>\n",
       "      <td>TRBGPJP128E078ED20</td>\n",
       "      <td>Crazy</td>\n",
       "      <td>AR12F2S1187FB56EEF</td>\n",
       "      <td>Aerosmith</td>\n",
       "      <td>SOOOWIC12A6701C7E5</td>\n",
       "    </tr>\n",
       "    <tr>\n",
       "      <th>3</th>\n",
       "      <td>TRBGPXH128F428C912</td>\n",
       "      <td>Chiove</td>\n",
       "      <td>AR7LIU31187B98EF11</td>\n",
       "      <td>Rita Chiarelli</td>\n",
       "      <td>SOLSWBA12A8C141B9A</td>\n",
       "    </tr>\n",
       "    <tr>\n",
       "      <th>4</th>\n",
       "      <td>TRBGPSV12903CA9C25</td>\n",
       "      <td>Rude Bwoy Love (feat. Dj Fly_ Dj Traxx_ T.Will...</td>\n",
       "      <td>ARPGCHN1187B9A2831</td>\n",
       "      <td>Nicky B_ Naëlle</td>\n",
       "      <td>SOHNJQL12AB018CC5C</td>\n",
       "    </tr>\n",
       "  </tbody>\n",
       "</table>\n",
       "</div>"
      ],
      "text/plain": [
       "             track_id                                              title  \\\n",
       "0  TRBGPHG12903CE6CC3                   The Law Gonna Step On You (1931)   \n",
       "1  TRBGPYK128F42796E1                                         Des Vôtres   \n",
       "2  TRBGPJP128E078ED20                                              Crazy   \n",
       "3  TRBGPXH128F428C912                                             Chiove   \n",
       "4  TRBGPSV12903CA9C25  Rude Bwoy Love (feat. Dj Fly_ Dj Traxx_ T.Will...   \n",
       "\n",
       "            artist_id                      artist             song_id  \n",
       "0  ARFXRHR1187B98FF09                   Bo Carter  SORUUEV12A58A7B9FA  \n",
       "1  ARQDTOS12086C11443  Fredericks_ Goldman_ Jones  SOEZDOH12A8AE4787A  \n",
       "2  AR12F2S1187FB56EEF                   Aerosmith  SOOOWIC12A6701C7E5  \n",
       "3  AR7LIU31187B98EF11              Rita Chiarelli  SOLSWBA12A8C141B9A  \n",
       "4  ARPGCHN1187B9A2831             Nicky B_ Naëlle  SOHNJQL12AB018CC5C  "
      ]
     },
     "execution_count": 20,
     "metadata": {},
     "output_type": "execute_result"
    }
   ],
   "source": [
    "title_heads = [\"track_id\", \"title\", \"artist_id\", \"artist\", \"song_id\"]\n",
    "titledf = pd.DataFrame(titles, columns=title_heads)\n",
    "#titledf.index.name = \"index\"\n",
    "titledf.head()"
   ]
  },
  {
   "cell_type": "code",
   "execution_count": 24,
   "metadata": {
    "collapsed": false
   },
   "outputs": [
    {
     "data": {
      "text/html": [
       "<div>\n",
       "<table border=\"1\" class=\"dataframe\">\n",
       "  <thead>\n",
       "    <tr style=\"text-align: right;\">\n",
       "      <th></th>\n",
       "      <th>track_id</th>\n",
       "      <th>title</th>\n",
       "      <th>artist_id</th>\n",
       "      <th>artist</th>\n",
       "      <th>song_id</th>\n",
       "    </tr>\n",
       "  </thead>\n",
       "  <tbody>\n",
       "    <tr>\n",
       "      <th>5141</th>\n",
       "      <td>TRALZBV128F4250E60</td>\n",
       "      <td>The Captain</td>\n",
       "      <td>AR7DBMA1187FB516B1</td>\n",
       "      <td>The Knife</td>\n",
       "      <td>SOEBCBI12AF72A154F</td>\n",
       "    </tr>\n",
       "  </tbody>\n",
       "</table>\n",
       "</div>"
      ],
      "text/plain": [
       "                track_id        title           artist_id     artist  \\\n",
       "5141  TRALZBV128F4250E60  The Captain  AR7DBMA1187FB516B1  The Knife   \n",
       "\n",
       "                 song_id  \n",
       "5141  SOEBCBI12AF72A154F  "
      ]
     },
     "execution_count": 24,
     "metadata": {},
     "output_type": "execute_result"
    }
   ],
   "source": [
    "titledf[titledf[\"song_id\"] == \"SOEBCBI12AF72A154F\"]"
   ]
  },
  {
   "cell_type": "code",
   "execution_count": 42,
   "metadata": {
    "collapsed": false
   },
   "outputs": [
    {
     "data": {
      "text/html": [
       "<div>\n",
       "<table border=\"1\" class=\"dataframe\">\n",
       "  <thead>\n",
       "    <tr style=\"text-align: right;\">\n",
       "      <th></th>\n",
       "      <th>track_id</th>\n",
       "      <th>song_hottt</th>\n",
       "      <th>artist_hottt</th>\n",
       "      <th>artist_fam</th>\n",
       "    </tr>\n",
       "    <tr>\n",
       "      <th>index</th>\n",
       "      <th></th>\n",
       "      <th></th>\n",
       "      <th></th>\n",
       "      <th></th>\n",
       "    </tr>\n",
       "  </thead>\n",
       "  <tbody>\n",
       "    <tr>\n",
       "      <th>0</th>\n",
       "      <td>TRBGPHG12903CE6CC3</td>\n",
       "      <td>0.252446</td>\n",
       "      <td>0.357470</td>\n",
       "      <td>0.469672</td>\n",
       "    </tr>\n",
       "    <tr>\n",
       "      <th>1</th>\n",
       "      <td>TRBGPYK128F42796E1</td>\n",
       "      <td>NaN</td>\n",
       "      <td>0.305101</td>\n",
       "      <td>0.382720</td>\n",
       "    </tr>\n",
       "    <tr>\n",
       "      <th>2</th>\n",
       "      <td>TRBGPJP128E078ED20</td>\n",
       "      <td>NaN</td>\n",
       "      <td>0.610731</td>\n",
       "      <td>0.872537</td>\n",
       "    </tr>\n",
       "    <tr>\n",
       "      <th>3</th>\n",
       "      <td>TRBGPXH128F428C912</td>\n",
       "      <td>NaN</td>\n",
       "      <td>0.288050</td>\n",
       "      <td>0.404823</td>\n",
       "    </tr>\n",
       "    <tr>\n",
       "      <th>4</th>\n",
       "      <td>TRBGPSV12903CA9C25</td>\n",
       "      <td>NaN</td>\n",
       "      <td>0.412700</td>\n",
       "      <td>0.595409</td>\n",
       "    </tr>\n",
       "  </tbody>\n",
       "</table>\n",
       "</div>"
      ],
      "text/plain": [
       "                 track_id  song_hottt  artist_hottt  artist_fam\n",
       "index                                                          \n",
       "0      TRBGPHG12903CE6CC3    0.252446      0.357470    0.469672\n",
       "1      TRBGPYK128F42796E1         NaN      0.305101    0.382720\n",
       "2      TRBGPJP128E078ED20         NaN      0.610731    0.872537\n",
       "3      TRBGPXH128F428C912         NaN      0.288050    0.404823\n",
       "4      TRBGPSV12903CA9C25         NaN      0.412700    0.595409"
      ]
     },
     "execution_count": 42,
     "metadata": {},
     "output_type": "execute_result"
    }
   ],
   "source": [
    "meta_heads = [\"track_id\", \"song_hottt\", \"artist_hottt\", \"artist_fam\"]\n",
    "metadf = pd.DataFrame(metas, columns=meta_heads)\n",
    "metadf.index.name = \"index\"\n",
    "metadf.head()\n",
    "#metadf2 = metadf.set_index(\"track_id\")\n",
    "#metadf2.head()"
   ]
  },
  {
   "cell_type": "code",
   "execution_count": 5,
   "metadata": {
    "collapsed": false
   },
   "outputs": [],
   "source": [
    "metadf = unpickle(\"./pkls/metas_df.pkl\")"
   ]
  },
  {
   "cell_type": "code",
   "execution_count": 17,
   "metadata": {
    "collapsed": false
   },
   "outputs": [
    {
     "name": "stdout",
     "output_type": "stream",
     "text": [
      "3118\n"
     ]
    }
   ],
   "source": [
    "print len(metadf[metadf[\"song_hottt\"] <=0.4].index)#head()"
   ]
  },
  {
   "cell_type": "code",
   "execution_count": 16,
   "metadata": {
    "collapsed": false
   },
   "outputs": [
    {
     "name": "stdout",
     "output_type": "stream",
     "text": [
      "5834\n"
     ]
    }
   ],
   "source": [
    "print len(metadf[metadf[\"artist_hottt\"] <=0.4].index)#head()"
   ]
  },
  {
   "cell_type": "code",
   "execution_count": 15,
   "metadata": {
    "collapsed": false
   },
   "outputs": [
    {
     "name": "stdout",
     "output_type": "stream",
     "text": [
      "1257\n"
     ]
    }
   ],
   "source": [
    "print len(metadf[metadf[\"artist_fam\"] <=0.4].index)#head()"
   ]
  },
  {
   "cell_type": "code",
   "execution_count": 11,
   "metadata": {
    "collapsed": false
   },
   "outputs": [
    {
     "data": {
      "text/plain": [
       "10000"
      ]
     },
     "execution_count": 11,
     "metadata": {},
     "output_type": "execute_result"
    }
   ],
   "source": [
    "len(metadf.index)"
   ]
  },
  {
   "cell_type": "markdown",
   "metadata": {},
   "source": [
    "###Save titles and metas data frames"
   ]
  },
  {
   "cell_type": "code",
   "execution_count": 44,
   "metadata": {
    "collapsed": true
   },
   "outputs": [],
   "source": [
    "pickle_stuff(\"titles_df3.pkl\", titledf)"
   ]
  },
  {
   "cell_type": "code",
   "execution_count": 45,
   "metadata": {
    "collapsed": false
   },
   "outputs": [],
   "source": [
    "pickle_stuff(\"metas_df3.pkl\", metadf)"
   ]
  },
  {
   "cell_type": "code",
   "execution_count": 46,
   "metadata": {
    "collapsed": true
   },
   "outputs": [],
   "source": [
    "with open(\"titles_csv3.csv\", 'w') as twf:\n",
    "    twf.write(titledf.to_csv())"
   ]
  },
  {
   "cell_type": "code",
   "execution_count": 47,
   "metadata": {
    "collapsed": true
   },
   "outputs": [],
   "source": [
    "with open(\"metas_csv3.csv\", 'w') as mwf:\n",
    "    mwf.write(metadf.to_csv())"
   ]
  },
  {
   "cell_type": "markdown",
   "metadata": {},
   "source": [
    "###Now for the actual track data/features\n",
    "\n",
    "Check attributes of example hdf5 file"
   ]
  },
  {
   "cell_type": "code",
   "execution_count": 3,
   "metadata": {
    "collapsed": false
   },
   "outputs": [],
   "source": [
    "h52 = hdf5_getters.open_h5_file_read('./MillionSongSubset/data/A/F/J/TRAFJKG128F9332800.h5')#TRAGYJM128EF3466D2.h5')"
   ]
  },
  {
   "cell_type": "code",
   "execution_count": 4,
   "metadata": {
    "collapsed": false
   },
   "outputs": [
    {
     "data": {
      "text/plain": [
       "/analysis (Group) 'Echo Nest analysis of the song'\n",
       "  children := ['beats_start' (EArray), 'segments_pitches' (EArray), 'segments_confidence' (EArray), 'sections_start' (EArray), 'tatums_confidence' (EArray), 'segments_timbre' (EArray), 'segments_loudness_start' (EArray), 'sections_confidence' (EArray), 'bars_confidence' (EArray), 'segments_loudness_max_time' (EArray), 'bars_start' (EArray), 'tatums_start' (EArray), 'beats_confidence' (EArray), 'segments_start' (EArray), 'segments_loudness_max' (EArray), 'songs' (Table)]"
      ]
     },
     "execution_count": 4,
     "metadata": {},
     "output_type": "execute_result"
    }
   ],
   "source": [
    "h52.root.analysis"
   ]
  },
  {
   "cell_type": "markdown",
   "metadata": {},
   "source": [
    "Check what the rhythm attributes look like"
   ]
  },
  {
   "cell_type": "code",
   "execution_count": 7,
   "metadata": {
    "collapsed": false
   },
   "outputs": [
    {
     "name": "stdout",
     "output_type": "stream",
     "text": [
      "(4291,)\n"
     ]
    }
   ],
   "source": [
    "print hdf5_getters.get_beats_start(h52).shape"
   ]
  },
  {
   "cell_type": "code",
   "execution_count": 9,
   "metadata": {
    "collapsed": false
   },
   "outputs": [
    {
     "name": "stdout",
     "output_type": "stream",
     "text": [
      "(4291,)\n"
     ]
    }
   ],
   "source": [
    "print hdf5_getters.get_tatums_start(h52).shape"
   ]
  },
  {
   "cell_type": "code",
   "execution_count": 26,
   "metadata": {
    "collapsed": false
   },
   "outputs": [],
   "source": [
    "def get_test_features(track_ids=None, basedir='./MillionSongSubset/data/', ext='.h5', verbose=0):\n",
    "    t1 = time.time()\n",
    "    count = 0\n",
    "    features = []\n",
    "    for root, dirs, files in os.walk(basedir):\n",
    "        files = glob.glob(os.path.join(root,'*'+ext))\n",
    "        for f in files:\n",
    "            if track_ids and len(features) >= len(track_ids):\n",
    "                break\n",
    "            sh5 = hdf5_getters.open_h5_file_read(f)\n",
    "            if track_ids:\n",
    "                for t_id in track_ids:\n",
    "                    if hdf5_getters.get_track_id(sh5) == t_id:\n",
    "                        duration = hdf5_getters.get_duration(sh5)\n",
    "                        tatums = float(hdf5_getters.get_tatums_start(sh5).shape[0])\n",
    "                        #print tatums, tatums/duration\n",
    "                        beats = float(hdf5_getters.get_beats_start(sh5).shape[0])\n",
    "                        #print beats, beats/duration\n",
    "                        segments = float(hdf5_getters.get_segments_start(sh5).shape[0])\n",
    "                        #print segments, segmprint sections, sections/durationents/duration\n",
    "                        sections = float(hdf5_getters.get_sections_start(sh5).shape[0])\n",
    "                        print t_id\n",
    "                        print tatums/beats\n",
    "                        print beats/segments\n",
    "                        print segments/sections\n",
    "                        print sections, sections/duration\n",
    "            sh5.close()\n",
    "    if verbose > 0:\n",
    "        print \"total time: \", (time.time()-t1)"
   ]
  },
  {
   "cell_type": "code",
   "execution_count": 29,
   "metadata": {
    "collapsed": false
   },
   "outputs": [
    {
     "name": "stdout",
     "output_type": "stream",
     "text": [
      "TRAHHSV128F42374E3\n",
      "1.0\n",
      "1.425\n",
      "52.3076923077\n",
      "13.0 0.0529647896597\n",
      "TRAIHYT128F9350C8D\n",
      "2.0\n",
      "0.650406504065\n",
      "118.08\n",
      "25.0 0.0520890522772\n",
      "total time:  82.6958019733\n"
     ]
    }
   ],
   "source": [
    "tids_only1 = [t[0] for t in tids][:2]\n",
    "#print tids_only1\n",
    "test_features = get_test_features(track_ids=tids_only1, verbose=1)\n",
    "#print test_features[0]"
   ]
  },
  {
   "cell_type": "markdown",
   "metadata": {},
   "source": [
    "#### Extract desired features from each track file"
   ]
  },
  {
   "cell_type": "code",
   "execution_count": 37,
   "metadata": {
    "collapsed": false
   },
   "outputs": [],
   "source": [
    "def get_pitch_features(sh5):\n",
    "    seg_pitches = hdf5_getters.get_segments_pitches(sh5)\n",
    "    pitch_means = np.mean(seg_pitches, axis=0).tolist()\n",
    "    pitch_medians = np.median(seg_pitches, axis=0).tolist()\n",
    "    pitch_modes = stats.mode(seg_pitches)[0].tolist()[0]\n",
    "    pitch_features = [pitch_means, pitch_medians, pitch_modes]\n",
    "    for p in pitch_features:\n",
    "        if len(p) != 12:\n",
    "            p = [0,0,0,0,0,0,0,0,0,0,0,0]\n",
    "    return pitch_means, pitch_medians, pitch_modes\n",
    "\n",
    "def get_timbre_features(sh5):\n",
    "    seg_timbres = hdf5_getters.get_segments_timbre(sh5)\n",
    "    timbre_means = np.mean(seg_timbres, axis=0).tolist()\n",
    "    timbre_medians = np.median(seg_timbres, axis=0).tolist()\n",
    "    timbre_modes = stats.mode(seg_timbres)[0].tolist()[0]\n",
    "    timbre_features = [timbre_means, timbre_medians, timbre_modes]\n",
    "    for t in timbre_features:\n",
    "        if len(t) != 12:\n",
    "            t = [0,0,0,0,0,0,0,0,0,0,0,0]\n",
    "    return timbre_means, timbre_medians, timbre_modes\n",
    "\n",
    "def get_loudness_features(sh5):\n",
    "    loud_maxs = hdf5_getters.get_segments_loudness_max(sh5)\n",
    "    loud_mean = np.mean(loud_maxs)\n",
    "    loud_median = np.median(loud_maxs)\n",
    "    loud_mode = stats.mode(loud_maxs)[0][0]#.tolist()\n",
    "    return loud_mean, loud_median, loud_mode\n",
    "\n",
    "def get_density_features(sh5):\n",
    "    duration = hdf5_getters.get_duration(sh5)\n",
    "    tatums = float(hdf5_getters.get_tatums_start(sh5).shape[0])\n",
    "    beats = float(hdf5_getters.get_beats_start(sh5).shape[0])\n",
    "    segments = float(hdf5_getters.get_segments_start(sh5).shape[0])\n",
    "    sections = float(hdf5_getters.get_sections_start(sh5).shape[0])\n",
    "    if beats > 0:\n",
    "        tatum_density = tatums/beats\n",
    "    else:\n",
    "        tatum_density = 0.0\n",
    "    if segments > 0:\n",
    "        beat_density = beats/segments\n",
    "    else:\n",
    "        beat_density = 0.0\n",
    "    if sections > 0:\n",
    "        segment_density = segments/sections\n",
    "    else:\n",
    "        segment_density = 0.0\n",
    "    if duration > 0:\n",
    "        section_density = sections/duration\n",
    "    else:\n",
    "        section_density = 0.0\n",
    "    return tatum_density, beat_density, segment_density, section_density\n",
    "    \n",
    "def get_all_features(t_id, features, sh5):\n",
    "    pitch_means, pitch_medians, pitch_modes = get_pitch_features(sh5)\n",
    "    pitches = pitch_means + pitch_medians + pitch_modes\n",
    "    loud_mean, loud_median, loud_mode = get_loudness_features(sh5)\n",
    "    louds = [loud_mean, loud_median, loud_mode]\n",
    "    timbre_means, timbre_medians, timbre_modes = get_timbre_features(sh5)\n",
    "    timbres = timbre_means + timbre_medians + timbre_modes\n",
    "    duration = hdf5_getters.get_duration(sh5)\n",
    "    tempo = hdf5_getters.get_tempo(sh5)\n",
    "    tatum_density, beat_density, segment_density, section_density = get_density_features(sh5)\n",
    "    loudness = hdf5_getters.get_loudness(sh5)\n",
    "    mode = hdf5_getters.get_mode(sh5)\n",
    "    key = hdf5_getters.get_key(sh5)\n",
    "    time_sig = hdf5_getters.get_time_signature(sh5)\n",
    "    fade_in = hdf5_getters.get_end_of_fade_in(sh5)\n",
    "    features.append([t_id, duration, fade_in, tempo, tatum_density, beat_density, segment_density, section_density,\n",
    "                     loudness, mode, key, time_sig]+pitches+louds+timbres)\n",
    "                        \n",
    "def get_track_features(track_ids=None, basedir='./MillionSongSubset/data/', ext='.h5', verbose=0):\n",
    "    t1 = time.time()\n",
    "    t2 = t1\n",
    "    count = 0\n",
    "    features = []\n",
    "    for root, dirs, files in os.walk(basedir):\n",
    "        files = glob.glob(os.path.join(root,'*'+ext))\n",
    "        for f in files:\n",
    "            if track_ids and len(features) >= len(track_ids):\n",
    "                break\n",
    "            sh5 = hdf5_getters.open_h5_file_read(f)\n",
    "            if track_ids:\n",
    "                for t_id in track_ids:\n",
    "                    if hdf5_getters.get_track_id(sh5) == t_id:\n",
    "                        get_all_features(t_id, features, sh5)\n",
    "            else:\n",
    "                t_id = hdf5_getters.get_track_id(sh5)\n",
    "                get_all_features(t_id, features, sh5)\n",
    "            if verbose > 1:\n",
    "                if count >= 1000:\n",
    "                    print \"1000!\"\n",
    "                    print \"elapsed time: \", time.time()-t1\n",
    "                    print \"round time: \", time.time()-t2\n",
    "                    print features[-1]\n",
    "                    count = 0\n",
    "                    t2 = time.time()\n",
    "                else:\n",
    "                    count += 1\n",
    "            sh5.close()\n",
    "    if verbose > 0:\n",
    "        print \"total time: \", (time.time()-t1)\n",
    "    return features"
   ]
  },
  {
   "cell_type": "code",
   "execution_count": 32,
   "metadata": {
    "collapsed": false
   },
   "outputs": [
    {
     "name": "stdout",
     "output_type": "stream",
     "text": [
      "['TRAIHYT128F9350C8D', 'TRAHHSV128F42374E3', 'TRAHGSZ128F930C9A6', 'TRAXASE128F9325369', 'TRAXKGF128F92D68E9', 'TRARFWJ128F9339D70', 'TRAAUIH128F4254C9D', 'TRAFJKG128F9332800', 'TRAFYGI12903CE9B9A', 'TRADDCV128F423BAB0', 'TRADZCV128F4294DFD', 'TRAPZAW128F930FEEF', 'TRAWINR128F93378C6', 'TRAZFZS128F4272A31', 'TRAGYJM128EF3466D2', 'TRAKISP128F4284A37', 'TRAKSPS128F933B3D9', 'TRBCHFG128F9353D72', 'TRBHZRN128F92EFF91', 'TRBBQFV128F4252EFF', 'TRBFXLH12903CBAFAD', 'TRBFATS128F9319AEB', 'TRBEFQY128F932EE3F', 'TRBGYHC12903D0626A']\n",
      "track_id, duration, fade_in, tempo, tatum_density, beat_density,         segment_density, section_density, loudness, mode, key, time_sig, pitches(3x12), louds(3), timbres(3x12)\n",
      "total time:  125.714949131\n",
      "['TRBGYHC12903D0626A', 1815.2224000000001, 0.23100000000000001, 262.82799999999997, 1.0, 1.7372134038800706, 58.15384615384615, 0.042969941314078094, -11.534000000000001, 1, 0, 7, 0.4068697089947092, 0.11680842151675491, 0.33634766313932957, 0.10223082010582031, 0.4290921516754847, 0.2470324074074072, 0.10865586419753057, 0.39555974426807805, 0.0906633597883596, 0.29855026455026473, 0.08279056437389716, 0.27657319223985816, 0.275, 0.069, 0.168, 0.068, 0.314, 0.091, 0.068, 0.251, 0.063, 0.123, 0.045, 0.1545, 1.0, 0.031, 1.0, 0.017, 1.0, 1.0, 0.018, 1.0, 0.015, 1.0, 0.011, 1.0, -14.125635582010583, -13.948499999999999, -15.739000000000001, 43.506957010581935, -33.065957231040514, 32.7044424603173, -3.2942231040564316, 28.267181216931203, -26.32841953262796, -19.322357804232794, -15.564601190476182, 10.48951763668434, 1.3645030864197554, 5.734372795414464, 11.788196649030006, 43.760000000000005, -41.7795, 29.2225, -6.288, 27.304000000000002, -28.262, -18.4905, -12.5875, 10.0445, 2.0164999999999997, 5.6, 12.244, 43.196, -122.128, 45.099, -15.044, -28.625, -48.74, 2.41, -28.339, -4.786, -9.531, -4.447, 20.122]\n"
     ]
    }
   ],
   "source": [
    "tids_only0 = [t[0] for t in tids]\n",
    "print tids_only0\n",
    "print \"track_id, duration, fade_in, tempo, tatum_density, beat_density, segment_density, section_density, \" \\\n",
    "        + \"loudness, mode, key, time_sig, pitches(3x12), louds(3), timbres(3x12)\"\n",
    "test_features = get_track_features(track_ids=tids_only0, verbose=1)\n",
    "print test_features[0]"
   ]
  },
  {
   "cell_type": "code",
   "execution_count": 34,
   "metadata": {
    "collapsed": false
   },
   "outputs": [
    {
     "name": "stdout",
     "output_type": "stream",
     "text": [
      "-15.739\n"
     ]
    }
   ],
   "source": [
    "print test_features[0][50]"
   ]
  },
  {
   "cell_type": "code",
   "execution_count": 38,
   "metadata": {
    "collapsed": false
   },
   "outputs": [
    {
     "name": "stdout",
     "output_type": "stream",
     "text": [
      "track_id, duration, fade_in, tempo, tatum_density, beat_density, segment_density, section_density, loudness, mode, key, time_sig, pitches(3x12), louds(3), timbres(3x12)\n",
      "1000!\n",
      "elapsed time:  710.096243858\n",
      "round time:  710.096272945\n",
      "['TRBBLTV12903CC3C00', 277.21098000000001, 0.16, 111.682, 2.0, 0.4145748987854251, 88.21428571428571, 0.050503050059561135, -10.416, 0, 10, 3, 0.39947611336032424, 0.4047765182186235, 0.2864178137651819, 0.2525433198380567, 0.26561376518218627, 0.49350202429149825, 0.29562995951417037, 0.24776599190283408, 0.24167449392712553, 0.2719910931174084, 0.3793757085020242, 0.24711659919028323, 0.277, 0.271, 0.197, 0.16, 0.179, 0.382, 0.21, 0.137, 0.134, 0.164, 0.247, 0.162, 1.0, 1.0, 1.0, 1.0, 1.0, 1.0, 1.0, 1.0, 1.0, 1.0, 1.0, 1.0, -12.322485020242915, -11.496, -13.042, 44.017012145748986, -15.268599999999989, 20.567357894736837, -5.011744129554655, -28.93324858299595, 5.606742510121475, -42.81682267206477, -8.117199190283388, 7.390285020242924, 0.7160591093117409, 4.142505263157893, 8.199586234817803, 45.135, -16.726, 25.962, -6.372, -27.418, 0.981, -40.558, -6.906, 5.768, -1.127, 5.38, 8.431, 46.096, -106.285, 8.351, -45.75, -50.225, -23.19, -57.613, -24.807, -0.128, -34.571, -9.434, -7.27]\n",
      "1000!\n",
      "elapsed time:  1399.95076489\n",
      "round time:  689.854389906\n",
      "['TRBDFWV128F93027EE', 194.66404, 0.34000000000000002, 35.603999999999999, 3.991228070175439, 0.2651162790697674, 86.0, 0.025685278082176861, -21.085000000000001, 1, 1, 4, 0.28808837209302357, 0.37587441860465143, 0.25526511627906984, 0.35320930232558145, 0.2906906976744187, 0.38026976744186075, 0.21414186046511616, 0.26469302325581395, 0.409853488372093, 0.22848139534883727, 0.25583488372093044, 0.18063488372093034, 0.164, 0.1685, 0.147, 0.2125, 0.1875, 0.2635, 0.098, 0.1485, 0.2765, 0.1205, 0.0895, 0.074, 1.0, 1.0, 1.0, 1.0, 1.0, 1.0, 1.0, 1.0, 1.0, 1.0, 1.0, 1.0, -26.372195348837209, -24.346499999999999, -27.559000000000001, 28.62048139534884, -67.0656, 63.43411395348838, -12.652960465116278, -9.769209302325576, 24.484234883720898, -7.952413953488375, 7.4876116279069755, -2.2948883720930287, 16.88253255813953, -10.843911627906973, 5.191897674418604, 30.0765, -85.17949999999999, 59.888999999999996, -12.840499999999999, -3.083, 15.327, -6.4615, 5.532, -8.9405, 12.028500000000001, -8.3545, 5.478999999999999, 12.312, -180.055, 52.212, -54.057, 12.347, -78.707, -124.085, -96.606, -15.798, -0.597, -3.856, -11.895]\n",
      "1000!\n",
      "elapsed time:  2076.94834495\n",
      "round time:  676.997379065\n",
      "['TRAZGIF128F934522F', 382.95465000000002, 3.6280000000000001, 100.13500000000001, 1.9984375, 0.44786564030790765, 102.07142857142857, 0.036557853521298145, -12.878, 0, 0, 4, 0.4625241427571729, 0.6233897830650804, 0.47959762071378564, 0.387127361791463, 0.34351924422673114, 0.3504303708887331, 0.25847445766270094, 0.31225332400279865, 0.24862071378586412, 0.36202729181245663, 0.299453463960812, 0.23605038488453453, 0.406, 0.623, 0.422, 0.314, 0.285, 0.25, 0.172, 0.197, 0.157, 0.244, 0.229, 0.171, 1.0, 1.0, 1.0, 1.0, 1.0, 1.0, 1.0, 1.0, 1.0, 1.0, 1.0, 1.0, -16.226004898530444, -15.148, -18.933, 39.12079776067173, 29.08956263121067, -60.74097410776762, -6.161435969209238, -17.67104688593421, -8.226130160951703, -13.183461161651524, -4.6155619314205785, 9.184418474457662, 3.013909027291812, -2.399219734079777, 4.7517564730580855, 40.637, 30.78, -63.878, -10.158, -17.596, -13.636, -14.04, -4.266, 9.534, 2.574, -2.477, 4.869, 28.161, 25.685, -83.957, -17.726, -56.871, -55.527, -39.603, -27.443, -4.624, -11.286, -26.447, -22.297]\n",
      "1000!\n",
      "elapsed time:  2741.36506391\n",
      "round time:  664.416568041\n",
      "['TRAWLVX128F934E63C', 207.54239999999999, 0.0, 68.543999999999997, 3.0, 0.47036328871892924, 58.111111111111114, 0.043364632961746613, -1.651, 1, 5, 4, 0.553837476099427, 0.4073785850860422, 0.3894665391969407, 0.400615678776291, 0.34690822179732356, 0.43276673040152996, 0.44892351816443576, 0.5636711281070741, 0.42347801147227526, 0.2983001912045889, 0.32929254302103284, 0.3901338432122376, 0.509, 0.303, 0.297, 0.289, 0.31, 0.326, 0.473, 0.491, 0.359, 0.271, 0.271, 0.27, 1.0, 1.0, 1.0, 1.0, 0.121, 1.0, 0.004, 1.0, 0.012, 1.0, 1.0, 1.0, -3.3611204588910133, -1.8660000000000001, -2.7250000000000001, 53.931242829827845, 8.077629063097515, 72.90852198852768, 17.005374760994254, -9.871665391969417, -18.4704569789675, 12.949921606118556, 3.8207437858508597, 2.8043250478011514, -6.114223709369027, 5.577030592734225, 16.626588910133837, 56.21, 14.155, 79.03, 12.068, -9.266, -24.47, 17.077, 4.151, 2.079, -6.848, 7.292, 14.366, 57.066, -0.267, -93.166, -91.973, -122.966, -33.919, 7.517, -58.754, -2.495, -13.123, 0.465, -3.036]\n",
      "1000!\n",
      "elapsed time:  3452.49147987\n",
      "round time:  711.126306057\n",
      "['TRATEMP128E0788535', 285.96199999999999, 4.8360000000000003, 100.059, 2.0, 0.5642256902761105, 52.0625, 0.055951490058119613, -6.7789999999999999, 1, 8, 3, 0.22779351740696296, 0.31636974789916, 0.3342112845138059, 0.5952028811524611, 0.26094837935174076, 0.2780552220888355, 0.2032761104441778, 0.38790036014405754, 0.3078499399759903, 0.19236374549819932, 0.40657382953181287, 0.17970948379351762, 0.146, 0.197, 0.286, 0.531, 0.225, 0.194, 0.121, 0.245, 0.166, 0.139, 0.345, 0.115, 1.0, 1.0, 1.0, 1.0, 0.054, 1.0, 0.032, 1.0, 1.0, 0.056, 1.0, 1.0, -11.532476590636254, -9.4860000000000007, -16.318000000000001, 45.92890156062424, 12.654996398559412, 40.83593397358943, -2.7829627851140435, -12.447541416566624, -16.45242977190876, 5.342110444177664, -4.296098439375753, 10.338510204081635, 3.311769507803123, -0.4636062424969983, 7.787250900360159, 48.361, 17.501, 39.224, -2.001, -8.329, -17.832, 4.582, -3.102, 7.543, 4.504, 0.417, 5.015, 38.595, -55.917, 16.404, 1.373, -44.954, -17.48, -14.842, -11.194, -1.102, -6.407, 3.846, -1.663]\n",
      "1000!\n",
      "elapsed time:  4140.03061485\n",
      "round time:  687.53898406\n",
      "['TRABGWT128F9334E43', 173.68771000000001, 0.314, 92.605999999999995, 2.0, 0.4066265060240964, 66.4, 0.057574597534851481, -7.1130000000000004, 1, 7, 4, 0.549051204819277, 0.35264156626506027, 0.2880692771084336, 0.20846837349397598, 0.429378012048193, 0.18715662650602435, 0.19324548192771088, 0.34377259036144564, 0.20714006024096362, 0.25771987951807224, 0.33087198795180744, 0.47571536144578264, 0.4915, 0.2715, 0.178, 0.1495, 0.33, 0.143, 0.128, 0.2005, 0.149, 0.1535, 0.216, 0.39, 1.0, 1.0, 1.0, 0.122, 1.0, 1.0, 0.03, 1.0, 1.0, 1.0, 1.0, 1.0, -8.9249397590361443, -8.6950000000000003, -12.054, 46.12032228915661, 21.770439759036165, 41.380739457831325, 2.6870632530120484, -9.841240963855412, 17.00864156626506, -8.98982228915663, -2.7729036144578285, -2.9511807228915656, 3.980126506024093, -8.494546686746988, -13.760438253012056, 46.528499999999994, 17.2785, 43.8635, 6.179, -9.48, 15.791, -8.487, -6.215, -2.2504999999999997, 3.7984999999999998, -6.353, -14.736, 45.97, -4.542, 38.599, -9.493, -26.002, 75.869, 5.284, -34.214, -17.9, -5.47, -25.826, -23.743]\n",
      "1000!\n",
      "elapsed time:  4812.06346798\n",
      "round time:  672.032702208\n",
      "['TRARRWA128F42A0195', 163.63057000000001, 0.0, 77.150000000000006, 3.0049261083743843, 0.43283582089552236, 78.16666666666667, 0.036667964916335623, -5.7949999999999999, 1, 7, 3, 0.5389658848614075, 0.5493475479744135, 0.42287633262260116, 0.4191556503198294, 0.4327931769722821, 0.454130063965885, 0.545194029850746, 0.5181918976545842, 0.4372238805970147, 0.38697014925373135, 0.44978464818763375, 0.538040511727079, 0.532, 0.507, 0.381, 0.343, 0.369, 0.393, 0.475, 0.446, 0.389, 0.337, 0.37, 0.482, 1.0, 1.0, 1.0, 1.0, 1.0, 1.0, 1.0, 1.0, 1.0, 1.0, 1.0, 1.0, -6.4582686567164176, -6.1769999999999996, -5.8449999999999998, 51.354688699360324, 29.592191897654555, 36.705763326226034, -1.993846481876332, -21.51920682302773, -27.862432835820904, 7.420505330490406, 1.1303070362473344, 13.464912579957359, 6.436215351812362, -1.8112430703624725, -9.93376119402986, 51.873, 30.546, 35.644, -4.094, -21.887, -28.768, 7.205, 1.048, 13.798, 6.123, -2.044, -9.627, 49.843, 50.2, -141.875, -26.26, -23.076, -36.054, -3.946, -1.796, 7.475, 0.825, -4.311, -14.994]\n",
      "1000!\n",
      "elapsed time:  5624.73669505\n",
      "round time:  812.673091888\n",
      "['TRASZCV128F42569C7', 132.85831999999999, 0.35099999999999998, 139.56, 2.0, 0.7009345794392523, 71.33333333333333, 0.045160890187381571, -13.616, 0, 0, 7, 0.33866588785046736, 0.25307943925233634, 0.18283878504672899, 0.3427523364485986, 0.16219626168224302, 0.18932710280373843, 0.1490046728971962, 0.28135514018691604, 0.4608014018691588, 0.3071051401869161, 0.3275724299065421, 0.2087079439252337, 0.184, 0.1105, 0.098, 0.1465, 0.091, 0.07050000000000001, 0.069, 0.1605, 0.3235, 0.201, 0.17, 0.109, 1.0, 1.0, 1.0, 1.0, 0.016, 1.0, 0.034, 1.0, 1.0, 1.0, 1.0, 1.0, -16.597357476635512, -15.951499999999999, -16.227, 39.43829906542059, -101.23989953271024, 7.462570093457938, -28.569689252336456, -8.854724299065413, 4.528532710280375, -37.55571261682242, -7.0336635514018635, 47.016212616822436, 6.709831775700944, 0.05865420560747638, 12.20003971962616, 40.338, -105.6935, 12.8735, -28.7575, -10.9075, -2.919, -38.294, -9.823, 44.1325, 6.028499999999999, 0.6755, 10.629, 42.531, -132.848, -127.276, -277.138, -17.183, -9.215, -49.381, 0.049, -46.653, 9.802, -7.507, -10.219]\n",
      "1000!\n",
      "elapsed time:  6337.94278884\n",
      "round time:  713.205887079\n",
      "['TRAAENC128F1451DE9', 300.79955000000001, 0.0, 124.175, 2.0, 0.5707762557077626, 99.54545454545455, 0.036569203644087896, -13.33, 1, 7, 4, 0.4258694063926936, 0.32380913242009146, 0.42740730593607335, 0.2220374429223746, 0.3466182648401822, 0.20699086757990856, 0.268402739726027, 0.47493150684931534, 0.23434611872146152, 0.33417899543378976, 0.22403105022831055, 0.3632484018264832, 0.295, 0.226, 0.296, 0.136, 0.219, 0.109, 0.187, 0.37, 0.154, 0.197, 0.125, 0.246, 1.0, 1.0, 1.0, 1.0, 1.0, 1.0, 1.0, 1.0, 0.062, 1.0, 1.0, 1.0, -16.981372602739725, -15.875, -17.0, 39.603214611872154, 2.540344292237443, 18.571319634703226, -9.771763470319653, 4.66405205479452, -3.5810493150684914, -11.318934246575338, -2.63098721461187, 10.427088584474859, -0.25310319634703093, -1.380728767123287, 19.029290410958925, 41.052, -3.984, 13.471, -10.242, 2.715, -8.245, -8.383, -4.091, 9.076, -0.675, 0.19, 17.281, 41.311, 4.671, -37.998, -44.219, -20.948, -30.094, -47.525, -21.927, 7.24, -17.336, -11.931, -9.94]\n",
      "total time:  6989.19942904\n"
     ]
    }
   ],
   "source": [
    "print \"track_id, duration, fade_in, tempo, tatum_density, beat_density, segment_density, section_density, \" \\\n",
    "      + \"loudness, mode, key, time_sig, pitches(3x12), louds(3), timbres(3x12)\"\n",
    "features = get_track_features(verbose=2)\n",
    "#total time:  6930.79542994\n",
    "#total time:  7129.08057904\n",
    "#replace energy and danceability with rhythm densities"
   ]
  },
  {
   "cell_type": "markdown",
   "metadata": {},
   "source": [
    "####Tests of pitch results and shape, as well as how to get the correct stats"
   ]
  },
  {
   "cell_type": "code",
   "execution_count": 106,
   "metadata": {
    "collapsed": false
   },
   "outputs": [],
   "source": [
    "#a = np.array([[1, 2], [3, 4], [5, 6]])\n",
    "#print np.mean(a, axis=0)\n",
    "#print np.mean(a, axis=1)"
   ]
  },
  {
   "cell_type": "code",
   "execution_count": 107,
   "metadata": {
    "collapsed": false
   },
   "outputs": [],
   "source": [
    "#print seg_pitches.shape\n",
    "#print type(seg_pitches)\n",
    "#seg_pitch_mean = np.mean(seg_pitches, axis=0)\n",
    "#print seg_pitch_mean.shape, \"\\n\", seg_pitch_mean.tolist()\n",
    "#print seg_pitches\n",
    "#print\n",
    "#print np.median(seg_pitches, axis=0).tolist()\n",
    "#print\n",
    "#print stats.mode(seg_pitches)[0].tolist()[0]"
   ]
  },
  {
   "cell_type": "markdown",
   "metadata": {},
   "source": [
    "###Generate track features dataframe"
   ]
  },
  {
   "cell_type": "markdown",
   "metadata": {},
   "source": [
    "####Create header labels"
   ]
  },
  {
   "cell_type": "code",
   "execution_count": 39,
   "metadata": {
    "collapsed": false
   },
   "outputs": [
    {
     "name": "stdout",
     "output_type": "stream",
     "text": [
      "['pitch_mean1', 'pitch_mean2', 'pitch_mean3', 'pitch_mean4', 'pitch_mean5', 'pitch_mean6', 'pitch_mean7', 'pitch_mean8', 'pitch_mean9', 'pitch_mean10', 'pitch_mean11', 'pitch_mean12']\n"
     ]
    }
   ],
   "source": [
    "p_mean_titles = [\"pitch_mean\"+str(n) for n in range(1,13)]\n",
    "p_median_titles = [\"pitch_median\"+str(n) for n in range(1,13)]\n",
    "p_mode_titles = [\"pitch_mode\"+str(n) for n in range(1,13)]\n",
    "print p_mean_titles\n",
    "\n",
    "t_mean_titles = [\"timbre_mean\"+str(n) for n in range(1,13)]\n",
    "t_median_titles = [\"timbre_median\"+str(n) for n in range(1,13)]\n",
    "t_mode_titles = [\"timbre_mode\"+str(n) for n in range(1,13)]"
   ]
  },
  {
   "cell_type": "code",
   "execution_count": 40,
   "metadata": {
    "collapsed": false
   },
   "outputs": [
    {
     "name": "stdout",
     "output_type": "stream",
     "text": [
      "87 \n",
      "['track_id', 'duration', 'fade_in', 'tempo', 'tatum_density', 'beat_density', 'segment_density', 'section_density', 'loudness', 'mode', 'key', 'time_sig', 'pitch_mean1', 'pitch_mean2', 'pitch_mean3', 'pitch_mean4', 'pitch_mean5', 'pitch_mean6', 'pitch_mean7', 'pitch_mean8', 'pitch_mean9', 'pitch_mean10', 'pitch_mean11', 'pitch_mean12', 'pitch_median1', 'pitch_median2', 'pitch_median3', 'pitch_median4', 'pitch_median5', 'pitch_median6', 'pitch_median7', 'pitch_median8', 'pitch_median9', 'pitch_median10', 'pitch_median11', 'pitch_median12', 'pitch_mode1', 'pitch_mode2', 'pitch_mode3', 'pitch_mode4', 'pitch_mode5', 'pitch_mode6', 'pitch_mode7', 'pitch_mode8', 'pitch_mode9', 'pitch_mode10', 'pitch_mode11', 'pitch_mode12', 'loud_mean', 'loud_median', 'loud_mode', 'timbre_mean1', 'timbre_mean2', 'timbre_mean3', 'timbre_mean4', 'timbre_mean5', 'timbre_mean6', 'timbre_mean7', 'timbre_mean8', 'timbre_mean9', 'timbre_mean10', 'timbre_mean11', 'timbre_mean12', 'timbre_median1', 'timbre_median2', 'timbre_median3', 'timbre_median4', 'timbre_median5', 'timbre_median6', 'timbre_median7', 'timbre_median8', 'timbre_median9', 'timbre_median10', 'timbre_median11', 'timbre_median12', 'timbre_mode1', 'timbre_mode2', 'timbre_mode3', 'timbre_mode4', 'timbre_mode5', 'timbre_mode6', 'timbre_mode7', 'timbre_mode8', 'timbre_mode9', 'timbre_mode10', 'timbre_mode11', 'timbre_mode12']\n"
     ]
    }
   ],
   "source": [
    "heads = [\"track_id\", \"duration\", \"fade_in\", \"tempo\", \"tatum_density\", \"beat_density\", \"segment_density\",\n",
    "         \"section_density\", \"loudness\", \"mode\", \"key\", \"time_sig\"] \\\n",
    "         + p_mean_titles + p_median_titles + p_mode_titles + \\\n",
    "         [\"loud_mean\", \"loud_median\", \"loud_mode\"] + t_mean_titles + t_median_titles + t_mode_titles\n",
    "print len(heads), \"\\n\", heads"
   ]
  },
  {
   "cell_type": "markdown",
   "metadata": {},
   "source": [
    "####Initial dataframe"
   ]
  },
  {
   "cell_type": "code",
   "execution_count": 41,
   "metadata": {
    "collapsed": false
   },
   "outputs": [],
   "source": [
    "df = pd.DataFrame(features, columns=heads)"
   ]
  },
  {
   "cell_type": "code",
   "execution_count": 42,
   "metadata": {
    "collapsed": false,
    "scrolled": true
   },
   "outputs": [
    {
     "data": {
      "text/html": [
       "<div>\n",
       "<table border=\"1\" class=\"dataframe\">\n",
       "  <thead>\n",
       "    <tr style=\"text-align: right;\">\n",
       "      <th></th>\n",
       "      <th>track_id</th>\n",
       "      <th>duration</th>\n",
       "      <th>fade_in</th>\n",
       "      <th>tempo</th>\n",
       "      <th>tatum_density</th>\n",
       "      <th>beat_density</th>\n",
       "      <th>segment_density</th>\n",
       "      <th>section_density</th>\n",
       "      <th>loudness</th>\n",
       "      <th>mode</th>\n",
       "      <th>...</th>\n",
       "      <th>timbre_mode3</th>\n",
       "      <th>timbre_mode4</th>\n",
       "      <th>timbre_mode5</th>\n",
       "      <th>timbre_mode6</th>\n",
       "      <th>timbre_mode7</th>\n",
       "      <th>timbre_mode8</th>\n",
       "      <th>timbre_mode9</th>\n",
       "      <th>timbre_mode10</th>\n",
       "      <th>timbre_mode11</th>\n",
       "      <th>timbre_mode12</th>\n",
       "    </tr>\n",
       "  </thead>\n",
       "  <tbody>\n",
       "    <tr>\n",
       "      <th>0</th>\n",
       "      <td>TRBGPHG12903CE6CC3</td>\n",
       "      <td>162.24608</td>\n",
       "      <td>0.162</td>\n",
       "      <td>116.083</td>\n",
       "      <td>2.003279</td>\n",
       "      <td>0.449190</td>\n",
       "      <td>75.444444</td>\n",
       "      <td>0.055471</td>\n",
       "      <td>-15.925</td>\n",
       "      <td>1</td>\n",
       "      <td>...</td>\n",
       "      <td>50.255</td>\n",
       "      <td>43.133</td>\n",
       "      <td>-14.848</td>\n",
       "      <td>-6.216</td>\n",
       "      <td>-36.211</td>\n",
       "      <td>-14.181</td>\n",
       "      <td>-10.398</td>\n",
       "      <td>-15.291</td>\n",
       "      <td>-38.765</td>\n",
       "      <td>-4.891</td>\n",
       "    </tr>\n",
       "    <tr>\n",
       "      <th>1</th>\n",
       "      <td>TRBGPYK128F42796E1</td>\n",
       "      <td>344.21506</td>\n",
       "      <td>8.388</td>\n",
       "      <td>153.939</td>\n",
       "      <td>2.000000</td>\n",
       "      <td>0.791704</td>\n",
       "      <td>100.818182</td>\n",
       "      <td>0.031957</td>\n",
       "      <td>-9.985</td>\n",
       "      <td>1</td>\n",
       "      <td>...</td>\n",
       "      <td>2.374</td>\n",
       "      <td>-15.719</td>\n",
       "      <td>-6.225</td>\n",
       "      <td>-40.024</td>\n",
       "      <td>-61.058</td>\n",
       "      <td>-13.232</td>\n",
       "      <td>-26.859</td>\n",
       "      <td>-6.637</td>\n",
       "      <td>-6.181</td>\n",
       "      <td>-7.260</td>\n",
       "    </tr>\n",
       "    <tr>\n",
       "      <th>2</th>\n",
       "      <td>TRBGPJP128E078ED20</td>\n",
       "      <td>318.61506</td>\n",
       "      <td>0.287</td>\n",
       "      <td>232.709</td>\n",
       "      <td>1.000000</td>\n",
       "      <td>1.468565</td>\n",
       "      <td>64.846154</td>\n",
       "      <td>0.040802</td>\n",
       "      <td>-4.430</td>\n",
       "      <td>0</td>\n",
       "      <td>...</td>\n",
       "      <td>40.848</td>\n",
       "      <td>-14.816</td>\n",
       "      <td>-23.065</td>\n",
       "      <td>-30.342</td>\n",
       "      <td>11.848</td>\n",
       "      <td>-38.658</td>\n",
       "      <td>4.058</td>\n",
       "      <td>-2.595</td>\n",
       "      <td>-12.936</td>\n",
       "      <td>-10.203</td>\n",
       "    </tr>\n",
       "    <tr>\n",
       "      <th>3</th>\n",
       "      <td>TRBGPXH128F428C912</td>\n",
       "      <td>228.38812</td>\n",
       "      <td>0.316</td>\n",
       "      <td>99.381</td>\n",
       "      <td>2.002646</td>\n",
       "      <td>0.610662</td>\n",
       "      <td>47.615385</td>\n",
       "      <td>0.056921</td>\n",
       "      <td>-16.107</td>\n",
       "      <td>1</td>\n",
       "      <td>...</td>\n",
       "      <td>-191.506</td>\n",
       "      <td>-280.943</td>\n",
       "      <td>-44.835</td>\n",
       "      <td>-68.281</td>\n",
       "      <td>-15.739</td>\n",
       "      <td>12.542</td>\n",
       "      <td>-36.845</td>\n",
       "      <td>-13.414</td>\n",
       "      <td>1.470</td>\n",
       "      <td>16.671</td>\n",
       "    </tr>\n",
       "    <tr>\n",
       "      <th>4</th>\n",
       "      <td>TRBGPSV12903CA9C25</td>\n",
       "      <td>251.55873</td>\n",
       "      <td>0.723</td>\n",
       "      <td>173.974</td>\n",
       "      <td>1.998596</td>\n",
       "      <td>0.596815</td>\n",
       "      <td>108.454545</td>\n",
       "      <td>0.043727</td>\n",
       "      <td>-5.794</td>\n",
       "      <td>1</td>\n",
       "      <td>...</td>\n",
       "      <td>-38.144</td>\n",
       "      <td>20.980</td>\n",
       "      <td>-45.595</td>\n",
       "      <td>-36.786</td>\n",
       "      <td>-29.561</td>\n",
       "      <td>-39.134</td>\n",
       "      <td>-12.461</td>\n",
       "      <td>-15.608</td>\n",
       "      <td>2.605</td>\n",
       "      <td>-22.469</td>\n",
       "    </tr>\n",
       "    <tr>\n",
       "      <th>5</th>\n",
       "      <td>TRBGPAX12903CEC037</td>\n",
       "      <td>188.26404</td>\n",
       "      <td>0.000</td>\n",
       "      <td>78.498</td>\n",
       "      <td>2.000000</td>\n",
       "      <td>0.446655</td>\n",
       "      <td>61.444444</td>\n",
       "      <td>0.047805</td>\n",
       "      <td>-18.335</td>\n",
       "      <td>1</td>\n",
       "      <td>...</td>\n",
       "      <td>116.210</td>\n",
       "      <td>-160.697</td>\n",
       "      <td>21.198</td>\n",
       "      <td>-74.912</td>\n",
       "      <td>21.562</td>\n",
       "      <td>7.834</td>\n",
       "      <td>-24.402</td>\n",
       "      <td>-7.540</td>\n",
       "      <td>6.403</td>\n",
       "      <td>-14.735</td>\n",
       "    </tr>\n",
       "  </tbody>\n",
       "</table>\n",
       "<p>6 rows × 87 columns</p>\n",
       "</div>"
      ],
      "text/plain": [
       "             track_id   duration  fade_in    tempo  tatum_density  \\\n",
       "0  TRBGPHG12903CE6CC3  162.24608    0.162  116.083       2.003279   \n",
       "1  TRBGPYK128F42796E1  344.21506    8.388  153.939       2.000000   \n",
       "2  TRBGPJP128E078ED20  318.61506    0.287  232.709       1.000000   \n",
       "3  TRBGPXH128F428C912  228.38812    0.316   99.381       2.002646   \n",
       "4  TRBGPSV12903CA9C25  251.55873    0.723  173.974       1.998596   \n",
       "5  TRBGPAX12903CEC037  188.26404    0.000   78.498       2.000000   \n",
       "\n",
       "   beat_density  segment_density  section_density  loudness  mode  \\\n",
       "0      0.449190        75.444444         0.055471   -15.925     1   \n",
       "1      0.791704       100.818182         0.031957    -9.985     1   \n",
       "2      1.468565        64.846154         0.040802    -4.430     0   \n",
       "3      0.610662        47.615385         0.056921   -16.107     1   \n",
       "4      0.596815       108.454545         0.043727    -5.794     1   \n",
       "5      0.446655        61.444444         0.047805   -18.335     1   \n",
       "\n",
       "       ...        timbre_mode3  timbre_mode4  timbre_mode5  timbre_mode6  \\\n",
       "0      ...              50.255        43.133       -14.848        -6.216   \n",
       "1      ...               2.374       -15.719        -6.225       -40.024   \n",
       "2      ...              40.848       -14.816       -23.065       -30.342   \n",
       "3      ...            -191.506      -280.943       -44.835       -68.281   \n",
       "4      ...             -38.144        20.980       -45.595       -36.786   \n",
       "5      ...             116.210      -160.697        21.198       -74.912   \n",
       "\n",
       "   timbre_mode7  timbre_mode8  timbre_mode9  timbre_mode10  timbre_mode11  \\\n",
       "0       -36.211       -14.181       -10.398        -15.291        -38.765   \n",
       "1       -61.058       -13.232       -26.859         -6.637         -6.181   \n",
       "2        11.848       -38.658         4.058         -2.595        -12.936   \n",
       "3       -15.739        12.542       -36.845        -13.414          1.470   \n",
       "4       -29.561       -39.134       -12.461        -15.608          2.605   \n",
       "5        21.562         7.834       -24.402         -7.540          6.403   \n",
       "\n",
       "   timbre_mode12  \n",
       "0         -4.891  \n",
       "1         -7.260  \n",
       "2        -10.203  \n",
       "3         16.671  \n",
       "4        -22.469  \n",
       "5        -14.735  \n",
       "\n",
       "[6 rows x 87 columns]"
      ]
     },
     "execution_count": 42,
     "metadata": {},
     "output_type": "execute_result"
    }
   ],
   "source": [
    "df.head(6)"
   ]
  },
  {
   "cell_type": "markdown",
   "metadata": {},
   "source": [
    "###Split into segment data frames"
   ]
  },
  {
   "cell_type": "code",
   "execution_count": 43,
   "metadata": {
    "collapsed": false
   },
   "outputs": [
    {
     "data": {
      "text/plain": [
       "0    TRBGPHG12903CE6CC3\n",
       "1    TRBGPYK128F42796E1\n",
       "2    TRBGPJP128E078ED20\n",
       "3    TRBGPXH128F428C912\n",
       "4    TRBGPSV12903CA9C25\n",
       "5    TRBGPAX12903CEC037\n",
       "Name: track_id, dtype: object"
      ]
     },
     "execution_count": 43,
     "metadata": {},
     "output_type": "execute_result"
    }
   ],
   "source": [
    "track_ids = df[\"track_id\"]\n",
    "track_ids.head(6)"
   ]
  },
  {
   "cell_type": "markdown",
   "metadata": {},
   "source": [
    "#### Handle categorical variables\n",
    "(get dummies where necessary)"
   ]
  },
  {
   "cell_type": "code",
   "execution_count": 44,
   "metadata": {
    "collapsed": false
   },
   "outputs": [
    {
     "data": {
      "text/plain": [
       "0    1\n",
       "1    1\n",
       "2    0\n",
       "3    1\n",
       "4    1\n",
       "5    1\n",
       "Name: mode, dtype: int64"
      ]
     },
     "execution_count": 44,
     "metadata": {},
     "output_type": "execute_result"
    }
   ],
   "source": [
    "modes = df[\"mode\"]\n",
    "modes.head(6)"
   ]
  },
  {
   "cell_type": "code",
   "execution_count": 45,
   "metadata": {
    "collapsed": false
   },
   "outputs": [
    {
     "data": {
      "text/html": [
       "<div>\n",
       "<table border=\"1\" class=\"dataframe\">\n",
       "  <thead>\n",
       "    <tr style=\"text-align: right;\">\n",
       "      <th></th>\n",
       "      <th>key_0</th>\n",
       "      <th>key_1</th>\n",
       "      <th>key_2</th>\n",
       "      <th>key_3</th>\n",
       "      <th>key_4</th>\n",
       "      <th>key_5</th>\n",
       "      <th>key_6</th>\n",
       "      <th>key_7</th>\n",
       "      <th>key_8</th>\n",
       "      <th>key_9</th>\n",
       "      <th>key_10</th>\n",
       "      <th>key_11</th>\n",
       "    </tr>\n",
       "  </thead>\n",
       "  <tbody>\n",
       "    <tr>\n",
       "      <th>0</th>\n",
       "      <td>0</td>\n",
       "      <td>0</td>\n",
       "      <td>0</td>\n",
       "      <td>1</td>\n",
       "      <td>0</td>\n",
       "      <td>0</td>\n",
       "      <td>0</td>\n",
       "      <td>0</td>\n",
       "      <td>0</td>\n",
       "      <td>0</td>\n",
       "      <td>0</td>\n",
       "      <td>0</td>\n",
       "    </tr>\n",
       "    <tr>\n",
       "      <th>1</th>\n",
       "      <td>0</td>\n",
       "      <td>0</td>\n",
       "      <td>0</td>\n",
       "      <td>0</td>\n",
       "      <td>0</td>\n",
       "      <td>1</td>\n",
       "      <td>0</td>\n",
       "      <td>0</td>\n",
       "      <td>0</td>\n",
       "      <td>0</td>\n",
       "      <td>0</td>\n",
       "      <td>0</td>\n",
       "    </tr>\n",
       "    <tr>\n",
       "      <th>2</th>\n",
       "      <td>0</td>\n",
       "      <td>0</td>\n",
       "      <td>0</td>\n",
       "      <td>0</td>\n",
       "      <td>0</td>\n",
       "      <td>0</td>\n",
       "      <td>1</td>\n",
       "      <td>0</td>\n",
       "      <td>0</td>\n",
       "      <td>0</td>\n",
       "      <td>0</td>\n",
       "      <td>0</td>\n",
       "    </tr>\n",
       "    <tr>\n",
       "      <th>3</th>\n",
       "      <td>0</td>\n",
       "      <td>0</td>\n",
       "      <td>0</td>\n",
       "      <td>0</td>\n",
       "      <td>0</td>\n",
       "      <td>0</td>\n",
       "      <td>0</td>\n",
       "      <td>0</td>\n",
       "      <td>1</td>\n",
       "      <td>0</td>\n",
       "      <td>0</td>\n",
       "      <td>0</td>\n",
       "    </tr>\n",
       "    <tr>\n",
       "      <th>4</th>\n",
       "      <td>0</td>\n",
       "      <td>0</td>\n",
       "      <td>0</td>\n",
       "      <td>0</td>\n",
       "      <td>0</td>\n",
       "      <td>0</td>\n",
       "      <td>0</td>\n",
       "      <td>1</td>\n",
       "      <td>0</td>\n",
       "      <td>0</td>\n",
       "      <td>0</td>\n",
       "      <td>0</td>\n",
       "    </tr>\n",
       "    <tr>\n",
       "      <th>5</th>\n",
       "      <td>0</td>\n",
       "      <td>0</td>\n",
       "      <td>0</td>\n",
       "      <td>0</td>\n",
       "      <td>0</td>\n",
       "      <td>0</td>\n",
       "      <td>0</td>\n",
       "      <td>0</td>\n",
       "      <td>0</td>\n",
       "      <td>0</td>\n",
       "      <td>0</td>\n",
       "      <td>1</td>\n",
       "    </tr>\n",
       "  </tbody>\n",
       "</table>\n",
       "</div>"
      ],
      "text/plain": [
       "   key_0  key_1  key_2  key_3  key_4  key_5  key_6  key_7  key_8  key_9  \\\n",
       "0      0      0      0      1      0      0      0      0      0      0   \n",
       "1      0      0      0      0      0      1      0      0      0      0   \n",
       "2      0      0      0      0      0      0      1      0      0      0   \n",
       "3      0      0      0      0      0      0      0      0      1      0   \n",
       "4      0      0      0      0      0      0      0      1      0      0   \n",
       "5      0      0      0      0      0      0      0      0      0      0   \n",
       "\n",
       "   key_10  key_11  \n",
       "0       0       0  \n",
       "1       0       0  \n",
       "2       0       0  \n",
       "3       0       0  \n",
       "4       0       0  \n",
       "5       0       1  "
      ]
     },
     "execution_count": 45,
     "metadata": {},
     "output_type": "execute_result"
    }
   ],
   "source": [
    "keys = pd.get_dummies(df[\"key\"], prefix=\"key\")\n",
    "keys.head(6)"
   ]
  },
  {
   "cell_type": "code",
   "execution_count": 46,
   "metadata": {
    "collapsed": false
   },
   "outputs": [
    {
     "data": {
      "text/html": [
       "<div>\n",
       "<table border=\"1\" class=\"dataframe\">\n",
       "  <thead>\n",
       "    <tr style=\"text-align: right;\">\n",
       "      <th></th>\n",
       "      <th>time_sig_0</th>\n",
       "      <th>time_sig_1</th>\n",
       "      <th>time_sig_3</th>\n",
       "      <th>time_sig_4</th>\n",
       "      <th>time_sig_5</th>\n",
       "      <th>time_sig_7</th>\n",
       "    </tr>\n",
       "  </thead>\n",
       "  <tbody>\n",
       "    <tr>\n",
       "      <th>0</th>\n",
       "      <td>0</td>\n",
       "      <td>0</td>\n",
       "      <td>1</td>\n",
       "      <td>0</td>\n",
       "      <td>0</td>\n",
       "      <td>0</td>\n",
       "    </tr>\n",
       "    <tr>\n",
       "      <th>1</th>\n",
       "      <td>0</td>\n",
       "      <td>0</td>\n",
       "      <td>0</td>\n",
       "      <td>1</td>\n",
       "      <td>0</td>\n",
       "      <td>0</td>\n",
       "    </tr>\n",
       "    <tr>\n",
       "      <th>2</th>\n",
       "      <td>0</td>\n",
       "      <td>0</td>\n",
       "      <td>1</td>\n",
       "      <td>0</td>\n",
       "      <td>0</td>\n",
       "      <td>0</td>\n",
       "    </tr>\n",
       "    <tr>\n",
       "      <th>3</th>\n",
       "      <td>0</td>\n",
       "      <td>1</td>\n",
       "      <td>0</td>\n",
       "      <td>0</td>\n",
       "      <td>0</td>\n",
       "      <td>0</td>\n",
       "    </tr>\n",
       "    <tr>\n",
       "      <th>4</th>\n",
       "      <td>0</td>\n",
       "      <td>0</td>\n",
       "      <td>0</td>\n",
       "      <td>1</td>\n",
       "      <td>0</td>\n",
       "      <td>0</td>\n",
       "    </tr>\n",
       "    <tr>\n",
       "      <th>5</th>\n",
       "      <td>0</td>\n",
       "      <td>1</td>\n",
       "      <td>0</td>\n",
       "      <td>0</td>\n",
       "      <td>0</td>\n",
       "      <td>0</td>\n",
       "    </tr>\n",
       "  </tbody>\n",
       "</table>\n",
       "</div>"
      ],
      "text/plain": [
       "   time_sig_0  time_sig_1  time_sig_3  time_sig_4  time_sig_5  time_sig_7\n",
       "0           0           0           1           0           0           0\n",
       "1           0           0           0           1           0           0\n",
       "2           0           0           1           0           0           0\n",
       "3           0           1           0           0           0           0\n",
       "4           0           0           0           1           0           0\n",
       "5           0           1           0           0           0           0"
      ]
     },
     "execution_count": 46,
     "metadata": {},
     "output_type": "execute_result"
    }
   ],
   "source": [
    "times = pd.get_dummies(df[\"time_sig\"], prefix=\"time_sig\") #\"ts-1\", \"ts1\", \"ts3\", \"ts4\", \"ts5\", \"ts6\", \"ts7\"\n",
    "times.head(6)"
   ]
  },
  {
   "cell_type": "code",
   "execution_count": 47,
   "metadata": {
    "collapsed": false
   },
   "outputs": [
    {
     "data": {
      "text/html": [
       "<div>\n",
       "<table border=\"1\" class=\"dataframe\">\n",
       "  <thead>\n",
       "    <tr style=\"text-align: right;\">\n",
       "      <th></th>\n",
       "      <th>mode</th>\n",
       "      <th>key_0</th>\n",
       "      <th>key_1</th>\n",
       "      <th>key_2</th>\n",
       "      <th>key_3</th>\n",
       "      <th>key_4</th>\n",
       "      <th>key_5</th>\n",
       "      <th>key_6</th>\n",
       "      <th>key_7</th>\n",
       "      <th>key_8</th>\n",
       "      <th>key_9</th>\n",
       "      <th>key_10</th>\n",
       "      <th>key_11</th>\n",
       "      <th>time_sig_0</th>\n",
       "      <th>time_sig_1</th>\n",
       "      <th>time_sig_3</th>\n",
       "      <th>time_sig_4</th>\n",
       "      <th>time_sig_5</th>\n",
       "      <th>time_sig_7</th>\n",
       "    </tr>\n",
       "  </thead>\n",
       "  <tbody>\n",
       "    <tr>\n",
       "      <th>0</th>\n",
       "      <td>1</td>\n",
       "      <td>0</td>\n",
       "      <td>0</td>\n",
       "      <td>0</td>\n",
       "      <td>1</td>\n",
       "      <td>0</td>\n",
       "      <td>0</td>\n",
       "      <td>0</td>\n",
       "      <td>0</td>\n",
       "      <td>0</td>\n",
       "      <td>0</td>\n",
       "      <td>0</td>\n",
       "      <td>0</td>\n",
       "      <td>0</td>\n",
       "      <td>0</td>\n",
       "      <td>1</td>\n",
       "      <td>0</td>\n",
       "      <td>0</td>\n",
       "      <td>0</td>\n",
       "    </tr>\n",
       "    <tr>\n",
       "      <th>1</th>\n",
       "      <td>1</td>\n",
       "      <td>0</td>\n",
       "      <td>0</td>\n",
       "      <td>0</td>\n",
       "      <td>0</td>\n",
       "      <td>0</td>\n",
       "      <td>1</td>\n",
       "      <td>0</td>\n",
       "      <td>0</td>\n",
       "      <td>0</td>\n",
       "      <td>0</td>\n",
       "      <td>0</td>\n",
       "      <td>0</td>\n",
       "      <td>0</td>\n",
       "      <td>0</td>\n",
       "      <td>0</td>\n",
       "      <td>1</td>\n",
       "      <td>0</td>\n",
       "      <td>0</td>\n",
       "    </tr>\n",
       "    <tr>\n",
       "      <th>2</th>\n",
       "      <td>0</td>\n",
       "      <td>0</td>\n",
       "      <td>0</td>\n",
       "      <td>0</td>\n",
       "      <td>0</td>\n",
       "      <td>0</td>\n",
       "      <td>0</td>\n",
       "      <td>1</td>\n",
       "      <td>0</td>\n",
       "      <td>0</td>\n",
       "      <td>0</td>\n",
       "      <td>0</td>\n",
       "      <td>0</td>\n",
       "      <td>0</td>\n",
       "      <td>0</td>\n",
       "      <td>1</td>\n",
       "      <td>0</td>\n",
       "      <td>0</td>\n",
       "      <td>0</td>\n",
       "    </tr>\n",
       "    <tr>\n",
       "      <th>3</th>\n",
       "      <td>1</td>\n",
       "      <td>0</td>\n",
       "      <td>0</td>\n",
       "      <td>0</td>\n",
       "      <td>0</td>\n",
       "      <td>0</td>\n",
       "      <td>0</td>\n",
       "      <td>0</td>\n",
       "      <td>0</td>\n",
       "      <td>1</td>\n",
       "      <td>0</td>\n",
       "      <td>0</td>\n",
       "      <td>0</td>\n",
       "      <td>0</td>\n",
       "      <td>1</td>\n",
       "      <td>0</td>\n",
       "      <td>0</td>\n",
       "      <td>0</td>\n",
       "      <td>0</td>\n",
       "    </tr>\n",
       "    <tr>\n",
       "      <th>4</th>\n",
       "      <td>1</td>\n",
       "      <td>0</td>\n",
       "      <td>0</td>\n",
       "      <td>0</td>\n",
       "      <td>0</td>\n",
       "      <td>0</td>\n",
       "      <td>0</td>\n",
       "      <td>0</td>\n",
       "      <td>1</td>\n",
       "      <td>0</td>\n",
       "      <td>0</td>\n",
       "      <td>0</td>\n",
       "      <td>0</td>\n",
       "      <td>0</td>\n",
       "      <td>0</td>\n",
       "      <td>0</td>\n",
       "      <td>1</td>\n",
       "      <td>0</td>\n",
       "      <td>0</td>\n",
       "    </tr>\n",
       "    <tr>\n",
       "      <th>5</th>\n",
       "      <td>1</td>\n",
       "      <td>0</td>\n",
       "      <td>0</td>\n",
       "      <td>0</td>\n",
       "      <td>0</td>\n",
       "      <td>0</td>\n",
       "      <td>0</td>\n",
       "      <td>0</td>\n",
       "      <td>0</td>\n",
       "      <td>0</td>\n",
       "      <td>0</td>\n",
       "      <td>0</td>\n",
       "      <td>1</td>\n",
       "      <td>0</td>\n",
       "      <td>1</td>\n",
       "      <td>0</td>\n",
       "      <td>0</td>\n",
       "      <td>0</td>\n",
       "      <td>0</td>\n",
       "    </tr>\n",
       "  </tbody>\n",
       "</table>\n",
       "</div>"
      ],
      "text/plain": [
       "   mode  key_0  key_1  key_2  key_3  key_4  key_5  key_6  key_7  key_8  key_9  \\\n",
       "0     1      0      0      0      1      0      0      0      0      0      0   \n",
       "1     1      0      0      0      0      0      1      0      0      0      0   \n",
       "2     0      0      0      0      0      0      0      1      0      0      0   \n",
       "3     1      0      0      0      0      0      0      0      0      1      0   \n",
       "4     1      0      0      0      0      0      0      0      1      0      0   \n",
       "5     1      0      0      0      0      0      0      0      0      0      0   \n",
       "\n",
       "   key_10  key_11  time_sig_0  time_sig_1  time_sig_3  time_sig_4  time_sig_5  \\\n",
       "0       0       0           0           0           1           0           0   \n",
       "1       0       0           0           0           0           1           0   \n",
       "2       0       0           0           0           1           0           0   \n",
       "3       0       0           0           1           0           0           0   \n",
       "4       0       0           0           0           0           1           0   \n",
       "5       0       1           0           1           0           0           0   \n",
       "\n",
       "   time_sig_7  \n",
       "0           0  \n",
       "1           0  \n",
       "2           0  \n",
       "3           0  \n",
       "4           0  \n",
       "5           0  "
      ]
     },
     "execution_count": 47,
     "metadata": {},
     "output_type": "execute_result"
    }
   ],
   "source": [
    "categoricals = pd.concat([modes, keys,times], axis=1)\n",
    "categoricals.head(6)"
   ]
  },
  {
   "cell_type": "markdown",
   "metadata": {},
   "source": [
    "####Generate z scores for non categorical variables"
   ]
  },
  {
   "cell_type": "code",
   "execution_count": 76,
   "metadata": {
    "collapsed": false
   },
   "outputs": [
    {
     "data": {
      "text/html": [
       "<div>\n",
       "<table border=\"1\" class=\"dataframe\">\n",
       "  <thead>\n",
       "    <tr style=\"text-align: right;\">\n",
       "      <th></th>\n",
       "      <th>duration</th>\n",
       "      <th>fade_in</th>\n",
       "      <th>tempo</th>\n",
       "      <th>tatum_density</th>\n",
       "      <th>beat_density</th>\n",
       "      <th>segment_density</th>\n",
       "      <th>section_density</th>\n",
       "      <th>loudness</th>\n",
       "    </tr>\n",
       "  </thead>\n",
       "  <tbody>\n",
       "    <tr>\n",
       "      <th>0</th>\n",
       "      <td>162.24608</td>\n",
       "      <td>0.162</td>\n",
       "      <td>116.083</td>\n",
       "      <td>2.003279</td>\n",
       "      <td>0.449190</td>\n",
       "      <td>75.444444</td>\n",
       "      <td>0.055471</td>\n",
       "      <td>-15.925</td>\n",
       "    </tr>\n",
       "    <tr>\n",
       "      <th>1</th>\n",
       "      <td>344.21506</td>\n",
       "      <td>8.388</td>\n",
       "      <td>153.939</td>\n",
       "      <td>2.000000</td>\n",
       "      <td>0.791704</td>\n",
       "      <td>100.818182</td>\n",
       "      <td>0.031957</td>\n",
       "      <td>-9.985</td>\n",
       "    </tr>\n",
       "    <tr>\n",
       "      <th>2</th>\n",
       "      <td>318.61506</td>\n",
       "      <td>0.287</td>\n",
       "      <td>232.709</td>\n",
       "      <td>1.000000</td>\n",
       "      <td>1.468565</td>\n",
       "      <td>64.846154</td>\n",
       "      <td>0.040802</td>\n",
       "      <td>-4.430</td>\n",
       "    </tr>\n",
       "    <tr>\n",
       "      <th>3</th>\n",
       "      <td>228.38812</td>\n",
       "      <td>0.316</td>\n",
       "      <td>99.381</td>\n",
       "      <td>2.002646</td>\n",
       "      <td>0.610662</td>\n",
       "      <td>47.615385</td>\n",
       "      <td>0.056921</td>\n",
       "      <td>-16.107</td>\n",
       "    </tr>\n",
       "    <tr>\n",
       "      <th>4</th>\n",
       "      <td>251.55873</td>\n",
       "      <td>0.723</td>\n",
       "      <td>173.974</td>\n",
       "      <td>1.998596</td>\n",
       "      <td>0.596815</td>\n",
       "      <td>108.454545</td>\n",
       "      <td>0.043727</td>\n",
       "      <td>-5.794</td>\n",
       "    </tr>\n",
       "    <tr>\n",
       "      <th>5</th>\n",
       "      <td>188.26404</td>\n",
       "      <td>0.000</td>\n",
       "      <td>78.498</td>\n",
       "      <td>2.000000</td>\n",
       "      <td>0.446655</td>\n",
       "      <td>61.444444</td>\n",
       "      <td>0.047805</td>\n",
       "      <td>-18.335</td>\n",
       "    </tr>\n",
       "  </tbody>\n",
       "</table>\n",
       "</div>"
      ],
      "text/plain": [
       "    duration  fade_in    tempo  tatum_density  beat_density  segment_density  \\\n",
       "0  162.24608    0.162  116.083       2.003279      0.449190        75.444444   \n",
       "1  344.21506    8.388  153.939       2.000000      0.791704       100.818182   \n",
       "2  318.61506    0.287  232.709       1.000000      1.468565        64.846154   \n",
       "3  228.38812    0.316   99.381       2.002646      0.610662        47.615385   \n",
       "4  251.55873    0.723  173.974       1.998596      0.596815       108.454545   \n",
       "5  188.26404    0.000   78.498       2.000000      0.446655        61.444444   \n",
       "\n",
       "   section_density  loudness  \n",
       "0         0.055471   -15.925  \n",
       "1         0.031957    -9.985  \n",
       "2         0.040802    -4.430  \n",
       "3         0.056921   -16.107  \n",
       "4         0.043727    -5.794  \n",
       "5         0.047805   -18.335  "
      ]
     },
     "execution_count": 76,
     "metadata": {},
     "output_type": "execute_result"
    }
   ],
   "source": [
    "firsts = df.iloc[:,1:9]\n",
    "firsts.head(6)"
   ]
  },
  {
   "cell_type": "code",
   "execution_count": 80,
   "metadata": {
    "collapsed": false
   },
   "outputs": [
    {
     "data": {
      "text/html": [
       "<div>\n",
       "<table border=\"1\" class=\"dataframe\">\n",
       "  <thead>\n",
       "    <tr style=\"text-align: right;\">\n",
       "      <th></th>\n",
       "      <th>duration</th>\n",
       "      <th>fade_in</th>\n",
       "      <th>tempo</th>\n",
       "      <th>tatum_density</th>\n",
       "      <th>beat_density</th>\n",
       "      <th>segment_density</th>\n",
       "      <th>section_density</th>\n",
       "      <th>loudness</th>\n",
       "    </tr>\n",
       "  </thead>\n",
       "  <tbody>\n",
       "    <tr>\n",
       "      <th>0</th>\n",
       "      <td>-0.668187</td>\n",
       "      <td>-0.319412</td>\n",
       "      <td>-0.194199</td>\n",
       "      <td>-0.341662</td>\n",
       "      <td>-0.464571</td>\n",
       "      <td>-0.325730</td>\n",
       "      <td>1.088936</td>\n",
       "      <td>-1.007373</td>\n",
       "    </tr>\n",
       "    <tr>\n",
       "      <th>1</th>\n",
       "      <td>0.926188</td>\n",
       "      <td>4.084562</td>\n",
       "      <td>0.881785</td>\n",
       "      <td>-0.346080</td>\n",
       "      <td>0.578074</td>\n",
       "      <td>0.368890</td>\n",
       "      <td>-1.047679</td>\n",
       "      <td>0.092725</td>\n",
       "    </tr>\n",
       "    <tr>\n",
       "      <th>2</th>\n",
       "      <td>0.701886</td>\n",
       "      <td>-0.252490</td>\n",
       "      <td>3.120673</td>\n",
       "      <td>-1.693426</td>\n",
       "      <td>2.638498</td>\n",
       "      <td>-0.615863</td>\n",
       "      <td>-0.244006</td>\n",
       "      <td>1.121520</td>\n",
       "    </tr>\n",
       "    <tr>\n",
       "      <th>3</th>\n",
       "      <td>-0.088664</td>\n",
       "      <td>-0.236965</td>\n",
       "      <td>-0.668922</td>\n",
       "      <td>-0.342516</td>\n",
       "      <td>0.026966</td>\n",
       "      <td>-1.087565</td>\n",
       "      <td>1.220630</td>\n",
       "      <td>-1.041080</td>\n",
       "    </tr>\n",
       "    <tr>\n",
       "      <th>4</th>\n",
       "      <td>0.114352</td>\n",
       "      <td>-0.019068</td>\n",
       "      <td>1.451242</td>\n",
       "      <td>-0.347972</td>\n",
       "      <td>-0.015188</td>\n",
       "      <td>0.577940</td>\n",
       "      <td>0.021840</td>\n",
       "      <td>0.868905</td>\n",
       "    </tr>\n",
       "    <tr>\n",
       "      <th>5</th>\n",
       "      <td>-0.440223</td>\n",
       "      <td>-0.406142</td>\n",
       "      <td>-1.262482</td>\n",
       "      <td>-0.346080</td>\n",
       "      <td>-0.472289</td>\n",
       "      <td>-0.708987</td>\n",
       "      <td>0.392367</td>\n",
       "      <td>-1.453710</td>\n",
       "    </tr>\n",
       "  </tbody>\n",
       "</table>\n",
       "</div>"
      ],
      "text/plain": [
       "   duration   fade_in     tempo  tatum_density  beat_density  segment_density  \\\n",
       "0 -0.668187 -0.319412 -0.194199      -0.341662     -0.464571        -0.325730   \n",
       "1  0.926188  4.084562  0.881785      -0.346080      0.578074         0.368890   \n",
       "2  0.701886 -0.252490  3.120673      -1.693426      2.638498        -0.615863   \n",
       "3 -0.088664 -0.236965 -0.668922      -0.342516      0.026966        -1.087565   \n",
       "4  0.114352 -0.019068  1.451242      -0.347972     -0.015188         0.577940   \n",
       "5 -0.440223 -0.406142 -1.262482      -0.346080     -0.472289        -0.708987   \n",
       "\n",
       "   section_density  loudness  \n",
       "0         1.088936 -1.007373  \n",
       "1        -1.047679  0.092725  \n",
       "2        -0.244006  1.121520  \n",
       "3         1.220630 -1.041080  \n",
       "4         0.021840  0.868905  \n",
       "5         0.392367 -1.453710  "
      ]
     },
     "execution_count": 80,
     "metadata": {},
     "output_type": "execute_result"
    }
   ],
   "source": [
    "firsts_zscore = pd.DataFrame()\n",
    "for f in firsts:\n",
    "    f_zscore = f #+ '_zscore'\n",
    "    if firsts[f].std(ddof=0) == 0:\n",
    "        firsts_zscore[f_zscore] = 0.0\n",
    "    else:\n",
    "        firsts_zscore[f_zscore] = (firsts[f] - firsts[f].mean())/firsts[f].std(ddof=0)\n",
    "    for val in firsts_zscore[f_zscore]:\n",
    "        #In [7]: d.sales[d.sales==24] = 100\n",
    "        if val > 15:\n",
    "            firsts_zscore[f_zscore][firsts_zscore[f_zscore] > 15] = 15.0\n",
    "        elif val < -15:\n",
    "            firsts_zscore[f_zscore][firsts_zscore[f_zscore] < -15] = 15.0\n",
    "firsts_zscore.fillna(0)\n",
    "firsts_zscore.head(6)"
   ]
  },
  {
   "cell_type": "code",
   "execution_count": 81,
   "metadata": {
    "collapsed": false
   },
   "outputs": [
    {
     "data": {
      "text/html": [
       "<div>\n",
       "<table border=\"1\" class=\"dataframe\">\n",
       "  <thead>\n",
       "    <tr style=\"text-align: right;\">\n",
       "      <th></th>\n",
       "      <th>pitch_mean1</th>\n",
       "      <th>pitch_mean2</th>\n",
       "      <th>pitch_mean3</th>\n",
       "      <th>pitch_mean4</th>\n",
       "      <th>pitch_mean5</th>\n",
       "      <th>pitch_mean6</th>\n",
       "      <th>pitch_mean7</th>\n",
       "      <th>pitch_mean8</th>\n",
       "      <th>pitch_mean9</th>\n",
       "      <th>pitch_mean10</th>\n",
       "      <th>...</th>\n",
       "      <th>timbre_mode3</th>\n",
       "      <th>timbre_mode4</th>\n",
       "      <th>timbre_mode5</th>\n",
       "      <th>timbre_mode6</th>\n",
       "      <th>timbre_mode7</th>\n",
       "      <th>timbre_mode8</th>\n",
       "      <th>timbre_mode9</th>\n",
       "      <th>timbre_mode10</th>\n",
       "      <th>timbre_mode11</th>\n",
       "      <th>timbre_mode12</th>\n",
       "    </tr>\n",
       "  </thead>\n",
       "  <tbody>\n",
       "    <tr>\n",
       "      <th>0</th>\n",
       "      <td>0.270331</td>\n",
       "      <td>0.143707</td>\n",
       "      <td>0.168981</td>\n",
       "      <td>0.350510</td>\n",
       "      <td>0.170888</td>\n",
       "      <td>0.253457</td>\n",
       "      <td>0.123119</td>\n",
       "      <td>0.263781</td>\n",
       "      <td>0.545090</td>\n",
       "      <td>0.197320</td>\n",
       "      <td>...</td>\n",
       "      <td>50.255</td>\n",
       "      <td>43.133</td>\n",
       "      <td>-14.848</td>\n",
       "      <td>-6.216</td>\n",
       "      <td>-36.211</td>\n",
       "      <td>-14.181</td>\n",
       "      <td>-10.398</td>\n",
       "      <td>-15.291</td>\n",
       "      <td>-38.765</td>\n",
       "      <td>-4.891</td>\n",
       "    </tr>\n",
       "    <tr>\n",
       "      <th>1</th>\n",
       "      <td>0.486095</td>\n",
       "      <td>0.450403</td>\n",
       "      <td>0.501069</td>\n",
       "      <td>0.269405</td>\n",
       "      <td>0.295941</td>\n",
       "      <td>0.442808</td>\n",
       "      <td>0.360309</td>\n",
       "      <td>0.695634</td>\n",
       "      <td>0.332228</td>\n",
       "      <td>0.358093</td>\n",
       "      <td>...</td>\n",
       "      <td>2.374</td>\n",
       "      <td>-15.719</td>\n",
       "      <td>-6.225</td>\n",
       "      <td>-40.024</td>\n",
       "      <td>-61.058</td>\n",
       "      <td>-13.232</td>\n",
       "      <td>-26.859</td>\n",
       "      <td>-6.637</td>\n",
       "      <td>-6.181</td>\n",
       "      <td>-7.260</td>\n",
       "    </tr>\n",
       "    <tr>\n",
       "      <th>2</th>\n",
       "      <td>0.229911</td>\n",
       "      <td>0.437368</td>\n",
       "      <td>0.476496</td>\n",
       "      <td>0.229830</td>\n",
       "      <td>0.406257</td>\n",
       "      <td>0.246439</td>\n",
       "      <td>0.399648</td>\n",
       "      <td>0.254604</td>\n",
       "      <td>0.264917</td>\n",
       "      <td>0.442389</td>\n",
       "      <td>...</td>\n",
       "      <td>40.848</td>\n",
       "      <td>-14.816</td>\n",
       "      <td>-23.065</td>\n",
       "      <td>-30.342</td>\n",
       "      <td>11.848</td>\n",
       "      <td>-38.658</td>\n",
       "      <td>4.058</td>\n",
       "      <td>-2.595</td>\n",
       "      <td>-12.936</td>\n",
       "      <td>-10.203</td>\n",
       "    </tr>\n",
       "    <tr>\n",
       "      <th>3</th>\n",
       "      <td>0.224934</td>\n",
       "      <td>0.278010</td>\n",
       "      <td>0.155682</td>\n",
       "      <td>0.377250</td>\n",
       "      <td>0.147202</td>\n",
       "      <td>0.104323</td>\n",
       "      <td>0.126932</td>\n",
       "      <td>0.262422</td>\n",
       "      <td>0.402643</td>\n",
       "      <td>0.184982</td>\n",
       "      <td>...</td>\n",
       "      <td>-191.506</td>\n",
       "      <td>-280.943</td>\n",
       "      <td>-44.835</td>\n",
       "      <td>-68.281</td>\n",
       "      <td>-15.739</td>\n",
       "      <td>12.542</td>\n",
       "      <td>-36.845</td>\n",
       "      <td>-13.414</td>\n",
       "      <td>1.470</td>\n",
       "      <td>16.671</td>\n",
       "    </tr>\n",
       "    <tr>\n",
       "      <th>4</th>\n",
       "      <td>0.544393</td>\n",
       "      <td>0.430185</td>\n",
       "      <td>0.427274</td>\n",
       "      <td>0.131469</td>\n",
       "      <td>0.262028</td>\n",
       "      <td>0.130499</td>\n",
       "      <td>0.268519</td>\n",
       "      <td>0.374562</td>\n",
       "      <td>0.251579</td>\n",
       "      <td>0.465624</td>\n",
       "      <td>...</td>\n",
       "      <td>-38.144</td>\n",
       "      <td>20.980</td>\n",
       "      <td>-45.595</td>\n",
       "      <td>-36.786</td>\n",
       "      <td>-29.561</td>\n",
       "      <td>-39.134</td>\n",
       "      <td>-12.461</td>\n",
       "      <td>-15.608</td>\n",
       "      <td>2.605</td>\n",
       "      <td>-22.469</td>\n",
       "    </tr>\n",
       "    <tr>\n",
       "      <th>5</th>\n",
       "      <td>0.324989</td>\n",
       "      <td>0.205213</td>\n",
       "      <td>0.193684</td>\n",
       "      <td>0.276089</td>\n",
       "      <td>0.345495</td>\n",
       "      <td>0.360568</td>\n",
       "      <td>0.272523</td>\n",
       "      <td>0.084389</td>\n",
       "      <td>0.191877</td>\n",
       "      <td>0.226774</td>\n",
       "      <td>...</td>\n",
       "      <td>116.210</td>\n",
       "      <td>-160.697</td>\n",
       "      <td>21.198</td>\n",
       "      <td>-74.912</td>\n",
       "      <td>21.562</td>\n",
       "      <td>7.834</td>\n",
       "      <td>-24.402</td>\n",
       "      <td>-7.540</td>\n",
       "      <td>6.403</td>\n",
       "      <td>-14.735</td>\n",
       "    </tr>\n",
       "  </tbody>\n",
       "</table>\n",
       "<p>6 rows × 75 columns</p>\n",
       "</div>"
      ],
      "text/plain": [
       "   pitch_mean1  pitch_mean2  pitch_mean3  pitch_mean4  pitch_mean5  \\\n",
       "0     0.270331     0.143707     0.168981     0.350510     0.170888   \n",
       "1     0.486095     0.450403     0.501069     0.269405     0.295941   \n",
       "2     0.229911     0.437368     0.476496     0.229830     0.406257   \n",
       "3     0.224934     0.278010     0.155682     0.377250     0.147202   \n",
       "4     0.544393     0.430185     0.427274     0.131469     0.262028   \n",
       "5     0.324989     0.205213     0.193684     0.276089     0.345495   \n",
       "\n",
       "   pitch_mean6  pitch_mean7  pitch_mean8  pitch_mean9  pitch_mean10  \\\n",
       "0     0.253457     0.123119     0.263781     0.545090      0.197320   \n",
       "1     0.442808     0.360309     0.695634     0.332228      0.358093   \n",
       "2     0.246439     0.399648     0.254604     0.264917      0.442389   \n",
       "3     0.104323     0.126932     0.262422     0.402643      0.184982   \n",
       "4     0.130499     0.268519     0.374562     0.251579      0.465624   \n",
       "5     0.360568     0.272523     0.084389     0.191877      0.226774   \n",
       "\n",
       "       ...        timbre_mode3  timbre_mode4  timbre_mode5  timbre_mode6  \\\n",
       "0      ...              50.255        43.133       -14.848        -6.216   \n",
       "1      ...               2.374       -15.719        -6.225       -40.024   \n",
       "2      ...              40.848       -14.816       -23.065       -30.342   \n",
       "3      ...            -191.506      -280.943       -44.835       -68.281   \n",
       "4      ...             -38.144        20.980       -45.595       -36.786   \n",
       "5      ...             116.210      -160.697        21.198       -74.912   \n",
       "\n",
       "   timbre_mode7  timbre_mode8  timbre_mode9  timbre_mode10  timbre_mode11  \\\n",
       "0       -36.211       -14.181       -10.398        -15.291        -38.765   \n",
       "1       -61.058       -13.232       -26.859         -6.637         -6.181   \n",
       "2        11.848       -38.658         4.058         -2.595        -12.936   \n",
       "3       -15.739        12.542       -36.845        -13.414          1.470   \n",
       "4       -29.561       -39.134       -12.461        -15.608          2.605   \n",
       "5        21.562         7.834       -24.402         -7.540          6.403   \n",
       "\n",
       "   timbre_mode12  \n",
       "0         -4.891  \n",
       "1         -7.260  \n",
       "2        -10.203  \n",
       "3         16.671  \n",
       "4        -22.469  \n",
       "5        -14.735  \n",
       "\n",
       "[6 rows x 75 columns]"
      ]
     },
     "execution_count": 81,
     "metadata": {},
     "output_type": "execute_result"
    }
   ],
   "source": [
    "lasts = df.iloc[:,12:]\n",
    "lasts.head(6)"
   ]
  },
  {
   "cell_type": "code",
   "execution_count": 82,
   "metadata": {
    "collapsed": false
   },
   "outputs": [
    {
     "data": {
      "text/html": [
       "<div>\n",
       "<table border=\"1\" class=\"dataframe\">\n",
       "  <thead>\n",
       "    <tr style=\"text-align: right;\">\n",
       "      <th></th>\n",
       "      <th>pitch_mean1</th>\n",
       "      <th>pitch_mean2</th>\n",
       "      <th>pitch_mean3</th>\n",
       "      <th>pitch_mean4</th>\n",
       "      <th>pitch_mean5</th>\n",
       "      <th>pitch_mean6</th>\n",
       "      <th>pitch_mean7</th>\n",
       "      <th>pitch_mean8</th>\n",
       "      <th>pitch_mean9</th>\n",
       "      <th>pitch_mean10</th>\n",
       "      <th>...</th>\n",
       "      <th>timbre_mode3</th>\n",
       "      <th>timbre_mode4</th>\n",
       "      <th>timbre_mode5</th>\n",
       "      <th>timbre_mode6</th>\n",
       "      <th>timbre_mode7</th>\n",
       "      <th>timbre_mode8</th>\n",
       "      <th>timbre_mode9</th>\n",
       "      <th>timbre_mode10</th>\n",
       "      <th>timbre_mode11</th>\n",
       "      <th>timbre_mode12</th>\n",
       "    </tr>\n",
       "  </thead>\n",
       "  <tbody>\n",
       "    <tr>\n",
       "      <th>0</th>\n",
       "      <td>-1.143198</td>\n",
       "      <td>-1.879897</td>\n",
       "      <td>-1.660159</td>\n",
       "      <td>0.457382</td>\n",
       "      <td>-1.495596</td>\n",
       "      <td>-0.616698</td>\n",
       "      <td>-1.845234</td>\n",
       "      <td>-0.797447</td>\n",
       "      <td>1.935592</td>\n",
       "      <td>-1.328494</td>\n",
       "      <td>...</td>\n",
       "      <td>1.259628</td>\n",
       "      <td>1.189218</td>\n",
       "      <td>0.437165</td>\n",
       "      <td>0.945188</td>\n",
       "      <td>-0.284978</td>\n",
       "      <td>0.281554</td>\n",
       "      <td>0.185953</td>\n",
       "      <td>-0.112983</td>\n",
       "      <td>-1.104735</td>\n",
       "      <td>0.363289</td>\n",
       "    </tr>\n",
       "    <tr>\n",
       "      <th>1</th>\n",
       "      <td>0.319989</td>\n",
       "      <td>0.124739</td>\n",
       "      <td>1.238081</td>\n",
       "      <td>-0.282134</td>\n",
       "      <td>-0.445299</td>\n",
       "      <td>1.042941</td>\n",
       "      <td>0.295974</td>\n",
       "      <td>2.856606</td>\n",
       "      <td>0.086929</td>\n",
       "      <td>0.028991</td>\n",
       "      <td>...</td>\n",
       "      <td>0.536204</td>\n",
       "      <td>0.386584</td>\n",
       "      <td>0.661103</td>\n",
       "      <td>-0.212270</td>\n",
       "      <td>-1.066440</td>\n",
       "      <td>0.317366</td>\n",
       "      <td>-0.484924</td>\n",
       "      <td>0.358257</td>\n",
       "      <td>0.436883</td>\n",
       "      <td>0.239837</td>\n",
       "    </tr>\n",
       "    <tr>\n",
       "      <th>2</th>\n",
       "      <td>-1.417306</td>\n",
       "      <td>0.039537</td>\n",
       "      <td>1.023627</td>\n",
       "      <td>-0.642976</td>\n",
       "      <td>0.481223</td>\n",
       "      <td>-0.678206</td>\n",
       "      <td>0.651097</td>\n",
       "      <td>-0.875095</td>\n",
       "      <td>-0.497655</td>\n",
       "      <td>0.740744</td>\n",
       "      <td>...</td>\n",
       "      <td>1.117500</td>\n",
       "      <td>0.398900</td>\n",
       "      <td>0.223770</td>\n",
       "      <td>0.119205</td>\n",
       "      <td>1.226524</td>\n",
       "      <td>-0.642127</td>\n",
       "      <td>0.775115</td>\n",
       "      <td>0.578357</td>\n",
       "      <td>0.117290</td>\n",
       "      <td>0.086472</td>\n",
       "    </tr>\n",
       "    <tr>\n",
       "      <th>3</th>\n",
       "      <td>-1.451059</td>\n",
       "      <td>-1.002063</td>\n",
       "      <td>-1.776224</td>\n",
       "      <td>0.701205</td>\n",
       "      <td>-1.694531</td>\n",
       "      <td>-1.923831</td>\n",
       "      <td>-1.810814</td>\n",
       "      <td>-0.808945</td>\n",
       "      <td>0.698469</td>\n",
       "      <td>-1.432664</td>\n",
       "      <td>...</td>\n",
       "      <td>-2.393088</td>\n",
       "      <td>-3.230586</td>\n",
       "      <td>-0.341594</td>\n",
       "      <td>-1.179682</td>\n",
       "      <td>0.358886</td>\n",
       "      <td>1.289991</td>\n",
       "      <td>-0.891908</td>\n",
       "      <td>-0.010774</td>\n",
       "      <td>0.798868</td>\n",
       "      <td>1.486924</td>\n",
       "    </tr>\n",
       "    <tr>\n",
       "      <th>4</th>\n",
       "      <td>0.715337</td>\n",
       "      <td>-0.007409</td>\n",
       "      <td>0.594053</td>\n",
       "      <td>-1.539842</td>\n",
       "      <td>-0.730126</td>\n",
       "      <td>-1.694406</td>\n",
       "      <td>-0.532655</td>\n",
       "      <td>0.139908</td>\n",
       "      <td>-0.613491</td>\n",
       "      <td>0.936924</td>\n",
       "      <td>...</td>\n",
       "      <td>-0.075974</td>\n",
       "      <td>0.887092</td>\n",
       "      <td>-0.361331</td>\n",
       "      <td>-0.101413</td>\n",
       "      <td>-0.075829</td>\n",
       "      <td>-0.660090</td>\n",
       "      <td>0.101875</td>\n",
       "      <td>-0.130245</td>\n",
       "      <td>0.852567</td>\n",
       "      <td>-0.552731</td>\n",
       "    </tr>\n",
       "    <tr>\n",
       "      <th>5</th>\n",
       "      <td>-0.772539</td>\n",
       "      <td>-1.477877</td>\n",
       "      <td>-1.444570</td>\n",
       "      <td>-0.221191</td>\n",
       "      <td>-0.029104</td>\n",
       "      <td>0.322118</td>\n",
       "      <td>-0.496511</td>\n",
       "      <td>-2.315340</td>\n",
       "      <td>-1.131993</td>\n",
       "      <td>-1.079796</td>\n",
       "      <td>...</td>\n",
       "      <td>2.256128</td>\n",
       "      <td>-1.590651</td>\n",
       "      <td>1.373275</td>\n",
       "      <td>-1.406702</td>\n",
       "      <td>1.532039</td>\n",
       "      <td>1.112327</td>\n",
       "      <td>-0.384787</td>\n",
       "      <td>0.309085</td>\n",
       "      <td>1.032259</td>\n",
       "      <td>-0.149699</td>\n",
       "    </tr>\n",
       "  </tbody>\n",
       "</table>\n",
       "<p>6 rows × 75 columns</p>\n",
       "</div>"
      ],
      "text/plain": [
       "   pitch_mean1  pitch_mean2  pitch_mean3  pitch_mean4  pitch_mean5  \\\n",
       "0    -1.143198    -1.879897    -1.660159     0.457382    -1.495596   \n",
       "1     0.319989     0.124739     1.238081    -0.282134    -0.445299   \n",
       "2    -1.417306     0.039537     1.023627    -0.642976     0.481223   \n",
       "3    -1.451059    -1.002063    -1.776224     0.701205    -1.694531   \n",
       "4     0.715337    -0.007409     0.594053    -1.539842    -0.730126   \n",
       "5    -0.772539    -1.477877    -1.444570    -0.221191    -0.029104   \n",
       "\n",
       "   pitch_mean6  pitch_mean7  pitch_mean8  pitch_mean9  pitch_mean10  \\\n",
       "0    -0.616698    -1.845234    -0.797447     1.935592     -1.328494   \n",
       "1     1.042941     0.295974     2.856606     0.086929      0.028991   \n",
       "2    -0.678206     0.651097    -0.875095    -0.497655      0.740744   \n",
       "3    -1.923831    -1.810814    -0.808945     0.698469     -1.432664   \n",
       "4    -1.694406    -0.532655     0.139908    -0.613491      0.936924   \n",
       "5     0.322118    -0.496511    -2.315340    -1.131993     -1.079796   \n",
       "\n",
       "       ...        timbre_mode3  timbre_mode4  timbre_mode5  timbre_mode6  \\\n",
       "0      ...            1.259628      1.189218      0.437165      0.945188   \n",
       "1      ...            0.536204      0.386584      0.661103     -0.212270   \n",
       "2      ...            1.117500      0.398900      0.223770      0.119205   \n",
       "3      ...           -2.393088     -3.230586     -0.341594     -1.179682   \n",
       "4      ...           -0.075974      0.887092     -0.361331     -0.101413   \n",
       "5      ...            2.256128     -1.590651      1.373275     -1.406702   \n",
       "\n",
       "   timbre_mode7  timbre_mode8  timbre_mode9  timbre_mode10  timbre_mode11  \\\n",
       "0     -0.284978      0.281554      0.185953      -0.112983      -1.104735   \n",
       "1     -1.066440      0.317366     -0.484924       0.358257       0.436883   \n",
       "2      1.226524     -0.642127      0.775115       0.578357       0.117290   \n",
       "3      0.358886      1.289991     -0.891908      -0.010774       0.798868   \n",
       "4     -0.075829     -0.660090      0.101875      -0.130245       0.852567   \n",
       "5      1.532039      1.112327     -0.384787       0.309085       1.032259   \n",
       "\n",
       "   timbre_mode12  \n",
       "0       0.363289  \n",
       "1       0.239837  \n",
       "2       0.086472  \n",
       "3       1.486924  \n",
       "4      -0.552731  \n",
       "5      -0.149699  \n",
       "\n",
       "[6 rows x 75 columns]"
      ]
     },
     "execution_count": 82,
     "metadata": {},
     "output_type": "execute_result"
    }
   ],
   "source": [
    "lasts_zscore = pd.DataFrame()\n",
    "for l in lasts:\n",
    "    l_zscore = l #+ '_zscore'\n",
    "    if lasts[l].std(ddof=0) == 0:\n",
    "        lasts_zscore[l_zscore] = 0.0\n",
    "    else:\n",
    "        lasts_zscore[l_zscore] = (lasts[l] - lasts[l].mean())/lasts[l].std(ddof=0)\n",
    "    for val in lasts_zscore[l_zscore]:\n",
    "        if val > 15:\n",
    "            lasts_zscore[l_zscore][lasts_zscore[l_zscore] > 15] = 15.0\n",
    "        elif val < -15:\n",
    "            lasts_zscore[l_zscore][lasts_zscore[l_zscore] < -15] = -15.0\n",
    "            \n",
    "lasts_zscore.fillna(0)\n",
    "lasts_zscore.head(6)"
   ]
  },
  {
   "cell_type": "markdown",
   "metadata": {},
   "source": [
    "###Re join segment data frames\n",
    "Now with dummies and z-scored features"
   ]
  },
  {
   "cell_type": "code",
   "execution_count": 83,
   "metadata": {
    "collapsed": false
   },
   "outputs": [
    {
     "data": {
      "text/html": [
       "<div>\n",
       "<table border=\"1\" class=\"dataframe\">\n",
       "  <thead>\n",
       "    <tr style=\"text-align: right;\">\n",
       "      <th></th>\n",
       "      <th>track_id</th>\n",
       "      <th>duration</th>\n",
       "      <th>fade_in</th>\n",
       "      <th>tempo</th>\n",
       "      <th>tatum_density</th>\n",
       "      <th>beat_density</th>\n",
       "      <th>segment_density</th>\n",
       "      <th>section_density</th>\n",
       "      <th>loudness</th>\n",
       "      <th>mode</th>\n",
       "      <th>...</th>\n",
       "      <th>timbre_mode3</th>\n",
       "      <th>timbre_mode4</th>\n",
       "      <th>timbre_mode5</th>\n",
       "      <th>timbre_mode6</th>\n",
       "      <th>timbre_mode7</th>\n",
       "      <th>timbre_mode8</th>\n",
       "      <th>timbre_mode9</th>\n",
       "      <th>timbre_mode10</th>\n",
       "      <th>timbre_mode11</th>\n",
       "      <th>timbre_mode12</th>\n",
       "    </tr>\n",
       "  </thead>\n",
       "  <tbody>\n",
       "    <tr>\n",
       "      <th>0</th>\n",
       "      <td>TRBGPHG12903CE6CC3</td>\n",
       "      <td>-0.668187</td>\n",
       "      <td>-0.319412</td>\n",
       "      <td>-0.194199</td>\n",
       "      <td>-0.341662</td>\n",
       "      <td>-0.464571</td>\n",
       "      <td>-0.325730</td>\n",
       "      <td>1.088936</td>\n",
       "      <td>-1.007373</td>\n",
       "      <td>1</td>\n",
       "      <td>...</td>\n",
       "      <td>1.259628</td>\n",
       "      <td>1.189218</td>\n",
       "      <td>0.437165</td>\n",
       "      <td>0.945188</td>\n",
       "      <td>-0.284978</td>\n",
       "      <td>0.281554</td>\n",
       "      <td>0.185953</td>\n",
       "      <td>-0.112983</td>\n",
       "      <td>-1.104735</td>\n",
       "      <td>0.363289</td>\n",
       "    </tr>\n",
       "    <tr>\n",
       "      <th>1</th>\n",
       "      <td>TRBGPYK128F42796E1</td>\n",
       "      <td>0.926188</td>\n",
       "      <td>4.084562</td>\n",
       "      <td>0.881785</td>\n",
       "      <td>-0.346080</td>\n",
       "      <td>0.578074</td>\n",
       "      <td>0.368890</td>\n",
       "      <td>-1.047679</td>\n",
       "      <td>0.092725</td>\n",
       "      <td>1</td>\n",
       "      <td>...</td>\n",
       "      <td>0.536204</td>\n",
       "      <td>0.386584</td>\n",
       "      <td>0.661103</td>\n",
       "      <td>-0.212270</td>\n",
       "      <td>-1.066440</td>\n",
       "      <td>0.317366</td>\n",
       "      <td>-0.484924</td>\n",
       "      <td>0.358257</td>\n",
       "      <td>0.436883</td>\n",
       "      <td>0.239837</td>\n",
       "    </tr>\n",
       "    <tr>\n",
       "      <th>2</th>\n",
       "      <td>TRBGPJP128E078ED20</td>\n",
       "      <td>0.701886</td>\n",
       "      <td>-0.252490</td>\n",
       "      <td>3.120673</td>\n",
       "      <td>-1.693426</td>\n",
       "      <td>2.638498</td>\n",
       "      <td>-0.615863</td>\n",
       "      <td>-0.244006</td>\n",
       "      <td>1.121520</td>\n",
       "      <td>0</td>\n",
       "      <td>...</td>\n",
       "      <td>1.117500</td>\n",
       "      <td>0.398900</td>\n",
       "      <td>0.223770</td>\n",
       "      <td>0.119205</td>\n",
       "      <td>1.226524</td>\n",
       "      <td>-0.642127</td>\n",
       "      <td>0.775115</td>\n",
       "      <td>0.578357</td>\n",
       "      <td>0.117290</td>\n",
       "      <td>0.086472</td>\n",
       "    </tr>\n",
       "    <tr>\n",
       "      <th>3</th>\n",
       "      <td>TRBGPXH128F428C912</td>\n",
       "      <td>-0.088664</td>\n",
       "      <td>-0.236965</td>\n",
       "      <td>-0.668922</td>\n",
       "      <td>-0.342516</td>\n",
       "      <td>0.026966</td>\n",
       "      <td>-1.087565</td>\n",
       "      <td>1.220630</td>\n",
       "      <td>-1.041080</td>\n",
       "      <td>1</td>\n",
       "      <td>...</td>\n",
       "      <td>-2.393088</td>\n",
       "      <td>-3.230586</td>\n",
       "      <td>-0.341594</td>\n",
       "      <td>-1.179682</td>\n",
       "      <td>0.358886</td>\n",
       "      <td>1.289991</td>\n",
       "      <td>-0.891908</td>\n",
       "      <td>-0.010774</td>\n",
       "      <td>0.798868</td>\n",
       "      <td>1.486924</td>\n",
       "    </tr>\n",
       "    <tr>\n",
       "      <th>4</th>\n",
       "      <td>TRBGPSV12903CA9C25</td>\n",
       "      <td>0.114352</td>\n",
       "      <td>-0.019068</td>\n",
       "      <td>1.451242</td>\n",
       "      <td>-0.347972</td>\n",
       "      <td>-0.015188</td>\n",
       "      <td>0.577940</td>\n",
       "      <td>0.021840</td>\n",
       "      <td>0.868905</td>\n",
       "      <td>1</td>\n",
       "      <td>...</td>\n",
       "      <td>-0.075974</td>\n",
       "      <td>0.887092</td>\n",
       "      <td>-0.361331</td>\n",
       "      <td>-0.101413</td>\n",
       "      <td>-0.075829</td>\n",
       "      <td>-0.660090</td>\n",
       "      <td>0.101875</td>\n",
       "      <td>-0.130245</td>\n",
       "      <td>0.852567</td>\n",
       "      <td>-0.552731</td>\n",
       "    </tr>\n",
       "    <tr>\n",
       "      <th>5</th>\n",
       "      <td>TRBGPAX12903CEC037</td>\n",
       "      <td>-0.440223</td>\n",
       "      <td>-0.406142</td>\n",
       "      <td>-1.262482</td>\n",
       "      <td>-0.346080</td>\n",
       "      <td>-0.472289</td>\n",
       "      <td>-0.708987</td>\n",
       "      <td>0.392367</td>\n",
       "      <td>-1.453710</td>\n",
       "      <td>1</td>\n",
       "      <td>...</td>\n",
       "      <td>2.256128</td>\n",
       "      <td>-1.590651</td>\n",
       "      <td>1.373275</td>\n",
       "      <td>-1.406702</td>\n",
       "      <td>1.532039</td>\n",
       "      <td>1.112327</td>\n",
       "      <td>-0.384787</td>\n",
       "      <td>0.309085</td>\n",
       "      <td>1.032259</td>\n",
       "      <td>-0.149699</td>\n",
       "    </tr>\n",
       "  </tbody>\n",
       "</table>\n",
       "<p>6 rows × 103 columns</p>\n",
       "</div>"
      ],
      "text/plain": [
       "             track_id  duration   fade_in     tempo  tatum_density  \\\n",
       "0  TRBGPHG12903CE6CC3 -0.668187 -0.319412 -0.194199      -0.341662   \n",
       "1  TRBGPYK128F42796E1  0.926188  4.084562  0.881785      -0.346080   \n",
       "2  TRBGPJP128E078ED20  0.701886 -0.252490  3.120673      -1.693426   \n",
       "3  TRBGPXH128F428C912 -0.088664 -0.236965 -0.668922      -0.342516   \n",
       "4  TRBGPSV12903CA9C25  0.114352 -0.019068  1.451242      -0.347972   \n",
       "5  TRBGPAX12903CEC037 -0.440223 -0.406142 -1.262482      -0.346080   \n",
       "\n",
       "   beat_density  segment_density  section_density  loudness  mode  \\\n",
       "0     -0.464571        -0.325730         1.088936 -1.007373     1   \n",
       "1      0.578074         0.368890        -1.047679  0.092725     1   \n",
       "2      2.638498        -0.615863        -0.244006  1.121520     0   \n",
       "3      0.026966        -1.087565         1.220630 -1.041080     1   \n",
       "4     -0.015188         0.577940         0.021840  0.868905     1   \n",
       "5     -0.472289        -0.708987         0.392367 -1.453710     1   \n",
       "\n",
       "       ...        timbre_mode3  timbre_mode4  timbre_mode5  timbre_mode6  \\\n",
       "0      ...            1.259628      1.189218      0.437165      0.945188   \n",
       "1      ...            0.536204      0.386584      0.661103     -0.212270   \n",
       "2      ...            1.117500      0.398900      0.223770      0.119205   \n",
       "3      ...           -2.393088     -3.230586     -0.341594     -1.179682   \n",
       "4      ...           -0.075974      0.887092     -0.361331     -0.101413   \n",
       "5      ...            2.256128     -1.590651      1.373275     -1.406702   \n",
       "\n",
       "   timbre_mode7  timbre_mode8  timbre_mode9  timbre_mode10  timbre_mode11  \\\n",
       "0     -0.284978      0.281554      0.185953      -0.112983      -1.104735   \n",
       "1     -1.066440      0.317366     -0.484924       0.358257       0.436883   \n",
       "2      1.226524     -0.642127      0.775115       0.578357       0.117290   \n",
       "3      0.358886      1.289991     -0.891908      -0.010774       0.798868   \n",
       "4     -0.075829     -0.660090      0.101875      -0.130245       0.852567   \n",
       "5      1.532039      1.112327     -0.384787       0.309085       1.032259   \n",
       "\n",
       "   timbre_mode12  \n",
       "0       0.363289  \n",
       "1       0.239837  \n",
       "2       0.086472  \n",
       "3       1.486924  \n",
       "4      -0.552731  \n",
       "5      -0.149699  \n",
       "\n",
       "[6 rows x 103 columns]"
      ]
     },
     "execution_count": 83,
     "metadata": {},
     "output_type": "execute_result"
    }
   ],
   "source": [
    "final_df = pd.concat([track_ids, firsts_zscore, categoricals, lasts_zscore], axis=1)\n",
    "final_df.head(6)"
   ]
  },
  {
   "cell_type": "markdown",
   "metadata": {},
   "source": [
    "### Save data frame"
   ]
  },
  {
   "cell_type": "code",
   "execution_count": 84,
   "metadata": {
    "collapsed": true
   },
   "outputs": [],
   "source": [
    "basedir = \"./pkls/\""
   ]
  },
  {
   "cell_type": "code",
   "execution_count": 85,
   "metadata": {
    "collapsed": true
   },
   "outputs": [],
   "source": [
    "pickle_stuff(basedir+\"zscore_df.pkl\", final_df)"
   ]
  },
  {
   "cell_type": "code",
   "execution_count": 86,
   "metadata": {
    "collapsed": false
   },
   "outputs": [],
   "source": [
    "pickle_stuff(basedir+\"df.pkl\", df)"
   ]
  },
  {
   "cell_type": "code",
   "execution_count": 87,
   "metadata": {
    "collapsed": true
   },
   "outputs": [],
   "source": [
    "with open(basedir+\"zscore_df_csv.csv\", 'w') as zwf:\n",
    "    zwf.write(final_df.to_csv())"
   ]
  },
  {
   "cell_type": "code",
   "execution_count": 88,
   "metadata": {
    "collapsed": true
   },
   "outputs": [],
   "source": [
    "with open(basedir+\"df_csv.csv\", 'w') as wf:\n",
    "    wf.write(df.to_csv())"
   ]
  },
  {
   "cell_type": "markdown",
   "metadata": {},
   "source": [
    "###Quick look at the ends of the data"
   ]
  },
  {
   "cell_type": "code",
   "execution_count": 89,
   "metadata": {
    "collapsed": false
   },
   "outputs": [
    {
     "name": "stdout",
     "output_type": "stream",
     "text": [
      "duration 13.8546846791 -2.08060387031\n",
      "fade_in 15.0 -0.406142244727\n",
      "tempo 3.97674823851 -3.49363791569\n",
      "tatums 7.74961282674 -3.04077256445\n",
      "beats 15.0 -1.83194598768\n",
      "segments 8.91503392667 -2.39106154579\n",
      "sections 6.78462296373 -3.95138660286\n",
      "loudness 2.04678788423 -7.62240809715\n"
     ]
    }
   ],
   "source": [
    "print \"duration\", final_df['duration'].max(), final_df['duration'].min()\n",
    "print \"fade_in\", final_df['fade_in'].max(), final_df['fade_in'].min()\n",
    "print \"tempo\", final_df['tempo'].max(), final_df['tempo'].min()\n",
    "print \"tatums\", final_df['tatum_density'].max(), final_df['tatum_density'].min()\n",
    "print \"beats\", final_df['beat_density'].max(), final_df['beat_density'].min()\n",
    "print \"segments\", final_df['segment_density'].max(), final_df['segment_density'].min()\n",
    "print \"sections\", final_df['section_density'].max(), final_df['section_density'].min()\n",
    "print \"loudness\", final_df['loudness'].max(), final_df['loudness'].min()\n"
   ]
  },
  {
   "cell_type": "code",
   "execution_count": 90,
   "metadata": {
    "collapsed": false
   },
   "outputs": [
    {
     "name": "stdout",
     "output_type": "stream",
     "text": [
      "pitch_median2       3.044243\n",
      "pitch_median3       5.158474\n",
      "pitch_median4       6.471354\n",
      "pitch_median5       5.116924\n",
      "pitch_median6       5.858537\n",
      "pitch_median7       5.885733\n",
      "pitch_median8       5.098400\n",
      "pitch_median9       5.861246\n",
      "pitch_median10      5.026105\n",
      "pitch_median11      6.526543\n",
      "pitch_median12      5.616900\n",
      "pitch_mode1         0.226147\n",
      "pitch_mode2         0.234061\n",
      "pitch_mode3         0.380304\n",
      "pitch_mode4         0.656484\n",
      "pitch_mode5         0.414412\n",
      "pitch_mode6         0.501410\n",
      "pitch_mode7         0.472442\n",
      "pitch_mode8         0.371791\n",
      "pitch_mode9         0.524449\n",
      "pitch_mode10        0.364106\n",
      "pitch_mode11        0.554039\n",
      "pitch_mode12        0.376484\n",
      "loud_mean           1.880684\n",
      "loud_median         1.895146\n",
      "loud_mode           1.612068\n",
      "timbre_mean1        2.081075\n",
      "timbre_mean2        4.039996\n",
      "timbre_mean3        7.824561\n",
      "timbre_mean4        9.177122\n",
      "                     ...    \n",
      "timbre_mean7        7.663099\n",
      "timbre_mean8       11.249824\n",
      "timbre_mean9        4.907108\n",
      "timbre_mean10       5.505374\n",
      "timbre_mean11       6.722410\n",
      "timbre_mean12       5.759258\n",
      "timbre_median1      2.005761\n",
      "timbre_median2      4.420175\n",
      "timbre_median3      7.768897\n",
      "timbre_median4     11.336674\n",
      "timbre_median5      6.133691\n",
      "timbre_median6      8.176516\n",
      "timbre_median7      7.990072\n",
      "timbre_median8     13.866641\n",
      "timbre_median9      4.866896\n",
      "timbre_median10     6.635371\n",
      "timbre_median11     6.693453\n",
      "timbre_median12     5.725437\n",
      "timbre_mode1        1.739447\n",
      "timbre_mode2        3.432886\n",
      "timbre_mode3        5.340814\n",
      "timbre_mode4        3.534943\n",
      "timbre_mode5        4.710638\n",
      "timbre_mode6        4.677378\n",
      "timbre_mode7        4.806588\n",
      "timbre_mode8        4.102884\n",
      "timbre_mode9        3.120067\n",
      "timbre_mode10       3.806790\n",
      "timbre_mode11       3.333474\n",
      "timbre_mode12       4.030395\n",
      "dtype: float64\n",
      "pitch_median2     -1.766915\n",
      "pitch_median3     -1.937221\n",
      "pitch_median4     -1.852454\n",
      "pitch_median5     -1.850188\n",
      "pitch_median6     -1.853511\n",
      "pitch_median7     -1.927076\n",
      "pitch_median8     -1.875786\n",
      "pitch_median9     -1.862868\n",
      "pitch_median10    -1.817312\n",
      "pitch_median11    -1.850551\n",
      "pitch_median12    -1.808697\n",
      "pitch_mode1       -4.671213\n",
      "pitch_mode2       -4.523076\n",
      "pitch_mode3       -2.871143\n",
      "pitch_mode4       -1.690792\n",
      "pitch_mode5       -2.643552\n",
      "pitch_mode6       -2.173643\n",
      "pitch_mode7       -2.300625\n",
      "pitch_mode8       -2.918500\n",
      "pitch_mode9       -2.074184\n",
      "pitch_mode10      -2.962255\n",
      "pitch_mode11      -1.954327\n",
      "pitch_mode12      -2.843367\n",
      "loud_mean         -6.352524\n",
      "loud_median       -6.452462\n",
      "loud_mode         -4.445199\n",
      "timbre_mean1      -5.914217\n",
      "timbre_mean2      -5.313240\n",
      "timbre_mean3      -5.526179\n",
      "timbre_mean4      -5.212845\n",
      "                     ...   \n",
      "timbre_mean7      -6.370131\n",
      "timbre_mean8      -6.485570\n",
      "timbre_mean9      -9.658533\n",
      "timbre_mean10     -6.680790\n",
      "timbre_mean11     -7.068936\n",
      "timbre_mean12     -7.783106\n",
      "timbre_median1    -5.951244\n",
      "timbre_median2    -5.240364\n",
      "timbre_median3    -5.101814\n",
      "timbre_median4    -5.736924\n",
      "timbre_median5    -5.616670\n",
      "timbre_median6    -4.120214\n",
      "timbre_median7    -6.636720\n",
      "timbre_median8    -6.927112\n",
      "timbre_median9    -9.853663\n",
      "timbre_median10   -6.508776\n",
      "timbre_median11   -6.838890\n",
      "timbre_median12   -7.355320\n",
      "timbre_mode1      -4.088817\n",
      "timbre_mode2      -3.580821\n",
      "timbre_mode3      -4.103992\n",
      "timbre_mode4      -6.207240\n",
      "timbre_mode5      -6.351258\n",
      "timbre_mode6      -7.195461\n",
      "timbre_mode7      -5.329871\n",
      "timbre_mode8      -7.119215\n",
      "timbre_mode9      -7.153915\n",
      "timbre_mode10     -6.392167\n",
      "timbre_mode11     -7.971523\n",
      "timbre_mode12     -6.820371\n",
      "dtype: float64\n"
     ]
    }
   ],
   "source": [
    "print final_df.iloc[:,41:].max()\n",
    "print final_df.iloc[:,41:].min()"
   ]
  },
  {
   "cell_type": "code",
   "execution_count": 91,
   "metadata": {
    "collapsed": false
   },
   "outputs": [
    {
     "name": "stdout",
     "output_type": "stream",
     "text": [
      "                track_id   duration\n",
      "155   TRBGBIZ12903CB26BA  13.854685\n",
      "288   TRBGYHC12903D0626A  13.814860\n",
      "510   TRBHDSW128F42ABC12   9.133126\n",
      "726   TRBCVOS128F92F037C  12.016781\n",
      "1006  TRBBLNE128F4256D3F   8.455414\n",
      "1409  TRBFCJQ128F427086F   9.006327\n",
      "2763  TRAXMJB128F427089F   9.129922\n",
      "2823  TRAXIQA128F422C8C7   8.462051\n",
      "3849  TRAHAMC128F425B346   8.620894\n",
      "4622  TRANLLL128F42268D9  10.130813\n",
      "4710  TRANFLR128F931CF30  12.689229\n",
      "5326  TRALKGV128F932CADE   8.896922\n",
      "7212  TRAFLYL128F932DB93  11.913327\n",
      "7431  TRAEGRR128F422285F  10.180022\n",
      "7739  TRADNOD128F4262F3D  11.221882\n"
     ]
    }
   ],
   "source": [
    "print final_df[final_df['duration']> 8][[\"track_id\", \"duration\"]]"
   ]
  },
  {
   "cell_type": "code",
   "execution_count": 92,
   "metadata": {
    "collapsed": false
   },
   "outputs": [
    {
     "name": "stdout",
     "output_type": "stream",
     "text": [
      "                track_id    fade_in\n",
      "267   TRBGAUG128F428378E  11.260695\n",
      "451   TRBHIDP128F147DE7D  15.000000\n",
      "1445  TRBFIBL128F423AC68  10.309874\n",
      "2528  TRAPVGB128F42725AF  15.000000\n",
      "3536  TRAGAVB128F932585E  11.353850\n",
      "4457  TRAMOUF128F9353A1B  12.357673\n",
      "5856  TRAVFSW128F145C1D2  15.000000\n",
      "7019  TRARFWJ128F9339D70  15.000000\n",
      "8935  TRAACQT128F9331780  14.676372\n",
      "9253  TRAYCJB128F424AB43  15.000000\n",
      "9495  TRAUNWX12903D01764  10.480657\n"
     ]
    }
   ],
   "source": [
    "print final_df[final_df['fade_in']> 10][[\"track_id\", 'fade_in']]"
   ]
  },
  {
   "cell_type": "code",
   "execution_count": 93,
   "metadata": {
    "collapsed": false
   },
   "outputs": [
    {
     "name": "stdout",
     "output_type": "stream",
     "text": [
      "                track_id  beat_density\n",
      "848   TRBCOIT128F933E906      8.749894\n",
      "4440  TRAMSIH128F42990AB     12.886391\n",
      "4441  TRAMSBQ128F4238B2D     15.000000\n",
      "5502  TRACLXN128F931A74C     11.140565\n"
     ]
    }
   ],
   "source": [
    "print final_df[final_df['beat_density']> 8][[\"track_id\", \"beat_density\"]]"
   ]
  },
  {
   "cell_type": "code",
   "execution_count": 94,
   "metadata": {
    "collapsed": false
   },
   "outputs": [
    {
     "name": "stdout",
     "output_type": "stream",
     "text": [
      "                track_id  timbre_median4\n",
      "481   TRBHFZP12903CE88C3        7.192954\n",
      "2647  TRAPADM128F92CD44E        7.328467\n",
      "4637  TRANCRD12903CDE242        6.448273\n",
      "5497  TRACLPE128F4287687       11.336674\n",
      "5655  TRACYDQ128F932C763        6.891586\n",
      "5769  TRAVNKY12903CCC5B3        6.015094\n",
      "9423  TRAUPNY12903C9DE65        6.280354\n"
     ]
    }
   ],
   "source": [
    "print final_df[final_df['timbre_median4']> 6][[\"track_id\", 'timbre_median4']]"
   ]
  },
  {
   "cell_type": "code",
   "execution_count": 95,
   "metadata": {
    "collapsed": false
   },
   "outputs": [
    {
     "name": "stdout",
     "output_type": "stream",
     "text": [
      "                track_id  timbre_median8\n",
      "5655  TRACYDQ128F932C763       13.866641\n",
      "9171  TRAYGKQ128F932F520        8.410282\n",
      "9406  TRAYQAN128F146247B        6.766265\n"
     ]
    }
   ],
   "source": [
    "print final_df[final_df['timbre_median8']> 6][[\"track_id\", 'timbre_median8']]"
   ]
  },
  {
   "cell_type": "code",
   "execution_count": null,
   "metadata": {
    "collapsed": true
   },
   "outputs": [],
   "source": []
  }
 ],
 "metadata": {
  "kernelspec": {
   "display_name": "Python 2",
   "language": "python",
   "name": "python2"
  },
  "language_info": {
   "codemirror_mode": {
    "name": "ipython",
    "version": 2
   },
   "file_extension": ".py",
   "mimetype": "text/x-python",
   "name": "python",
   "nbconvert_exporter": "python",
   "pygments_lexer": "ipython2",
   "version": "2.7.6"
  }
 },
 "nbformat": 4,
 "nbformat_minor": 0
}

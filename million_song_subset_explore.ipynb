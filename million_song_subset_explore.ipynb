{
 "cells": [
  {
   "cell_type": "code",
   "execution_count": 147,
   "metadata": {
    "collapsed": true
   },
   "outputs": [],
   "source": [
    "import os\n",
    "import glob\n",
    "import hdf5_getters\n",
    "import time\n",
    "\n",
    "import numpy as np\n",
    "from scipy import stats"
   ]
  },
  {
   "cell_type": "code",
   "execution_count": 5,
   "metadata": {
    "collapsed": false,
    "scrolled": true
   },
   "outputs": [],
   "source": [
    "h5 = hdf5_getters.open_h5_file_read('./MillionSongSubset/AdditionalFiles/subset_msd_summary_file.h5')"
   ]
  },
  {
   "cell_type": "code",
   "execution_count": 76,
   "metadata": {
    "collapsed": false
   },
   "outputs": [
    {
     "data": {
      "text/plain": [
       "/ (RootGroup) 'H5 Song File'\n",
       "  children := ['musicbrainz' (Group), 'analysis' (Group), 'metadata' (Group)]"
      ]
     },
     "execution_count": 76,
     "metadata": {},
     "output_type": "execute_result"
    }
   ],
   "source": [
    "h5.root"
   ]
  },
  {
   "cell_type": "code",
   "execution_count": 79,
   "metadata": {
    "collapsed": false
   },
   "outputs": [
    {
     "data": {
      "text/plain": [
       "/musicbrainz (Group) 'data about the song coming from MusicBrainz'\n",
       "  children := ['songs' (Table)]"
      ]
     },
     "execution_count": 79,
     "metadata": {},
     "output_type": "execute_result"
    }
   ],
   "source": [
    "h5.root.musicbrainz"
   ]
  },
  {
   "cell_type": "code",
   "execution_count": 80,
   "metadata": {
    "collapsed": false
   },
   "outputs": [
    {
     "data": {
      "text/plain": [
       "/musicbrainz/songs (Table(10000,), shuffle, zlib(1)) 'table of data coming from MusicBrainz'\n",
       "  description := {\n",
       "  \"idx_artist_mbtags\": Int32Col(shape=(), dflt=0, pos=0),\n",
       "  \"year\": Int32Col(shape=(), dflt=0, pos=1)}\n",
       "  byteorder := 'little'\n",
       "  chunkshape := (1024,)"
      ]
     },
     "execution_count": 80,
     "metadata": {},
     "output_type": "execute_result"
    }
   ],
   "source": [
    "h5.root.musicbrainz.songs"
   ]
  },
  {
   "cell_type": "code",
   "execution_count": 77,
   "metadata": {
    "collapsed": false
   },
   "outputs": [
    {
     "data": {
      "text/plain": [
       "/metadata (Group) 'metadata about the song'\n",
       "  children := ['songs' (Table)]"
      ]
     },
     "execution_count": 77,
     "metadata": {},
     "output_type": "execute_result"
    }
   ],
   "source": [
    "h5.root.metadata"
   ]
  },
  {
   "cell_type": "code",
   "execution_count": 73,
   "metadata": {
    "collapsed": false
   },
   "outputs": [
    {
     "data": {
      "text/plain": [
       "/metadata/songs (Table(10000,), shuffle, zlib(1)) 'table of metadata for one song'\n",
       "  description := {\n",
       "  \"analyzer_version\": StringCol(itemsize=32, shape=(), dflt='', pos=0),\n",
       "  \"artist_7digitalid\": Int32Col(shape=(), dflt=0, pos=1),\n",
       "  \"artist_familiarity\": Float64Col(shape=(), dflt=0.0, pos=2),\n",
       "  \"artist_hotttnesss\": Float64Col(shape=(), dflt=0.0, pos=3),\n",
       "  \"artist_id\": StringCol(itemsize=32, shape=(), dflt='', pos=4),\n",
       "  \"artist_latitude\": Float64Col(shape=(), dflt=0.0, pos=5),\n",
       "  \"artist_location\": StringCol(itemsize=1024, shape=(), dflt='', pos=6),\n",
       "  \"artist_longitude\": Float64Col(shape=(), dflt=0.0, pos=7),\n",
       "  \"artist_mbid\": StringCol(itemsize=40, shape=(), dflt='', pos=8),\n",
       "  \"artist_name\": StringCol(itemsize=1024, shape=(), dflt='', pos=9),\n",
       "  \"artist_playmeid\": Int32Col(shape=(), dflt=0, pos=10),\n",
       "  \"genre\": StringCol(itemsize=1024, shape=(), dflt='', pos=11),\n",
       "  \"idx_artist_terms\": Int32Col(shape=(), dflt=0, pos=12),\n",
       "  \"idx_similar_artists\": Int32Col(shape=(), dflt=0, pos=13),\n",
       "  \"release\": StringCol(itemsize=1024, shape=(), dflt='', pos=14),\n",
       "  \"release_7digitalid\": Int32Col(shape=(), dflt=0, pos=15),\n",
       "  \"song_hotttnesss\": Float64Col(shape=(), dflt=0.0, pos=16),\n",
       "  \"song_id\": StringCol(itemsize=32, shape=(), dflt='', pos=17),\n",
       "  \"title\": StringCol(itemsize=1024, shape=(), dflt='', pos=18),\n",
       "  \"track_7digitalid\": Int32Col(shape=(), dflt=0, pos=19)}\n",
       "  byteorder := 'little'\n",
       "  chunkshape := (3,)"
      ]
     },
     "execution_count": 73,
     "metadata": {},
     "output_type": "execute_result"
    }
   ],
   "source": [
    "h5.root.metadata.songs"
   ]
  },
  {
   "cell_type": "code",
   "execution_count": 78,
   "metadata": {
    "collapsed": false
   },
   "outputs": [
    {
     "data": {
      "text/plain": [
       "/analysis (Group) 'Echo Nest analysis of the song'\n",
       "  children := ['songs' (Table)]"
      ]
     },
     "execution_count": 78,
     "metadata": {},
     "output_type": "execute_result"
    }
   ],
   "source": [
    "h5.root.analysis"
   ]
  },
  {
   "cell_type": "code",
   "execution_count": 74,
   "metadata": {
    "collapsed": false
   },
   "outputs": [
    {
     "data": {
      "text/plain": [
       "/analysis/songs (Table(10000,), shuffle, zlib(1)) 'table of Echo Nest analysis for one song'\n",
       "  description := {\n",
       "  \"analysis_sample_rate\": Int32Col(shape=(), dflt=0, pos=0),\n",
       "  \"audio_md5\": StringCol(itemsize=32, shape=(), dflt='', pos=1),\n",
       "  \"danceability\": Float64Col(shape=(), dflt=0.0, pos=2),\n",
       "  \"duration\": Float64Col(shape=(), dflt=0.0, pos=3),\n",
       "  \"end_of_fade_in\": Float64Col(shape=(), dflt=0.0, pos=4),\n",
       "  \"energy\": Float64Col(shape=(), dflt=0.0, pos=5),\n",
       "  \"idx_bars_confidence\": Int32Col(shape=(), dflt=0, pos=6),\n",
       "  \"idx_bars_start\": Int32Col(shape=(), dflt=0, pos=7),\n",
       "  \"idx_beats_confidence\": Int32Col(shape=(), dflt=0, pos=8),\n",
       "  \"idx_beats_start\": Int32Col(shape=(), dflt=0, pos=9),\n",
       "  \"idx_sections_confidence\": Int32Col(shape=(), dflt=0, pos=10),\n",
       "  \"idx_sections_start\": Int32Col(shape=(), dflt=0, pos=11),\n",
       "  \"idx_segments_confidence\": Int32Col(shape=(), dflt=0, pos=12),\n",
       "  \"idx_segments_loudness_max\": Int32Col(shape=(), dflt=0, pos=13),\n",
       "  \"idx_segments_loudness_max_time\": Int32Col(shape=(), dflt=0, pos=14),\n",
       "  \"idx_segments_loudness_start\": Int32Col(shape=(), dflt=0, pos=15),\n",
       "  \"idx_segments_pitches\": Int32Col(shape=(), dflt=0, pos=16),\n",
       "  \"idx_segments_start\": Int32Col(shape=(), dflt=0, pos=17),\n",
       "  \"idx_segments_timbre\": Int32Col(shape=(), dflt=0, pos=18),\n",
       "  \"idx_tatums_confidence\": Int32Col(shape=(), dflt=0, pos=19),\n",
       "  \"idx_tatums_start\": Int32Col(shape=(), dflt=0, pos=20),\n",
       "  \"key\": Int32Col(shape=(), dflt=0, pos=21),\n",
       "  \"key_confidence\": Float64Col(shape=(), dflt=0.0, pos=22),\n",
       "  \"loudness\": Float64Col(shape=(), dflt=0.0, pos=23),\n",
       "  \"mode\": Int32Col(shape=(), dflt=0, pos=24),\n",
       "  \"mode_confidence\": Float64Col(shape=(), dflt=0.0, pos=25),\n",
       "  \"start_of_fade_out\": Float64Col(shape=(), dflt=0.0, pos=26),\n",
       "  \"tempo\": Float64Col(shape=(), dflt=0.0, pos=27),\n",
       "  \"time_signature\": Int32Col(shape=(), dflt=0, pos=28),\n",
       "  \"time_signature_confidence\": Float64Col(shape=(), dflt=0.0, pos=29),\n",
       "  \"track_id\": StringCol(itemsize=32, shape=(), dflt='', pos=30)}\n",
       "  byteorder := 'little'\n",
       "  chunkshape := (37,)"
      ]
     },
     "execution_count": 74,
     "metadata": {},
     "output_type": "execute_result"
    }
   ],
   "source": [
    "h5.root.analysis.songs"
   ]
  },
  {
   "cell_type": "code",
   "execution_count": 120,
   "metadata": {
    "collapsed": false
   },
   "outputs": [
    {
     "data": {
      "text/plain": [
       "[('TRAFJKG128F9332800', 246.5),\n",
       " ('TRAZFZS128F4272A31', 246.593),\n",
       " ('TRAGYJM128EF3466D2', 253.357),\n",
       " ('TRBHZRN128F92EFF91', 258.677),\n",
       " ('TRBFXLH12903CBAFAD', 248.079),\n",
       " ('TRBGYHC12903D0626A', 262.828)]"
      ]
     },
     "execution_count": 120,
     "metadata": {},
     "output_type": "execute_result"
    }
   ],
   "source": [
    "tids = [(row['track_id'], row['tempo']) for row in h5.root.analysis.songs.where('tempo>245')]\n",
    "#'(tempo>245) & (tempo<250)')]\n",
    "tids"
   ]
  },
  {
   "cell_type": "code",
   "execution_count": 105,
   "metadata": {
    "collapsed": false
   },
   "outputs": [
    {
     "name": "stdout",
     "output_type": "stream",
     "text": [
      "total time:  66.7843520641\n",
      "([('TRBGYHC12903D0626A', 'Endless Light', 'AR0JEOI1187B98B918', 'Erik Berglund', 'SODWYEY12AC468C30F'), ('TRBHZRN128F92EFF91', 'Kapitel 4', 'ARIEIJW1187B98F6DD', 'Oliver Kalkofe', 'SOQFMJN12AB0181D3D'), ('TRBFXLH12903CBAFAD', \"Two of a Kind_ Workin' on a Full House\", 'ARBMHBC11F4C8403A2', 'Hushabye Baby', 'SOOMCCM12AB01896EA'), ('TRAZFZS128F4272A31', 'Severe Severing', 'ARSL3N21187B98DFC5', 'Klaus Badelt', 'SOABYBF12A8C138A09'), ('TRAGYJM128EF3466D2', 'Been There All The Time', 'AR9YWMS1187FB43A34', 'Dinosaur Jr.', 'SOZRIFJ12A67ADA4BE'), ('TRAFJKG128F9332800', 'Ego is the drug/3am', 'ARCRSUM1187FB52AB0', 'The Frequency', 'SONNXDI12AB0186816')], [('TRBGYHC12903D0626A', 0.0, 0.33619115568493391, 0.37703408512839853), ('TRBHZRN128F92EFF91', 0.21508031850922793, 0.40619874783410698, 0.45248343829809812), ('TRBFXLH12903CBAFAD', nan, 0.36551400326265299, 0.35342955022197026), ('TRAZFZS128F4272A31', 0.32773668317784083, 0.46934037425924607, 0.68800334883697312), ('TRAGYJM128EF3466D2', 0.62921271006453749, 0.55155245515635054, 0.74979695940058488), ('TRAFJKG128F9332800', 0.0, 0.33504177703727017, 0.56842734729834965)])\n"
     ]
    }
   ],
   "source": [
    "tids_titles = []\n",
    "\n",
    "def get_items(t_id, titles, metas, sh5):\n",
    "    title = hdf5_getters.get_title(sh5)\n",
    "    artist = hdf5_getters.get_artist_name(sh5)\n",
    "    artist_id = hdf5_getters.get_artist_id(sh5)\n",
    "    song_id = hdf5_getters.get_song_id(sh5)\n",
    "    titles.append((t_id, title, artist_id, artist, song_id))\n",
    "    song_hottt = hdf5_getters.get_song_hotttnesss(sh5)\n",
    "    artist_hottt = hdf5_getters.get_artist_hotttnesss(sh5)\n",
    "    artist_fam = hdf5_getters.get_artist_familiarity(sh5)\n",
    "    metas.append((t_id, song_hottt, artist_hottt, artist_fam))\n",
    "                    \n",
    "def get_matching_titles(track_ids=None, basedir='./MillionSongSubset/data/',ext='.h5', verbose=0):\n",
    "    t1 = time.time()\n",
    "    titles = []\n",
    "    metas = []\n",
    "    for root, dirs, files in os.walk(basedir):\n",
    "        files = glob.glob(os.path.join(root,'*'+ext))\n",
    "        for f in files:\n",
    "            if len(titles) == len(track_ids):\n",
    "                break\n",
    "            sh5 = hdf5_getters.open_h5_file_read(f)\n",
    "            if track_ids:\n",
    "                for t_id in track_ids:\n",
    "                    if hdf5_getters.get_track_id(sh5) == t_id:\n",
    "                        get_items(t_id, titles, metas, sh5)\n",
    "                        break\n",
    "            else:\n",
    "                t_id = hdf5_getters.get_track_id(sh5)\n",
    "                get_items(t_id, titles, metas, sh5)\n",
    "            sh5.close()\n",
    "    t2 = time.time()\n",
    "    if verbose == 1:\n",
    "        print \"total time: \", (t2-t1)\n",
    "    return titles, metas\n",
    "\n",
    "tids_only = [t[0] for t in tids]\n",
    "titles, metas = get_matching_titles(track_ids=tids_only, verbose=1)\n",
    "print titles\n",
    "print metas"
   ]
  },
  {
   "cell_type": "code",
   "execution_count": 126,
   "metadata": {
    "collapsed": false
   },
   "outputs": [
    {
     "name": "stdout",
     "output_type": "stream",
     "text": [
      "[('TRAWVUW128F932F914', 0), ('TRBFFKN128F422F3CC', 0)]\n"
     ]
    }
   ],
   "source": [
    "seg_loud_max = [(row['track_id'], row['idx_sections_start']) for row in h5.root.analysis.songs.where('(tempo>238) & (tempo<240)')]\n",
    "print seg_loud_max"
   ]
  },
  {
   "cell_type": "code",
   "execution_count": 171,
   "metadata": {
    "collapsed": false
   },
   "outputs": [
    {
     "name": "stdout",
     "output_type": "stream",
     "text": [
      "['TRAGYJM128EF3466D2']\n"
     ]
    },
    {
     "ename": "NoSuchNodeError",
     "evalue": "group ``/analysis`` does not have a child named ``segments_loudness_max``",
     "output_type": "error",
     "traceback": [
      "\u001b[1;31m---------------------------------------------------------------------------\u001b[0m",
      "\u001b[1;31mNoSuchNodeError\u001b[0m                           Traceback (most recent call last)",
      "\u001b[1;32m<ipython-input-171-6ac6104ff56e>\u001b[0m in \u001b[0;36m<module>\u001b[1;34m()\u001b[0m\n\u001b[0;32m     40\u001b[0m \u001b[0mtids_only0\u001b[0m \u001b[1;33m=\u001b[0m \u001b[1;33m[\u001b[0m\u001b[0mt\u001b[0m\u001b[1;33m[\u001b[0m\u001b[1;36m0\u001b[0m\u001b[1;33m]\u001b[0m \u001b[1;32mfor\u001b[0m \u001b[0mt\u001b[0m \u001b[1;32min\u001b[0m \u001b[0mtids\u001b[0m\u001b[1;33m]\u001b[0m\u001b[1;33m[\u001b[0m\u001b[1;36m2\u001b[0m\u001b[1;33m:\u001b[0m\u001b[1;36m3\u001b[0m\u001b[1;33m]\u001b[0m\u001b[1;33m\u001b[0m\u001b[0m\n\u001b[0;32m     41\u001b[0m \u001b[1;32mprint\u001b[0m \u001b[0mtids_only0\u001b[0m\u001b[1;33m\u001b[0m\u001b[0m\n\u001b[1;32m---> 42\u001b[1;33m \u001b[1;32mprint\u001b[0m \u001b[0mget_segment_features\u001b[0m\u001b[1;33m(\u001b[0m\u001b[0mtrack_ids\u001b[0m\u001b[1;33m=\u001b[0m\u001b[0mtids_only0\u001b[0m\u001b[1;33m,\u001b[0m \u001b[0mverbose\u001b[0m\u001b[1;33m=\u001b[0m\u001b[1;36m1\u001b[0m\u001b[1;33m)\u001b[0m\u001b[1;33m\u001b[0m\u001b[0m\n\u001b[0m",
      "\u001b[1;32m<ipython-input-171-6ac6104ff56e>\u001b[0m in \u001b[0;36mget_segment_features\u001b[1;34m(track_ids, basedir, ext, verbose)\u001b[0m\n\u001b[0;32m     27\u001b[0m                     \u001b[1;32mif\u001b[0m \u001b[0mhdf5_getters\u001b[0m\u001b[1;33m.\u001b[0m\u001b[0mget_track_id\u001b[0m\u001b[1;33m(\u001b[0m\u001b[0msh5\u001b[0m\u001b[1;33m)\u001b[0m \u001b[1;33m==\u001b[0m \u001b[0mt_id\u001b[0m\u001b[1;33m:\u001b[0m\u001b[1;33m\u001b[0m\u001b[0m\n\u001b[0;32m     28\u001b[0m                         \u001b[0mpitch_means\u001b[0m\u001b[1;33m,\u001b[0m \u001b[0mpitch_medians\u001b[0m\u001b[1;33m,\u001b[0m \u001b[0mpitch_modes\u001b[0m \u001b[1;33m=\u001b[0m \u001b[0mget_pitch_features\u001b[0m\u001b[1;33m(\u001b[0m\u001b[0msh5\u001b[0m\u001b[1;33m)\u001b[0m\u001b[1;33m\u001b[0m\u001b[0m\n\u001b[1;32m---> 29\u001b[1;33m                         \u001b[1;32mreturn\u001b[0m \u001b[0mget_loudness_features\u001b[0m\u001b[1;33m(\u001b[0m\u001b[0msh5\u001b[0m\u001b[1;33m)\u001b[0m\u001b[1;33m\u001b[0m\u001b[0m\n\u001b[0m\u001b[0;32m     30\u001b[0m                         \u001b[1;32mbreak\u001b[0m\u001b[1;33m\u001b[0m\u001b[0m\n\u001b[0;32m     31\u001b[0m             \u001b[1;32melse\u001b[0m\u001b[1;33m:\u001b[0m\u001b[1;33m\u001b[0m\u001b[0m\n",
      "\u001b[1;32m<ipython-input-171-6ac6104ff56e>\u001b[0m in \u001b[0;36mget_loudness_features\u001b[1;34m(sh5)\u001b[0m\n\u001b[0;32m      7\u001b[0m \u001b[1;33m\u001b[0m\u001b[0m\n\u001b[0;32m      8\u001b[0m \u001b[1;32mdef\u001b[0m \u001b[0mget_loudness_features\u001b[0m\u001b[1;33m(\u001b[0m\u001b[0msh5\u001b[0m\u001b[1;33m)\u001b[0m\u001b[1;33m:\u001b[0m\u001b[1;33m\u001b[0m\u001b[0m\n\u001b[1;32m----> 9\u001b[1;33m     \u001b[0mloud_maxs\u001b[0m \u001b[1;33m=\u001b[0m \u001b[0mhdf5_getters\u001b[0m\u001b[1;33m.\u001b[0m\u001b[0mget_segments_loudness_max\u001b[0m\u001b[1;33m(\u001b[0m\u001b[0mh5\u001b[0m\u001b[1;33m)\u001b[0m\u001b[1;33m\u001b[0m\u001b[0m\n\u001b[0m\u001b[0;32m     10\u001b[0m     \u001b[0mloud_mean\u001b[0m \u001b[1;33m=\u001b[0m \u001b[0mnp\u001b[0m\u001b[1;33m.\u001b[0m\u001b[0mmean\u001b[0m\u001b[1;33m(\u001b[0m\u001b[0mloud_maxs\u001b[0m\u001b[1;33m)\u001b[0m\u001b[1;33m\u001b[0m\u001b[0m\n\u001b[0;32m     11\u001b[0m     \u001b[0mloud_median\u001b[0m \u001b[1;33m=\u001b[0m \u001b[0mnp\u001b[0m\u001b[1;33m.\u001b[0m\u001b[0mmedian\u001b[0m\u001b[1;33m(\u001b[0m\u001b[0mloud_maxs\u001b[0m\u001b[1;33m)\u001b[0m\u001b[1;33m\u001b[0m\u001b[0m\n",
      "\u001b[1;32m/home/trisha/Desktop/music_explorer/hdf5_getters.pyc\u001b[0m in \u001b[0;36mget_segments_loudness_max\u001b[1;34m(h5, songidx)\u001b[0m\n\u001b[0;32m    327\u001b[0m     \u001b[1;32mif\u001b[0m \u001b[0mh5\u001b[0m\u001b[1;33m.\u001b[0m\u001b[0mroot\u001b[0m\u001b[1;33m.\u001b[0m\u001b[0manalysis\u001b[0m\u001b[1;33m.\u001b[0m\u001b[0msongs\u001b[0m\u001b[1;33m.\u001b[0m\u001b[0mnrows\u001b[0m \u001b[1;33m==\u001b[0m \u001b[0msongidx\u001b[0m \u001b[1;33m+\u001b[0m \u001b[1;36m1\u001b[0m\u001b[1;33m:\u001b[0m\u001b[1;33m\u001b[0m\u001b[0m\n\u001b[0;32m    328\u001b[0m         \u001b[1;32mreturn\u001b[0m \u001b[0mh5\u001b[0m\u001b[1;33m.\u001b[0m\u001b[0mroot\u001b[0m\u001b[1;33m.\u001b[0m\u001b[0manalysis\u001b[0m\u001b[1;33m.\u001b[0m\u001b[0msegments_loudness_max\u001b[0m\u001b[1;33m[\u001b[0m\u001b[0mh5\u001b[0m\u001b[1;33m.\u001b[0m\u001b[0mroot\u001b[0m\u001b[1;33m.\u001b[0m\u001b[0manalysis\u001b[0m\u001b[1;33m.\u001b[0m\u001b[0msongs\u001b[0m\u001b[1;33m.\u001b[0m\u001b[0mcols\u001b[0m\u001b[1;33m.\u001b[0m\u001b[0midx_segments_loudness_max\u001b[0m\u001b[1;33m[\u001b[0m\u001b[0msongidx\u001b[0m\u001b[1;33m]\u001b[0m\u001b[1;33m:\u001b[0m\u001b[1;33m]\u001b[0m\u001b[1;33m\u001b[0m\u001b[0m\n\u001b[1;32m--> 329\u001b[1;33m     return h5.root.analysis.segments_loudness_max[h5.root.analysis.songs.cols.idx_segments_loudness_max[songidx]:\n\u001b[0m\u001b[0;32m    330\u001b[0m                                                   h5.root.analysis.songs.cols.idx_segments_loudness_max[songidx+1]]\n\u001b[0;32m    331\u001b[0m \u001b[1;33m\u001b[0m\u001b[0m\n",
      "\u001b[1;32m/usr/lib/python2.7/dist-packages/tables/group.pyc\u001b[0m in \u001b[0;36m__getattr__\u001b[1;34m(self, name)\u001b[0m\n\u001b[0;32m    809\u001b[0m             \u001b[0mself\u001b[0m\u001b[1;33m.\u001b[0m\u001b[0m_g_add_children_names\u001b[0m\u001b[1;33m(\u001b[0m\u001b[1;33m)\u001b[0m\u001b[1;33m\u001b[0m\u001b[0m\n\u001b[0;32m    810\u001b[0m             \u001b[1;32mreturn\u001b[0m \u001b[0mmydict\u001b[0m\u001b[1;33m[\u001b[0m\u001b[0mname\u001b[0m\u001b[1;33m]\u001b[0m\u001b[1;33m\u001b[0m\u001b[0m\n\u001b[1;32m--> 811\u001b[1;33m         \u001b[1;32mreturn\u001b[0m \u001b[0mself\u001b[0m\u001b[1;33m.\u001b[0m\u001b[0m_f_get_child\u001b[0m\u001b[1;33m(\u001b[0m\u001b[0mname\u001b[0m\u001b[1;33m)\u001b[0m\u001b[1;33m\u001b[0m\u001b[0m\n\u001b[0m\u001b[0;32m    812\u001b[0m \u001b[1;33m\u001b[0m\u001b[0m\n\u001b[0;32m    813\u001b[0m     \u001b[1;32mdef\u001b[0m \u001b[0m__setattr__\u001b[0m\u001b[1;33m(\u001b[0m\u001b[0mself\u001b[0m\u001b[1;33m,\u001b[0m \u001b[0mname\u001b[0m\u001b[1;33m,\u001b[0m \u001b[0mvalue\u001b[0m\u001b[1;33m)\u001b[0m\u001b[1;33m:\u001b[0m\u001b[1;33m\u001b[0m\u001b[0m\n",
      "\u001b[1;32m/usr/lib/python2.7/dist-packages/tables/group.pyc\u001b[0m in \u001b[0;36m_f_get_child\u001b[1;34m(self, childname)\u001b[0m\n\u001b[0;32m    679\u001b[0m         \u001b[0mself\u001b[0m\u001b[1;33m.\u001b[0m\u001b[0m_g_check_open\u001b[0m\u001b[1;33m(\u001b[0m\u001b[1;33m)\u001b[0m\u001b[1;33m\u001b[0m\u001b[0m\n\u001b[0;32m    680\u001b[0m \u001b[1;33m\u001b[0m\u001b[0m\n\u001b[1;32m--> 681\u001b[1;33m         \u001b[0mself\u001b[0m\u001b[1;33m.\u001b[0m\u001b[0m_g_check_has_child\u001b[0m\u001b[1;33m(\u001b[0m\u001b[0mchildname\u001b[0m\u001b[1;33m)\u001b[0m\u001b[1;33m\u001b[0m\u001b[0m\n\u001b[0m\u001b[0;32m    682\u001b[0m \u001b[1;33m\u001b[0m\u001b[0m\n\u001b[0;32m    683\u001b[0m         \u001b[0mchildpath\u001b[0m \u001b[1;33m=\u001b[0m \u001b[0mjoin_path\u001b[0m\u001b[1;33m(\u001b[0m\u001b[0mself\u001b[0m\u001b[1;33m.\u001b[0m\u001b[0m_v_pathname\u001b[0m\u001b[1;33m,\u001b[0m \u001b[0mchildname\u001b[0m\u001b[1;33m)\u001b[0m\u001b[1;33m\u001b[0m\u001b[0m\n",
      "\u001b[1;32m/usr/lib/python2.7/dist-packages/tables/group.pyc\u001b[0m in \u001b[0;36m_g_check_has_child\u001b[1;34m(self, name)\u001b[0m\n\u001b[0;32m    403\u001b[0m             raise NoSuchNodeError(\n\u001b[0;32m    404\u001b[0m                 \u001b[1;34m\"group ``%s`` does not have a child named ``%s``\"\u001b[0m\u001b[1;33m\u001b[0m\u001b[0m\n\u001b[1;32m--> 405\u001b[1;33m                 % (self._v_pathname, name))\n\u001b[0m\u001b[0;32m    406\u001b[0m         \u001b[1;32mreturn\u001b[0m \u001b[0mnode_type\u001b[0m\u001b[1;33m\u001b[0m\u001b[0m\n\u001b[0;32m    407\u001b[0m \u001b[1;33m\u001b[0m\u001b[0m\n",
      "\u001b[1;31mNoSuchNodeError\u001b[0m: group ``/analysis`` does not have a child named ``segments_loudness_max``"
     ]
    }
   ],
   "source": [
    "def get_pitch_features(sh5):\n",
    "    all_seg_pitches = hdf5_getters.get_segments_pitches(sh5)\n",
    "    pitch_means = np.mean(seg_pitches, axis=0).tolist()\n",
    "    pitch_medians = np.median(seg_pitches, axis=0).tolist()\n",
    "    pitch_modes = stats.mode(seg_pitches)[0].tolist()[0]\n",
    "    return pitch_means, pitch_medians, pitch_modes\n",
    "\n",
    "def get_loudness_features(sh5):\n",
    "    loud_maxs = hdf5_getters.get_segments_loudness_max(h5)\n",
    "    loud_mean = np.mean(loud_maxs)\n",
    "    loud_median = np.median(loud_maxs)\n",
    "    loud_mode = stats.mode(loud_maxs)[0].tolist()[0]\n",
    "    return loud_mean, loud_median, loud_mode\n",
    "\n",
    "def get_segment_features(track_ids=None, basedir='./MillionSongSubset/data/',ext='.h5', verbose=0):\n",
    "    t1 = time.time()\n",
    "    titles = []\n",
    "    metas = []\n",
    "    for root, dirs, files in os.walk(basedir):\n",
    "        files = glob.glob(os.path.join(root,'*'+ext))\n",
    "        for f in files:\n",
    "            if len(titles) == len(track_ids):\n",
    "                break\n",
    "            sh5 = hdf5_getters.open_h5_file_read(f)\n",
    "            if track_ids:\n",
    "                for t_id in track_ids:\n",
    "                    if hdf5_getters.get_track_id(sh5) == t_id:\n",
    "                        pitch_means, pitch_medians, pitch_modes = get_pitch_features(sh5)\n",
    "                        return get_loudness_features(sh5)\n",
    "                        break\n",
    "            else:\n",
    "                t_id = hdf5_getters.get_track_id(sh5)\n",
    "                pitch_means, pitch_medians, pitch_modes = get_pitch_features(sh5)\n",
    "            sh5.close()\n",
    "    t2 = time.time()\n",
    "    if verbose == 1:\n",
    "        print \"total time: \", (t2-t1)\n",
    "    return \n",
    "\n",
    "tids_only0 = [t[0] for t in tids][2:3]\n",
    "print tids_only0\n",
    "print get_segment_features(track_ids=tids_only0, verbose=1)"
   ]
  },
  {
   "cell_type": "code",
   "execution_count": 160,
   "metadata": {
    "collapsed": false
   },
   "outputs": [
    {
     "name": "stdout",
     "output_type": "stream",
     "text": [
      "[ 3.  4.]\n",
      "[ 1.5  3.5  5.5]\n"
     ]
    }
   ],
   "source": [
    "a = np.array([[1, 2], [3, 4], [5, 6]])\n",
    "print np.mean(a, axis=0)\n",
    "print np.mean(a, axis=1)"
   ]
  },
  {
   "cell_type": "code",
   "execution_count": 166,
   "metadata": {
    "collapsed": false
   },
   "outputs": [
    {
     "name": "stdout",
     "output_type": "stream",
     "text": [
      "(530, 12)\n",
      "<type 'numpy.ndarray'>\n",
      "(12,) \n",
      "(0.46639056603773582, 0.55831886792452867, 0.59365471698113281, 0.3651773584905661, 0.42963396226415096, 0.33559433962264151, 0.38138679245283025, 0.33712452830188638, 0.44591320754717012, 0.68786603773584898, 0.42415094339622633, 0.48663962264150951)\n",
      "[[ 0.833  0.333  0.224 ...,  0.614  1.     0.189]\n",
      " [ 0.299  0.195  0.228 ...,  0.73   0.423  0.217]\n",
      " [ 0.333  0.387  0.364 ...,  0.971  0.488  0.317]\n",
      " ..., \n",
      " [ 0.112  0.167  1.    ...,  0.483  0.104  0.182]\n",
      " [ 0.536  1.     0.764 ...,  0.52   0.189  0.16 ]\n",
      " [ 0.07   0.077  0.547 ...,  1.     0.332  0.239]]\n",
      "\n",
      "(0.42949999999999999, 0.502, 0.5555000000000001, 0.35149999999999998, 0.38700000000000001, 0.314, 0.32750000000000001, 0.29449999999999998, 0.40500000000000003, 0.74849999999999994, 0.39700000000000002, 0.443)\n",
      "\n",
      "(1.0, 1.0, 1.0, 0.034, 1.0, 0.318, 1.0, 1.0, 1.0, 1.0, 1.0, 1.0)\n"
     ]
    }
   ],
   "source": [
    "print seg_pitches.shape\n",
    "print type(seg_pitches)\n",
    "seg_pitch_mean = np.mean(seg_pitches, axis=0)\n",
    "print seg_pitch_mean.shape, \"\\n\", tuple(seg_pitch_mean)\n",
    "print seg_pitches\n",
    "print\n",
    "print tuple(np.median(seg_pitches, axis=0))\n",
    "print\n",
    "print tuple(stats.mode(seg_pitches)[0].tolist()[0])\n"
   ]
  },
  {
   "cell_type": "code",
   "execution_count": null,
   "metadata": {
    "collapsed": true
   },
   "outputs": [],
   "source": []
  }
 ],
 "metadata": {
  "kernelspec": {
   "display_name": "Python 2",
   "language": "python",
   "name": "python2"
  },
  "language_info": {
   "codemirror_mode": {
    "name": "ipython",
    "version": 2
   },
   "file_extension": ".py",
   "mimetype": "text/x-python",
   "name": "python",
   "nbconvert_exporter": "python",
   "pygments_lexer": "ipython2",
   "version": "2.7.6"
  }
 },
 "nbformat": 4,
 "nbformat_minor": 0
}
